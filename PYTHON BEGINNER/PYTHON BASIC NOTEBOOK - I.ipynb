{
 "cells": [
  {
   "cell_type": "markdown",
   "id": "a53e1509",
   "metadata": {},
   "source": [
    "# PYTHON BASIC NOTEBOOK - I"
   ]
  },
  {
   "cell_type": "markdown",
   "id": "e33e442a",
   "metadata": {},
   "source": [
    "# "
   ]
  },
  {
   "cell_type": "markdown",
   "id": "82980825",
   "metadata": {},
   "source": [
    "# GETTING STARTED WITH PYTHON"
   ]
  },
  {
   "cell_type": "markdown",
   "id": "775686f4",
   "metadata": {},
   "source": [
    "# COMMENTS IN PYTHON"
   ]
  },
  {
   "cell_type": "code",
   "execution_count": 1,
   "id": "79d15725",
   "metadata": {
    "ExecuteTime": {
     "end_time": "2021-08-14T18:00:01.321306Z",
     "start_time": "2021-08-14T18:00:01.317145Z"
    }
   },
   "outputs": [],
   "source": [
    "#comments in python\n",
    "# hey, this is a comment use a \"#\" to write comments"
   ]
  },
  {
   "cell_type": "markdown",
   "id": "db6b11ff",
   "metadata": {},
   "source": [
    "# print() FUNCTIION IN PYTHON\n",
    "\n",
    "## HELPS IN PRINTING OR DISPLAYING THE OUTPUT"
   ]
  },
  {
   "cell_type": "code",
   "execution_count": 2,
   "id": "6408e237",
   "metadata": {
    "ExecuteTime": {
     "end_time": "2021-08-14T18:00:01.400289Z",
     "start_time": "2021-08-14T18:00:01.335553Z"
    }
   },
   "outputs": [
    {
     "name": "stdout",
     "output_type": "stream",
     "text": [
      "hey i am using the print() function with double quotes\n"
     ]
    }
   ],
   "source": [
    "print(\"hey i am using the print() function with double quotes\")"
   ]
  },
  {
   "cell_type": "code",
   "execution_count": 3,
   "id": "a52bb0fd",
   "metadata": {
    "ExecuteTime": {
     "end_time": "2021-08-14T18:00:01.489378Z",
     "start_time": "2021-08-14T18:00:01.402844Z"
    }
   },
   "outputs": [
    {
     "name": "stdout",
     "output_type": "stream",
     "text": [
      "hey i am using the print() function with double quotes\n"
     ]
    }
   ],
   "source": [
    "print('hey i am using the print() function with double quotes')"
   ]
  },
  {
   "cell_type": "code",
   "execution_count": 4,
   "id": "c470c9ce",
   "metadata": {
    "ExecuteTime": {
     "end_time": "2021-08-14T18:00:01.555736Z",
     "start_time": "2021-08-14T18:00:01.494279Z"
    }
   },
   "outputs": [
    {
     "name": "stdout",
     "output_type": "stream",
     "text": [
      "Math is fun so don't be resistant\n",
      "Just learn the rules,the are consistent\n",
      "and most impoetant, you must ber persistent!\n",
      "\n",
      " thank you !!!\n"
     ]
    }
   ],
   "source": [
    "print(\"Math is fun so don't be resistant\\nJust learn the rules,the are consistent\\nand most impoetant, \\\n",
    "you must ber persistent!\\n\\n thank you !!!\")"
   ]
  },
  {
   "cell_type": "code",
   "execution_count": 5,
   "id": "7aeaf7c9",
   "metadata": {
    "ExecuteTime": {
     "end_time": "2021-08-14T18:00:01.636677Z",
     "start_time": "2021-08-14T18:00:01.559742Z"
    }
   },
   "outputs": [
    {
     "name": "stdout",
     "output_type": "stream",
     "text": [
      "first line together with secondf\n"
     ]
    },
    {
     "data": {
      "text/plain": [
       "31"
      ]
     },
     "execution_count": 5,
     "metadata": {},
     "output_type": "execute_result"
    }
   ],
   "source": [
    "print(\"first line \\\n",
    "together with secondf\")\n",
    "\n",
    "len(\"first line\\\n",
    "together with secondf\")"
   ]
  },
  {
   "cell_type": "code",
   "execution_count": 6,
   "id": "dad4e432",
   "metadata": {
    "ExecuteTime": {
     "end_time": "2021-08-14T18:00:01.704801Z",
     "start_time": "2021-08-14T18:00:01.639523Z"
    }
   },
   "outputs": [
    {
     "name": "stdout",
     "output_type": "stream",
     "text": [
      "first line \n",
      "together with secondf\n"
     ]
    },
    {
     "data": {
      "text/plain": [
       "32"
      ]
     },
     "execution_count": 6,
     "metadata": {},
     "output_type": "execute_result"
    }
   ],
   "source": [
    "print(\"\"\"first line \n",
    "together with secondf\"\"\")\n",
    "\n",
    "len(\"\"\"first line\n",
    "together with secondf\"\"\")"
   ]
  },
  {
   "cell_type": "markdown",
   "id": "248d63e2",
   "metadata": {},
   "source": [
    "# PYTHON FUNDAMENTALS"
   ]
  },
  {
   "cell_type": "markdown",
   "id": "af4b189f",
   "metadata": {},
   "source": [
    "# len() funcion gives length of object"
   ]
  },
  {
   "cell_type": "code",
   "execution_count": 7,
   "id": "02bb30e4",
   "metadata": {
    "ExecuteTime": {
     "end_time": "2021-08-14T18:00:01.779365Z",
     "start_time": "2021-08-14T18:00:01.707100Z"
    }
   },
   "outputs": [
    {
     "data": {
      "text/plain": [
       "5"
      ]
     },
     "execution_count": 7,
     "metadata": {},
     "output_type": "execute_result"
    }
   ],
   "source": [
    "len(\"rahul\")"
   ]
  },
  {
   "cell_type": "code",
   "execution_count": 8,
   "id": "6f605cb2",
   "metadata": {
    "ExecuteTime": {
     "end_time": "2021-08-14T18:00:01.850477Z",
     "start_time": "2021-08-14T18:00:01.781908Z"
    }
   },
   "outputs": [
    {
     "name": "stdout",
     "output_type": "stream",
     "text": [
      "<class 'tuple'>\n"
     ]
    },
    {
     "data": {
      "text/plain": [
       "(1, 234)"
      ]
     },
     "execution_count": 8,
     "metadata": {},
     "output_type": "execute_result"
    }
   ],
   "source": [
    "a = 1, 234  # make a as tuple()\n",
    "print(type(a))\n",
    "a"
   ]
  },
  {
   "cell_type": "code",
   "execution_count": 9,
   "id": "993a57c0",
   "metadata": {
    "ExecuteTime": {
     "end_time": "2021-08-14T18:00:01.936395Z",
     "start_time": "2021-08-14T18:00:01.854273Z"
    }
   },
   "outputs": [
    {
     "name": "stdout",
     "output_type": "stream",
     "text": [
      "<class 'complex'>\n"
     ]
    },
    {
     "data": {
      "text/plain": [
       "(2+3j)"
      ]
     },
     "execution_count": 9,
     "metadata": {},
     "output_type": "execute_result"
    }
   ],
   "source": [
    "a = 2+3j  # is acomplex number where j=root of (-1)\n",
    "print(type(a))\n",
    "a"
   ]
  },
  {
   "cell_type": "markdown",
   "id": "fd73b93f",
   "metadata": {},
   "source": [
    "# None keyword"
   ]
  },
  {
   "cell_type": "code",
   "execution_count": 10,
   "id": "29d45cad",
   "metadata": {
    "ExecuteTime": {
     "end_time": "2021-08-14T18:00:02.010723Z",
     "start_time": "2021-08-14T18:00:01.940666Z"
    }
   },
   "outputs": [],
   "source": [
    "a = None  # it store nothing or absence of value\n",
    "a"
   ]
  },
  {
   "cell_type": "code",
   "execution_count": 11,
   "id": "caaffa32",
   "metadata": {
    "ExecuteTime": {
     "end_time": "2021-08-14T18:00:02.077979Z",
     "start_time": "2021-08-14T18:00:02.014504Z"
    }
   },
   "outputs": [
    {
     "name": "stdout",
     "output_type": "stream",
     "text": [
      "None\n"
     ]
    }
   ],
   "source": [
    "print(a)"
   ]
  },
  {
   "cell_type": "markdown",
   "id": "a1dfb542",
   "metadata": {},
   "source": [
    "# multiline comment\n"
   ]
  },
  {
   "cell_type": "code",
   "execution_count": 12,
   "id": "331886a6",
   "metadata": {
    "ExecuteTime": {
     "end_time": "2021-08-14T18:00:02.145262Z",
     "start_time": "2021-08-14T18:00:02.080687Z"
    }
   },
   "outputs": [
    {
     "name": "stdout",
     "output_type": "stream",
     "text": [
      "comment not getting printed\n"
     ]
    }
   ],
   "source": [
    "'''this is another way to erite comment\n",
    "in multiline block'''\n",
    "\n",
    "print(\"comment not getting printed\")"
   ]
  },
  {
   "cell_type": "markdown",
   "id": "8904b00e",
   "metadata": {},
   "source": [
    "# variable craetion"
   ]
  },
  {
   "cell_type": "code",
   "execution_count": 13,
   "id": "f924322a",
   "metadata": {
    "ExecuteTime": {
     "end_time": "2021-08-14T18:00:02.234134Z",
     "start_time": "2021-08-14T18:00:02.148702Z"
    }
   },
   "outputs": [
    {
     "name": "stdout",
     "output_type": "stream",
     "text": [
      "<class 'str'>\n"
     ]
    }
   ],
   "source": [
    "a = \"hello i am string variable\"\n",
    "print(type(a))"
   ]
  },
  {
   "cell_type": "code",
   "execution_count": 14,
   "id": "50a18817",
   "metadata": {
    "ExecuteTime": {
     "end_time": "2021-08-14T18:00:02.312242Z",
     "start_time": "2021-08-14T18:00:02.237237Z"
    }
   },
   "outputs": [
    {
     "name": "stdout",
     "output_type": "stream",
     "text": [
      "hi i am integer variable\n",
      " <class 'int'>\n"
     ]
    }
   ],
   "source": [
    "a = 24\n",
    "\n",
    "print(\"hi i am integer variable\\n\", type(a))"
   ]
  },
  {
   "cell_type": "code",
   "execution_count": 15,
   "id": "78ebecc2",
   "metadata": {
    "ExecuteTime": {
     "end_time": "2021-08-14T18:00:02.376942Z",
     "start_time": "2021-08-14T18:00:02.315361Z"
    }
   },
   "outputs": [],
   "source": [
    "# python dont have fixed variable location, rather the variables in this are poin only"
   ]
  },
  {
   "cell_type": "markdown",
   "id": "4790c531",
   "metadata": {},
   "source": [
    "# multiple assignment"
   ]
  },
  {
   "cell_type": "code",
   "execution_count": 16,
   "id": "03ccd548",
   "metadata": {
    "ExecuteTime": {
     "end_time": "2021-08-14T18:00:02.456992Z",
     "start_time": "2021-08-14T18:00:02.380706Z"
    }
   },
   "outputs": [
    {
     "name": "stdout",
     "output_type": "stream",
     "text": [
      "188\n",
      "188\n",
      "188\n"
     ]
    }
   ],
   "source": [
    "a = b = c = 188\n",
    "print(a)\n",
    "print(b)\n",
    "print(c)"
   ]
  },
  {
   "cell_type": "code",
   "execution_count": 17,
   "id": "99a70a75",
   "metadata": {
    "ExecuteTime": {
     "end_time": "2021-08-14T18:00:02.534637Z",
     "start_time": "2021-08-14T18:00:02.460723Z"
    }
   },
   "outputs": [
    {
     "name": "stdout",
     "output_type": "stream",
     "text": [
      "10\n",
      "20\n",
      "30\n"
     ]
    }
   ],
   "source": [
    "a, b, c = 10, 20, 30\n",
    "print(a)\n",
    "print(b)\n",
    "print(c)"
   ]
  },
  {
   "cell_type": "code",
   "execution_count": 18,
   "id": "febe20f5",
   "metadata": {
    "ExecuteTime": {
     "end_time": "2021-08-14T18:00:02.602184Z",
     "start_time": "2021-08-14T18:00:02.538304Z"
    }
   },
   "outputs": [
    {
     "name": "stdout",
     "output_type": "stream",
     "text": [
      "20\n",
      "30\n",
      "30\n",
      "20\n"
     ]
    }
   ],
   "source": [
    "# swapping values is easy\n",
    "a = 20\n",
    "b = 30\n",
    "print(a)\n",
    "print(b)\n",
    "\n",
    "a, b = b, a\n",
    "\n",
    "print(a)\n",
    "print(b)"
   ]
  },
  {
   "cell_type": "code",
   "execution_count": 19,
   "id": "c8ee5c8e",
   "metadata": {
    "ExecuteTime": {
     "end_time": "2021-08-14T18:00:02.699031Z",
     "start_time": "2021-08-14T18:00:02.605745Z"
    }
   },
   "outputs": [
    {
     "name": "stdout",
     "output_type": "stream",
     "text": [
      "3 1 5\n"
     ]
    }
   ],
   "source": [
    "p, q = 3, 5\n",
    "q, r = p-2, p+2\n",
    "print(p, q, r)"
   ]
  },
  {
   "cell_type": "code",
   "execution_count": 20,
   "id": "67dcd131",
   "metadata": {
    "ExecuteTime": {
     "end_time": "2021-08-14T18:00:02.767723Z",
     "start_time": "2021-08-14T18:00:02.702356Z"
    }
   },
   "outputs": [
    {
     "name": "stdout",
     "output_type": "stream",
     "text": [
      "30 50\n"
     ]
    }
   ],
   "source": [
    "x, x = 20, 30  # it will give x latest value i.e. 30\n",
    "# it will give y llatest x value sum with the latest sum i.e latest(X)+20 -> 30+20=50\n",
    "y, y = x+10, x+20\n",
    "print(x, y)"
   ]
  },
  {
   "cell_type": "markdown",
   "id": "b1e85488",
   "metadata": {},
   "source": [
    "# I/O in python1"
   ]
  },
  {
   "cell_type": "code",
   "execution_count": 21,
   "id": "a78c6679",
   "metadata": {
    "ExecuteTime": {
     "end_time": "2021-08-14T18:00:29.820846Z",
     "start_time": "2021-08-14T18:00:02.771004Z"
    }
   },
   "outputs": [
    {
     "name": "stdout",
     "output_type": "stream",
     "text": [
      "enter the in putrahul\n",
      "rahul\n",
      "<class 'str'>\n"
     ]
    }
   ],
   "source": [
    "# take input\n",
    "a = input(\"enter the in put\")\n",
    "print(a)\n",
    "\n",
    "# by default the input is taken as string type\n",
    "\n",
    "print(type(a))"
   ]
  },
  {
   "cell_type": "code",
   "execution_count": 22,
   "id": "5b5a9ec7",
   "metadata": {
    "ExecuteTime": {
     "end_time": "2021-08-14T18:00:29.896113Z",
     "start_time": "2021-08-14T18:00:01.567Z"
    }
   },
   "outputs": [
    {
     "name": "stdout",
     "output_type": "stream",
     "text": [
      "enter the integer25\n",
      "25\n",
      "<class 'int'>\n",
      "enter the float233.4\n",
      "233.4\n",
      "<class 'float'>\n"
     ]
    }
   ],
   "source": [
    "# we can use int() or float() function to convert the input() vale to integer or string resp,.\n",
    "integer = int(input(\"enter the integer\"))\n",
    "print(integer)\n",
    "print(type(integer))\n",
    "\n",
    "real = float(input(\"enter the float\"))\n",
    "print(real)\n",
    "print(type(real))"
   ]
  },
  {
   "cell_type": "code",
   "execution_count": 23,
   "id": "16e5c150",
   "metadata": {
    "ExecuteTime": {
     "end_time": "2021-08-14T18:00:29.898616Z",
     "start_time": "2021-08-14T18:00:01.576Z"
    }
   },
   "outputs": [
    {
     "name": "stdout",
     "output_type": "stream",
     "text": [
      "enter the integer345\n",
      "345\n",
      "<class 'int'>\n"
     ]
    }
   ],
   "source": [
    "# the input must be integre only no other else it cant be converted\n",
    "\n",
    "integer = int(input(\"enter the integer\"))\n",
    "print(integer)\n",
    "print(type(integer))"
   ]
  },
  {
   "cell_type": "code",
   "execution_count": 24,
   "id": "2166ee34",
   "metadata": {
    "ExecuteTime": {
     "end_time": "2021-08-14T18:00:29.900940Z",
     "start_time": "2021-08-14T18:00:01.586Z"
    }
   },
   "outputs": [
    {
     "name": "stdout",
     "output_type": "stream",
     "text": [
      "use this function to output statement\n"
     ]
    }
   ],
   "source": [
    "# format: print(\"str\",<variale>,sep=<seperator between the arg seperated by comma(by feault is space)>,end=\"termination character\")\n",
    "\n",
    "print(\"use this function to output statement\")"
   ]
  },
  {
   "cell_type": "code",
   "execution_count": 25,
   "id": "83bff73c",
   "metadata": {
    "ExecuteTime": {
     "end_time": "2021-08-14T18:00:29.903531Z",
     "start_time": "2021-08-14T18:00:01.597Z"
    }
   },
   "outputs": [
    {
     "name": "stdout",
     "output_type": "stream",
     "text": [
      "hgello<whitepace>rahul<endline cahracter>"
     ]
    }
   ],
   "source": [
    "a = \"hgello\"\n",
    "print(a, \"rahul\", sep=\"<whitepace>\", end=\"<endline cahracter>\")"
   ]
  },
  {
   "cell_type": "code",
   "execution_count": 26,
   "id": "8e089f5d",
   "metadata": {
    "ExecuteTime": {
     "end_time": "2021-08-14T18:00:29.906101Z",
     "start_time": "2021-08-14T18:00:01.606Z"
    }
   },
   "outputs": [
    {
     "name": "stdout",
     "output_type": "stream",
     "text": [
      "rul is seperated by$25$.\n",
      "rul is ended by$next print()\n"
     ]
    }
   ],
   "source": [
    "# sep in print() puts the charcter to be used to sepearte the variablr or strings in print() function\n",
    "# end in print() puts the charcter to be used at the end of the strings in print() function\n",
    "\n",
    "print(\"rul is seperated by\", 25, \".\", sep=\"$\")\n",
    "\n",
    "print(\"rul is ended by\", end='$')\n",
    "print(\"next print()\")"
   ]
  },
  {
   "cell_type": "markdown",
   "id": "2272ab9b",
   "metadata": {},
   "source": [
    "# program to obtain three numbers and prnt there sum"
   ]
  },
  {
   "cell_type": "code",
   "execution_count": 27,
   "id": "ee12d7fe",
   "metadata": {
    "ExecuteTime": {
     "end_time": "2021-08-14T18:00:29.909106Z",
     "start_time": "2021-08-14T18:00:01.620Z"
    }
   },
   "outputs": [
    {
     "name": "stdout",
     "output_type": "stream",
     "text": [
      "enter the number 1: 34\n",
      "enter the number 2: 44\n",
      "enter the number 3: 45\n",
      "the sum of the three number 34 , 44 , 45 is: 123\n"
     ]
    }
   ],
   "source": [
    "num1 = int(input(\"enter the number 1: \"))\n",
    "num2 = int(input(\"enter the number 2: \"))\n",
    "num3 = int(input(\"enter the number 3: \"))\n",
    "s = num1+num2+num3\n",
    "print(\"the sum of the three number\", num1, \",\", num2, \",\", num3, \"is:\", s)"
   ]
  },
  {
   "cell_type": "markdown",
   "id": "3319a1b0",
   "metadata": {},
   "source": [
    "# take length and breadth of rectangle and print it's area"
   ]
  },
  {
   "cell_type": "code",
   "execution_count": 28,
   "id": "f6b70861",
   "metadata": {
    "ExecuteTime": {
     "end_time": "2021-08-14T18:00:29.911623Z",
     "start_time": "2021-08-14T18:00:01.635Z"
    }
   },
   "outputs": [
    {
     "name": "stdout",
     "output_type": "stream",
     "text": [
      "enter the length of rectangle: 55\n",
      "enter the breadth of rectangle: 34\n",
      "the area of ractangle is: 1870.0\n"
     ]
    }
   ],
   "source": [
    "l = float(input(\"enter the length of rectangle: \"))\n",
    "b = float(input(\"enter the breadth of rectangle: \"))\n",
    "print(\"the area of ractangle is:\", l*b)"
   ]
  },
  {
   "cell_type": "markdown",
   "id": "ba03ff8c",
   "metadata": {},
   "source": [
    "# program to calculate bmi of person\n",
    "\n",
    "## bmi=weight/square of heigth"
   ]
  },
  {
   "cell_type": "code",
   "execution_count": 29,
   "id": "ca2b5171",
   "metadata": {
    "ExecuteTime": {
     "end_time": "2021-08-14T18:00:29.914700Z",
     "start_time": "2021-08-14T18:00:01.653Z"
    }
   },
   "outputs": [
    {
     "name": "stdout",
     "output_type": "stream",
     "text": [
      "enter the weight of peraon: 59\n",
      "enter the height of peraon (in meters): 158\n",
      "the bmi of person is: 0.0023634033007530844\n"
     ]
    }
   ],
   "source": [
    "w = float(input(\"enter the weight of peraon: \"))\n",
    "h = float(input(\"enter the height of peraon (in meters): \"))\n",
    "print(\"the bmi of person is:\", w/(h*h))"
   ]
  },
  {
   "cell_type": "markdown",
   "id": "f24e6cf6",
   "metadata": {},
   "source": [
    "# program to convert celcius to farhenit\n",
    "\n",
    "## f = c X (9/5)+32"
   ]
  },
  {
   "cell_type": "code",
   "execution_count": 30,
   "id": "090465a7",
   "metadata": {
    "ExecuteTime": {
     "end_time": "2021-08-14T18:00:29.917274Z",
     "start_time": "2021-08-14T18:00:01.667Z"
    }
   },
   "outputs": [
    {
     "name": "stdout",
     "output_type": "stream",
     "text": [
      "enter the temprature in cerlcius: 45\n",
      "the temprature 45.0 in farheneit is: 113.0\n"
     ]
    }
   ],
   "source": [
    "c = float(input(\"enter the temprature in cerlcius: \"))\n",
    "f = c*(9/5)+32\n",
    "print(\"the temprature\", c, \"in farheneit is:\", f)"
   ]
  },
  {
   "cell_type": "markdown",
   "id": "645c6380",
   "metadata": {},
   "source": [
    "# display joke and print punchline when pressed enter only"
   ]
  },
  {
   "cell_type": "code",
   "execution_count": 31,
   "id": "868a4b30",
   "metadata": {
    "ExecuteTime": {
     "end_time": "2021-08-14T18:00:29.919768Z",
     "start_time": "2021-08-14T18:00:01.680Z"
    }
   },
   "outputs": [
    {
     "name": "stdout",
     "output_type": "stream",
     "text": [
      "hahahaha this is a joke!!!!!!!!!!!!!!\n",
      "\n",
      "the punchlibne...\n"
     ]
    }
   ],
   "source": [
    "print(\"hahahaha this is a joke!!!!!!!!!!!!!!\")\n",
    "input()\n",
    "print(\"the punchlibne...\")"
   ]
  },
  {
   "cell_type": "markdown",
   "id": "6fd0c360",
   "metadata": {},
   "source": [
    "# input date day part only and no of days in month and print days left in month "
   ]
  },
  {
   "cell_type": "code",
   "execution_count": 32,
   "id": "98ed901e",
   "metadata": {
    "ExecuteTime": {
     "end_time": "2021-08-14T18:00:29.924234Z",
     "start_time": "2021-08-14T18:00:01.694Z"
    }
   },
   "outputs": [
    {
     "name": "stdout",
     "output_type": "stream",
     "text": [
      "enter the date: 25\n",
      "enter the no of days: 45\n",
      "no of days left is: 20\n"
     ]
    }
   ],
   "source": [
    "date = int(input(\"enter the date: \"))\n",
    "day = int(input(\"enter the no of days: \"))\n",
    "print(\"no of days left is:\", day-date)"
   ]
  },
  {
   "cell_type": "markdown",
   "id": "b4a62f76",
   "metadata": {},
   "source": [
    "# assign 5 to a variiable and multiply with two and subtract 1 to get 9\n",
    "\n",
    "## give as o/p:\n",
    "## 5\n",
    "## 10\n",
    "## 9"
   ]
  },
  {
   "cell_type": "code",
   "execution_count": 33,
   "id": "ddd5ad37",
   "metadata": {
    "ExecuteTime": {
     "end_time": "2021-08-14T18:00:29.927459Z",
     "start_time": "2021-08-14T18:00:01.715Z"
    }
   },
   "outputs": [
    {
     "name": "stdout",
     "output_type": "stream",
     "text": [
      "5\n",
      "10\n",
      "9\n"
     ]
    }
   ],
   "source": [
    "a = 5\n",
    "print(a, 2*a, 2*a-1, sep='\\n')"
   ]
  },
  {
   "cell_type": "markdown",
   "id": "49718e86",
   "metadata": {},
   "source": [
    "# modify above to print as:\n",
    "    \n",
    "## 5@10@9"
   ]
  },
  {
   "cell_type": "code",
   "execution_count": 34,
   "id": "9a6399e0",
   "metadata": {
    "ExecuteTime": {
     "end_time": "2021-08-14T18:00:29.930227Z",
     "start_time": "2021-08-14T18:00:01.729Z"
    }
   },
   "outputs": [
    {
     "name": "stdout",
     "output_type": "stream",
     "text": [
      "5@10@9\n"
     ]
    }
   ],
   "source": [
    "print(a, 2*a, 2*a-1, sep='@')"
   ]
  },
  {
   "cell_type": "markdown",
   "id": "efe14978",
   "metadata": {},
   "source": [
    "# program with maximum three lines assign first five muliple of a number to 5 variables and print them"
   ]
  },
  {
   "cell_type": "code",
   "execution_count": 35,
   "id": "3294f629",
   "metadata": {
    "ExecuteTime": {
     "end_time": "2021-08-14T18:00:29.932964Z",
     "start_time": "2021-08-14T18:00:01.743Z"
    }
   },
   "outputs": [
    {
     "name": "stdout",
     "output_type": "stream",
     "text": [
      "enter the number: 43\n",
      "the fivce variables are: \n",
      "var1= 43 var2= 86 var3= 129 var4= 172 var5= 215\n"
     ]
    }
   ],
   "source": [
    "num = int(input(\"enter the number: \"))  # line1\n",
    "var1, var2, var3, var4, var5 = num*1, num*2, num*3, num*4, num*5  # line2\n",
    "print(\"the fivce variables are: \\nvar1=\", var1, \"var2=\", var2,\n",
    "      \"var3=\", var3, \"var4=\", var4, \"var5=\", var5)  # line3"
   ]
  },
  {
   "cell_type": "markdown",
   "id": "b00d645a",
   "metadata": {},
   "source": [
    "# accept radius of circle and print it's area"
   ]
  },
  {
   "cell_type": "code",
   "execution_count": 36,
   "id": "19c3a954",
   "metadata": {
    "ExecuteTime": {
     "end_time": "2021-08-14T18:00:29.935591Z",
     "start_time": "2021-08-14T18:00:01.756Z"
    }
   },
   "outputs": [
    {
     "name": "stdout",
     "output_type": "stream",
     "text": [
      "enter the radius of cicle: 34\n",
      "the area of circle is: 3633.1428571428573\n"
     ]
    }
   ],
   "source": [
    "r = float(input(\"enter the radius of cicle: \"))\n",
    "print(\"the area of circle is:\", (22/7)*r*r)"
   ]
  },
  {
   "cell_type": "markdown",
   "id": "fcad13af",
   "metadata": {},
   "source": [
    "# input five subject marks, output there average"
   ]
  },
  {
   "cell_type": "code",
   "execution_count": 37,
   "id": "eb6efda1",
   "metadata": {
    "ExecuteTime": {
     "end_time": "2021-08-14T18:00:29.938361Z",
     "start_time": "2021-08-14T18:00:01.771Z"
    }
   },
   "outputs": [
    {
     "name": "stdout",
     "output_type": "stream",
     "text": [
      "ente the marks of subject 1: 76\n",
      "ente the marks of subject 2: 87\n",
      "ente the marks of subject 3: 77\n",
      "ente the marks of subject 4: 75\n",
      "ente the marks of subject 5: 67\n",
      "the arage marks is: 76.4\n"
     ]
    }
   ],
   "source": [
    "var1 = float(input(\"ente the marks of subject 1: \"))\n",
    "var2 = float(input(\"ente the marks of subject 2: \"))\n",
    "var3 = float(input(\"ente the marks of subject 3: \"))\n",
    "var4 = float(input(\"ente the marks of subject 4: \"))\n",
    "var5 = float(input(\"ente the marks of subject 5: \"))\n",
    "\n",
    "print(\"the arage marks is:\", (var1+var2+var3+var4+var5)/5)"
   ]
  },
  {
   "cell_type": "markdown",
   "id": "ff7e8ae3",
   "metadata": {},
   "source": [
    "# convert height from cm to feet and inches"
   ]
  },
  {
   "cell_type": "code",
   "execution_count": 38,
   "id": "0a5496f7",
   "metadata": {
    "ExecuteTime": {
     "end_time": "2021-08-14T18:00:29.942858Z",
     "start_time": "2021-08-14T18:00:01.787Z"
    }
   },
   "outputs": [
    {
     "name": "stdout",
     "output_type": "stream",
     "text": [
      "enter the height in cm: 159\n",
      "the height is:\n",
      "foot= 5.216535433070866 inches= 62.59842519685039\n"
     ]
    }
   ],
   "source": [
    "cm = float(input(\"enter the height in cm: \"))\n",
    "print(\"the height is:\\nfoot=\", ((cm)/2.54)/12, \"inches=\", (cm)/2.54)"
   ]
  },
  {
   "cell_type": "markdown",
   "id": "c6bad89f",
   "metadata": {},
   "source": [
    "# take n as inpout print its square, cube, quad"
   ]
  },
  {
   "cell_type": "code",
   "execution_count": 39,
   "id": "0dfb5616",
   "metadata": {
    "ExecuteTime": {
     "end_time": "2021-08-14T18:00:29.945422Z",
     "start_time": "2021-08-14T18:00:01.800Z"
    }
   },
   "outputs": [
    {
     "name": "stdout",
     "output_type": "stream",
     "text": [
      "enter the n: 4\n",
      "square of n= 16.0 cube of n= 64.0 quad of n= 256.0\n"
     ]
    }
   ],
   "source": [
    "n = float(input(\"enter the n: \"))\n",
    "print(\"square of n=\", n*n, \"cube of n=\", n*n*n, \"quad of n=\", n*n*n*n)"
   ]
  },
  {
   "cell_type": "markdown",
   "id": "404a8741",
   "metadata": {},
   "source": [
    "# find area of traingle"
   ]
  },
  {
   "cell_type": "code",
   "execution_count": 40,
   "id": "d75b55b4",
   "metadata": {
    "ExecuteTime": {
     "end_time": "2021-08-14T18:00:29.947983Z",
     "start_time": "2021-08-14T18:00:01.814Z"
    }
   },
   "outputs": [
    {
     "name": "stdout",
     "output_type": "stream",
     "text": [
      "enter the base of the triangle: 45\n",
      "enter the height of the triangle: 34\n",
      "area of triangle: 765.0\n"
     ]
    }
   ],
   "source": [
    "b = float(input(\"enter the base of the triangle: \"))\n",
    "h = float(input(\"enter the height of the triangle: \"))\n",
    "\n",
    "print(\"area of triangle:\", (1/2)*b*h)"
   ]
  },
  {
   "cell_type": "markdown",
   "id": "01f313e8",
   "metadata": {},
   "source": [
    "# find simple interest and compuond interesrt"
   ]
  },
  {
   "cell_type": "code",
   "execution_count": 41,
   "id": "9e7c3f62",
   "metadata": {
    "ExecuteTime": {
     "end_time": "2021-08-14T18:00:29.950556Z",
     "start_time": "2021-08-14T18:00:01.827Z"
    }
   },
   "outputs": [
    {
     "name": "stdout",
     "output_type": "stream",
     "text": [
      "enter the principle: 45000\n",
      "enter the rate: 3.56\n",
      "enter the time: 4\n",
      "the simple intersrt is: 6408.0\n"
     ]
    }
   ],
   "source": [
    "p = float(input(\"enter the principle: \"))\n",
    "r = float(input(\"enter the rate: \"))\n",
    "t = float(input(\"enter the time: \"))\n",
    "\n",
    "print(\"the simple intersrt is:\", (p*r*t)/100)"
   ]
  },
  {
   "cell_type": "markdown",
   "id": "78957450",
   "metadata": {},
   "source": [
    "# input number and print fiest five multiple"
   ]
  },
  {
   "cell_type": "code",
   "execution_count": 42,
   "id": "c6434077",
   "metadata": {
    "ExecuteTime": {
     "end_time": "2021-08-14T18:00:29.953315Z",
     "start_time": "2021-08-14T18:00:01.840Z"
    }
   },
   "outputs": [
    {
     "name": "stdout",
     "output_type": "stream",
     "text": [
      "enter the number: 45\n",
      "first five multiples: 45 90 135 180 225\n"
     ]
    }
   ],
   "source": [
    "n = int(input(\"enter the number: \"))\n",
    "print(\"first five multiples:\", n, n*2, n*3, n*4, n*5)"
   ]
  },
  {
   "cell_type": "markdown",
   "id": "c68789b5",
   "metadata": {},
   "source": [
    "# take name, age, class and print in same line then in seprate, each having two blank lines atleast"
   ]
  },
  {
   "cell_type": "code",
   "execution_count": 43,
   "id": "e7de0ab7",
   "metadata": {
    "ExecuteTime": {
     "end_time": "2021-08-14T18:00:29.958885Z",
     "start_time": "2021-08-14T18:00:01.857Z"
    }
   },
   "outputs": [
    {
     "name": "stdout",
     "output_type": "stream",
     "text": [
      "enter the name: rahul dhanola\n",
      "enter the age: 21\n",
      "enter the clas (1 - 12): 12\n",
      "name= rahul dhanola age= 21 class= 12 \n",
      "\n",
      "name= rahul dhanola \n",
      "age= 21 \n",
      "class= 12 \n",
      "\n"
     ]
    }
   ],
   "source": [
    "name = input(\"enter the name: \")\n",
    "age = int(input(\"enter the age: \"))\n",
    "clas = int(input(\"enter the clas (1 - 12): \"))\n",
    "\n",
    "\n",
    "print(\"name=\", name, \"age=\", age, \"class=\", clas, \"\\n\")\n",
    "\n",
    "print(\"name=\", name, \"\\nage=\", age, \"\\nclass=\", clas, \"\\n\")"
   ]
  },
  {
   "cell_type": "markdown",
   "id": "95fc1b48",
   "metadata": {},
   "source": [
    "# input digit anfd print three digit number as <n(n+1)(n+2)> and n range is 1 to 7"
   ]
  },
  {
   "cell_type": "code",
   "execution_count": 44,
   "id": "3b74c697",
   "metadata": {
    "ExecuteTime": {
     "end_time": "2021-08-14T18:00:29.964238Z",
     "start_time": "2021-08-14T18:00:01.871Z"
    }
   },
   "outputs": [
    {
     "name": "stdout",
     "output_type": "stream",
     "text": [
      "enter the number: 4\n",
      "three digit number is: 456\n"
     ]
    }
   ],
   "source": [
    "n = int(input(\"enter the number: \"))\n",
    "print(\"three digit number is: \", n, n+1, n+2, sep=\"\")"
   ]
  },
  {
   "cell_type": "markdown",
   "id": "de824bdb",
   "metadata": {},
   "source": [
    "# read three number and swap first two variable with sum of first and second, second and third number resp."
   ]
  },
  {
   "cell_type": "code",
   "execution_count": 45,
   "id": "04985000",
   "metadata": {
    "ExecuteTime": {
     "end_time": "2021-08-14T18:00:29.967684Z",
     "start_time": "2021-08-14T18:00:01.885Z"
    }
   },
   "outputs": [
    {
     "name": "stdout",
     "output_type": "stream",
     "text": [
      "enter the number 1: 45\n",
      "enter the number 2: 67\n",
      "enter the number 3: 57\n",
      "the numbers are:\n",
      " num1= 112 \n",
      "num2= 124 \n",
      "num3= 57\n"
     ]
    }
   ],
   "source": [
    "n1 = int(input(\"enter the number 1: \"))\n",
    "n2 = int(input(\"enter the number 2: \"))\n",
    "n3 = int(input(\"enter the number 3: \"))\n",
    "n1 = n1+n2\n",
    "n2 = n2+n3\n",
    "\n",
    "print(\"the numbers are:\\n num1=\", n1, \"\\nnum2=\", n2, \"\\nnum3=\", n3)"
   ]
  },
  {
   "cell_type": "markdown",
   "id": "4862a942",
   "metadata": {},
   "source": [
    "# DATA HANDLING"
   ]
  },
  {
   "cell_type": "markdown",
   "id": "70bf03d6",
   "metadata": {},
   "source": [
    "# boolean data type"
   ]
  },
  {
   "cell_type": "code",
   "execution_count": 46,
   "id": "c2e6dd7a",
   "metadata": {
    "ExecuteTime": {
     "end_time": "2021-08-14T18:00:29.970360Z",
     "start_time": "2021-08-14T18:00:01.901Z"
    }
   },
   "outputs": [
    {
     "name": "stdout",
     "output_type": "stream",
     "text": [
      "True\n",
      "False\n",
      "False\n",
      "False\n",
      "False\n",
      "False\n",
      "False\n"
     ]
    }
   ],
   "source": [
    "# use bool() to check the boolean vaklue for a number or object true for non zero else false\n",
    "print(bool(217868))\n",
    "\n",
    "print(bool(0))  # zero\n",
    "print(bool())  # empty\n",
    "print(bool(None))  # none\n",
    "print(bool([]))  # list\n",
    "print(bool(()))  # tuple\n",
    "print(bool({}))  # dictionary"
   ]
  },
  {
   "cell_type": "markdown",
   "id": "706c9a78",
   "metadata": {},
   "source": [
    "# floating point numbers"
   ]
  },
  {
   "cell_type": "code",
   "execution_count": 47,
   "id": "eb79de3d",
   "metadata": {
    "ExecuteTime": {
     "end_time": "2021-08-14T18:00:29.977668Z",
     "start_time": "2021-08-14T18:00:01.914Z"
    }
   },
   "outputs": [
    {
     "name": "stdout",
     "output_type": "stream",
     "text": [
      "<class 'float'>\n",
      "283.223\n",
      "<class 'float'>\n",
      "6.262e-23\n"
     ]
    }
   ],
   "source": [
    "a = 283.223\n",
    "print(type(a))\n",
    "print(a)\n",
    "\n",
    "a = 6.262E-23  # 6.626 X 10^-23\n",
    "print(type(a))\n",
    "print(a)"
   ]
  },
  {
   "cell_type": "markdown",
   "id": "3ddeb9e9",
   "metadata": {},
   "source": [
    "# complex number"
   ]
  },
  {
   "cell_type": "code",
   "execution_count": 48,
   "id": "5ec92359",
   "metadata": {
    "ExecuteTime": {
     "end_time": "2021-08-14T18:00:29.982949Z",
     "start_time": "2021-08-14T18:00:01.928Z"
    }
   },
   "outputs": [
    {
     "name": "stdout",
     "output_type": "stream",
     "text": [
      "<class 'complex'>\n",
      "(2+3j)\n",
      "2j\n"
     ]
    }
   ],
   "source": [
    "a = 2+3j  # j is the sqrt(-1)\n",
    "print(type(a))\n",
    "print(a)\n",
    "b = 0+2j\n",
    "print(b)  # no parenthesis in o/p"
   ]
  },
  {
   "cell_type": "code",
   "execution_count": 49,
   "id": "35297d97",
   "metadata": {
    "ExecuteTime": {
     "end_time": "2021-08-14T18:00:29.985750Z",
     "start_time": "2021-08-14T18:00:01.940Z"
    }
   },
   "outputs": [
    {
     "name": "stdout",
     "output_type": "stream",
     "text": [
      "2.0\n",
      "3.0\n"
     ]
    }
   ],
   "source": [
    "print(a.real)  # show real part in 'a'\n",
    "\n",
    "print(a.imag)  # show imaginary part in 'a'"
   ]
  },
  {
   "cell_type": "markdown",
   "id": "3aef3c09",
   "metadata": {},
   "source": [
    "# strings in python"
   ]
  },
  {
   "cell_type": "code",
   "execution_count": 51,
   "id": "f2a1d4fd",
   "metadata": {
    "ExecuteTime": {
     "end_time": "2021-08-14T18:00:29.988447Z",
     "start_time": "2021-08-14T18:00:01.956Z"
    }
   },
   "outputs": [
    {
     "name": "stdout",
     "output_type": "stream",
     "text": [
      "P\n",
      "Y\n",
      "T\n",
      "H\n",
      "O\n",
      "N\n"
     ]
    },
    {
     "ename": "IndexError",
     "evalue": "string index out of range",
     "output_type": "error",
     "traceback": [
      "\u001b[0;31m---------------------------------------------------------------------------\u001b[0m",
      "\u001b[0;31mIndexError\u001b[0m                                Traceback (most recent call last)",
      "\u001b[0;32m<ipython-input-51-1006276476e7>\u001b[0m in \u001b[0;36m<module>\u001b[0;34m\u001b[0m\n\u001b[1;32m     10\u001b[0m \u001b[0mprint\u001b[0m\u001b[0;34m(\u001b[0m\u001b[0ms\u001b[0m\u001b[0;34m[\u001b[0m\u001b[0;36m5\u001b[0m\u001b[0;34m]\u001b[0m\u001b[0;34m)\u001b[0m\u001b[0;34m\u001b[0m\u001b[0;34m\u001b[0m\u001b[0m\n\u001b[1;32m     11\u001b[0m \u001b[0;34m\u001b[0m\u001b[0m\n\u001b[0;32m---> 12\u001b[0;31m \u001b[0mprint\u001b[0m\u001b[0;34m(\u001b[0m\u001b[0mlen\u001b[0m\u001b[0;34m(\u001b[0m\u001b[0ms\u001b[0m\u001b[0;34m[\u001b[0m\u001b[0;36m6\u001b[0m\u001b[0;34m]\u001b[0m\u001b[0;34m)\u001b[0m\u001b[0;34m)\u001b[0m  \u001b[0;31m# out of range\u001b[0m\u001b[0;34m\u001b[0m\u001b[0;34m\u001b[0m\u001b[0m\n\u001b[0m",
      "\u001b[0;31mIndexError\u001b[0m: string index out of range"
     ]
    }
   ],
   "source": [
    "s = \"PYTHON\"\n",
    "\n",
    "\n",
    "# from start of the string positive index its range is (0,len-1)\n",
    "print(s[0])\n",
    "print(s[1])\n",
    "print(s[2])\n",
    "print(s[3])\n",
    "print(s[4])\n",
    "print(s[5])\n",
    "\n",
    "print(len(s[6]))  # out of range"
   ]
  },
  {
   "cell_type": "code",
   "execution_count": 21,
   "id": "dc5c724b",
   "metadata": {
    "ExecuteTime": {
     "end_time": "2021-08-14T18:00:29.990946Z",
     "start_time": "2021-08-14T18:00:01.967Z"
    }
   },
   "outputs": [
    {
     "name": "stdout",
     "output_type": "stream",
     "text": [
      "h\n",
      "a\n",
      "n\n",
      "o\n",
      "l\n",
      "a\n",
      "1\n"
     ]
    }
   ],
   "source": [
    "# from start of the string negative index its range (-1,-6)\n",
    "print(s[-6])\n",
    "print(s[-5])\n",
    "print(s[-4])\n",
    "print(s[-3])\n",
    "print(s[-2])\n",
    "print(s[-1])\n",
    "\n",
    "print(len(s[-7]))"
   ]
  },
  {
   "cell_type": "code",
   "execution_count": 52,
   "id": "09ecdfd3",
   "metadata": {
    "ExecuteTime": {
     "end_time": "2021-08-14T18:00:29.995020Z",
     "start_time": "2021-08-14T18:00:01.977Z"
    }
   },
   "outputs": [
    {
     "name": "stdout",
     "output_type": "stream",
     "text": [
      "True\n",
      "True\n",
      "True\n",
      "True\n",
      "True\n",
      "True\n"
     ]
    }
   ],
   "source": [
    "print(s[0] == s[-6])\n",
    "print(s[1] == s[-5])\n",
    "print(s[2] == s[-4])\n",
    "print(s[3] == s[-3])\n",
    "print(s[4] == s[-2])\n",
    "print(s[5] == s[-1])"
   ]
  },
  {
   "cell_type": "code",
   "execution_count": 53,
   "id": "ff8c1b26",
   "metadata": {
    "ExecuteTime": {
     "end_time": "2021-08-14T18:00:29.997800Z",
     "start_time": "2021-08-14T18:00:01.987Z"
    }
   },
   "outputs": [
    {
     "ename": "TypeError",
     "evalue": "'str' object does not support item assignment",
     "output_type": "error",
     "traceback": [
      "\u001b[0;31m---------------------------------------------------------------------------\u001b[0m",
      "\u001b[0;31mTypeError\u001b[0m                                 Traceback (most recent call last)",
      "\u001b[0;32m<ipython-input-53-fdbc701a7efc>\u001b[0m in \u001b[0;36m<module>\u001b[0;34m\u001b[0m\n\u001b[1;32m      1\u001b[0m \u001b[0;31m# strings are immutable\u001b[0m\u001b[0;34m\u001b[0m\u001b[0;34m\u001b[0m\u001b[0;34m\u001b[0m\u001b[0m\n\u001b[1;32m      2\u001b[0m \u001b[0;34m\u001b[0m\u001b[0m\n\u001b[0;32m----> 3\u001b[0;31m \u001b[0ms\u001b[0m\u001b[0;34m[\u001b[0m\u001b[0;36m0\u001b[0m\u001b[0;34m]\u001b[0m \u001b[0;34m=\u001b[0m \u001b[0;34m'J'\u001b[0m  \u001b[0;31m# give error\u001b[0m\u001b[0;34m\u001b[0m\u001b[0;34m\u001b[0m\u001b[0m\n\u001b[0m",
      "\u001b[0;31mTypeError\u001b[0m: 'str' object does not support item assignment"
     ]
    }
   ],
   "source": [
    "# strings are immutable\n",
    "\n",
    "s[0] = 'J'  # give error"
   ]
  },
  {
   "cell_type": "code",
   "execution_count": 23,
   "id": "f8c6299b",
   "metadata": {
    "ExecuteTime": {
     "end_time": "2021-08-14T18:00:30.006436Z",
     "start_time": "2021-08-14T18:00:01.996Z"
    }
   },
   "outputs": [
    {
     "name": "stdout",
     "output_type": "stream",
     "text": [
      "rahul\n",
      "vidhi\n"
     ]
    }
   ],
   "source": [
    "# but the variables can change there value\n",
    "\n",
    "string = \"rahul\"\n",
    "\n",
    "print(string)\n",
    "\n",
    "string = \"vidhi\"\n",
    "\n",
    "print(string)"
   ]
  },
  {
   "cell_type": "markdown",
   "id": "cd09c3bc",
   "metadata": {},
   "source": [
    "# list in python"
   ]
  },
  {
   "cell_type": "code",
   "execution_count": 24,
   "id": "2e6b9c75",
   "metadata": {
    "ExecuteTime": {
     "end_time": "2021-08-14T18:00:30.009394Z",
     "start_time": "2021-08-14T18:00:02.010Z"
    }
   },
   "outputs": [
    {
     "name": "stdout",
     "output_type": "stream",
     "text": [
      "<class 'list'>\n",
      "0\n"
     ]
    }
   ],
   "source": [
    "l = list()  # craete empty list\n",
    "l = []  # craete empty list\n",
    "\n",
    "print(type(l))\n",
    "print(len(l))"
   ]
  },
  {
   "cell_type": "code",
   "execution_count": 25,
   "id": "1b98c082",
   "metadata": {
    "ExecuteTime": {
     "end_time": "2021-08-14T18:00:30.012099Z",
     "start_time": "2021-08-14T18:00:02.021Z"
    }
   },
   "outputs": [],
   "source": [
    "l = [1, 2, 3, 4, 'rahul', 'vidhi', 2231]  # list can store any data type"
   ]
  },
  {
   "cell_type": "code",
   "execution_count": 26,
   "id": "521aee06",
   "metadata": {
    "ExecuteTime": {
     "end_time": "2021-08-14T18:00:30.014153Z",
     "start_time": "2021-08-14T18:00:02.031Z"
    }
   },
   "outputs": [
    {
     "name": "stdout",
     "output_type": "stream",
     "text": [
      "[1, 2, 3, 4, 'rahul dhanola', 'vidhi', 2231]\n"
     ]
    }
   ],
   "source": [
    "l[4] = \"rahul dhanola\"  # list are mutable\n",
    "print(l)"
   ]
  },
  {
   "cell_type": "markdown",
   "id": "37a79ca5",
   "metadata": {},
   "source": [
    "# tuples in list"
   ]
  },
  {
   "cell_type": "code",
   "execution_count": 27,
   "id": "7e48add9",
   "metadata": {
    "ExecuteTime": {
     "end_time": "2021-08-14T18:00:30.016122Z",
     "start_time": "2021-08-14T18:00:02.044Z"
    }
   },
   "outputs": [
    {
     "name": "stdout",
     "output_type": "stream",
     "text": [
      "<class 'tuple'>\n",
      "0\n"
     ]
    }
   ],
   "source": [
    "t = tuple()  # emty tuple created\n",
    "t = ()  # emty tuple created\n",
    "\n",
    "print(type(t))\n",
    "print(len(t))"
   ]
  },
  {
   "cell_type": "code",
   "execution_count": 28,
   "id": "c7c82a05",
   "metadata": {
    "ExecuteTime": {
     "end_time": "2021-08-14T18:00:30.018017Z",
     "start_time": "2021-08-14T18:00:02.054Z"
    }
   },
   "outputs": [
    {
     "ename": "TypeError",
     "evalue": "'tuple' object does not support item assignment",
     "output_type": "error",
     "traceback": [
      "\u001b[0;31m---------------------------------------------------------------------------\u001b[0m",
      "\u001b[0;31mTypeError\u001b[0m                                 Traceback (most recent call last)",
      "\u001b[0;32m<ipython-input-28-5e03179c392a>\u001b[0m in \u001b[0;36m<module>\u001b[0;34m\u001b[0m\n\u001b[1;32m      3\u001b[0m \u001b[0mt\u001b[0m \u001b[0;34m=\u001b[0m \u001b[0;34m(\u001b[0m\u001b[0;36m1\u001b[0m\u001b[0;34m,\u001b[0m \u001b[0;36m2\u001b[0m\u001b[0;34m,\u001b[0m \u001b[0;36m3\u001b[0m\u001b[0;34m,\u001b[0m \u001b[0;36m4\u001b[0m\u001b[0;34m,\u001b[0m \u001b[0;36m5\u001b[0m\u001b[0;34m,\u001b[0m \u001b[0;34m\"RAHUL\"\u001b[0m\u001b[0;34m,\u001b[0m \u001b[0;34m\"VIDHI\"\u001b[0m\u001b[0;34m)\u001b[0m\u001b[0;34m\u001b[0m\u001b[0;34m\u001b[0m\u001b[0m\n\u001b[1;32m      4\u001b[0m \u001b[0;34m\u001b[0m\u001b[0m\n\u001b[0;32m----> 5\u001b[0;31m \u001b[0mt\u001b[0m\u001b[0;34m[\u001b[0m\u001b[0;36m5\u001b[0m\u001b[0;34m]\u001b[0m \u001b[0;34m=\u001b[0m \u001b[0;34m\"rahul dhanola\"\u001b[0m\u001b[0;34m\u001b[0m\u001b[0;34m\u001b[0m\u001b[0m\n\u001b[0m",
      "\u001b[0;31mTypeError\u001b[0m: 'tuple' object does not support item assignment"
     ]
    }
   ],
   "source": [
    "# they are immutable and can store any datatype like list\n",
    "\n",
    "t = (1, 2, 3, 4, 5, \"RAHUL\", \"VIDHI\")\n",
    "\n",
    "t[5] = \"rahul dhanola\""
   ]
  },
  {
   "cell_type": "markdown",
   "id": "12a3eceb",
   "metadata": {},
   "source": [
    "# dictionary in python"
   ]
  },
  {
   "cell_type": "code",
   "execution_count": 29,
   "id": "9e90e040",
   "metadata": {
    "ExecuteTime": {
     "end_time": "2021-08-14T18:00:30.019962Z",
     "start_time": "2021-08-14T18:00:02.067Z"
    }
   },
   "outputs": [
    {
     "name": "stdout",
     "output_type": "stream",
     "text": [
      "0\n"
     ]
    }
   ],
   "source": [
    "# emptuy dictionary craetion\n",
    "d = dict()\n",
    "\n",
    "d = {}\n",
    "\n",
    "print(len(d))"
   ]
  },
  {
   "cell_type": "code",
   "execution_count": 30,
   "id": "790fb08e",
   "metadata": {
    "ExecuteTime": {
     "end_time": "2021-08-14T18:00:30.024399Z",
     "start_time": "2021-08-14T18:00:02.079Z"
    }
   },
   "outputs": [
    {
     "name": "stdout",
     "output_type": "stream",
     "text": [
      "dict_keys(['name', 'age', 'list'])\n",
      "dict_values(['rahul', 18, [1, 2, 3, 4, 'in dicitionary lsit']])\n"
     ]
    }
   ],
   "source": [
    "# data can be any order and these are inserted in the form of keys and value pairs\n",
    "\n",
    "d = {\"name\": \"rahul\", \"age\": 18, \"list\": [1, 2, 3, 4, \"in dicitionary lsit\"]}\n",
    "\n",
    "print(d.keys())  # print dixctionarty keys\n",
    "\n",
    "print(d.values())  # print dictionary values"
   ]
  },
  {
   "cell_type": "code",
   "execution_count": 31,
   "id": "23996a4f",
   "metadata": {
    "ExecuteTime": {
     "end_time": "2021-08-14T18:00:30.027054Z",
     "start_time": "2021-08-14T18:00:02.092Z"
    }
   },
   "outputs": [
    {
     "name": "stdout",
     "output_type": "stream",
     "text": [
      "{'name': 'vidhi', 'age': 18, 'list': [1, 2, 3, 4, 'in dicitionary lsit'], 'name2': 'vidhi'}\n"
     ]
    }
   ],
   "source": [
    "# dicitionary is mutalbe datatype\n",
    "\n",
    "d[\"name\"] = \"vidhi\"  # dicitionaery values are mutable\n",
    "\n",
    "d[\"name2\"] = \"vidhi\"\n",
    "\n",
    "print(d)\n",
    "\n",
    "# dictionary keys are imutable"
   ]
  },
  {
   "cell_type": "markdown",
   "id": "9bf2cdc2",
   "metadata": {},
   "source": [
    "# id() fubnction in python"
   ]
  },
  {
   "cell_type": "code",
   "execution_count": 32,
   "id": "bd696400",
   "metadata": {
    "ExecuteTime": {
     "end_time": "2021-08-14T18:00:30.029704Z",
     "start_time": "2021-08-14T18:00:02.106Z"
    }
   },
   "outputs": [
    {
     "name": "stdout",
     "output_type": "stream",
     "text": [
      "94336551694336\n",
      "94336551694336\n",
      "94336551694336\n"
     ]
    }
   ],
   "source": [
    "# the id() function returns the address of any datatype\n",
    "\n",
    "l = 23\n",
    "\n",
    "q = 23\n",
    "\n",
    "# all the integers variable have same address as they are pointing only to the value object and not storing them\n",
    "\n",
    "\n",
    "print(id(l))\n",
    "\n",
    "print(id(q))\n",
    "\n",
    "print(id(23))"
   ]
  },
  {
   "cell_type": "markdown",
   "id": "fbddc726",
   "metadata": {},
   "source": [
    "# type() in python"
   ]
  },
  {
   "cell_type": "code",
   "execution_count": 33,
   "id": "b418b1a3",
   "metadata": {
    "ExecuteTime": {
     "end_time": "2021-08-14T18:00:30.032350Z",
     "start_time": "2021-08-14T18:00:02.119Z"
    }
   },
   "outputs": [
    {
     "name": "stdout",
     "output_type": "stream",
     "text": [
      "<class 'int'>\n",
      "<class 'float'>\n",
      "<class 'str'>\n",
      "<class 'dict'>\n",
      "<class 'list'>\n",
      "<class 'int'>\n"
     ]
    }
   ],
   "source": [
    "# the type returns the dataype of a variable or object\n",
    "\n",
    "print(type(2))\n",
    "print(type(2.3))\n",
    "print(type(\"rahul\"))\n",
    "print(type({\"name\": \"rahul\"}))\n",
    "print(type([2]))\n",
    "print(type((2)))"
   ]
  },
  {
   "cell_type": "markdown",
   "id": "d5f5933e",
   "metadata": {},
   "source": [
    "# operators in python"
   ]
  },
  {
   "cell_type": "code",
   "execution_count": 34,
   "id": "3a7390a4",
   "metadata": {
    "ExecuteTime": {
     "end_time": "2021-08-14T18:00:30.034915Z",
     "start_time": "2021-08-14T18:00:02.132Z"
    }
   },
   "outputs": [
    {
     "name": "stdout",
     "output_type": "stream",
     "text": [
      "7/2= 3.5\n",
      "7//2= 3\n"
     ]
    }
   ],
   "source": [
    "# floor division operator (//) gives the quotiont value of two numbers a/b in intefger format\n",
    "\n",
    "print(\"7/2=\", 7/2)\n",
    "\n",
    "print(\"7//2=\", 7//2)  # gives integer value and not float"
   ]
  },
  {
   "cell_type": "code",
   "execution_count": 35,
   "id": "da251f0a",
   "metadata": {
    "ExecuteTime": {
     "end_time": "2021-08-14T18:00:30.037481Z",
     "start_time": "2021-08-14T18:00:02.142Z"
    }
   },
   "outputs": [
    {
     "name": "stdout",
     "output_type": "stream",
     "text": [
      "2^8 256\n"
     ]
    }
   ],
   "source": [
    "# exponential opeatoe\n",
    "\n",
    "print(\"2^8\", 2**8)"
   ]
  },
  {
   "cell_type": "code",
   "execution_count": 36,
   "id": "40375f20",
   "metadata": {
    "ExecuteTime": {
     "end_time": "2021-08-14T18:00:30.039928Z",
     "start_time": "2021-08-14T18:00:02.156Z"
    }
   },
   "outputs": [
    {
     "name": "stdout",
     "output_type": "stream",
     "text": [
      "area of circle= 44.19642857142857 sq.m\n"
     ]
    }
   ],
   "source": [
    "# area of circle radius=3.75\n",
    "radius = 3.75\n",
    "\n",
    "print(\"area of circle=\", (22/7)*radius**2, \"sq.m\")"
   ]
  },
  {
   "cell_type": "markdown",
   "id": "752432d7",
   "metadata": {},
   "source": [
    "# comparison in floationfg point numbers"
   ]
  },
  {
   "cell_type": "code",
   "execution_count": 37,
   "id": "a7666194",
   "metadata": {
    "ExecuteTime": {
     "end_time": "2021-08-14T18:00:30.042481Z",
     "start_time": "2021-08-14T18:00:02.169Z"
    }
   },
   "outputs": [
    {
     "name": "stdout",
     "output_type": "stream",
     "text": [
      "False\n",
      "0.3\n",
      "0.30000000000000004\n"
     ]
    }
   ],
   "source": [
    "print(0.1+0.1+0.1 == 0.3)  # \"0.1+0.1+0.1==0.3\" gives false because\n",
    "\n",
    "print(0.3)\n",
    "\n",
    "print(0.1+0.1+0.1)  # this don't give 0.3 because of floating point preision"
   ]
  },
  {
   "cell_type": "markdown",
   "id": "4077672f",
   "metadata": {},
   "source": [
    "# identity operators in python: is and not is"
   ]
  },
  {
   "cell_type": "code",
   "execution_count": 38,
   "id": "cdfa3d07",
   "metadata": {
    "ExecuteTime": {
     "end_time": "2021-08-14T18:00:30.044931Z",
     "start_time": "2021-08-14T18:00:02.184Z"
    }
   },
   "outputs": [
    {
     "name": "stdout",
     "output_type": "stream",
     "text": [
      "94336551693664\n",
      "94336551693664\n",
      "94336551693920\n",
      "True\n",
      "False\n"
     ]
    }
   ],
   "source": [
    "# is operator gives True if the address of the two operand pointing same address\n",
    "\n",
    "a = 2\n",
    "\n",
    "print(id(a))\n",
    "\n",
    "b = 2\n",
    "\n",
    "print(id(b))\n",
    "\n",
    "c = 10\n",
    "\n",
    "print(id(c))\n",
    "\n",
    "print(a is b)  # gives true because both a and b point to same memory location\n",
    "\n",
    "print(a is c)  # gives False because both a and b point to different memory location"
   ]
  },
  {
   "cell_type": "code",
   "execution_count": 39,
   "id": "684bd0da",
   "metadata": {
    "ExecuteTime": {
     "end_time": "2021-08-14T18:00:30.047401Z",
     "start_time": "2021-08-14T18:00:02.195Z"
    }
   },
   "outputs": [
    {
     "name": "stdout",
     "output_type": "stream",
     "text": [
      "94336551693664\n",
      "94336551693920\n",
      "94336551693664\n",
      "True\n",
      "False\n"
     ]
    }
   ],
   "source": [
    "# is not operator gives True if the address of the two operand pointing different address\n",
    "\n",
    "a = 2\n",
    "\n",
    "print(id(a))\n",
    "\n",
    "b = 10\n",
    "\n",
    "print(id(b))\n",
    "\n",
    "c = 2\n",
    "\n",
    "print(id(c))\n",
    "\n",
    "# gives true because both a and b point to different memory location\n",
    "print(a is not b)\n",
    "\n",
    "print(a is not c)  # gives false because both a and b point to same memory location"
   ]
  },
  {
   "cell_type": "markdown",
   "id": "39e52a41",
   "metadata": {},
   "source": [
    "# id() and == operator"
   ]
  },
  {
   "cell_type": "code",
   "execution_count": 40,
   "id": "f41247c6",
   "metadata": {
    "ExecuteTime": {
     "end_time": "2021-08-14T18:00:30.049828Z",
     "start_time": "2021-08-14T18:00:02.208Z"
    }
   },
   "outputs": [
    {
     "name": "stdout",
     "output_type": "stream",
     "text": [
      "abc\n",
      "a is b False\n",
      "a==b True\n"
     ]
    }
   ],
   "source": [
    "a = \"abc\"\n",
    "\n",
    "b = input()\n",
    "\n",
    "print(\"a is b\", a is b)  # returns false even the value are having same value\n",
    "\n",
    "print(\"a==b\", a == b)\n",
    "\n",
    "# if a is b gives True then a==b will always give True"
   ]
  },
  {
   "cell_type": "markdown",
   "id": "1a1a1477",
   "metadata": {},
   "source": [
    "# chained comparison operators"
   ]
  },
  {
   "cell_type": "code",
   "execution_count": 56,
   "id": "2851c762",
   "metadata": {
    "ExecuteTime": {
     "end_time": "2021-08-14T18:00:30.052248Z",
     "start_time": "2021-08-14T18:00:02.224Z"
    }
   },
   "outputs": [
    {
     "data": {
      "text/plain": [
       "True"
      ]
     },
     "execution_count": 56,
     "metadata": {},
     "output_type": "execute_result"
    }
   ],
   "source": [
    "1 < 2 < 3  # it is same as (1<2 and 2<3)"
   ]
  },
  {
   "cell_type": "markdown",
   "id": "e881738e",
   "metadata": {},
   "source": [
    "# bin() function in python"
   ]
  },
  {
   "cell_type": "code",
   "execution_count": 57,
   "id": "7d1a83ad",
   "metadata": {
    "ExecuteTime": {
     "end_time": "2021-08-14T18:00:30.054739Z",
     "start_time": "2021-08-14T18:00:02.239Z"
    }
   },
   "outputs": [
    {
     "name": "stdout",
     "output_type": "stream",
     "text": [
      "0b1010\n"
     ]
    }
   ],
   "source": [
    "# bin() returns the binary of a digit\n",
    "\n",
    "print(bin(10))"
   ]
  },
  {
   "cell_type": "markdown",
   "id": "2afe700e",
   "metadata": {},
   "source": [
    "# strings concatenate"
   ]
  },
  {
   "cell_type": "code",
   "execution_count": 58,
   "id": "51d1b33f",
   "metadata": {
    "ExecuteTime": {
     "end_time": "2021-08-14T18:00:30.059075Z",
     "start_time": "2021-08-14T18:00:02.253Z"
    }
   },
   "outputs": [
    {
     "name": "stdout",
     "output_type": "stream",
     "text": [
      "rahuldhanola\n",
      "rahulrahul\n"
     ]
    }
   ],
   "source": [
    "print(\"rahul\"+\"dhanola\")\n",
    "\n",
    "print(\"rahul\"*2)"
   ]
  },
  {
   "cell_type": "markdown",
   "id": "66d2ed04",
   "metadata": {},
   "source": [
    "# math module in python"
   ]
  },
  {
   "cell_type": "code",
   "execution_count": 59,
   "id": "73bf861c",
   "metadata": {
    "ExecuteTime": {
     "end_time": "2021-08-14T18:00:30.061688Z",
     "start_time": "2021-08-14T18:00:02.266Z"
    }
   },
   "outputs": [],
   "source": [
    "# to use math module first import it using impor<module name>\n",
    "\n",
    "import math"
   ]
  },
  {
   "cell_type": "code",
   "execution_count": 60,
   "id": "7b5cfce0",
   "metadata": {
    "ExecuteTime": {
     "end_time": "2021-08-14T18:00:30.064219Z",
     "start_time": "2021-08-14T18:00:02.276Z"
    }
   },
   "outputs": [
    {
     "name": "stdout",
     "output_type": "stream",
     "text": [
      "3\n",
      "-1\n"
     ]
    }
   ],
   "source": [
    "# math ceil function, gives smallest number not less than num\n",
    "\n",
    "print(math.ceil(2.3))\n",
    "\n",
    "print(math.ceil(-1.4))"
   ]
  },
  {
   "cell_type": "code",
   "execution_count": 61,
   "id": "e35a92ae",
   "metadata": {
    "ExecuteTime": {
     "end_time": "2021-08-14T18:00:30.066727Z",
     "start_time": "2021-08-14T18:00:02.286Z"
    }
   },
   "outputs": [
    {
     "name": "stdout",
     "output_type": "stream",
     "text": [
      "2\n",
      "-2\n"
     ]
    }
   ],
   "source": [
    "# math floor function, gives largest number not larger than num\n",
    "\n",
    "print(math.floor(2.3))\n",
    "\n",
    "print(math.floor(-1.4))"
   ]
  },
  {
   "cell_type": "code",
   "execution_count": 62,
   "id": "40e107cf",
   "metadata": {
    "ExecuteTime": {
     "end_time": "2021-08-14T18:00:30.069208Z",
     "start_time": "2021-08-14T18:00:02.296Z"
    }
   },
   "outputs": [
    {
     "name": "stdout",
     "output_type": "stream",
     "text": [
      "6.0\n",
      "1.7320508075688772\n"
     ]
    }
   ],
   "source": [
    "# math sqrt function, gives square root of num\n",
    "\n",
    "print(math.sqrt(36))\n",
    "\n",
    "print(math.sqrt(3))"
   ]
  },
  {
   "cell_type": "code",
   "execution_count": 63,
   "id": "ad02e81e",
   "metadata": {
    "ExecuteTime": {
     "end_time": "2021-08-14T18:00:30.073391Z",
     "start_time": "2021-08-14T18:00:02.305Z"
    }
   },
   "outputs": [
    {
     "name": "stdout",
     "output_type": "stream",
     "text": [
      "2.718281828459045\n",
      "0.36787944117144233\n"
     ]
    }
   ],
   "source": [
    "# math exp function, gives natural log e raised to power num\n",
    "\n",
    "print(math.exp(1))\n",
    "\n",
    "print(math.exp(-1))"
   ]
  },
  {
   "cell_type": "code",
   "execution_count": 64,
   "id": "4405baf6",
   "metadata": {
    "ExecuteTime": {
     "end_time": "2021-08-14T18:00:30.076119Z",
     "start_time": "2021-08-14T18:00:02.318Z"
    }
   },
   "outputs": [
    {
     "name": "stdout",
     "output_type": "stream",
     "text": [
      "1.0\n",
      "1.0\n"
     ]
    }
   ],
   "source": [
    "# math fabs function, gives absolute value of num\n",
    "\n",
    "print(math.fabs(1))\n",
    "\n",
    "print(math.fabs(-1))"
   ]
  },
  {
   "cell_type": "code",
   "execution_count": 65,
   "id": "ead5f132",
   "metadata": {
    "ExecuteTime": {
     "end_time": "2021-08-14T18:00:30.078665Z",
     "start_time": "2021-08-14T18:00:02.327Z"
    }
   },
   "outputs": [
    {
     "name": "stdout",
     "output_type": "stream",
     "text": [
      "0.0\n",
      "1.7227665977411035\n"
     ]
    }
   ],
   "source": [
    "# math log function, gives log value of num\n",
    "\n",
    "print(math.log(1))\n",
    "\n",
    "print(math.log(5.6))"
   ]
  },
  {
   "cell_type": "code",
   "execution_count": 66,
   "id": "e740479e",
   "metadata": {
    "ExecuteTime": {
     "end_time": "2021-08-14T18:00:30.081175Z",
     "start_time": "2021-08-14T18:00:02.337Z"
    }
   },
   "outputs": [
    {
     "name": "stdout",
     "output_type": "stream",
     "text": [
      "0.0\n",
      "0.7481880270062005\n"
     ]
    }
   ],
   "source": [
    "# math log base 10 function, gives log base 10 value of num\n",
    "\n",
    "print(math.log10(1))\n",
    "\n",
    "print(math.log10(5.6))"
   ]
  },
  {
   "cell_type": "code",
   "execution_count": 67,
   "id": "80390a1f",
   "metadata": {
    "ExecuteTime": {
     "end_time": "2021-08-14T18:00:30.083764Z",
     "start_time": "2021-08-14T18:00:02.347Z"
    }
   },
   "outputs": [
    {
     "name": "stdout",
     "output_type": "stream",
     "text": [
      "25.0\n",
      "-125.0\n"
     ]
    }
   ],
   "source": [
    "# math pow function, gives power of num raised to power\n",
    "\n",
    "print(math.pow(5, 2))\n",
    "\n",
    "print(math.pow(-5, 3))"
   ]
  },
  {
   "cell_type": "code",
   "execution_count": 68,
   "id": "86f084ec",
   "metadata": {
    "ExecuteTime": {
     "end_time": "2021-08-14T18:00:30.086268Z",
     "start_time": "2021-08-14T18:00:02.356Z"
    }
   },
   "outputs": [
    {
     "name": "stdout",
     "output_type": "stream",
     "text": [
      "-0.9880316240928618\n",
      "0.9880316240928618\n",
      "0.15425144988758405\n",
      "0.15425144988758405\n",
      "-6.405331196646276\n",
      "6.405331196646276\n"
     ]
    }
   ],
   "source": [
    "# math sin,tan,cos function, gives sin(num), cos(num), tan(num), value of num\n",
    "\n",
    "print(math.sin(30))\n",
    "\n",
    "print(math.sin(-30))\n",
    "\n",
    "print(math.cos(30))\n",
    "\n",
    "print(math.cos(-30))\n",
    "\n",
    "print(math.tan(30))\n",
    "\n",
    "print(math.tan(-30))"
   ]
  },
  {
   "cell_type": "code",
   "execution_count": 69,
   "id": "a4bea0ea",
   "metadata": {
    "ExecuteTime": {
     "end_time": "2021-08-14T18:00:30.090600Z",
     "start_time": "2021-08-14T18:00:02.366Z"
    }
   },
   "outputs": [
    {
     "name": "stdout",
     "output_type": "stream",
     "text": [
      "1718.8733853924696\n",
      "-1718.8733853924696\n",
      "0.5235987755982988\n",
      "-0.5235987755982988\n"
     ]
    }
   ],
   "source": [
    "# math degree and radians function, converts num radian to degree and num degree to radians respectively.\n",
    "\n",
    "print(math.degrees(30))\n",
    "\n",
    "print(math.degrees(-30))\n",
    "\n",
    "print(math.radians(30))\n",
    "\n",
    "print(math.radians(-30))"
   ]
  },
  {
   "cell_type": "code",
   "execution_count": 70,
   "id": "d04dabc0",
   "metadata": {
    "ExecuteTime": {
     "end_time": "2021-08-14T18:00:30.093198Z",
     "start_time": "2021-08-14T18:00:02.376Z"
    }
   },
   "outputs": [
    {
     "name": "stdout",
     "output_type": "stream",
     "text": [
      "3.141592653589793\n",
      "2.718281828459045\n"
     ]
    }
   ],
   "source": [
    "# math also have two constant functions pi and e\n",
    "\n",
    "print(math.pi)  # give value of pi i.e. 22/7\n",
    "\n",
    "print(math.e)  # give value of logarithmic exponential i.e. e"
   ]
  },
  {
   "cell_type": "markdown",
   "id": "eef31f21",
   "metadata": {},
   "source": [
    "# write program to find simple interest"
   ]
  },
  {
   "cell_type": "code",
   "execution_count": 71,
   "id": "a53c439e",
   "metadata": {
    "ExecuteTime": {
     "end_time": "2021-08-14T18:00:30.095780Z",
     "start_time": "2021-08-14T18:00:02.391Z"
    }
   },
   "outputs": [
    {
     "name": "stdout",
     "output_type": "stream",
     "text": [
      "enter the principoal: 34566\n",
      "enter the rate: 5.67\n",
      "enter the time in years: 5\n",
      "the simple interset is: 9799.461\n"
     ]
    }
   ],
   "source": [
    "p = float(input(\"enter the principoal: \"))\n",
    "r = float(input(\"enter the rate: \"))\n",
    "t = float(input(\"enter the time in years: \"))\n",
    "\n",
    "print(\"the simple interset is:\", (p*r*t)/100)"
   ]
  },
  {
   "cell_type": "markdown",
   "id": "de88e3ec",
   "metadata": {},
   "source": [
    "# program to obtain temp. for seven days of week and print the avg. temp"
   ]
  },
  {
   "cell_type": "code",
   "execution_count": 72,
   "id": "565a1d73",
   "metadata": {
    "ExecuteTime": {
     "end_time": "2021-08-14T18:00:30.098323Z",
     "start_time": "2021-08-14T18:00:02.404Z"
    }
   },
   "outputs": [
    {
     "name": "stdout",
     "output_type": "stream",
     "text": [
      "enter temperature for monday: 56\n",
      "enter temperature for tuesday: 76\n",
      "enter temperature for wednesdfay: 35\n",
      "enter temperature for thursday: 67\n",
      "enter temperature for friday: 23\n",
      "enter temperature for saturday: 34\n",
      "enter temperature for sunday: 43\n",
      "the average tempertaure of dseven days is: 47.714285714285715\n"
     ]
    }
   ],
   "source": [
    "t1 = float(input(\"enter temperature for monday: \"))\n",
    "t2 = float(input(\"enter temperature for tuesday: \"))\n",
    "t3 = float(input(\"enter temperature for wednesdfay: \"))\n",
    "t4 = float(input(\"enter temperature for thursday: \"))\n",
    "t5 = float(input(\"enter temperature for friday: \"))\n",
    "t6 = float(input(\"enter temperature for saturday: \"))\n",
    "t7 = float(input(\"enter temperature for sunday: \"))\n",
    "\n",
    "print(\"the average tempertaure of dseven days is:\", (t1+t2+t3+t4+t5+t6+t7)/7)"
   ]
  },
  {
   "cell_type": "markdown",
   "id": "97c39b4e",
   "metadata": {},
   "source": [
    "# obtain x,y,z and  find 4x^4 + 3y^3 + 9z + 6pi  (here pi=(22/7))"
   ]
  },
  {
   "cell_type": "code",
   "execution_count": 73,
   "id": "1aa3dc42",
   "metadata": {
    "ExecuteTime": {
     "end_time": "2021-08-14T18:00:30.100898Z",
     "start_time": "2021-08-14T18:00:02.417Z"
    }
   },
   "outputs": [
    {
     "name": "stdout",
     "output_type": "stream",
     "text": [
      "enter the value of x: 45\n",
      "enter the value of y: 565\n",
      "enter the value of z: 56\n",
      "the resu;lt is:  557489397.8571428\n"
     ]
    }
   ],
   "source": [
    "x = float(input(\"enter the value of x: \"))\n",
    "y = float(input(\"enter the value of y: \"))\n",
    "z = float(input(\"enter the value of z: \"))\n",
    "\n",
    "print(\"the resu;lt is: \", (4*(x**4))+(3*(y**3))+(9*z)+(6*(22/7)))"
   ]
  },
  {
   "cell_type": "markdown",
   "id": "a46619bb",
   "metadata": {},
   "source": [
    "# input seconds and print in min and seconds"
   ]
  },
  {
   "cell_type": "code",
   "execution_count": 74,
   "id": "e25a3a15",
   "metadata": {
    "ExecuteTime": {
     "end_time": "2021-08-14T18:00:30.103477Z",
     "start_time": "2021-08-14T18:00:02.431Z"
    }
   },
   "outputs": [
    {
     "name": "stdout",
     "output_type": "stream",
     "text": [
      "enter the seconds: 3600\n",
      "time aftwr c=nversion:\n",
      " min= 60 \n",
      "seconds= 0\n"
     ]
    }
   ],
   "source": [
    "sec = int(input(\"enter the seconds: \"))\n",
    "print(\"time aftwr c=nversion:\\n min=\", sec//60, \"\\nseconds=\", sec % 60)"
   ]
  },
  {
   "cell_type": "markdown",
   "id": "bfb6b4af",
   "metadata": {},
   "source": [
    "# program to take hour from 1 to 12 and no. of hour ahead then print time after those many hours"
   ]
  },
  {
   "cell_type": "code",
   "execution_count": 75,
   "id": "67f5fe42",
   "metadata": {
    "ExecuteTime": {
     "end_time": "2021-08-14T18:00:30.107840Z",
     "start_time": "2021-08-14T18:00:02.444Z"
    }
   },
   "outputs": [
    {
     "name": "stdout",
     "output_type": "stream",
     "text": [
      "enter the hour between 1 to 12: 5\n",
      "enter the hour ahead: 4\n",
      "time at that time is: 9 O'clock\n"
     ]
    }
   ],
   "source": [
    "h = int(input(\"enter the hour between 1 to 12: \"))\n",
    "ahead = int(input(\"enter the hour ahead: \"))\n",
    "if(h+ahead > 12):\n",
    "    print(\"time at that time is:\", h+ahead-12, \"O'clock\")\n",
    "else:\n",
    "    print(\"time at that time is:\", h+ahead, \"O'clock\")"
   ]
  },
  {
   "cell_type": "markdown",
   "id": "3293445c",
   "metadata": {},
   "source": [
    "# check for year leap or not"
   ]
  },
  {
   "cell_type": "code",
   "execution_count": 76,
   "id": "37fbe311",
   "metadata": {
    "ExecuteTime": {
     "end_time": "2021-08-14T18:00:30.110507Z",
     "start_time": "2021-08-14T18:00:02.459Z"
    }
   },
   "outputs": [
    {
     "name": "stdout",
     "output_type": "stream",
     "text": [
      "enter the year: 2002\n",
      "it is not leap year\n"
     ]
    }
   ],
   "source": [
    "n = int(input(\"enter the year: \"))\n",
    "if(n % 100 == 0):\n",
    "    if(n % 4 == 0):\n",
    "        print(\"it is a leap year\")\n",
    "    else:\n",
    "        print(\"it is not leap year\")\n",
    "else:\n",
    "    if(n % 4 == 0):\n",
    "        print(\"it is a leap year\")\n",
    "    else:\n",
    "        print(\"it is not leap year\")"
   ]
  },
  {
   "cell_type": "markdown",
   "id": "4eb3640d",
   "metadata": {},
   "source": [
    "# take two number and check if first is divisible by second"
   ]
  },
  {
   "cell_type": "code",
   "execution_count": 77,
   "id": "bf8ffd28",
   "metadata": {
    "ExecuteTime": {
     "end_time": "2021-08-14T18:00:30.113155Z",
     "start_time": "2021-08-14T18:00:02.473Z"
    }
   },
   "outputs": [
    {
     "name": "stdout",
     "output_type": "stream",
     "text": [
      "enter the number1: 23\n",
      "enter the number2: 543\n",
      "23 is not divisible by 543\n"
     ]
    }
   ],
   "source": [
    "num1 = int(input(\"enter the number1: \"))\n",
    "num2 = int(input(\"enter the number2: \"))\n",
    "if(num1 % num2 == 0):\n",
    "    print(num1, \"is divisible by\", num2)\n",
    "else:\n",
    "    print(num1, \"is not divisible by\", num2)"
   ]
  },
  {
   "cell_type": "markdown",
   "id": "f9f2597a",
   "metadata": {},
   "source": [
    "# program to reverse a two-digit number"
   ]
  },
  {
   "cell_type": "code",
   "execution_count": 78,
   "id": "0b454e85",
   "metadata": {
    "ExecuteTime": {
     "end_time": "2021-08-14T18:00:30.115710Z",
     "start_time": "2021-08-14T18:00:02.486Z"
    }
   },
   "outputs": [
    {
     "name": "stdout",
     "output_type": "stream",
     "text": [
      "enter the two digit number: 34\n",
      "the reverse number is: 43\n"
     ]
    }
   ],
   "source": [
    "num = input(\"enter the two digit number: \")\n",
    "print(\"the reverse number is:\", num[-1]+num[-2])"
   ]
  },
  {
   "cell_type": "markdown",
   "id": "be493dc5",
   "metadata": {},
   "source": [
    "# program to reverse a three-digit number"
   ]
  },
  {
   "cell_type": "code",
   "execution_count": 79,
   "id": "79031cd1",
   "metadata": {
    "ExecuteTime": {
     "end_time": "2021-08-14T18:00:30.118351Z",
     "start_time": "2021-08-14T18:00:02.499Z"
    }
   },
   "outputs": [
    {
     "name": "stdout",
     "output_type": "stream",
     "text": [
      "enter the three digit number: 456\n",
      "the reverse number is: 654\n"
     ]
    }
   ],
   "source": [
    "num = input(\"enter the three digit number: \")\n",
    "print(\"the reverse number is:\", num[-1]+num[-2]+num[-3])"
   ]
  },
  {
   "cell_type": "markdown",
   "id": "2bd21be9",
   "metadata": {},
   "source": [
    "# take day and month input and print the day of the year assume all month have 30 days"
   ]
  },
  {
   "cell_type": "code",
   "execution_count": 81,
   "id": "21b10056",
   "metadata": {
    "ExecuteTime": {
     "end_time": "2021-08-14T18:00:30.120595Z",
     "start_time": "2021-08-14T18:00:02.513Z"
    }
   },
   "outputs": [
    {
     "name": "stdout",
     "output_type": "stream",
     "text": [
      "enter the day: 4\n",
      "enter the month: 9\n",
      "the day of the year is: 244\n"
     ]
    }
   ],
   "source": [
    "d = int(input(\"enter the day: \"))\n",
    "m = int(input(\"enter the month: \"))\n",
    "print(\"the day of the year is:\", (m-1)*30+d)"
   ]
  },
  {
   "cell_type": "markdown",
   "id": "9ce20b29",
   "metadata": {},
   "source": [
    "# CONDITIONAL AND ITERARTIVE STATEMENT"
   ]
  },
  {
   "cell_type": "markdown",
   "id": "700eede3",
   "metadata": {},
   "source": [
    "# types of statemeent"
   ]
  },
  {
   "cell_type": "markdown",
   "id": "611884de",
   "metadata": {},
   "source": [
    "# the statemnt is instruction to perform any kind of action\n",
    "# empty statement"
   ]
  },
  {
   "cell_type": "code",
   "execution_count": 82,
   "id": "8410b52c",
   "metadata": {
    "ExecuteTime": {
     "end_time": "2021-08-14T18:00:30.124397Z",
     "start_time": "2021-08-14T18:00:02.533Z"
    }
   },
   "outputs": [
    {
     "name": "stdout",
     "output_type": "stream",
     "text": [
      "the following line will be pass statement\n",
      "the pss statement ended\n"
     ]
    }
   ],
   "source": [
    "# sateemnt which says python to do nothing and is denoted by \"pass\" keyword\n",
    "\n",
    "print(\"the following line will be pass statement\")\n",
    "\n",
    "pass  # python will perform nothing and moves to next statement\n",
    "\n",
    "print(\"the pss statement ended\")"
   ]
  },
  {
   "cell_type": "markdown",
   "id": "91c95654",
   "metadata": {},
   "source": [
    "# simple statement"
   ]
  },
  {
   "cell_type": "code",
   "execution_count": 83,
   "id": "dd7d6ca8",
   "metadata": {
    "ExecuteTime": {
     "end_time": "2021-08-14T18:00:30.126608Z",
     "start_time": "2021-08-14T18:00:02.548Z"
    }
   },
   "outputs": [
    {
     "name": "stdout",
     "output_type": "stream",
     "text": [
      "hi it is a simple statement\n"
     ]
    }
   ],
   "source": [
    "# any executable statem,ent is called simple statement\n",
    "\n",
    "print(\"hi it is a simple statement\")"
   ]
  },
  {
   "cell_type": "markdown",
   "id": "4a817622",
   "metadata": {},
   "source": [
    "# compound ssatement"
   ]
  },
  {
   "cell_type": "code",
   "execution_count": 84,
   "id": "12507a8c",
   "metadata": {
    "ExecuteTime": {
     "end_time": "2021-08-14T18:00:30.129142Z",
     "start_time": "2021-08-14T18:00:02.561Z"
    }
   },
   "outputs": [
    {
     "name": "stdout",
     "output_type": "stream",
     "text": [
      "i am simple statement inside compoubnt statemnent\n"
     ]
    }
   ],
   "source": [
    "# any statement which is having a block or ending with a colon \":\"\n",
    "if True:  # this is a compound statement with it's own statement below\n",
    "    print(\"i am simple statement inside compoubnt statemnent\")\n",
    "    pass  # this is a emty statement in side compount statement"
   ]
  },
  {
   "cell_type": "markdown",
   "id": "8e97e68a",
   "metadata": {},
   "source": [
    "# if statemnt in python"
   ]
  },
  {
   "cell_type": "code",
   "execution_count": 85,
   "id": "e32b999d",
   "metadata": {
    "ExecuteTime": {
     "end_time": "2021-08-14T18:00:30.131295Z",
     "start_time": "2021-08-14T18:00:02.574Z"
    }
   },
   "outputs": [
    {
     "name": "stdout",
     "output_type": "stream",
     "text": [
      "1 is less than 2\n",
      "in if block 2\n"
     ]
    }
   ],
   "source": [
    "# the if statenment are conditional statement use to make a decision in pogram\n",
    "if 1 > 2:  # whioch is False\n",
    "    print(\"1 is greater than 2\")  # hence statement not executed\n",
    "\n",
    "# if condition true then perform some instructuions\n",
    "\n",
    "if 1 < 2:  # whioch is True\n",
    "    print(\"1 is less than 2\")  # hence statement executed\n",
    "\n",
    "if not True:  # whioch is False\n",
    "    print(\"in if block 1\")  # hence statement not executed\n",
    "\n",
    "if True:  # whioch is True\n",
    "    print(\"in if block 2\")  # hence statement executed"
   ]
  },
  {
   "cell_type": "markdown",
   "id": "8a549b7e",
   "metadata": {},
   "source": [
    "# if-else statement"
   ]
  },
  {
   "cell_type": "code",
   "execution_count": 86,
   "id": "2dca410f",
   "metadata": {
    "ExecuteTime": {
     "end_time": "2021-08-14T18:00:30.133336Z",
     "start_time": "2021-08-14T18:00:02.588Z"
    }
   },
   "outputs": [
    {
     "name": "stdout",
     "output_type": "stream",
     "text": [
      "1 is not greater than 2\n",
      "1 is less than 2\n",
      "in else block 1\n",
      "in if block 2\n"
     ]
    }
   ],
   "source": [
    "# the if-else statenment are conditional statement use to make a decision in if block if true otherwise in else block\n",
    "if 1 > 2:  # whioch is False\n",
    "    print(\"1 is greater than 2\")  # hence statement not executed\n",
    "else:\n",
    "    print(\"1 is not greater than 2\")  # hence statement executed\n",
    "\n",
    "# if condition true then perform some instructuions else peform else condtion\n",
    "\n",
    "if 1 < 2:  # whioch is True\n",
    "    print(\"1 is less than 2\")  # hence statement executed\n",
    "else:\n",
    "    print(\"1 is not less than 2\")  # hence statement not executed\n",
    "\n",
    "if not True:  # whioch is False\n",
    "    print(\"in if block 1\")  # hence statement not executed\n",
    "else:\n",
    "    print(\"in else block 1\")  # hence statement executed\n",
    "\n",
    "if True:  # whioch is True\n",
    "    print(\"in if block 2\")  # hence statement executed\n",
    "else:\n",
    "    print(\"in else block 2\")  # hence statement not executed"
   ]
  },
  {
   "cell_type": "markdown",
   "id": "8068c412",
   "metadata": {},
   "source": [
    "# program to take three numbers and print greater among three only use if"
   ]
  },
  {
   "cell_type": "code",
   "execution_count": 87,
   "id": "b8ad702a",
   "metadata": {
    "ExecuteTime": {
     "end_time": "2021-08-14T18:00:30.135633Z",
     "start_time": "2021-08-14T18:00:02.603Z"
    }
   },
   "outputs": [
    {
     "name": "stdout",
     "output_type": "stream",
     "text": [
      "enter the number 1: 45\n",
      "enter the number 2: 56\n",
      "enter the number 3: 54\n",
      "number 2 is grater than three\n"
     ]
    }
   ],
   "source": [
    "num1 = int(input(\"enter the number 1: \"))\n",
    "num2 = int(input(\"enter the number 2: \"))\n",
    "num3 = int(input(\"enter the number 3: \"))\n",
    "\n",
    "if (num1 > num2 and num1 > num3):\n",
    "    print(\"number 1 is grater than three\")\n",
    "\n",
    "if (num2 > num1 and num2 > num3):\n",
    "    print(\"number 2 is grater than three\")\n",
    "\n",
    "if (num3 > num1 and num3 > num2):\n",
    "    print(\"number 3 is grater than three\")"
   ]
  },
  {
   "cell_type": "code",
   "execution_count": 88,
   "id": "67ce774d",
   "metadata": {
    "ExecuteTime": {
     "end_time": "2021-08-14T18:00:30.138164Z",
     "start_time": "2021-08-14T18:00:02.614Z"
    }
   },
   "outputs": [
    {
     "name": "stdout",
     "output_type": "stream",
     "text": [
      "enter the number 1: 45\n",
      "enter the number 2: 67\n",
      "enter the number 3: 65\n",
      "max number is: 67\n"
     ]
    }
   ],
   "source": [
    "# other way\n",
    "\n",
    "num1 = int(input(\"enter the number 1: \"))\n",
    "num2 = int(input(\"enter the number 2: \"))\n",
    "num3 = int(input(\"enter the number 3: \"))\n",
    "\n",
    "maax = num1\n",
    "\n",
    "if(num2 > maax):\n",
    "    maax = num2\n",
    "\n",
    "if(num3 > maax):\n",
    "    maax = num3\n",
    "\n",
    "print(\"max number is:\", maax)"
   ]
  },
  {
   "cell_type": "markdown",
   "id": "b6672161",
   "metadata": {},
   "source": [
    "# check if number even or odd"
   ]
  },
  {
   "cell_type": "code",
   "execution_count": 89,
   "id": "ee56ce76",
   "metadata": {
    "ExecuteTime": {
     "end_time": "2021-08-14T18:00:30.140566Z",
     "start_time": "2021-08-14T18:00:02.627Z"
    }
   },
   "outputs": [
    {
     "name": "stdout",
     "output_type": "stream",
     "text": [
      "enetr the number: 45\n",
      "the number ios odd\n"
     ]
    }
   ],
   "source": [
    "n = int(input(\"enetr the number: \"))\n",
    "if(n % 2 == 0):\n",
    "    print(\"the number ios even\")\n",
    "else:\n",
    "    print(\"the number ios odd\")"
   ]
  },
  {
   "cell_type": "markdown",
   "id": "4e25761c",
   "metadata": {},
   "source": [
    "# take three number and find two sum, first sum is sum of all and other sum is sum of non-dulicate numbers"
   ]
  },
  {
   "cell_type": "code",
   "execution_count": 90,
   "id": "4ffcf2bb",
   "metadata": {
    "ExecuteTime": {
     "end_time": "2021-08-14T18:00:30.142757Z",
     "start_time": "2021-08-14T18:00:02.640Z"
    }
   },
   "outputs": [
    {
     "name": "stdout",
     "output_type": "stream",
     "text": [
      "enter the number 1: 45\n",
      "enter the number 2: 65\n",
      "enter the number 3: 78\n",
      "the first sunm is: 188\n",
      "the swcond sunm is: 188\n"
     ]
    }
   ],
   "source": [
    "num1 = int(input(\"enter the number 1: \"))\n",
    "num2 = int(input(\"enter the number 2: \"))\n",
    "num3 = int(input(\"enter the number 3: \"))\n",
    "\n",
    "s1 = num1+num2+num3\n",
    "\n",
    "if(num1 == num2 and num2 != num3):\n",
    "    s2 = num3\n",
    "if(num2 == num3 and num3 != num1):\n",
    "    s2 = num1\n",
    "if(num3 == num1 and num1 != num2):\n",
    "    s2 = num2\n",
    "if(num1 == num2 == num3):\n",
    "    s2 = 0\n",
    "if(num1 != num2 and num2 != num3 and num3 != num1):\n",
    "    s2 = s1\n",
    "\n",
    "print(\"the first sunm is:\", s1)\n",
    "\n",
    "print(\"the swcond sunm is:\", s2)"
   ]
  },
  {
   "cell_type": "code",
   "execution_count": 91,
   "id": "bef6a743",
   "metadata": {
    "ExecuteTime": {
     "end_time": "2021-08-14T18:00:30.146721Z",
     "start_time": "2021-08-14T18:00:02.650Z"
    }
   },
   "outputs": [
    {
     "name": "stdout",
     "output_type": "stream",
     "text": [
      "enter the number 1: 76\n",
      "enter the number 2: 37\n",
      "enter the number 3: 87\n",
      "the first sunm is: 200\n",
      "the swcond sunm is: 200\n"
     ]
    }
   ],
   "source": [
    "# other solution 1\n",
    "\n",
    "s1 = s2 = 0\n",
    "num1 = int(input(\"enter the number 1: \"))\n",
    "num2 = int(input(\"enter the number 2: \"))\n",
    "num3 = int(input(\"enter the number 3: \"))\n",
    "\n",
    "s1 = num1+num2+num3\n",
    "\n",
    "if(num1 != num2 and num1 != num3):\n",
    "    s2 += num1\n",
    "if(num2 != num1 and num2 != num3):\n",
    "    s2 += num2\n",
    "if(num3 != num1 and num3 != num2):\n",
    "    s2 += num3\n",
    "\n",
    "print(\"the first sunm is:\", s1)\n",
    "\n",
    "print(\"the swcond sunm is:\", s2)"
   ]
  },
  {
   "cell_type": "code",
   "execution_count": 92,
   "id": "2075bef5",
   "metadata": {
    "ExecuteTime": {
     "end_time": "2021-08-14T18:00:30.149164Z",
     "start_time": "2021-08-14T18:00:02.659Z"
    }
   },
   "outputs": [
    {
     "name": "stdout",
     "output_type": "stream",
     "text": [
      "enter the number 1: 78\n",
      "enter the number 2: 675\n",
      "enter the number 3: 67\n",
      "the first sunm is: 820\n",
      "the swcond sunm is: 820\n"
     ]
    }
   ],
   "source": [
    "# other solution 2\n",
    "\n",
    "s1 = s2 = 0\n",
    "num1 = int(input(\"enter the number 1: \"))\n",
    "num2 = int(input(\"enter the number 2: \"))\n",
    "num3 = int(input(\"enter the number 3: \"))\n",
    "\n",
    "s1 = num1+num2+num3\n",
    "\n",
    "if(num1 == num2):\n",
    "    if(num3 != num1):\n",
    "        s2 += num3\n",
    "else:\n",
    "    if(num1 == num3):\n",
    "        s2 += num2\n",
    "    else:\n",
    "        if(num2 == num3):\n",
    "            s2 += num1\n",
    "        else:\n",
    "            s2 = s1\n",
    "\n",
    "\n",
    "print(\"the first sunm is:\", s1)\n",
    "\n",
    "print(\"the swcond sunm is:\", s2)"
   ]
  },
  {
   "cell_type": "code",
   "execution_count": 93,
   "id": "9156f533",
   "metadata": {
    "ExecuteTime": {
     "end_time": "2021-08-14T18:00:30.151318Z",
     "start_time": "2021-08-14T18:00:02.669Z"
    }
   },
   "outputs": [
    {
     "name": "stdout",
     "output_type": "stream",
     "text": [
      "enter the first number: 67\n",
      "enter the second number: 67\n",
      "67 is divisible by 67\n"
     ]
    }
   ],
   "source": [
    "num1 = int(input(\"enter the first number: \"))\n",
    "num2 = int(input(\"enter the second number: \"))\n",
    "\n",
    "if(num1 % num2 == 0):\n",
    "    print(num1, \"is divisible by\", num2)\n",
    "else:\n",
    "    print(num1, \"is not divisible by\", num2)"
   ]
  },
  {
   "cell_type": "markdown",
   "id": "7433d19a",
   "metadata": {},
   "source": [
    "# program to find multiples of a number out of five given number"
   ]
  },
  {
   "cell_type": "code",
   "execution_count": 94,
   "id": "cf066cf7",
   "metadata": {
    "ExecuteTime": {
     "end_time": "2021-08-14T18:00:30.153587Z",
     "start_time": "2021-08-14T18:00:02.683Z"
    }
   },
   "outputs": [
    {
     "name": "stdout",
     "output_type": "stream",
     "text": [
      "enter the number whose multiple to find: 78\n",
      "enter the first number to check: 65\n",
      "78 is not divisible by 65\n",
      "enter the second number to check: 67\n",
      "78 is not divisible by 67\n",
      "enter the third number to check: 8\n",
      "78 is not divisible by 8\n",
      "enter the fourth number to check: 5\n",
      "78 is not divisible by 5\n",
      "enter the fifth number to check: 4\n",
      "78 is not divisible by 4\n",
      "0 multiples of 78 found\n"
     ]
    }
   ],
   "source": [
    "num = int(input(\"enter the number whose multiple to find: \"))\n",
    "num1 = int(input(\"enter the first number to check: \"))\n",
    "\n",
    "count = 0\n",
    "\n",
    "if(num % num1 == 0):\n",
    "    print(num, \"is divisible by\", num1)\n",
    "    count += 1\n",
    "else:\n",
    "    print(num, \"is not divisible by\", num1)\n",
    "\n",
    "num1 = int(input(\"enter the second number to check: \"))\n",
    "\n",
    "if(num % num1 == 0):\n",
    "    print(num, \"is divisible by\", num1)\n",
    "    count += 1\n",
    "else:\n",
    "    print(num, \"is not divisible by\", num1)\n",
    "\n",
    "num1 = int(input(\"enter the third number to check: \"))\n",
    "\n",
    "if(num % num1 == 0):\n",
    "    print(num, \"is divisible by\", num1)\n",
    "    count += 1\n",
    "else:\n",
    "    print(num, \"is not divisible by\", num1)\n",
    "\n",
    "num1 = int(input(\"enter the fourth number to check: \"))\n",
    "\n",
    "if(num % num1 == 0):\n",
    "    print(num, \"is divisible by\", num1)\n",
    "    count += 1\n",
    "else:\n",
    "    print(num, \"is not divisible by\", num1)\n",
    "\n",
    "num1 = int(input(\"enter the fifth number to check: \"))\n",
    "\n",
    "if(num % num1 == 0):\n",
    "    print(num, \"is divisible by\", num1)\n",
    "    count += 1\n",
    "else:\n",
    "    print(num, \"is not divisible by\", num1)\n",
    "\n",
    "print(count, \"multiples of\", num, \"found\")"
   ]
  },
  {
   "cell_type": "markdown",
   "id": "6c25d96f",
   "metadata": {},
   "source": [
    "# program to display menu for finding area and perimetere of circle"
   ]
  },
  {
   "cell_type": "code",
   "execution_count": 95,
   "id": "8a5e7336",
   "metadata": {
    "ExecuteTime": {
     "end_time": "2021-08-14T18:00:30.156409Z",
     "start_time": "2021-08-14T18:00:02.700Z"
    }
   },
   "outputs": [
    {
     "name": "stdout",
     "output_type": "stream",
     "text": [
      "enter the radius of circle: 56\n",
      "please select your option (1 to 2 only):\n",
      "1. area of Circle\n",
      "2. perimetre of Circle\n",
      "Please enter your choice: 2\n",
      "the perimetre of circle is: 351.85837720205683\n"
     ]
    }
   ],
   "source": [
    "import math\n",
    "\n",
    "r = float(input(\"enter the radius of circle: \"))\n",
    "ch = int(input(\"please select your option (1 to 2 only):\\n1. area of Circle\\n2. perimetre of Circle\\nPlease enter \\\n",
    "your choice: \"))\n",
    "\n",
    "if(ch == 1):\n",
    "    print(\"the area of circle is:\", math.pi*r**2)\n",
    "else:\n",
    "    print(\"the perimetre of circle is:\", 2*math.pi*r)"
   ]
  },
  {
   "cell_type": "markdown",
   "id": "4bafebfe",
   "metadata": {},
   "source": [
    "# python if-elif statement"
   ]
  },
  {
   "cell_type": "code",
   "execution_count": 96,
   "id": "92375683",
   "metadata": {
    "ExecuteTime": {
     "end_time": "2021-08-14T18:00:30.158583Z",
     "start_time": "2021-08-14T18:00:02.716Z"
    }
   },
   "outputs": [
    {
     "name": "stdout",
     "output_type": "stream",
     "text": [
      "1 is not greater than 2\n",
      "1 is less than 2\n",
      "in else block 1\n",
      "in if block 2\n"
     ]
    }
   ],
   "source": [
    "# the if-elif statenment are conditional statement use to make a decision in if block if true otherwise make a\n",
    "# decision in elif block\n",
    "if 1 > 2:  # whioch is False\n",
    "    print(\"1 is greater than 2\")  # hence statement not executed\n",
    "elif 2 > 1:  # whioch is True\n",
    "    print(\"1 is not greater than 2\")  # hence statement executed\n",
    "\n",
    "# if condition true then perform some instructuions else check elif condtion true then perform some instructuions\n",
    "\n",
    "# else perform else block condition\n",
    "\n",
    "if 1 < 2:  # whioch is True\n",
    "    print(\"1 is less than 2\")  # hence statement executed\n",
    "elif 2 > 1:  # whioch is False\n",
    "    print(\"1 is not less than 2\")  # hence statement not executed\n",
    "\n",
    "if not True:  # whioch is False\n",
    "    print(\"in if block 1\")  # hence statement not executed\n",
    "elif False:  # whioch is False\n",
    "    print(\"in elif block 1\")  # hence statement not executed\n",
    "else:\n",
    "    print(\"in else block 1\")  # hence statement executed\n",
    "\n",
    "if True:  # whioch is True\n",
    "    print(\"in if block 2\")  # hence statement executed\n",
    "elif not True:\n",
    "    print(\"in elif block 2\")  # hence statement not executed\n",
    "else:\n",
    "    print(\"in else block 2\")  # hence statement not executed"
   ]
  },
  {
   "cell_type": "markdown",
   "id": "6e04dda9",
   "metadata": {},
   "source": [
    "# program take two operand and an operator and display result"
   ]
  },
  {
   "cell_type": "code",
   "execution_count": 99,
   "id": "29bf6b97",
   "metadata": {
    "ExecuteTime": {
     "end_time": "2021-08-14T18:00:30.162554Z",
     "start_time": "2021-08-14T18:00:02.730Z"
    }
   },
   "outputs": [
    {
     "name": "stdout",
     "output_type": "stream",
     "text": [
      "enter the operand 1: 23\n",
      "enter the operand 2: 45\n",
      "enter the operator: %\n",
      "the result of 23.0 % 45.0 = 23.0\n"
     ]
    }
   ],
   "source": [
    "n1 = float(input(\"enter the operand 1: \"))\n",
    "n2 = float(input(\"enter the operand 2: \"))\n",
    "op = input(\"enter the operator: \")\n",
    "\n",
    "if(op == '+'):\n",
    "    print(\"the result of\", n1, op, n2, \"=\", n1+n2)\n",
    "elif(op == '-'):\n",
    "    print(\"the result of\", n1, op, n2, \"=\", n1-n2)\n",
    "elif(op == '*'):\n",
    "    print(\"the result of\", n1, op, n2, \"=\", n1*n2)\n",
    "elif(op == '/'):\n",
    "    print(\"the result of\", n1, op, n2, \"=\", n1/n2)\n",
    "elif(op == '%'):\n",
    "    print(\"the result of\", n1, op, n2, \"=\", n1 % n2)\n",
    "else:\n",
    "    print(\"please enter valid operand from (+, -, *, /, %) ...\")"
   ]
  },
  {
   "cell_type": "markdown",
   "id": "72305ce5",
   "metadata": {},
   "source": [
    "# nested if statements\n",
    "\n",
    "## there can be if inside if, if inside elif, if inside else, if inside if as well as elif or else i.e. multiple if's "
   ]
  },
  {
   "cell_type": "markdown",
   "id": "a19f738d",
   "metadata": {},
   "source": [
    "# program to take three numbers and print in ascending order"
   ]
  },
  {
   "cell_type": "code",
   "execution_count": 100,
   "id": "4c1f3837",
   "metadata": {
    "ExecuteTime": {
     "end_time": "2021-08-14T18:00:30.164917Z",
     "start_time": "2021-08-14T18:00:02.747Z"
    }
   },
   "outputs": [
    {
     "name": "stdout",
     "output_type": "stream",
     "text": [
      "enter the number 1: 54\n",
      "enter the number 2: 56\n",
      "enter the number 3: 43\n",
      "in ascending order is:\n",
      "43 54 56 "
     ]
    }
   ],
   "source": [
    "n1 = int(input(\"enter the number 1: \"))\n",
    "n2 = int(input(\"enter the number 2: \"))\n",
    "n3 = int(input(\"enter the number 3: \"))\n",
    "\n",
    "print(\"in ascending order is:\")\n",
    "\n",
    "if(n1 < n2 and n1 < n3):\n",
    "    print(n1, end=' ')\n",
    "    if(n2 < n3):\n",
    "        print(n2, end=' ')\n",
    "        print(n3, end=' ')\n",
    "    else:\n",
    "        print(n3, end=' ')\n",
    "        print(n2, end=' ')\n",
    "elif(n2 < n1 and n2 < n3):\n",
    "    print(n2, end=' ')\n",
    "    if(n1 < n3):\n",
    "        print(n1, end=' ')\n",
    "        print(n3, end=' ')\n",
    "    else:\n",
    "        print(n3, end=' ')\n",
    "        print(n1, end=' ')\n",
    "else:\n",
    "    print(n3, end=' ')\n",
    "    if(n1 < n2):\n",
    "        print(n1, end=' ')\n",
    "        print(n2, end=' ')\n",
    "    else:\n",
    "        print(n2, end=' ')\n",
    "        print(n1, end=' ')"
   ]
  },
  {
   "cell_type": "markdown",
   "id": "fa569d49",
   "metadata": {},
   "source": [
    "# program to check charcter is upper, lower, digit, other charcter"
   ]
  },
  {
   "cell_type": "code",
   "execution_count": 101,
   "id": "87959cde",
   "metadata": {
    "ExecuteTime": {
     "end_time": "2021-08-14T18:00:30.166994Z",
     "start_time": "2021-08-14T18:00:02.760Z"
    }
   },
   "outputs": [
    {
     "name": "stdout",
     "output_type": "stream",
     "text": [
      "enter the character: $\n",
      "the character is other charcetr\n"
     ]
    }
   ],
   "source": [
    "ch = input(\"enter the character: \")\n",
    "if(ch >= 'A' and ch <= 'Z'):\n",
    "    print(\"the character is uppercase\")\n",
    "elif(ch >= 'a' and ch <= 'z'):\n",
    "    print(\"the character is lowercase\")\n",
    "elif(ch >= '0' and ch <= '9'):\n",
    "    print(\"the character is digit\")\n",
    "else:\n",
    "    print(\"the character is other charcetr\")"
   ]
  },
  {
   "cell_type": "markdown",
   "id": "ee50a308",
   "metadata": {},
   "source": [
    "# program to calculate and print roots of quadratic exquation Ax^2 + Bx + C=0 (a!=0)"
   ]
  },
  {
   "cell_type": "code",
   "execution_count": 102,
   "id": "1255fba5",
   "metadata": {
    "ExecuteTime": {
     "end_time": "2021-08-14T18:00:30.169398Z",
     "start_time": "2021-08-14T18:00:02.776Z"
    }
   },
   "outputs": [
    {
     "name": "stdout",
     "output_type": "stream",
     "text": [
      "enter the coefficent a: 3\n",
      "enter the coefficent b: 12\n",
      "enter the coefficent c: 34\n",
      "the roots of quadratic equaion are complex and imaginary:\n"
     ]
    }
   ],
   "source": [
    "import math\n",
    "\n",
    "a = float(input(\"enter the coefficent a: \"))\n",
    "b = float(input(\"enter the coefficent b: \"))\n",
    "c = float(input(\"enter the coefficent c: \"))\n",
    "\n",
    "if(a == 0):\n",
    "    print(\"a can't be zero!!!\")\n",
    "elif((b**2)-(4*a*c) < 0):\n",
    "    print(\"the roots of quadratic equaion are complex and imaginary:\")\n",
    "else:\n",
    "    if((-b+math.sqrt((b**2)-(4*a*c)))/(2*a) == (-b-math.sqrt((b**2)-(4*a*c)))/(2*a)):\n",
    "        print(\"the roots are real and equal:\\nroot1=\", (-b+math.sqrt((b**2)-(4*a*c)))/(2*a), \"\\nroot2=\",\n",
    "              (-b+math.sqrt((b**2)-(4*a*c)))/(2*a))\n",
    "    else:\n",
    "        print(\"the roots are real and distinct:\\nroot1=\", (-b+math.sqrt((b**2)-(4*a*c)))/(2*a), \"\\nroot2=\",\n",
    "              (-b+math.sqrt((b**2)-(4*a*c)))/(2*a))"
   ]
  },
  {
   "cell_type": "markdown",
   "id": "8e5c9bd9",
   "metadata": {},
   "source": [
    "# storing conditions"
   ]
  },
  {
   "cell_type": "code",
   "execution_count": 103,
   "id": "41d0528a",
   "metadata": {
    "ExecuteTime": {
     "end_time": "2021-08-14T18:00:30.171992Z",
     "start_time": "2021-08-14T18:00:02.790Z"
    }
   },
   "outputs": [
    {
     "name": "stdout",
     "output_type": "stream",
     "text": [
      "enter the number1: 45\n",
      "enter the number2: 56\n",
      "yes number is not divisible\n"
     ]
    }
   ],
   "source": [
    "# it is the way to store condition or give them another name or alias\n",
    "\n",
    "num1 = int(input(\"enter the number1: \"))\n",
    "num2 = int(input(\"enter the number2: \"))\n",
    "\n",
    "# condition are stored based on user defined alias\n",
    "\n",
    "remainder_is_zero = num1 % num2 == 0\n",
    "remainder_is_not_zero = num1 % num2 != 0\n",
    "\n",
    "if remainder_is_zero:\n",
    "    print(\"yes number is divisible\")\n",
    "elif remainder_is_not_zero:\n",
    "    print(\"yes number is not divisible\")\n",
    "else:\n",
    "    print(\"control cant reach here\")"
   ]
  },
  {
   "cell_type": "markdown",
   "id": "24c14172",
   "metadata": {},
   "source": [
    "# range() function"
   ]
  },
  {
   "cell_type": "code",
   "execution_count": 104,
   "id": "8ed57944",
   "metadata": {
    "ExecuteTime": {
     "end_time": "2021-08-14T18:00:30.174050Z",
     "start_time": "2021-08-14T18:00:02.803Z"
    }
   },
   "outputs": [
    {
     "data": {
      "text/plain": [
       "range(1, 10, 2)"
      ]
     },
     "execution_count": 104,
     "metadata": {},
     "output_type": "execute_result"
    }
   ],
   "source": [
    "# the range() function gives a list in a given range in given step\n",
    "# format: range(<start point>,<end point>,<jump in steps>)\n",
    "\n",
    "range(10)  # here it give list in range 0 to n-1 i.e. 9\n",
    "\n",
    "range(1, 10)  # it gives list from 1 to 9\n",
    "\n",
    "range(1, 10, 2)  # it gives list from 1 to 9 in steps of 2"
   ]
  },
  {
   "cell_type": "markdown",
   "id": "09a80792",
   "metadata": {},
   "source": [
    "# in and not in function"
   ]
  },
  {
   "cell_type": "code",
   "execution_count": 105,
   "id": "3fc12c09",
   "metadata": {
    "ExecuteTime": {
     "end_time": "2021-08-14T18:00:30.176177Z",
     "start_time": "2021-08-14T18:00:02.816Z"
    }
   },
   "outputs": [
    {
     "name": "stdout",
     "output_type": "stream",
     "text": [
      "True\n",
      "True\n",
      "False\n",
      "True\n",
      "True\n",
      "True\n",
      "False\n",
      "False\n"
     ]
    }
   ],
   "source": [
    "# in checks if a particular value is present in a sequenc or not and gives True and False\n",
    "\n",
    "print(\"rahul\" in \"rahul dhanola\")\n",
    "\n",
    "print(5 in (1, 4, 2, 3, 4, 5, 3, 2))\n",
    "\n",
    "print(7 in [1, 5, 3, 54, 34, 34333, 3, 3, 2, 4, 2, 43])\n",
    "\n",
    "print(\"\" in \"rahuldhanola\")\n",
    "\n",
    "print(5 in range(10))\n",
    "\n",
    "print(5 in range(1, 10))\n",
    "\n",
    "print(5 in range(0, 10, 2))\n",
    "\n",
    "print(5 in range(0, 10, 2))"
   ]
  },
  {
   "cell_type": "code",
   "execution_count": 106,
   "id": "7a7df072",
   "metadata": {
    "ExecuteTime": {
     "end_time": "2021-08-14T18:00:30.184514Z",
     "start_time": "2021-08-14T18:00:02.827Z"
    }
   },
   "outputs": [
    {
     "name": "stdout",
     "output_type": "stream",
     "text": [
      "False\n",
      "False\n",
      "True\n",
      "False\n",
      "False\n",
      "False\n",
      "True\n",
      "True\n"
     ]
    }
   ],
   "source": [
    "# not in checks if a particular value is not present in a sequenc or present and gives True and False\n",
    "\n",
    "print(\"rahul\" not in \"rahul dhanola\")\n",
    "\n",
    "print(5 not in (1, 4, 2, 3, 4, 5, 3, 2))\n",
    "\n",
    "print(7 not in [1, 5, 3, 54, 34, 34333, 3, 3, 2, 4, 2, 43])\n",
    "\n",
    "print(\"\" not in \"rahuldhanola\")\n",
    "\n",
    "print(5 not in range(10))\n",
    "\n",
    "print(5 not in range(1, 10))\n",
    "\n",
    "print(5 not in range(0, 10, 2))\n",
    "\n",
    "print(5 not in range(0, 10, 2))"
   ]
  },
  {
   "cell_type": "markdown",
   "id": "3710f68e",
   "metadata": {},
   "source": [
    "# the for loop"
   ]
  },
  {
   "cell_type": "code",
   "execution_count": 107,
   "id": "96d5a889",
   "metadata": {
    "ExecuteTime": {
     "end_time": "2021-08-14T18:00:30.186535Z",
     "start_time": "2021-08-14T18:00:02.840Z"
    }
   },
   "outputs": [
    {
     "name": "stdout",
     "output_type": "stream",
     "text": [
      "1\n",
      "2\n",
      "3\n",
      "4\n",
      "5\n",
      "6\n",
      "7\n",
      "8\n",
      "9\n",
      "0\n"
     ]
    }
   ],
   "source": [
    "# the for loop is designed the process of any sequence one by one\n",
    "# general form is for <variable> in <sequence>:\n",
    "# the loop variable have the higest value after iterating in a range()\n",
    "\n",
    "for i in [1, 2, 3, 4, 5, 6, 7, 8, 9, 0]:\n",
    "    print(i)"
   ]
  },
  {
   "cell_type": "code",
   "execution_count": 108,
   "id": "28a011e0",
   "metadata": {
    "ExecuteTime": {
     "end_time": "2021-08-14T18:00:30.189895Z",
     "start_time": "2021-08-14T18:00:02.849Z"
    }
   },
   "outputs": [
    {
     "name": "stdout",
     "output_type": "stream",
     "text": [
      "1\n",
      "4\n",
      "9\n",
      "16\n",
      "25\n",
      "36\n",
      "49\n",
      "64\n",
      "81\n",
      "0\n"
     ]
    }
   ],
   "source": [
    "for i in [1, 2, 3, 4, 5, 6, 7, 8, 9, 0]:\n",
    "    print(i*i)"
   ]
  },
  {
   "cell_type": "code",
   "execution_count": 109,
   "id": "c13a4d0b",
   "metadata": {
    "ExecuteTime": {
     "end_time": "2021-08-14T18:00:30.195650Z",
     "start_time": "2021-08-14T18:00:02.859Z"
    }
   },
   "outputs": [
    {
     "name": "stdout",
     "output_type": "stream",
     "text": [
      "t\n",
      "h\n",
      "e\n",
      " \n",
      "s\n",
      "t\n",
      "r\n",
      "i\n",
      "n\n",
      "g\n"
     ]
    }
   ],
   "source": [
    "for ch in \"the string\":\n",
    "    print(ch)"
   ]
  },
  {
   "cell_type": "code",
   "execution_count": 110,
   "id": "05c91a94",
   "metadata": {
    "ExecuteTime": {
     "end_time": "2021-08-14T18:00:30.198112Z",
     "start_time": "2021-08-14T18:00:02.869Z"
    }
   },
   "outputs": [
    {
     "name": "stdout",
     "output_type": "stream",
     "text": [
      "0\n",
      "1\n",
      "2\n",
      "3\n",
      "4\n",
      "5\n",
      "6\n",
      "7\n",
      "8\n",
      "9\n"
     ]
    }
   ],
   "source": [
    "for i in range(10):\n",
    "    print(i)"
   ]
  },
  {
   "cell_type": "markdown",
   "id": "5d2a737e",
   "metadata": {},
   "source": [
    "# program to print table of a number"
   ]
  },
  {
   "cell_type": "code",
   "execution_count": 111,
   "id": "cdb3a038",
   "metadata": {
    "ExecuteTime": {
     "end_time": "2021-08-14T18:00:30.200802Z",
     "start_time": "2021-08-14T18:00:02.882Z"
    }
   },
   "outputs": [
    {
     "name": "stdout",
     "output_type": "stream",
     "text": [
      "enter the number: 43\n",
      "43 X 1 = 43\n",
      "43 X 2 = 86\n",
      "43 X 3 = 129\n",
      "43 X 4 = 172\n",
      "43 X 5 = 215\n",
      "43 X 6 = 258\n",
      "43 X 7 = 301\n",
      "43 X 8 = 344\n",
      "43 X 9 = 387\n",
      "43 X 10 = 430\n"
     ]
    }
   ],
   "source": [
    "n = int(input(\"enter the number: \"))\n",
    "for i in range(1, 11):\n",
    "    print(n, \"X\", i, \"=\", n*i)"
   ]
  },
  {
   "cell_type": "markdown",
   "id": "db4c4382",
   "metadata": {},
   "source": [
    "# print sum of n natural number with each iteration"
   ]
  },
  {
   "cell_type": "code",
   "execution_count": 112,
   "id": "f7fbd08b",
   "metadata": {
    "ExecuteTime": {
     "end_time": "2021-08-14T18:00:30.204317Z",
     "start_time": "2021-08-14T18:00:02.896Z"
    }
   },
   "outputs": [
    {
     "name": "stdout",
     "output_type": "stream",
     "text": [
      "enter the number: 45\n",
      "sum of natural numver <= 1 is: 1\n",
      "sum of natural numver <= 2 is: 3\n",
      "sum of natural numver <= 3 is: 6\n",
      "sum of natural numver <= 4 is: 10\n",
      "sum of natural numver <= 5 is: 15\n",
      "sum of natural numver <= 6 is: 21\n",
      "sum of natural numver <= 7 is: 28\n",
      "sum of natural numver <= 8 is: 36\n",
      "sum of natural numver <= 9 is: 45\n",
      "sum of natural numver <= 10 is: 55\n",
      "sum of natural numver <= 11 is: 66\n",
      "sum of natural numver <= 12 is: 78\n",
      "sum of natural numver <= 13 is: 91\n",
      "sum of natural numver <= 14 is: 105\n",
      "sum of natural numver <= 15 is: 120\n",
      "sum of natural numver <= 16 is: 136\n",
      "sum of natural numver <= 17 is: 153\n",
      "sum of natural numver <= 18 is: 171\n",
      "sum of natural numver <= 19 is: 190\n",
      "sum of natural numver <= 20 is: 210\n",
      "sum of natural numver <= 21 is: 231\n",
      "sum of natural numver <= 22 is: 253\n",
      "sum of natural numver <= 23 is: 276\n",
      "sum of natural numver <= 24 is: 300\n",
      "sum of natural numver <= 25 is: 325\n",
      "sum of natural numver <= 26 is: 351\n",
      "sum of natural numver <= 27 is: 378\n",
      "sum of natural numver <= 28 is: 406\n",
      "sum of natural numver <= 29 is: 435\n",
      "sum of natural numver <= 30 is: 465\n",
      "sum of natural numver <= 31 is: 496\n",
      "sum of natural numver <= 32 is: 528\n",
      "sum of natural numver <= 33 is: 561\n",
      "sum of natural numver <= 34 is: 595\n",
      "sum of natural numver <= 35 is: 630\n",
      "sum of natural numver <= 36 is: 666\n",
      "sum of natural numver <= 37 is: 703\n",
      "sum of natural numver <= 38 is: 741\n",
      "sum of natural numver <= 39 is: 780\n",
      "sum of natural numver <= 40 is: 820\n",
      "sum of natural numver <= 41 is: 861\n",
      "sum of natural numver <= 42 is: 903\n",
      "sum of natural numver <= 43 is: 946\n",
      "sum of natural numver <= 44 is: 990\n",
      "sum of natural numver <= 45 is: 1035\n",
      "the sum after all iteration is: 1035\n"
     ]
    }
   ],
   "source": [
    "n = int(input(\"enter the number: \"))\n",
    "s = 0\n",
    "for i in range(1, n+1):\n",
    "    s += i\n",
    "    print(\"sum of natural numver <=\", i, \"is:\", s)\n",
    "\n",
    "print(\"the sum after all iteration is:\", s)"
   ]
  },
  {
   "cell_type": "markdown",
   "id": "8033437e",
   "metadata": {},
   "source": [
    "# while loop"
   ]
  },
  {
   "cell_type": "code",
   "execution_count": 113,
   "id": "88d15973",
   "metadata": {
    "ExecuteTime": {
     "end_time": "2021-08-14T18:00:30.207255Z",
     "start_time": "2021-08-14T18:00:02.909Z"
    }
   },
   "outputs": [
    {
     "name": "stdout",
     "output_type": "stream",
     "text": [
      "1\n",
      "2\n",
      "3\n",
      "4\n",
      "5\n",
      "6\n",
      "7\n",
      "8\n",
      "9\n"
     ]
    }
   ],
   "source": [
    "# the while loop checks for a condition and then perform the below statements until the condition becomes false\n",
    "# general form is while(<condition>):\n",
    "\n",
    "n = 1\n",
    "while n < 10:  # runs below statement till the condition becomes false\n",
    "    print(n)\n",
    "    n += 1"
   ]
  },
  {
   "cell_type": "code",
   "execution_count": 114,
   "id": "2cb66304",
   "metadata": {
    "ExecuteTime": {
     "end_time": "2021-08-14T18:00:30.211660Z",
     "start_time": "2021-08-14T18:00:02.919Z"
    }
   },
   "outputs": [
    {
     "ename": "NameError",
     "evalue": "name 'j' is not defined",
     "output_type": "error",
     "traceback": [
      "\u001b[0;31m---------------------------------------------------------------------------\u001b[0m",
      "\u001b[0;31mNameError\u001b[0m                                 Traceback (most recent call last)",
      "\u001b[0;32m<ipython-input-114-19ea52710bc6>\u001b[0m in \u001b[0;36m<module>\u001b[0;34m\u001b[0m\n\u001b[1;32m      1\u001b[0m \u001b[0;31m# always initialize a variable else it will give error\u001b[0m\u001b[0;34m\u001b[0m\u001b[0;34m\u001b[0m\u001b[0;34m\u001b[0m\u001b[0m\n\u001b[1;32m      2\u001b[0m \u001b[0;34m\u001b[0m\u001b[0m\n\u001b[0;32m----> 3\u001b[0;31m \u001b[0;32mwhile\u001b[0m \u001b[0mj\u001b[0m \u001b[0;34m<\u001b[0m \u001b[0;36m20\u001b[0m\u001b[0;34m:\u001b[0m\u001b[0;34m\u001b[0m\u001b[0;34m\u001b[0m\u001b[0m\n\u001b[0m\u001b[1;32m      4\u001b[0m     \u001b[0mprint\u001b[0m\u001b[0;34m(\u001b[0m\u001b[0mi\u001b[0m\u001b[0;34m)\u001b[0m\u001b[0;34m\u001b[0m\u001b[0;34m\u001b[0m\u001b[0m\n\u001b[1;32m      5\u001b[0m     \u001b[0mj\u001b[0m \u001b[0;34m+=\u001b[0m \u001b[0;36m1\u001b[0m\u001b[0;34m\u001b[0m\u001b[0;34m\u001b[0m\u001b[0m\n",
      "\u001b[0;31mNameError\u001b[0m: name 'j' is not defined"
     ]
    }
   ],
   "source": [
    "# always initialize a variable else it will give error\n",
    "\n",
    "while j < 20:\n",
    "    print(i)\n",
    "    j += 1"
   ]
  },
  {
   "cell_type": "markdown",
   "id": "ff83aa82",
   "metadata": {},
   "source": [
    "# program to find factorial of a number"
   ]
  },
  {
   "cell_type": "code",
   "execution_count": 115,
   "id": "2dbb2991",
   "metadata": {
    "ExecuteTime": {
     "end_time": "2021-08-14T18:00:30.214181Z",
     "start_time": "2021-08-14T18:00:02.933Z"
    }
   },
   "outputs": [
    {
     "name": "stdout",
     "output_type": "stream",
     "text": [
      "enter the number: 34\n",
      "the factorial of the nbumebr is: 295232799039604140847618609643520000000\n"
     ]
    }
   ],
   "source": [
    "n = int(input(\"enter the number: \"))\n",
    "fact = 1\n",
    "while(n >= 1):\n",
    "    fact *= n\n",
    "    n -= 1\n",
    "\n",
    "print(\"the factorial of the nbumebr is:\", fact)"
   ]
  },
  {
   "cell_type": "markdown",
   "id": "37c7a294",
   "metadata": {},
   "source": [
    "# program to print sum of even and odd integers of first n natural numbers"
   ]
  },
  {
   "cell_type": "code",
   "execution_count": 116,
   "id": "19cf2c9e",
   "metadata": {
    "ExecuteTime": {
     "end_time": "2021-08-14T18:00:30.216694Z",
     "start_time": "2021-08-14T18:00:02.946Z"
    }
   },
   "outputs": [
    {
     "name": "stdout",
     "output_type": "stream",
     "text": [
      "enter the number:54\n",
      "the sum of odd natural numbers is: 729\n",
      "the sum of evevn natural numbers is: 756\n"
     ]
    }
   ],
   "source": [
    "n = int(input(\"enter the number:\"))\n",
    "se = so = 0\n",
    "while(n >= 1):\n",
    "    if(n % 2 == 0):\n",
    "        se += n\n",
    "        n -= 1\n",
    "    else:\n",
    "        so += n\n",
    "        n -= 1\n",
    "\n",
    "print(\"the sum of odd natural numbers is:\", so)\n",
    "print(\"the sum of evevn natural numbers is:\", se)"
   ]
  },
  {
   "cell_type": "markdown",
   "id": "f7279c19",
   "metadata": {},
   "source": [
    "# loop else statement"
   ]
  },
  {
   "cell_type": "code",
   "execution_count": 117,
   "id": "5f05efab",
   "metadata": {
    "ExecuteTime": {
     "end_time": "2021-08-14T18:00:30.219569Z",
     "start_time": "2021-08-14T18:00:02.959Z"
    }
   },
   "outputs": [
    {
     "name": "stdout",
     "output_type": "stream",
     "text": [
      "0\n",
      "1\n",
      "2\n",
      "3\n",
      "4\n",
      "5\n",
      "6\n",
      "7\n",
      "8\n",
      "9\n",
      "10\n",
      "after the for loop printes all numbers!!\n"
     ]
    }
   ],
   "source": [
    "# the for loop and the while loop have an else clause whch execute statement if sequence complete or condition is false\n",
    "\n",
    "for i in range(11):\n",
    "    print(i)\n",
    "else:\n",
    "    print(\"after the for loop printes all numbers!!\")"
   ]
  },
  {
   "cell_type": "code",
   "execution_count": 118,
   "id": "3461d635",
   "metadata": {
    "ExecuteTime": {
     "end_time": "2021-08-14T18:00:30.222289Z",
     "start_time": "2021-08-14T18:00:02.969Z"
    }
   },
   "outputs": [
    {
     "name": "stdout",
     "output_type": "stream",
     "text": [
      "1\n",
      "2\n",
      "3\n",
      "4\n",
      "5\n",
      "6\n",
      "7\n",
      "8\n",
      "9\n",
      "10\n",
      "after the while loop printes all numbers!!\n"
     ]
    }
   ],
   "source": [
    "i = 1\n",
    "while(i < 11):\n",
    "    print(i)\n",
    "    i += 1\n",
    "else:\n",
    "    print(\"after the while loop printes all numbers!!\")"
   ]
  },
  {
   "cell_type": "markdown",
   "id": "e245064e",
   "metadata": {},
   "source": [
    "# break sttemnt"
   ]
  },
  {
   "cell_type": "code",
   "execution_count": 119,
   "id": "7bc0305f",
   "metadata": {
    "ExecuteTime": {
     "end_time": "2021-08-14T18:00:30.224983Z",
     "start_time": "2021-08-14T18:00:02.983Z"
    }
   },
   "outputs": [
    {
     "name": "stdout",
     "output_type": "stream",
     "text": [
      "inside for loop\n",
      "inside for loop\n",
      "inside for loop\n",
      "inside for loop\n",
      "inside for loop\n",
      "inside for loop\n",
      "inside for loop\n",
      "outside the for loop\n"
     ]
    }
   ],
   "source": [
    "# a break statemnt skip the rest of the loop (for or while) and jumps to the statement folowing the loop\n",
    "\n",
    "for i in range(11):\n",
    "    if(i < 7):\n",
    "        print(\"inside for loop\")\n",
    "    else:\n",
    "        break\n",
    "else:\n",
    "    # it will not work because we breaked the for loop early\n",
    "    print(\"inside the else block\")\n",
    "\n",
    "print(\"outside the for loop\")"
   ]
  },
  {
   "cell_type": "code",
   "execution_count": 120,
   "id": "22af3518",
   "metadata": {
    "ExecuteTime": {
     "end_time": "2021-08-14T18:00:30.227647Z",
     "start_time": "2021-08-14T18:00:02.993Z"
    }
   },
   "outputs": [
    {
     "name": "stdout",
     "output_type": "stream",
     "text": [
      "inside while loop\n",
      "inside while loop\n",
      "inside while loop\n",
      "inside while loop\n",
      "inside while loop\n",
      "inside while loop\n",
      "inside while loop\n",
      "outside the while loop\n"
     ]
    }
   ],
   "source": [
    "i = 0\n",
    "while(i < 11):\n",
    "    if(i < 7):\n",
    "        print(\"inside while loop\")\n",
    "        i += 1\n",
    "    else:\n",
    "        break\n",
    "else:\n",
    "    # it will not work because we breaked the for while early\n",
    "    print(\"inside the else block\")\n",
    "\n",
    "print(\"outside the while loop\")"
   ]
  },
  {
   "cell_type": "markdown",
   "id": "c73d4477",
   "metadata": {},
   "source": [
    "# random module"
   ]
  },
  {
   "cell_type": "code",
   "execution_count": 121,
   "id": "041010bc",
   "metadata": {
    "ExecuteTime": {
     "end_time": "2021-08-14T18:00:30.230330Z",
     "start_time": "2021-08-14T18:00:03.007Z"
    }
   },
   "outputs": [
    {
     "data": {
      "text/plain": [
       "8"
      ]
     },
     "execution_count": 121,
     "metadata": {},
     "output_type": "execute_result"
    }
   ],
   "source": [
    "# the random module have a function randint to generate a random number in a given range\n",
    "# synatax: random.randint(lower limit,upper limit)\n",
    "\n",
    "import random  # import the module having function\n",
    "\n",
    "random.randint(1, 11)  # will give randiom number between 1 to 10"
   ]
  },
  {
   "cell_type": "markdown",
   "id": "23038f38",
   "metadata": {},
   "source": [
    "# implement \"guess the number\", python give random number in a given range and give n chances to user to guess the correct number "
   ]
  },
  {
   "cell_type": "code",
   "execution_count": 123,
   "id": "00e60985",
   "metadata": {
    "ExecuteTime": {
     "end_time": "2021-08-14T18:00:30.233034Z",
     "start_time": "2021-08-14T18:00:03.020Z"
    },
    "scrolled": false
   },
   "outputs": [
    {
     "name": "stdout",
     "output_type": "stream",
     "text": [
      "welecome to the game 'guess the number'\n",
      "please enter the upper limit: 90\n",
      "please enter the lower limit: 23\n",
      "random number generated!!!\n",
      "enter the nummber of chances you want to guess with computer: 5\n",
      "guess and enter the number computer have chosen in range you have given: 34\n",
      "sorry!! you have chosen incorrect number that computer guessed\n",
      "guess and enter the number computer have chosen in range you have given: 32\n",
      "sorry!! you have chosen incorrect number that computer guessed\n",
      "guess and enter the number computer have chosen in range you have given: 54\n",
      "sorry!! you have chosen incorrect number that computer guessed\n",
      "guess and enter the number computer have chosen in range you have given: 34\n",
      "sorry!! you have chosen incorrect number that computer guessed\n",
      "guess and enter the number computer have chosen in range you have given: 65\n",
      "sorry!! you have chosen incorrect number that computer guessed\n",
      "sorry!! you have chosen incorrect number that computer guessed i.e. 73 \n",
      " you lose the game!!!!\n"
     ]
    }
   ],
   "source": [
    "import random\n",
    "\n",
    "ul = int(input(\"welecome to the game 'guess the number'\\nplease enter the upper limit: \"))\n",
    "ll = int(input(\"please enter the lower limit: \"))\n",
    "r = random.randint(ll, ul+1)\n",
    "chance = int(input(\n",
    "    \"random number generated!!!\\nenter the nummber of chances you want to guess with computer: \"))\n",
    "\n",
    "for i in range(chance):\n",
    "    n = int(input(\n",
    "        \"guess and enter the number computer have chosen in range you have given: \"))\n",
    "    if(n == r):\n",
    "        print(\"voila!! you have chosen correct number that computer guessed.\\n you win the game!!!!\")\n",
    "        break\n",
    "    else:\n",
    "        print(\"sorry!! you have chosen incorrect number that computer guessed\")\n",
    "else:\n",
    "    print(\"sorry!! you have chosen incorrect number that computer guessed i.e.\",\n",
    "          r, \"\\n you lose the game!!!!\")"
   ]
  },
  {
   "cell_type": "markdown",
   "id": "1a61be66",
   "metadata": {},
   "source": [
    "# continue statement"
   ]
  },
  {
   "cell_type": "code",
   "execution_count": 124,
   "id": "2306a68c",
   "metadata": {
    "ExecuteTime": {
     "end_time": "2021-08-14T18:00:30.235693Z",
     "start_time": "2021-08-14T18:00:03.033Z"
    }
   },
   "outputs": [
    {
     "name": "stdout",
     "output_type": "stream",
     "text": [
      "0\n",
      "1\n",
      "2\n",
      "3\n",
      "4\n",
      "5\n",
      "6\n"
     ]
    }
   ],
   "source": [
    "# the continue statement is another jump statemnt that skips the rest of the loop staremtn and causes the next loop iteration\n",
    "for i in range(11):\n",
    "    if(i < 7):\n",
    "        print(i)\n",
    "    else:\n",
    "        continue  # if condition false then th iteration of i>7 will skip"
   ]
  },
  {
   "cell_type": "code",
   "execution_count": 125,
   "id": "41258e34",
   "metadata": {
    "ExecuteTime": {
     "end_time": "2021-08-14T18:00:30.238418Z",
     "start_time": "2021-08-14T18:00:03.043Z"
    }
   },
   "outputs": [
    {
     "name": "stdout",
     "output_type": "stream",
     "text": [
      "0\n",
      "1\n",
      "2\n",
      "3\n",
      "4\n",
      "5\n",
      "6\n"
     ]
    }
   ],
   "source": [
    "i = 0\n",
    "while(i <= 10):\n",
    "    if(i < 7):\n",
    "        print(i)\n",
    "        i += 1\n",
    "    else:\n",
    "        i += 1\n",
    "        continue  # if condition false then th iteration of i>7 will skip"
   ]
  },
  {
   "cell_type": "markdown",
   "id": "46e1f1e4",
   "metadata": {},
   "source": [
    "# input some number repeteadly and print there sum program enda if user say no or give -ve number"
   ]
  },
  {
   "cell_type": "code",
   "execution_count": 126,
   "id": "8574aef7",
   "metadata": {
    "ExecuteTime": {
     "end_time": "2021-08-14T18:00:30.241038Z",
     "start_time": "2021-08-14T18:00:03.057Z"
    }
   },
   "outputs": [
    {
     "name": "stdout",
     "output_type": "stream",
     "text": [
      "enter the number: 34\n",
      "want to enter more (y/n) : y\n",
      "enter the number: 56\n",
      "want to enter more (y/n) : y\n",
      "enter the number: 76\n",
      "want to enter more (y/n) : y\n",
      "enter the number: 89\n",
      "want to enter more (y/n) : y\n",
      "enter the number: 87\n",
      "want to enter more (y/n) : y\n",
      "enter the number: 56\n",
      "want to enter more (y/n) : n\n",
      "sum after 6 number entered is: 398\n"
     ]
    }
   ],
   "source": [
    "count = s = 0\n",
    "while(True):\n",
    "    n = int(input(\"enter the number: \"))\n",
    "    if n < 0:\n",
    "        break\n",
    "    else:\n",
    "        s += n\n",
    "        count += 1\n",
    "    ch = input(\"want to enter more (y/n) : \")\n",
    "    if(ch == 'y' or ch == 'Y'):\n",
    "        continue\n",
    "    else:\n",
    "        print(\"sum after\", count, \"number entered is:\", s)\n",
    "        break"
   ]
  },
  {
   "cell_type": "markdown",
   "id": "c3f27501",
   "metadata": {},
   "source": [
    "# program to test if a number is pime or not"
   ]
  },
  {
   "cell_type": "code",
   "execution_count": 127,
   "id": "786fcc9b",
   "metadata": {
    "ExecuteTime": {
     "end_time": "2021-08-14T18:00:30.243656Z",
     "start_time": "2021-08-14T18:00:03.070Z"
    }
   },
   "outputs": [
    {
     "name": "stdout",
     "output_type": "stream",
     "text": [
      "enter the number: 45\n",
      "number is not prime!!!\n"
     ]
    }
   ],
   "source": [
    "n = int(input(\"enter the number: \"))\n",
    "for i in range(2, (n//2)+1):\n",
    "    if(n % i == 0):\n",
    "        print(\"number is not prime!!!\")\n",
    "        break\n",
    "else:\n",
    "    print(\"the number is prime\")"
   ]
  },
  {
   "cell_type": "markdown",
   "id": "fa3dfa81",
   "metadata": {},
   "source": [
    "# nested loop"
   ]
  },
  {
   "cell_type": "markdown",
   "id": "02c5aee9",
   "metadata": {},
   "source": [
    "# chr() and ord() function"
   ]
  },
  {
   "cell_type": "code",
   "execution_count": 128,
   "id": "2b170596",
   "metadata": {
    "ExecuteTime": {
     "end_time": "2021-08-14T18:00:30.245878Z",
     "start_time": "2021-08-14T18:00:03.087Z"
    }
   },
   "outputs": [
    {
     "name": "stdout",
     "output_type": "stream",
     "text": [
      "#\n",
      "4\n",
      "J\n",
      "g\n"
     ]
    }
   ],
   "source": [
    "# the chr gives the characetr coressponmding to given ascii\n",
    "\n",
    "print(chr(35))\n",
    "print(chr(52))\n",
    "print(chr(74))\n",
    "print(chr(103))"
   ]
  },
  {
   "cell_type": "code",
   "execution_count": 129,
   "id": "556644e7",
   "metadata": {
    "ExecuteTime": {
     "end_time": "2021-08-14T18:00:30.248283Z",
     "start_time": "2021-08-14T18:00:03.097Z"
    }
   },
   "outputs": [
    {
     "name": "stdout",
     "output_type": "stream",
     "text": [
      "37\n",
      "53\n",
      "70\n",
      "106\n"
     ]
    }
   ],
   "source": [
    "# the ord gives the ascii coressponmding to given character\n",
    "\n",
    "print(ord('%'))\n",
    "print(ord('5'))\n",
    "print(ord('F'))\n",
    "print(ord('j'))"
   ]
  },
  {
   "cell_type": "code",
   "execution_count": 130,
   "id": "766b9dc7",
   "metadata": {
    "ExecuteTime": {
     "end_time": "2021-08-14T18:00:30.251049Z",
     "start_time": "2021-08-14T18:00:03.107Z"
    }
   },
   "outputs": [
    {
     "name": "stdout",
     "output_type": "stream",
     "text": [
      "\n",
      "* \n",
      "* * \n",
      "* * * \n",
      "* * * * \n",
      "* * * * * \n",
      "* * * * * * \n",
      "* * * * * * * \n",
      "* * * * * * * * \n",
      "* * * * * * * * * \n",
      "* * * * * * * * * * \n",
      "* * * * * * * * * * * \n",
      "* * * * * * * * * * * * \n",
      "* * * * * * * * * * * * * \n",
      "* * * * * * * * * * * * * * \n",
      "* * * * * * * * * * * * * * * \n",
      "* * * * * * * * * * * * * * * * \n",
      "* * * * * * * * * * * * * * * * * \n",
      "* * * * * * * * * * * * * * * * * * \n",
      "* * * * * * * * * * * * * * * * * * * \n",
      "* * * * * * * * * * * * * * * * * * * * \n",
      "* * * * * * * * * * * * * * * * * * * * * \n",
      "* * * * * * * * * * * * * * * * * * * * * * \n",
      "* * * * * * * * * * * * * * * * * * * * * * * \n",
      "* * * * * * * * * * * * * * * * * * * * * * * * \n",
      "* * * * * * * * * * * * * * * * * * * * * * * * * \n",
      "* * * * * * * * * * * * * * * * * * * * * * * * * * \n",
      "* * * * * * * * * * * * * * * * * * * * * * * * * * * \n",
      "* * * * * * * * * * * * * * * * * * * * * * * * * * * * \n",
      "* * * * * * * * * * * * * * * * * * * * * * * * * * * * * \n",
      "* * * * * * * * * * * * * * * * * * * * * * * * * * * * * * \n",
      "* * * * * * * * * * * * * * * * * * * * * * * * * * * * * * * \n",
      "* * * * * * * * * * * * * * * * * * * * * * * * * * * * * * * * \n",
      "* * * * * * * * * * * * * * * * * * * * * * * * * * * * * * * * * \n",
      "* * * * * * * * * * * * * * * * * * * * * * * * * * * * * * * * * * \n",
      "* * * * * * * * * * * * * * * * * * * * * * * * * * * * * * * * * * * \n",
      "* * * * * * * * * * * * * * * * * * * * * * * * * * * * * * * * * * * * \n",
      "* * * * * * * * * * * * * * * * * * * * * * * * * * * * * * * * * * * * * \n",
      "* * * * * * * * * * * * * * * * * * * * * * * * * * * * * * * * * * * * * * \n",
      "* * * * * * * * * * * * * * * * * * * * * * * * * * * * * * * * * * * * * * * \n",
      "* * * * * * * * * * * * * * * * * * * * * * * * * * * * * * * * * * * * * * * * \n",
      "* * * * * * * * * * * * * * * * * * * * * * * * * * * * * * * * * * * * * * * * * \n",
      "* * * * * * * * * * * * * * * * * * * * * * * * * * * * * * * * * * * * * * * * * * \n",
      "* * * * * * * * * * * * * * * * * * * * * * * * * * * * * * * * * * * * * * * * * * * \n",
      "* * * * * * * * * * * * * * * * * * * * * * * * * * * * * * * * * * * * * * * * * * * * \n",
      "* * * * * * * * * * * * * * * * * * * * * * * * * * * * * * * * * * * * * * * * * * * * * \n",
      "* * * * * * * * * * * * * * * * * * * * * * * * * * * * * * * * * * * * * * * * * * * * * * \n",
      "* * * * * * * * * * * * * * * * * * * * * * * * * * * * * * * * * * * * * * * * * * * * * * * \n",
      "* * * * * * * * * * * * * * * * * * * * * * * * * * * * * * * * * * * * * * * * * * * * * * * * \n",
      "* * * * * * * * * * * * * * * * * * * * * * * * * * * * * * * * * * * * * * * * * * * * * * * * * \n",
      "* * * * * * * * * * * * * * * * * * * * * * * * * * * * * * * * * * * * * * * * * * * * * * * * * * \n",
      "* * * * * * * * * * * * * * * * * * * * * * * * * * * * * * * * * * * * * * * * * * * * * * * * * * * \n",
      "* * * * * * * * * * * * * * * * * * * * * * * * * * * * * * * * * * * * * * * * * * * * * * * * * * * * \n",
      "* * * * * * * * * * * * * * * * * * * * * * * * * * * * * * * * * * * * * * * * * * * * * * * * * * * * * \n",
      "* * * * * * * * * * * * * * * * * * * * * * * * * * * * * * * * * * * * * * * * * * * * * * * * * * * * * * \n",
      "* * * * * * * * * * * * * * * * * * * * * * * * * * * * * * * * * * * * * * * * * * * * * * * * * * * * * * * \n",
      "* * * * * * * * * * * * * * * * * * * * * * * * * * * * * * * * * * * * * * * * * * * * * * * * * * * * * * * * \n",
      "* * * * * * * * * * * * * * * * * * * * * * * * * * * * * * * * * * * * * * * * * * * * * * * * * * * * * * * * * \n",
      "* * * * * * * * * * * * * * * * * * * * * * * * * * * * * * * * * * * * * * * * * * * * * * * * * * * * * * * * * * \n"
     ]
    }
   ],
   "source": [
    "# it is the loop inside another loop\n",
    "\n",
    "for i in range(59):\n",
    "    for j in range(i):\n",
    "        print(\"*\", end=\" \")\n",
    "    print()"
   ]
  },
  {
   "cell_type": "markdown",
   "id": "9b670fe9",
   "metadata": {},
   "source": [
    "# program to find prime number between a range"
   ]
  },
  {
   "cell_type": "code",
   "execution_count": 131,
   "id": "59ae002a",
   "metadata": {
    "ExecuteTime": {
     "end_time": "2021-08-14T18:00:30.253737Z",
     "start_time": "2021-08-14T18:00:03.120Z"
    }
   },
   "outputs": [
    {
     "name": "stdout",
     "output_type": "stream",
     "text": [
      "enter the lower range: 32\n",
      "enter the upper range: 988\n",
      "the prime numbers within the given range are: 37,41,43,47,53,59,61,67,71,73,79,83,89,97,101,103,107,109,113,127,131,137,139,149,151,157,163,167,173,179,181,191,193,197,199,211,223,227,229,233,239,241,251,257,263,269,271,277,281,283,293,307,311,313,317,331,337,347,349,353,359,367,373,379,383,389,397,401,409,419,421,431,433,439,443,449,457,461,463,467,479,487,491,499,503,509,521,523,541,547,557,563,569,571,577,587,593,599,601,607,613,617,619,631,641,643,647,653,659,661,673,677,683,691,701,709,719,727,733,739,743,751,757,761,769,773,787,797,809,811,821,823,827,829,839,853,857,859,863,877,881,883,887,907,911,919,929,937,941,947,953,967,971,977,983,"
     ]
    }
   ],
   "source": [
    "ll = int(input(\"enter the lower range: \"))\n",
    "ul = int(input(\"enter the upper range: \"))\n",
    "\n",
    "print(\"the prime numbers within the given range are: \", end=\"\")\n",
    "for i in range(ll, ul+1):\n",
    "    for j in range(2, (i//2)+1):\n",
    "        if(i % j == 0):\n",
    "            break\n",
    "    else:\n",
    "        print(i, end=\",\")"
   ]
  },
  {
   "cell_type": "markdown",
   "id": "4bc58dba",
   "metadata": {},
   "source": [
    "# program to enter the length in cm and print in inches if -ve input warn as invalid argument"
   ]
  },
  {
   "cell_type": "code",
   "execution_count": 132,
   "id": "b2e27112",
   "metadata": {
    "ExecuteTime": {
     "end_time": "2021-08-14T18:00:30.256310Z",
     "start_time": "2021-08-14T18:00:03.133Z"
    }
   },
   "outputs": [
    {
     "name": "stdout",
     "output_type": "stream",
     "text": [
      "enter the length in cm: 455\n",
      "there are 179.0 inches and 0.33999999999999364 cm\n"
     ]
    }
   ],
   "source": [
    "cm = float(input(\"enter the length in cm: \"))\n",
    "if cm >= 0:\n",
    "    print(\"there are\", cm//2.54, \"inches and\", cm % 2.54, \"cm\")\n",
    "else:\n",
    "    print(\"enter the positive input!!!!!\")"
   ]
  },
  {
   "cell_type": "markdown",
   "id": "86e658a8",
   "metadata": {},
   "source": [
    "# program to ask no. of items and charge 120 per  item if buy less than 10 item, else  charge 100 per  item if buy between 10 and 99 item, else 70 per item"
   ]
  },
  {
   "cell_type": "code",
   "execution_count": 133,
   "id": "ef40f96a",
   "metadata": {
    "ExecuteTime": {
     "end_time": "2021-08-14T18:00:30.258924Z",
     "start_time": "2021-08-14T18:00:03.146Z"
    }
   },
   "outputs": [
    {
     "name": "stdout",
     "output_type": "stream",
     "text": [
      "enter the no of item: 4\n",
      "the total price is: 480\n"
     ]
    }
   ],
   "source": [
    "n = int(input(\"enter the no of item: \"))\n",
    "if(n >= 100):\n",
    "    print(\"the total price is:\", n*70)\n",
    "elif(n >= 10):\n",
    "    print(\"the total price is:\", n*100)\n",
    "else:\n",
    "    print(\"the total price is:\", n*120)"
   ]
  },
  {
   "cell_type": "markdown",
   "id": "d8e120e0",
   "metadata": {},
   "source": [
    "# take two number and print close if they are within 0.001 of one other else not close"
   ]
  },
  {
   "cell_type": "code",
   "execution_count": 134,
   "id": "9a90cb37",
   "metadata": {
    "ExecuteTime": {
     "end_time": "2021-08-14T18:00:30.261505Z",
     "start_time": "2021-08-14T18:00:03.159Z"
    }
   },
   "outputs": [
    {
     "name": "stdout",
     "output_type": "stream",
     "text": [
      "enter tbe number 1: 45\n",
      "enter tbe number 2: 67\n",
      "not close\n"
     ]
    }
   ],
   "source": [
    "n1 = float(input(\"enter tbe number 1: \"))\n",
    "n2 = float(input(\"enter tbe number 2: \"))\n",
    "\n",
    "if(round((n1-n2), 3) == 0.001 or (round(n2-n1), 3) == 0.001):\n",
    "    print(\"close\")\n",
    "else:\n",
    "    print(\"not close\")"
   ]
  },
  {
   "cell_type": "markdown",
   "id": "3e1f4018",
   "metadata": {},
   "source": [
    "# program to check leap year"
   ]
  },
  {
   "cell_type": "code",
   "execution_count": 135,
   "id": "09e09fb7",
   "metadata": {
    "ExecuteTime": {
     "end_time": "2021-08-14T18:00:30.264327Z",
     "start_time": "2021-08-14T18:00:03.172Z"
    }
   },
   "outputs": [
    {
     "name": "stdout",
     "output_type": "stream",
     "text": [
      "enter the year: 5\n",
      "it is not leap year\n"
     ]
    }
   ],
   "source": [
    "n = int(input(\"enter the year: \"))\n",
    "if(n % 100 == 0):\n",
    "    if(n % 4 == 0):\n",
    "        print(\"it is a leap year\")\n",
    "    else:\n",
    "        print(\"it is not leap year\")\n",
    "else:\n",
    "    if(n % 4 == 0):\n",
    "        print(\"it is a leap year\")\n",
    "    else:\n",
    "        print(\"it is not leap year\")"
   ]
  },
  {
   "cell_type": "markdown",
   "id": "c3c10a0f",
   "metadata": {},
   "source": [
    "# input three sides of a triangle and check it form triangle or not"
   ]
  },
  {
   "cell_type": "code",
   "execution_count": 136,
   "id": "8d2e387d",
   "metadata": {
    "ExecuteTime": {
     "end_time": "2021-08-14T18:00:30.266816Z",
     "start_time": "2021-08-14T18:00:03.186Z"
    }
   },
   "outputs": [
    {
     "name": "stdout",
     "output_type": "stream",
     "text": [
      "\n",
      " enter th three side of tribgle\n",
      "enter the first side: 456\n",
      "enter the second side: 65\n",
      "enter the third side: 212\n",
      "the sides will not formn the triabgle!!!\n"
     ]
    }
   ],
   "source": [
    "n1 = float(input(\"\\n enter th three side of tribgle\\nenter the first side: \"))\n",
    "n2 = float(input(\"enter the second side: \"))\n",
    "n3 = float(input(\"enter the third side: \"))\n",
    "\n",
    "if(n1+n2 > n3 and n2+n3 > n1 and n1+n3 > n2):\n",
    "    print(\"the sides will formn the triabgle!!!\")\n",
    "else:\n",
    "    print(\"the sides will not formn the triabgle!!!\")"
   ]
  },
  {
   "cell_type": "markdown",
   "id": "33381674",
   "metadata": {},
   "source": [
    "# input a digit and print it in words"
   ]
  },
  {
   "cell_type": "code",
   "execution_count": 137,
   "id": "9a4898ff",
   "metadata": {
    "ExecuteTime": {
     "end_time": "2021-08-14T18:00:30.269415Z",
     "start_time": "2021-08-14T18:00:03.200Z"
    }
   },
   "outputs": [
    {
     "name": "stdout",
     "output_type": "stream",
     "text": [
      "enter the number: 45\n",
      "zero\n"
     ]
    }
   ],
   "source": [
    "n = int(input(\"enter the number: \"))\n",
    "if(n == 1):\n",
    "    print(\"one\")\n",
    "elif(n == 2):\n",
    "    print(\"two\")\n",
    "elif(n == 3):\n",
    "    print(\"three\")\n",
    "elif(n == 4):\n",
    "    print(\"four\")\n",
    "elif(n == 5):\n",
    "    print(\"five\")\n",
    "elif(n == 6):\n",
    "    print(\"six\")\n",
    "elif(n == 7):\n",
    "    print(\"seven\")\n",
    "elif(n == 8):\n",
    "    print(\"eight\")\n",
    "elif(n == 9):\n",
    "    print(\"nine\")\n",
    "else:\n",
    "    print(\"zero\")"
   ]
  },
  {
   "cell_type": "markdown",
   "id": "d446ebbb",
   "metadata": {},
   "source": [
    "# check whether square root of a number is prime or not"
   ]
  },
  {
   "cell_type": "code",
   "execution_count": 138,
   "id": "74628ae6",
   "metadata": {
    "ExecuteTime": {
     "end_time": "2021-08-14T18:00:30.272014Z",
     "start_time": "2021-08-14T18:00:03.214Z"
    }
   },
   "outputs": [
    {
     "name": "stdout",
     "output_type": "stream",
     "text": [
      "enter the number: 67\n",
      "the root of number is prime:\n"
     ]
    }
   ],
   "source": [
    "import math\n",
    "\n",
    "n = int(input(\"enter the number: \"))\n",
    "for i in range(2, int(math.sqrt(n))+1):\n",
    "    if(int(math.sqrt(n)) % i == 0):\n",
    "        print(\"the root of number is prime:\")\n",
    "        break\n",
    "else:\n",
    "    print(\"the root of number is not prime\")"
   ]
  },
  {
   "cell_type": "markdown",
   "id": "c4eff1e3",
   "metadata": {},
   "source": [
    "# print first n odd numvers in descending order"
   ]
  },
  {
   "cell_type": "code",
   "execution_count": 139,
   "id": "b8f3c409",
   "metadata": {
    "ExecuteTime": {
     "end_time": "2021-08-14T18:00:30.274564Z",
     "start_time": "2021-08-14T18:00:03.228Z"
    }
   },
   "outputs": [
    {
     "name": "stdout",
     "output_type": "stream",
     "text": [
      "enter the n: 3\n",
      "n odd numbers in descending order\n",
      "3 1 "
     ]
    }
   ],
   "source": [
    "n = int(input(\"enter the n: \"))\n",
    "print(\"n odd numbers in descending order\")\n",
    "for i in range(n, 0, -1):\n",
    "    if(i % 2 == 1):\n",
    "        print(i, end=' ')"
   ]
  },
  {
   "cell_type": "markdown",
   "id": "7e96a730",
   "metadata": {},
   "source": [
    "# print the following series\n",
    "\n",
    "## series 1:  \n",
    "\n",
    "## 1  4  7  10......40\n",
    "\n",
    "## series 2:  \n",
    "\n",
    "## 1  -4  7  -10......-40"
   ]
  },
  {
   "cell_type": "code",
   "execution_count": 140,
   "id": "bee52097",
   "metadata": {
    "ExecuteTime": {
     "end_time": "2021-08-14T18:00:30.277205Z",
     "start_time": "2021-08-14T18:00:03.241Z"
    }
   },
   "outputs": [
    {
     "name": "stdout",
     "output_type": "stream",
     "text": [
      "1 4 7 10 13 16 19 22 25 28 31 34 37 40 "
     ]
    }
   ],
   "source": [
    "# series 1:\n",
    "\n",
    "for i in range(1, 41, 3):\n",
    "    print(i, end=' ')"
   ]
  },
  {
   "cell_type": "code",
   "execution_count": 141,
   "id": "3fe0126a",
   "metadata": {
    "ExecuteTime": {
     "end_time": "2021-08-14T18:00:30.279678Z",
     "start_time": "2021-08-14T18:00:03.251Z"
    }
   },
   "outputs": [
    {
     "name": "stdout",
     "output_type": "stream",
     "text": [
      "1 -4 7 -10 13 -16 19 -22 25 -28 31 -34 37 -40 "
     ]
    }
   ],
   "source": [
    "# series 2:\n",
    "\n",
    "mul = -1\n",
    "for i in range(1, 41, 3):\n",
    "    mul *= -1\n",
    "    print(i*mul, end=' ')"
   ]
  },
  {
   "cell_type": "markdown",
   "id": "65ecb732",
   "metadata": {},
   "source": [
    "# find average of a list of numbers entered"
   ]
  },
  {
   "cell_type": "code",
   "execution_count": 142,
   "id": "7a898db0",
   "metadata": {
    "ExecuteTime": {
     "end_time": "2021-08-14T18:00:30.282184Z",
     "start_time": "2021-08-14T18:00:03.264Z"
    }
   },
   "outputs": [
    {
     "name": "stdout",
     "output_type": "stream",
     "text": [
      "enter how many numbers: 5\n",
      "enter the number: 45\n",
      "enter the number: 76\n",
      "enter the number: 45\n",
      "enter the number: 76\n",
      "enter the number: 22\n",
      "the naverage is: 52.8\n"
     ]
    }
   ],
   "source": [
    "n = int(input(\"enter how many numbers: \"))\n",
    "num = 0\n",
    "for i in range(n):\n",
    "    num += int(input(\"enter the number: \"))\n",
    "else:\n",
    "    print(\"the naverage is:\", num/n)"
   ]
  },
  {
   "cell_type": "markdown",
   "id": "7d91ce8b",
   "metadata": {},
   "source": [
    "# take three side of triangle, check it is equilateral, scalene, isoceles triangle"
   ]
  },
  {
   "cell_type": "code",
   "execution_count": 143,
   "id": "e0f6466f",
   "metadata": {
    "ExecuteTime": {
     "end_time": "2021-08-14T18:00:30.284765Z",
     "start_time": "2021-08-14T18:00:03.278Z"
    }
   },
   "outputs": [
    {
     "name": "stdout",
     "output_type": "stream",
     "text": [
      "enter the side 1: 87\n",
      "enter the side 2: 56\n",
      "enter the side 3: 45\n",
      "it's scalene\n"
     ]
    }
   ],
   "source": [
    "s1 = int(input(\"enter the side 1: \"))\n",
    "s2 = int(input(\"enter the side 2: \"))\n",
    "s3 = int(input(\"enter the side 3: \"))\n",
    "if(s1 == s2 == s3):\n",
    "    print(\"it's equilateral\")\n",
    "elif(s1 == s2 or s2 == s3 or s1 == s3):\n",
    "    print(\"it's isoceles\")\n",
    "else:\n",
    "    print(\"it's scalene\")"
   ]
  },
  {
   "cell_type": "markdown",
   "id": "7ee0e385",
   "metadata": {},
   "source": [
    "# check for a number ends with 4 or 8 and print resp. else print neither of them"
   ]
  },
  {
   "cell_type": "code",
   "execution_count": 144,
   "id": "a2bc3939",
   "metadata": {
    "ExecuteTime": {
     "end_time": "2021-08-14T18:00:30.287338Z",
     "start_time": "2021-08-14T18:00:03.291Z"
    }
   },
   "outputs": [
    {
     "name": "stdout",
     "output_type": "stream",
     "text": [
      "enter the number: 5\n",
      "ends with neither 4 nor with 8\n"
     ]
    }
   ],
   "source": [
    "n = int(input(\"enter the number: \"))\n",
    "if(n % 10 == 8):\n",
    "    print(\"ends with 8\")\n",
    "elif(n % 10 == 4):\n",
    "    print(\"ends with 4\")\n",
    "else:\n",
    "    print(\"ends with neither 4 nor with 8\")"
   ]
  },
  {
   "cell_type": "markdown",
   "id": "b4e4bfca",
   "metadata": {},
   "source": [
    "# take n>20 and print numbers from 11 to n and print \"tipsy\" if multiple of 3 else if of 7 print \"topsy\" and if both print \"tipsy topsy\""
   ]
  },
  {
   "cell_type": "code",
   "execution_count": 145,
   "id": "c3bddbb7",
   "metadata": {
    "ExecuteTime": {
     "end_time": "2021-08-14T18:00:30.290025Z",
     "start_time": "2021-08-14T18:00:03.304Z"
    }
   },
   "outputs": [
    {
     "name": "stdout",
     "output_type": "stream",
     "text": [
      "enter the  number greater than 20: 56\n",
      "tipsy\n",
      "topsy\n",
      "tipsy\n",
      "tipsy\n",
      "tipsy topsy\n",
      "tipsy\n",
      "tipsy\n",
      "topsy\n",
      "tipsy\n",
      "tipsy\n",
      "topsy\n",
      "tipsy\n",
      "tipsy\n",
      "tipsy topsy\n",
      "tipsy\n",
      "tipsy\n",
      "topsy\n",
      "tipsy\n",
      "tipsy\n",
      "topsy\n"
     ]
    }
   ],
   "source": [
    "n = int(input(\"enter the  number greater than 20: \"))\n",
    "if(n > 20):\n",
    "    for i in range(11, n+1):\n",
    "        if((i % 7 == 0) and (i % 3 == 0)):\n",
    "            print(\"tipsy topsy\")\n",
    "        elif((i % 7 == 0)):\n",
    "            print(\"topsy\")\n",
    "        elif((i % 3 == 0)):\n",
    "            print(\"tipsy\")\n",
    "        else:\n",
    "            pass"
   ]
  },
  {
   "cell_type": "markdown",
   "id": "fb03bd96",
   "metadata": {},
   "source": [
    "# find largest number from list of numbers entered"
   ]
  },
  {
   "cell_type": "code",
   "execution_count": 146,
   "id": "705f3733",
   "metadata": {
    "ExecuteTime": {
     "end_time": "2021-08-14T18:00:30.292789Z",
     "start_time": "2021-08-14T18:00:03.317Z"
    }
   },
   "outputs": [
    {
     "name": "stdout",
     "output_type": "stream",
     "text": [
      "enter how many numbers: 5\n",
      "enter the number: 35\n",
      "enter the number: 76\n",
      "enter the number: 45\n",
      "enter the number: 34\n",
      "enter the number: 77\n",
      "the largest number is: 77\n"
     ]
    }
   ],
   "source": [
    "n = int(input(\"enter how many numbers: \"))\n",
    "large = 0\n",
    "for i in range(n):\n",
    "    num = int(input(\"enter the number: \"))\n",
    "    if(num > large):\n",
    "        large = num\n",
    "else:\n",
    "    print(\"the largest number is:\", large)"
   ]
  },
  {
   "cell_type": "markdown",
   "id": "36127454",
   "metadata": {},
   "source": [
    "# frtom a list print second largest numuber"
   ]
  },
  {
   "cell_type": "code",
   "execution_count": 147,
   "id": "aafb4968",
   "metadata": {
    "ExecuteTime": {
     "end_time": "2021-08-14T18:00:30.295239Z",
     "start_time": "2021-08-14T18:00:03.331Z"
    }
   },
   "outputs": [
    {
     "name": "stdout",
     "output_type": "stream",
     "text": [
      "enter the number of elements: 4\n",
      "enter the number: 45\n",
      "enter the number: 76\n",
      "enter the number: 42\n",
      "enter the number: 89\n",
      "first largest is= 89 \n",
      "second largest= 76\n"
     ]
    }
   ],
   "source": [
    "n = int(input(\"enter the number of elements: \"))\n",
    "fl = sl = None  # also can take 0 in place of\n",
    "for i in range(n):\n",
    "    num = int(input(\"enter the number: \"))\n",
    "    if(fl == None):  # also can take 0 in place of\n",
    "        fl = num\n",
    "    elif(num > fl):\n",
    "        sl = fl\n",
    "        fl = num\n",
    "    elif(num < fl):\n",
    "        if(sl == None):  # also can take 0 in place of\n",
    "            sl = num\n",
    "        elif(num > sl):\n",
    "            sl = num\n",
    "else:\n",
    "    if(sl == None):  # also can take 0 in place of2\n",
    "\n",
    "        sl = fl\n",
    "    print(\"first largest is=\", fl, \"\\nsecond largest=\", sl)"
   ]
  },
  {
   "cell_type": "markdown",
   "id": "2f650a2a",
   "metadata": {},
   "source": [
    "# find which number are palindrom or which not"
   ]
  },
  {
   "cell_type": "code",
   "execution_count": 148,
   "id": "70505b75",
   "metadata": {
    "ExecuteTime": {
     "end_time": "2021-08-14T18:00:30.297846Z",
     "start_time": "2021-08-14T18:00:03.344Z"
    }
   },
   "outputs": [
    {
     "name": "stdout",
     "output_type": "stream",
     "text": [
      "enter the number: 45\n",
      "not palindrome!!!!!!\n",
      "not palindrome!!!!!!\n",
      "it is palindrome\n"
     ]
    }
   ],
   "source": [
    "n = input(\"enter the number: \")\n",
    "for i in range((len(n)//2)+1):\n",
    "    if(n[i] == n[-i-1]):\n",
    "        continue\n",
    "    else:\n",
    "        print(\"not palindrome!!!!!!\")\n",
    "else:\n",
    "    print(\"it is palindrome\")"
   ]
  },
  {
   "cell_type": "markdown",
   "id": "fbb8ff0d",
   "metadata": {},
   "source": [
    "# write a program to read an integer and determine number of digits, and print y integer with tens place as number of digit in x and ones place as most significant digit in x"
   ]
  },
  {
   "cell_type": "code",
   "execution_count": 149,
   "id": "b68172be",
   "metadata": {
    "ExecuteTime": {
     "end_time": "2021-08-14T18:00:30.300444Z",
     "start_time": "2021-08-14T18:00:03.357Z"
    }
   },
   "outputs": [
    {
     "name": "stdout",
     "output_type": "stream",
     "text": [
      "enter tjhe number: 56\n",
      "y= 25\n"
     ]
    }
   ],
   "source": [
    "n = input(\"enter tjhe number: \")\n",
    "print(\"y= \", len(n), n[0], sep='')"
   ]
  },
  {
   "cell_type": "markdown",
   "id": "63056a3b",
   "metadata": {},
   "source": [
    "# program to prin digit between 1 to n divisible by m and check that the divisible digit even or odd"
   ]
  },
  {
   "cell_type": "code",
   "execution_count": 150,
   "id": "d85c2883",
   "metadata": {
    "ExecuteTime": {
     "end_time": "2021-08-14T18:00:30.302966Z",
     "start_time": "2021-08-14T18:00:03.371Z"
    }
   },
   "outputs": [
    {
     "name": "stdout",
     "output_type": "stream",
     "text": [
      "enter the number of terms: 5\n",
      "enter the digit to check for divisible: 35\n"
     ]
    }
   ],
   "source": [
    "n = int(input(\"enter the number of terms: \"))\n",
    "m = int(input(\"enter the digit to check for divisible: \"))\n",
    "for i in range(1, n+1):\n",
    "    if(i % m == 0 and i % 2 == 0):\n",
    "        print(i, \"is divisible by\", m, \"and it is evevn\")\n",
    "    elif(i % m == 0):\n",
    "        print(i, \"is divisible by\", m, \"and it is odd\")"
   ]
  },
  {
   "cell_type": "markdown",
   "id": "63c53418",
   "metadata": {},
   "source": [
    "# program to sum the sequence till n\n",
    "\n",
    "## seq1>\n",
    "\n",
    "            (2/9)-(5/13)+(8/17)+............\n",
    "    \n",
    "## seq2>\n",
    "\n",
    "            (1^2)+(3^2)+(5^2)+.............."
   ]
  },
  {
   "cell_type": "code",
   "execution_count": 151,
   "id": "cac3da1f",
   "metadata": {
    "ExecuteTime": {
     "end_time": "2021-08-14T18:00:30.305612Z",
     "start_time": "2021-08-14T18:00:03.384Z"
    }
   },
   "outputs": [
    {
     "name": "stdout",
     "output_type": "stream",
     "text": [
      "enter the number of terms: 4\n",
      "the result is: -0.21561445090856862\n"
     ]
    }
   ],
   "source": [
    "# sequence 1\n",
    "\n",
    "n = int(input(\"enter the number of terms: \"))\n",
    "\n",
    "res = 0\n",
    "for i in range(n):\n",
    "    res += (((-1)**i)*((2+(i*3))/(9+(i*4))))\n",
    "else:\n",
    "    print(\"the result is:\", res)"
   ]
  },
  {
   "cell_type": "code",
   "execution_count": 152,
   "id": "688f9b2d",
   "metadata": {
    "ExecuteTime": {
     "end_time": "2021-08-14T18:00:30.308187Z",
     "start_time": "2021-08-14T18:00:03.393Z"
    }
   },
   "outputs": [
    {
     "name": "stdout",
     "output_type": "stream",
     "text": [
      "enter the number of terms: 5\n",
      "the result is:  55\n"
     ]
    }
   ],
   "source": [
    "# sequence 2\n",
    "\n",
    "n = int(input(\"enter the number of terms: \"))\n",
    "s = 0\n",
    "for i in range(1, n+1):\n",
    "    s += i**2\n",
    "else:\n",
    "    print(\"the result is: \", s)"
   ]
  },
  {
   "cell_type": "markdown",
   "id": "b68e5b6d",
   "metadata": {},
   "source": [
    "# program to sum the sequence\n",
    "\n",
    "        1+(1/1!)+(1/2!)+(1/3!)+.......+(1/n!)"
   ]
  },
  {
   "cell_type": "code",
   "execution_count": 153,
   "id": "a2cec6fb",
   "metadata": {
    "ExecuteTime": {
     "end_time": "2021-08-14T18:00:30.310332Z",
     "start_time": "2021-08-14T18:00:03.406Z"
    }
   },
   "outputs": [
    {
     "name": "stdout",
     "output_type": "stream",
     "text": [
      "enter the number of terms: 5\n",
      "the result is: 2.7166666666666663\n"
     ]
    }
   ],
   "source": [
    "n = int(input(\"enter the number of terms: \"))\n",
    "s = 1\n",
    "for i in range(1, n+1):\n",
    "    fact = 1\n",
    "    for j in range(1, i+1):\n",
    "        fact *= j\n",
    "    s += fact**(-1)\n",
    "\n",
    "else:\n",
    "    print(\"the result is:\", s)"
   ]
  },
  {
   "cell_type": "markdown",
   "id": "e92f835d",
   "metadata": {},
   "source": [
    "# accept age of n employee and count employee in age group:\n",
    "    \n",
    "## 1. 26-35\n",
    "\n",
    "## 2. 36-45\n",
    "\n",
    "## 3.46-55"
   ]
  },
  {
   "cell_type": "code",
   "execution_count": 154,
   "id": "3f6767e9",
   "metadata": {
    "ExecuteTime": {
     "end_time": "2021-08-14T18:00:30.312963Z",
     "start_time": "2021-08-14T18:00:03.419Z"
    }
   },
   "outputs": [
    {
     "name": "stdout",
     "output_type": "stream",
     "text": [
      "enter the number of employees: 5\n",
      "enter the age: 45\n",
      "enter the age: 67\n",
      "enter the age: 47\n",
      "enter the age: 56\n",
      "enter the age: 54\n",
      "the count of age is: \n",
      "26-35: 0 \n",
      "36-45: 3 \n",
      "46-55: 2\n"
     ]
    }
   ],
   "source": [
    "n = int(input(\"enter the number of employees: \"))\n",
    "ag1 = ag2 = ag3 = 0\n",
    "for i in range(n):\n",
    "    age = int(input(\"enter the age: \"))\n",
    "    if(age > 45 and age < 56):\n",
    "        ag3 += 1\n",
    "    elif(age > 35):\n",
    "        ag2 += 1\n",
    "    elif(age > 25):\n",
    "        ag1 += 1\n",
    "    else:\n",
    "        print(\"enter the valid age...\")\n",
    "        break\n",
    "else:\n",
    "    print(\"the count of age is: \\n26-35:\", ag1,\n",
    "          \"\\n36-45:\", ag2, \"\\n46-55:\", ag3)"
   ]
  },
  {
   "cell_type": "markdown",
   "id": "2a0bd334",
   "metadata": {},
   "source": [
    "# program to find sum of the series\n",
    "\n",
    "## series1:\n",
    "\n",
    "                x-((x^2)/2!)+((x^3)/3!)-((x^4)/4!).......upto n\n",
    "    \n",
    "## series2:\n",
    "\n",
    "                x+((x^2)/2!)+((x^3)/3!)+((x^4)/4!).......upto n"
   ]
  },
  {
   "cell_type": "code",
   "execution_count": 155,
   "id": "7b2fdce8",
   "metadata": {
    "ExecuteTime": {
     "end_time": "2021-08-14T18:00:30.315735Z",
     "start_time": "2021-08-14T18:00:03.432Z"
    }
   },
   "outputs": [
    {
     "name": "stdout",
     "output_type": "stream",
     "text": [
      "enter the number of terms: 4\n",
      "enter the value of x: 56\n",
      "the result is: -382013.3333333334\n"
     ]
    }
   ],
   "source": [
    "# series 1\n",
    "\n",
    "n = int(input(\"enter the number of terms: \"))\n",
    "x = float(input(\"enter the value of x: \"))\n",
    "res = 0\n",
    "for i in range(1, n+1):\n",
    "    fact = 1\n",
    "    for j in range(1, i+1):\n",
    "        fact *= j\n",
    "    res = res+(((-1)**(i-1))*((x**i)/fact))\n",
    "else:\n",
    "    print(\"the result is:\", res)"
   ]
  },
  {
   "cell_type": "code",
   "execution_count": 156,
   "id": "a19e37d9",
   "metadata": {
    "ExecuteTime": {
     "end_time": "2021-08-14T18:00:30.318508Z",
     "start_time": "2021-08-14T18:00:03.442Z"
    }
   },
   "outputs": [
    {
     "name": "stdout",
     "output_type": "stream",
     "text": [
      "enter the number of terms: 5\n",
      "enter the value of x: 67\n",
      "the result is: 12143111.266666668\n"
     ]
    }
   ],
   "source": [
    "# series 2\n",
    "\n",
    "n = int(input(\"enter the number of terms: \"))\n",
    "x = float(input(\"enter the value of x: \"))\n",
    "res = 0\n",
    "for i in range(1, n+1):\n",
    "    fact = 1\n",
    "    for j in range(1, i+1):\n",
    "        fact *= j\n",
    "    res = res+((x**i)/fact)\n",
    "else:\n",
    "    print(\"the result is:\", res)"
   ]
  },
  {
   "cell_type": "markdown",
   "id": "4094fe3b",
   "metadata": {},
   "source": [
    "# program to print\n",
    "\n",
    "## 1. \n",
    "\n",
    "                    *\n",
    "                   * *\n",
    "                  * * *\n",
    "                   * *\n",
    "                    *\n",
    "                    \n",
    "                    "
   ]
  },
  {
   "cell_type": "code",
   "execution_count": null,
   "id": "a69d5813",
   "metadata": {},
   "outputs": [],
   "source": []
  },
  {
   "cell_type": "markdown",
   "id": "913586ee",
   "metadata": {},
   "source": [
    "#                    \n",
    "## 2.\n",
    "\n",
    "                    *\n",
    "                    * *\n",
    "                    * * *\n",
    "                    * *\n",
    "                    *\n",
    "                    \n",
    "## 3.\n",
    "\n",
    "\n",
    "                    *\n",
    "                   * *\n",
    "                  *   *\n",
    "                   * *\n",
    "                    *\n",
    "\n",
    "## 4.\n",
    "\n",
    "                    *\n",
    "                    * *\n",
    "                    *   *\n",
    "                    *     *\n",
    "                    *   *\n",
    "                    * *\n",
    "                    *"
   ]
  },
  {
   "cell_type": "code",
   "execution_count": 158,
   "id": "3ef6aed6",
   "metadata": {
    "ExecuteTime": {
     "end_time": "2021-08-14T18:00:30.323747Z",
     "start_time": "2021-08-14T18:00:03.464Z"
    },
    "scrolled": true
   },
   "outputs": [
    {
     "name": "stdout",
     "output_type": "stream",
     "text": [
      "127744 = 🌀\n",
      "127745 = 🌁\n",
      "127746 = 🌂\n",
      "127747 = 🌃\n",
      "127748 = 🌄\n",
      "127749 = 🌅\n",
      "127750 = 🌆\n",
      "127751 = 🌇\n",
      "127752 = 🌈\n",
      "127753 = 🌉\n",
      "127754 = 🌊\n",
      "127755 = 🌋\n",
      "127756 = 🌌\n",
      "127757 = 🌍\n",
      "127758 = 🌎\n",
      "127759 = 🌏\n",
      "127760 = 🌐\n",
      "127761 = 🌑\n",
      "127762 = 🌒\n",
      "127763 = 🌓\n",
      "127764 = 🌔\n",
      "127765 = 🌕\n",
      "127766 = 🌖\n",
      "127767 = 🌗\n",
      "127768 = 🌘\n",
      "127769 = 🌙\n",
      "127770 = 🌚\n",
      "127771 = 🌛\n",
      "127772 = 🌜\n",
      "127773 = 🌝\n",
      "127774 = 🌞\n",
      "127775 = 🌟\n",
      "127776 = 🌠\n",
      "127777 = 🌡\n",
      "127778 = 🌢\n",
      "127779 = 🌣\n",
      "127780 = 🌤\n",
      "127781 = 🌥\n",
      "127782 = 🌦\n",
      "127783 = 🌧\n",
      "127784 = 🌨\n",
      "127785 = 🌩\n",
      "127786 = 🌪\n",
      "127787 = 🌫\n",
      "127788 = 🌬\n",
      "127789 = 🌭\n",
      "127790 = 🌮\n",
      "127791 = 🌯\n",
      "127792 = 🌰\n",
      "127793 = 🌱\n",
      "127794 = 🌲\n",
      "127795 = 🌳\n",
      "127796 = 🌴\n",
      "127797 = 🌵\n",
      "127798 = 🌶\n",
      "127799 = 🌷\n",
      "127800 = 🌸\n",
      "127801 = 🌹\n",
      "127802 = 🌺\n",
      "127803 = 🌻\n",
      "127804 = 🌼\n",
      "127805 = 🌽\n",
      "127806 = 🌾\n",
      "127807 = 🌿\n",
      "127808 = 🍀\n",
      "127809 = 🍁\n",
      "127810 = 🍂\n",
      "127811 = 🍃\n",
      "127812 = 🍄\n",
      "127813 = 🍅\n",
      "127814 = 🍆\n",
      "127815 = 🍇\n",
      "127816 = 🍈\n",
      "127817 = 🍉\n",
      "127818 = 🍊\n",
      "127819 = 🍋\n",
      "127820 = 🍌\n",
      "127821 = 🍍\n",
      "127822 = 🍎\n",
      "127823 = 🍏\n",
      "127824 = 🍐\n",
      "127825 = 🍑\n",
      "127826 = 🍒\n",
      "127827 = 🍓\n",
      "127828 = 🍔\n",
      "127829 = 🍕\n",
      "127830 = 🍖\n",
      "127831 = 🍗\n",
      "127832 = 🍘\n",
      "127833 = 🍙\n",
      "127834 = 🍚\n",
      "127835 = 🍛\n",
      "127836 = 🍜\n",
      "127837 = 🍝\n",
      "127838 = 🍞\n",
      "127839 = 🍟\n",
      "127840 = 🍠\n",
      "127841 = 🍡\n",
      "127842 = 🍢\n",
      "127843 = 🍣\n",
      "127844 = 🍤\n",
      "127845 = 🍥\n",
      "127846 = 🍦\n",
      "127847 = 🍧\n",
      "127848 = 🍨\n",
      "127849 = 🍩\n",
      "127850 = 🍪\n",
      "127851 = 🍫\n",
      "127852 = 🍬\n",
      "127853 = 🍭\n",
      "127854 = 🍮\n",
      "127855 = 🍯\n",
      "127856 = 🍰\n",
      "127857 = 🍱\n",
      "127858 = 🍲\n",
      "127859 = 🍳\n",
      "127860 = 🍴\n",
      "127861 = 🍵\n",
      "127862 = 🍶\n",
      "127863 = 🍷\n",
      "127864 = 🍸\n",
      "127865 = 🍹\n",
      "127866 = 🍺\n",
      "127867 = 🍻\n",
      "127868 = 🍼\n",
      "127869 = 🍽\n",
      "127870 = 🍾\n",
      "127871 = 🍿\n",
      "127872 = 🎀\n",
      "127873 = 🎁\n",
      "127874 = 🎂\n",
      "127875 = 🎃\n",
      "127876 = 🎄\n",
      "127877 = 🎅\n",
      "127878 = 🎆\n",
      "127879 = 🎇\n",
      "127880 = 🎈\n",
      "127881 = 🎉\n",
      "127882 = 🎊\n",
      "127883 = 🎋\n",
      "127884 = 🎌\n",
      "127885 = 🎍\n",
      "127886 = 🎎\n",
      "127887 = 🎏\n",
      "127888 = 🎐\n",
      "127889 = 🎑\n",
      "127890 = 🎒\n",
      "127891 = 🎓\n",
      "127892 = 🎔\n",
      "127893 = 🎕\n",
      "127894 = 🎖\n",
      "127895 = 🎗\n",
      "127896 = 🎘\n",
      "127897 = 🎙\n",
      "127898 = 🎚\n",
      "127899 = 🎛\n",
      "127900 = 🎜\n",
      "127901 = 🎝\n",
      "127902 = 🎞\n",
      "127903 = 🎟\n",
      "127904 = 🎠\n",
      "127905 = 🎡\n",
      "127906 = 🎢\n",
      "127907 = 🎣\n",
      "127908 = 🎤\n",
      "127909 = 🎥\n",
      "127910 = 🎦\n",
      "127911 = 🎧\n",
      "127912 = 🎨\n",
      "127913 = 🎩\n",
      "127914 = 🎪\n",
      "127915 = 🎫\n",
      "127916 = 🎬\n",
      "127917 = 🎭\n",
      "127918 = 🎮\n",
      "127919 = 🎯\n",
      "127920 = 🎰\n",
      "127921 = 🎱\n",
      "127922 = 🎲\n",
      "127923 = 🎳\n",
      "127924 = 🎴\n",
      "127925 = 🎵\n",
      "127926 = 🎶\n",
      "127927 = 🎷\n",
      "127928 = 🎸\n",
      "127929 = 🎹\n",
      "127930 = 🎺\n",
      "127931 = 🎻\n",
      "127932 = 🎼\n",
      "127933 = 🎽\n",
      "127934 = 🎾\n",
      "127935 = 🎿\n",
      "127936 = 🏀\n",
      "127937 = 🏁\n",
      "127938 = 🏂\n",
      "127939 = 🏃\n",
      "127940 = 🏄\n",
      "127941 = 🏅\n",
      "127942 = 🏆\n",
      "127943 = 🏇\n",
      "127944 = 🏈\n",
      "127945 = 🏉\n",
      "127946 = 🏊\n",
      "127947 = 🏋\n",
      "127948 = 🏌\n",
      "127949 = 🏍\n",
      "127950 = 🏎\n",
      "127951 = 🏏\n",
      "127952 = 🏐\n",
      "127953 = 🏑\n",
      "127954 = 🏒\n",
      "127955 = 🏓\n",
      "127956 = 🏔\n",
      "127957 = 🏕\n",
      "127958 = 🏖\n",
      "127959 = 🏗\n",
      "127960 = 🏘\n",
      "127961 = 🏙\n",
      "127962 = 🏚\n",
      "127963 = 🏛\n",
      "127964 = 🏜\n",
      "127965 = 🏝\n",
      "127966 = 🏞\n",
      "127967 = 🏟\n",
      "127968 = 🏠\n",
      "127969 = 🏡\n",
      "127970 = 🏢\n",
      "127971 = 🏣\n",
      "127972 = 🏤\n",
      "127973 = 🏥\n",
      "127974 = 🏦\n",
      "127975 = 🏧\n",
      "127976 = 🏨\n",
      "127977 = 🏩\n",
      "127978 = 🏪\n",
      "127979 = 🏫\n",
      "127980 = 🏬\n",
      "127981 = 🏭\n",
      "127982 = 🏮\n",
      "127983 = 🏯\n",
      "127984 = 🏰\n",
      "127985 = 🏱\n",
      "127986 = 🏲\n",
      "127987 = 🏳\n",
      "127988 = 🏴\n",
      "127989 = 🏵\n",
      "127990 = 🏶\n",
      "127991 = 🏷\n",
      "127992 = 🏸\n",
      "127993 = 🏹\n",
      "127994 = 🏺\n",
      "127995 = 🏻\n",
      "127996 = 🏼\n",
      "127997 = 🏽\n",
      "127998 = 🏾\n",
      "127999 = 🏿\n",
      "128000 = 🐀\n",
      "128001 = 🐁\n",
      "128002 = 🐂\n",
      "128003 = 🐃\n",
      "128004 = 🐄\n",
      "128005 = 🐅\n",
      "128006 = 🐆\n",
      "128007 = 🐇\n",
      "128008 = 🐈\n",
      "128009 = 🐉\n",
      "128010 = 🐊\n",
      "128011 = 🐋\n",
      "128012 = 🐌\n",
      "128013 = 🐍\n",
      "128014 = 🐎\n",
      "128015 = 🐏\n",
      "128016 = 🐐\n",
      "128017 = 🐑\n",
      "128018 = 🐒\n",
      "128019 = 🐓\n",
      "128020 = 🐔\n",
      "128021 = 🐕\n",
      "128022 = 🐖\n",
      "128023 = 🐗\n",
      "128024 = 🐘\n",
      "128025 = 🐙\n",
      "128026 = 🐚\n",
      "128027 = 🐛\n",
      "128028 = 🐜\n",
      "128029 = 🐝\n",
      "128030 = 🐞\n",
      "128031 = 🐟\n",
      "128032 = 🐠\n",
      "128033 = 🐡\n",
      "128034 = 🐢\n",
      "128035 = 🐣\n",
      "128036 = 🐤\n",
      "128037 = 🐥\n",
      "128038 = 🐦\n",
      "128039 = 🐧\n",
      "128040 = 🐨\n",
      "128041 = 🐩\n",
      "128042 = 🐪\n",
      "128043 = 🐫\n",
      "128044 = 🐬\n",
      "128045 = 🐭\n",
      "128046 = 🐮\n",
      "128047 = 🐯\n",
      "128048 = 🐰\n",
      "128049 = 🐱\n",
      "128050 = 🐲\n",
      "128051 = 🐳\n",
      "128052 = 🐴\n",
      "128053 = 🐵\n",
      "128054 = 🐶\n",
      "128055 = 🐷\n",
      "128056 = 🐸\n",
      "128057 = 🐹\n",
      "128058 = 🐺\n",
      "128059 = 🐻\n",
      "128060 = 🐼\n",
      "128061 = 🐽\n",
      "128062 = 🐾\n",
      "128063 = 🐿\n",
      "128064 = 👀\n",
      "128065 = 👁\n",
      "128066 = 👂\n",
      "128067 = 👃\n",
      "128068 = 👄\n",
      "128069 = 👅\n",
      "128070 = 👆\n",
      "128071 = 👇\n",
      "128072 = 👈\n",
      "128073 = 👉\n",
      "128074 = 👊\n",
      "128075 = 👋\n",
      "128076 = 👌\n",
      "128077 = 👍\n",
      "128078 = 👎\n",
      "128079 = 👏\n",
      "128080 = 👐\n",
      "128081 = 👑\n",
      "128082 = 👒\n",
      "128083 = 👓\n",
      "128084 = 👔\n",
      "128085 = 👕\n",
      "128086 = 👖\n",
      "128087 = 👗\n",
      "128088 = 👘\n",
      "128089 = 👙\n",
      "128090 = 👚\n",
      "128091 = 👛\n",
      "128092 = 👜\n",
      "128093 = 👝\n",
      "128094 = 👞\n",
      "128095 = 👟\n",
      "128096 = 👠\n",
      "128097 = 👡\n",
      "128098 = 👢\n",
      "128099 = 👣\n",
      "128100 = 👤\n",
      "128101 = 👥\n",
      "128102 = 👦\n",
      "128103 = 👧\n",
      "128104 = 👨\n",
      "128105 = 👩\n",
      "128106 = 👪\n",
      "128107 = 👫\n",
      "128108 = 👬\n",
      "128109 = 👭\n",
      "128110 = 👮\n",
      "128111 = 👯\n",
      "128112 = 👰\n",
      "128113 = 👱\n",
      "128114 = 👲\n",
      "128115 = 👳\n",
      "128116 = 👴\n",
      "128117 = 👵\n",
      "128118 = 👶\n",
      "128119 = 👷\n",
      "128120 = 👸\n",
      "128121 = 👹\n",
      "128122 = 👺\n",
      "128123 = 👻\n",
      "128124 = 👼\n",
      "128125 = 👽\n",
      "128126 = 👾\n",
      "128127 = 👿\n",
      "128128 = 💀\n",
      "128129 = 💁\n",
      "128130 = 💂\n",
      "128131 = 💃\n",
      "128132 = 💄\n",
      "128133 = 💅\n",
      "128134 = 💆\n",
      "128135 = 💇\n",
      "128136 = 💈\n",
      "128137 = 💉\n",
      "128138 = 💊\n",
      "128139 = 💋\n",
      "128140 = 💌\n",
      "128141 = 💍\n",
      "128142 = 💎\n",
      "128143 = 💏\n",
      "128144 = 💐\n",
      "128145 = 💑\n",
      "128146 = 💒\n",
      "128147 = 💓\n",
      "128148 = 💔\n",
      "128149 = 💕\n",
      "128150 = 💖\n",
      "128151 = 💗\n",
      "128152 = 💘\n",
      "128153 = 💙\n",
      "128154 = 💚\n",
      "128155 = 💛\n",
      "128156 = 💜\n",
      "128157 = 💝\n",
      "128158 = 💞\n",
      "128159 = 💟\n",
      "128160 = 💠\n",
      "128161 = 💡\n",
      "128162 = 💢\n",
      "128163 = 💣\n",
      "128164 = 💤\n",
      "128165 = 💥\n",
      "128166 = 💦\n",
      "128167 = 💧\n",
      "128168 = 💨\n",
      "128169 = 💩\n",
      "128170 = 💪\n",
      "128171 = 💫\n",
      "128172 = 💬\n",
      "128173 = 💭\n",
      "128174 = 💮\n",
      "128175 = 💯\n",
      "128176 = 💰\n",
      "128177 = 💱\n",
      "128178 = 💲\n",
      "128179 = 💳\n",
      "128180 = 💴\n",
      "128181 = 💵\n",
      "128182 = 💶\n",
      "128183 = 💷\n",
      "128184 = 💸\n",
      "128185 = 💹\n",
      "128186 = 💺\n",
      "128187 = 💻\n",
      "128188 = 💼\n",
      "128189 = 💽\n",
      "128190 = 💾\n",
      "128191 = 💿\n",
      "128192 = 📀\n",
      "128193 = 📁\n",
      "128194 = 📂\n",
      "128195 = 📃\n",
      "128196 = 📄\n",
      "128197 = 📅\n",
      "128198 = 📆\n",
      "128199 = 📇\n",
      "128200 = 📈\n",
      "128201 = 📉\n",
      "128202 = 📊\n",
      "128203 = 📋\n",
      "128204 = 📌\n",
      "128205 = 📍\n",
      "128206 = 📎\n",
      "128207 = 📏\n",
      "128208 = 📐\n",
      "128209 = 📑\n",
      "128210 = 📒\n",
      "128211 = 📓\n",
      "128212 = 📔\n",
      "128213 = 📕\n",
      "128214 = 📖\n",
      "128215 = 📗\n",
      "128216 = 📘\n",
      "128217 = 📙\n",
      "128218 = 📚\n",
      "128219 = 📛\n",
      "128220 = 📜\n",
      "128221 = 📝\n",
      "128222 = 📞\n",
      "128223 = 📟\n",
      "128224 = 📠\n",
      "128225 = 📡\n",
      "128226 = 📢\n",
      "128227 = 📣\n",
      "128228 = 📤\n",
      "128229 = 📥\n",
      "128230 = 📦\n",
      "128231 = 📧\n",
      "128232 = 📨\n",
      "128233 = 📩\n",
      "128234 = 📪\n",
      "128235 = 📫\n",
      "128236 = 📬\n",
      "128237 = 📭\n",
      "128238 = 📮\n",
      "128239 = 📯\n",
      "128240 = 📰\n",
      "128241 = 📱\n",
      "128242 = 📲\n",
      "128243 = 📳\n",
      "128244 = 📴\n",
      "128245 = 📵\n",
      "128246 = 📶\n",
      "128247 = 📷\n",
      "128248 = 📸\n",
      "128249 = 📹\n",
      "128250 = 📺\n",
      "128251 = 📻\n",
      "128252 = 📼\n",
      "128253 = 📽\n",
      "128254 = 📾\n",
      "128255 = 📿\n",
      "128256 = 🔀\n",
      "128257 = 🔁\n",
      "128258 = 🔂\n",
      "128259 = 🔃\n",
      "128260 = 🔄\n",
      "128261 = 🔅\n",
      "128262 = 🔆\n",
      "128263 = 🔇\n",
      "128264 = 🔈\n",
      "128265 = 🔉\n",
      "128266 = 🔊\n",
      "128267 = 🔋\n",
      "128268 = 🔌\n",
      "128269 = 🔍\n",
      "128270 = 🔎\n",
      "128271 = 🔏\n",
      "128272 = 🔐\n",
      "128273 = 🔑\n",
      "128274 = 🔒\n",
      "128275 = 🔓\n",
      "128276 = 🔔\n",
      "128277 = 🔕\n",
      "128278 = 🔖\n",
      "128279 = 🔗\n",
      "128280 = 🔘\n",
      "128281 = 🔙\n",
      "128282 = 🔚\n",
      "128283 = 🔛\n",
      "128284 = 🔜\n",
      "128285 = 🔝\n",
      "128286 = 🔞\n",
      "128287 = 🔟\n",
      "128288 = 🔠\n",
      "128289 = 🔡\n",
      "128290 = 🔢\n",
      "128291 = 🔣\n",
      "128292 = 🔤\n",
      "128293 = 🔥\n",
      "128294 = 🔦\n",
      "128295 = 🔧\n",
      "128296 = 🔨\n",
      "128297 = 🔩\n",
      "128298 = 🔪\n",
      "128299 = 🔫\n",
      "128300 = 🔬\n",
      "128301 = 🔭\n",
      "128302 = 🔮\n",
      "128303 = 🔯\n",
      "128304 = 🔰\n",
      "128305 = 🔱\n",
      "128306 = 🔲\n",
      "128307 = 🔳\n",
      "128308 = 🔴\n",
      "128309 = 🔵\n",
      "128310 = 🔶\n",
      "128311 = 🔷\n",
      "128312 = 🔸\n",
      "128313 = 🔹\n",
      "128314 = 🔺\n",
      "128315 = 🔻\n",
      "128316 = 🔼\n",
      "128317 = 🔽\n",
      "128318 = 🔾\n",
      "128319 = 🔿\n",
      "128320 = 🕀\n",
      "128321 = 🕁\n",
      "128322 = 🕂\n",
      "128323 = 🕃\n",
      "128324 = 🕄\n",
      "128325 = 🕅\n",
      "128326 = 🕆\n",
      "128327 = 🕇\n",
      "128328 = 🕈\n",
      "128329 = 🕉\n",
      "128330 = 🕊\n",
      "128331 = 🕋\n",
      "128332 = 🕌\n",
      "128333 = 🕍\n",
      "128334 = 🕎\n",
      "128335 = 🕏\n",
      "128336 = 🕐\n",
      "128337 = 🕑\n",
      "128338 = 🕒\n",
      "128339 = 🕓\n",
      "128340 = 🕔\n",
      "128341 = 🕕\n",
      "128342 = 🕖\n",
      "128343 = 🕗\n",
      "128344 = 🕘\n",
      "128345 = 🕙\n",
      "128346 = 🕚\n",
      "128347 = 🕛\n",
      "128348 = 🕜\n",
      "128349 = 🕝\n",
      "128350 = 🕞\n",
      "128351 = 🕟\n",
      "128352 = 🕠\n",
      "128353 = 🕡\n",
      "128354 = 🕢\n",
      "128355 = 🕣\n",
      "128356 = 🕤\n",
      "128357 = 🕥\n",
      "128358 = 🕦\n",
      "128359 = 🕧\n",
      "128360 = 🕨\n",
      "128361 = 🕩\n",
      "128362 = 🕪\n",
      "128363 = 🕫\n",
      "128364 = 🕬\n",
      "128365 = 🕭\n",
      "128366 = 🕮\n",
      "128367 = 🕯\n",
      "128368 = 🕰\n",
      "128369 = 🕱\n",
      "128370 = 🕲\n",
      "128371 = 🕳\n",
      "128372 = 🕴\n",
      "128373 = 🕵\n",
      "128374 = 🕶\n",
      "128375 = 🕷\n",
      "128376 = 🕸\n",
      "128377 = 🕹\n",
      "128378 = 🕺\n",
      "128379 = 🕻\n",
      "128380 = 🕼\n",
      "128381 = 🕽\n",
      "128382 = 🕾\n",
      "128383 = 🕿\n",
      "128384 = 🖀\n",
      "128385 = 🖁\n",
      "128386 = 🖂\n",
      "128387 = 🖃\n",
      "128388 = 🖄\n",
      "128389 = 🖅\n",
      "128390 = 🖆\n",
      "128391 = 🖇\n",
      "128392 = 🖈\n",
      "128393 = 🖉\n",
      "128394 = 🖊\n",
      "128395 = 🖋\n",
      "128396 = 🖌\n",
      "128397 = 🖍\n",
      "128398 = 🖎\n",
      "128399 = 🖏\n",
      "128400 = 🖐\n",
      "128401 = 🖑\n",
      "128402 = 🖒\n",
      "128403 = 🖓\n",
      "128404 = 🖔\n",
      "128405 = 🖕\n",
      "128406 = 🖖\n",
      "128407 = 🖗\n",
      "128408 = 🖘\n",
      "128409 = 🖙\n",
      "128410 = 🖚\n",
      "128411 = 🖛\n",
      "128412 = 🖜\n",
      "128413 = 🖝\n",
      "128414 = 🖞\n",
      "128415 = 🖟\n",
      "128416 = 🖠\n",
      "128417 = 🖡\n",
      "128418 = 🖢\n",
      "128419 = 🖣\n",
      "128420 = 🖤\n",
      "128421 = 🖥\n",
      "128422 = 🖦\n",
      "128423 = 🖧\n",
      "128424 = 🖨\n",
      "128425 = 🖩\n",
      "128426 = 🖪\n",
      "128427 = 🖫\n",
      "128428 = 🖬\n",
      "128429 = 🖭\n",
      "128430 = 🖮\n",
      "128431 = 🖯\n",
      "128432 = 🖰\n",
      "128433 = 🖱\n",
      "128434 = 🖲\n",
      "128435 = 🖳\n",
      "128436 = 🖴\n",
      "128437 = 🖵\n",
      "128438 = 🖶\n",
      "128439 = 🖷\n",
      "128440 = 🖸\n",
      "128441 = 🖹\n",
      "128442 = 🖺\n",
      "128443 = 🖻\n",
      "128444 = 🖼\n",
      "128445 = 🖽\n",
      "128446 = 🖾\n",
      "128447 = 🖿\n",
      "128448 = 🗀\n",
      "128449 = 🗁\n",
      "128450 = 🗂\n",
      "128451 = 🗃\n",
      "128452 = 🗄\n",
      "128453 = 🗅\n",
      "128454 = 🗆\n",
      "128455 = 🗇\n",
      "128456 = 🗈\n",
      "128457 = 🗉\n",
      "128458 = 🗊\n",
      "128459 = 🗋\n",
      "128460 = 🗌\n",
      "128461 = 🗍\n",
      "128462 = 🗎\n",
      "128463 = 🗏\n",
      "128464 = 🗐\n",
      "128465 = 🗑\n",
      "128466 = 🗒\n",
      "128467 = 🗓\n",
      "128468 = 🗔\n",
      "128469 = 🗕\n",
      "128470 = 🗖\n",
      "128471 = 🗗\n",
      "128472 = 🗘\n",
      "128473 = 🗙\n",
      "128474 = 🗚\n",
      "128475 = 🗛\n",
      "128476 = 🗜\n",
      "128477 = 🗝\n",
      "128478 = 🗞\n",
      "128479 = 🗟\n",
      "128480 = 🗠\n",
      "128481 = 🗡\n",
      "128482 = 🗢\n",
      "128483 = 🗣\n",
      "128484 = 🗤\n",
      "128485 = 🗥\n",
      "128486 = 🗦\n",
      "128487 = 🗧\n",
      "128488 = 🗨\n",
      "128489 = 🗩\n",
      "128490 = 🗪\n",
      "128491 = 🗫\n",
      "128492 = 🗬\n",
      "128493 = 🗭\n",
      "128494 = 🗮\n",
      "128495 = 🗯\n",
      "128496 = 🗰\n",
      "128497 = 🗱\n",
      "128498 = 🗲\n",
      "128499 = 🗳\n",
      "128500 = 🗴\n",
      "128501 = 🗵\n",
      "128502 = 🗶\n",
      "128503 = 🗷\n",
      "128504 = 🗸\n",
      "128505 = 🗹\n",
      "128506 = 🗺\n",
      "128507 = 🗻\n",
      "128508 = 🗼\n",
      "128509 = 🗽\n",
      "128510 = 🗾\n",
      "128511 = 🗿\n",
      "128512 = 😀\n",
      "128513 = 😁\n",
      "128514 = 😂\n",
      "128515 = 😃\n",
      "128516 = 😄\n",
      "128517 = 😅\n",
      "128518 = 😆\n",
      "128519 = 😇\n",
      "128520 = 😈\n",
      "128521 = 😉\n",
      "128522 = 😊\n",
      "128523 = 😋\n",
      "128524 = 😌\n",
      "128525 = 😍\n",
      "128526 = 😎\n",
      "128527 = 😏\n",
      "128528 = 😐\n",
      "128529 = 😑\n",
      "128530 = 😒\n",
      "128531 = 😓\n",
      "128532 = 😔\n",
      "128533 = 😕\n",
      "128534 = 😖\n",
      "128535 = 😗\n",
      "128536 = 😘\n",
      "128537 = 😙\n",
      "128538 = 😚\n",
      "128539 = 😛\n",
      "128540 = 😜\n",
      "128541 = 😝\n",
      "128542 = 😞\n",
      "128543 = 😟\n",
      "128544 = 😠\n",
      "128545 = 😡\n",
      "128546 = 😢\n",
      "128547 = 😣\n",
      "128548 = 😤\n",
      "128549 = 😥\n",
      "128550 = 😦\n",
      "128551 = 😧\n",
      "128552 = 😨\n",
      "128553 = 😩\n",
      "128554 = 😪\n",
      "128555 = 😫\n",
      "128556 = 😬\n",
      "128557 = 😭\n",
      "128558 = 😮\n",
      "128559 = 😯\n",
      "128560 = 😰\n",
      "128561 = 😱\n",
      "128562 = 😲\n",
      "128563 = 😳\n",
      "128564 = 😴\n",
      "128565 = 😵\n",
      "128566 = 😶\n",
      "128567 = 😷\n",
      "128568 = 😸\n",
      "128569 = 😹\n",
      "128570 = 😺\n",
      "128571 = 😻\n",
      "128572 = 😼\n",
      "128573 = 😽\n",
      "128574 = 😾\n",
      "128575 = 😿\n",
      "128576 = 🙀\n",
      "128577 = 🙁\n",
      "128578 = 🙂\n",
      "128579 = 🙃\n",
      "128580 = 🙄\n",
      "128581 = 🙅\n",
      "128582 = 🙆\n",
      "128583 = 🙇\n",
      "128584 = 🙈\n",
      "128585 = 🙉\n",
      "128586 = 🙊\n",
      "128587 = 🙋\n",
      "128588 = 🙌\n",
      "128589 = 🙍\n",
      "128590 = 🙎\n",
      "128591 = 🙏\n",
      "128592 = 🙐\n",
      "128593 = 🙑\n",
      "128594 = 🙒\n",
      "128595 = 🙓\n",
      "128596 = 🙔\n",
      "128597 = 🙕\n",
      "128598 = 🙖\n",
      "128599 = 🙗\n",
      "128600 = 🙘\n",
      "128601 = 🙙\n",
      "128602 = 🙚\n",
      "128603 = 🙛\n",
      "128604 = 🙜\n",
      "128605 = 🙝\n",
      "128606 = 🙞\n",
      "128607 = 🙟\n",
      "128608 = 🙠\n",
      "128609 = 🙡\n",
      "128610 = 🙢\n",
      "128611 = 🙣\n",
      "128612 = 🙤\n",
      "128613 = 🙥\n",
      "128614 = 🙦\n",
      "128615 = 🙧\n",
      "128616 = 🙨\n",
      "128617 = 🙩\n",
      "128618 = 🙪\n",
      "128619 = 🙫\n",
      "128620 = 🙬\n",
      "128621 = 🙭\n",
      "128622 = 🙮\n",
      "128623 = 🙯\n",
      "128624 = 🙰\n",
      "128625 = 🙱\n",
      "128626 = 🙲\n",
      "128627 = 🙳\n",
      "128628 = 🙴\n",
      "128629 = 🙵\n",
      "128630 = 🙶\n",
      "128631 = 🙷\n",
      "128632 = 🙸\n",
      "128633 = 🙹\n",
      "128634 = 🙺\n",
      "128635 = 🙻\n",
      "128636 = 🙼\n",
      "128637 = 🙽\n",
      "128638 = 🙾\n",
      "128639 = 🙿\n",
      "128640 = 🚀\n",
      "128641 = 🚁\n",
      "128642 = 🚂\n",
      "128643 = 🚃\n",
      "128644 = 🚄\n",
      "128645 = 🚅\n",
      "128646 = 🚆\n",
      "128647 = 🚇\n",
      "128648 = 🚈\n",
      "128649 = 🚉\n",
      "128650 = 🚊\n",
      "128651 = 🚋\n",
      "128652 = 🚌\n",
      "128653 = 🚍\n",
      "128654 = 🚎\n",
      "128655 = 🚏\n",
      "128656 = 🚐\n",
      "128657 = 🚑\n",
      "128658 = 🚒\n",
      "128659 = 🚓\n",
      "128660 = 🚔\n",
      "128661 = 🚕\n",
      "128662 = 🚖\n",
      "128663 = 🚗\n",
      "128664 = 🚘\n",
      "128665 = 🚙\n",
      "128666 = 🚚\n",
      "128667 = 🚛\n",
      "128668 = 🚜\n",
      "128669 = 🚝\n",
      "128670 = 🚞\n",
      "128671 = 🚟\n",
      "128672 = 🚠\n",
      "128673 = 🚡\n",
      "128674 = 🚢\n",
      "128675 = 🚣\n"
     ]
    },
    {
     "name": "stdout",
     "output_type": "stream",
     "text": [
      "128676 = 🚤\n",
      "128677 = 🚥\n",
      "128678 = 🚦\n",
      "128679 = 🚧\n",
      "128680 = 🚨\n",
      "128681 = 🚩\n",
      "128682 = 🚪\n",
      "128683 = 🚫\n",
      "128684 = 🚬\n",
      "128685 = 🚭\n",
      "128686 = 🚮\n",
      "128687 = 🚯\n",
      "128688 = 🚰\n",
      "128689 = 🚱\n",
      "128690 = 🚲\n",
      "128691 = 🚳\n",
      "128692 = 🚴\n",
      "128693 = 🚵\n",
      "128694 = 🚶\n",
      "128695 = 🚷\n",
      "128696 = 🚸\n",
      "128697 = 🚹\n",
      "128698 = 🚺\n",
      "128699 = 🚻\n",
      "128700 = 🚼\n",
      "128701 = 🚽\n",
      "128702 = 🚾\n",
      "128703 = 🚿\n",
      "128704 = 🛀\n",
      "128705 = 🛁\n",
      "128706 = 🛂\n",
      "128707 = 🛃\n",
      "128708 = 🛄\n",
      "128709 = 🛅\n",
      "128710 = 🛆\n",
      "128711 = 🛇\n",
      "128712 = 🛈\n",
      "128713 = 🛉\n",
      "128714 = 🛊\n",
      "128715 = 🛋\n",
      "128716 = 🛌\n",
      "128717 = 🛍\n",
      "128718 = 🛎\n",
      "128719 = 🛏\n",
      "128720 = 🛐\n",
      "128721 = 🛑\n",
      "128722 = 🛒\n",
      "128723 = 🛓\n",
      "128724 = 🛔\n",
      "128725 = 🛕\n",
      "128726 = 🛖\n",
      "128727 = 🛗\n",
      "128728 = 🛘\n",
      "128729 = 🛙\n",
      "128730 = 🛚\n",
      "128731 = 🛛\n",
      "128732 = 🛜\n",
      "128733 = 🛝\n",
      "128734 = 🛞\n",
      "128735 = 🛟\n",
      "128736 = 🛠\n",
      "128737 = 🛡\n",
      "128738 = 🛢\n",
      "128739 = 🛣\n",
      "128740 = 🛤\n",
      "128741 = 🛥\n",
      "128742 = 🛦\n",
      "128743 = 🛧\n",
      "128744 = 🛨\n",
      "128745 = 🛩\n",
      "128746 = 🛪\n",
      "128747 = 🛫\n",
      "128748 = 🛬\n",
      "128749 = 🛭\n",
      "128750 = 🛮\n",
      "128751 = 🛯\n",
      "128752 = 🛰\n",
      "128753 = 🛱\n",
      "128754 = 🛲\n",
      "128755 = 🛳\n",
      "128756 = 🛴\n",
      "128757 = 🛵\n",
      "128758 = 🛶\n",
      "128759 = 🛷\n",
      "128760 = 🛸\n",
      "128761 = 🛹\n",
      "128762 = 🛺\n",
      "128763 = 🛻\n",
      "128764 = 🛼\n",
      "128765 = 🛽\n",
      "128766 = 🛾\n",
      "128767 = 🛿\n",
      "128768 = 🜀\n",
      "128769 = 🜁\n",
      "128770 = 🜂\n",
      "128771 = 🜃\n",
      "128772 = 🜄\n",
      "128773 = 🜅\n",
      "128774 = 🜆\n",
      "128775 = 🜇\n",
      "128776 = 🜈\n",
      "128777 = 🜉\n",
      "128778 = 🜊\n",
      "128779 = 🜋\n",
      "128780 = 🜌\n",
      "128781 = 🜍\n",
      "128782 = 🜎\n",
      "128783 = 🜏\n",
      "128784 = 🜐\n",
      "128785 = 🜑\n",
      "128786 = 🜒\n",
      "128787 = 🜓\n",
      "128788 = 🜔\n",
      "128789 = 🜕\n",
      "128790 = 🜖\n",
      "128791 = 🜗\n",
      "128792 = 🜘\n",
      "128793 = 🜙\n",
      "128794 = 🜚\n",
      "128795 = 🜛\n",
      "128796 = 🜜\n",
      "128797 = 🜝\n",
      "128798 = 🜞\n",
      "128799 = 🜟\n",
      "128800 = 🜠\n",
      "128801 = 🜡\n",
      "128802 = 🜢\n",
      "128803 = 🜣\n",
      "128804 = 🜤\n",
      "128805 = 🜥\n",
      "128806 = 🜦\n",
      "128807 = 🜧\n",
      "128808 = 🜨\n",
      "128809 = 🜩\n",
      "128810 = 🜪\n",
      "128811 = 🜫\n",
      "128812 = 🜬\n",
      "128813 = 🜭\n",
      "128814 = 🜮\n",
      "128815 = 🜯\n",
      "128816 = 🜰\n",
      "128817 = 🜱\n",
      "128818 = 🜲\n",
      "128819 = 🜳\n",
      "128820 = 🜴\n",
      "128821 = 🜵\n",
      "128822 = 🜶\n",
      "128823 = 🜷\n",
      "128824 = 🜸\n",
      "128825 = 🜹\n",
      "128826 = 🜺\n",
      "128827 = 🜻\n",
      "128828 = 🜼\n",
      "128829 = 🜽\n",
      "128830 = 🜾\n",
      "128831 = 🜿\n",
      "128832 = 🝀\n",
      "128833 = 🝁\n",
      "128834 = 🝂\n",
      "128835 = 🝃\n",
      "128836 = 🝄\n",
      "128837 = 🝅\n",
      "128838 = 🝆\n",
      "128839 = 🝇\n",
      "128840 = 🝈\n",
      "128841 = 🝉\n",
      "128842 = 🝊\n",
      "128843 = 🝋\n",
      "128844 = 🝌\n",
      "128845 = 🝍\n",
      "128846 = 🝎\n",
      "128847 = 🝏\n",
      "128848 = 🝐\n",
      "128849 = 🝑\n",
      "128850 = 🝒\n",
      "128851 = 🝓\n",
      "128852 = 🝔\n",
      "128853 = 🝕\n",
      "128854 = 🝖\n",
      "128855 = 🝗\n",
      "128856 = 🝘\n",
      "128857 = 🝙\n",
      "128858 = 🝚\n",
      "128859 = 🝛\n",
      "128860 = 🝜\n",
      "128861 = 🝝\n",
      "128862 = 🝞\n",
      "128863 = 🝟\n",
      "128864 = 🝠\n",
      "128865 = 🝡\n",
      "128866 = 🝢\n",
      "128867 = 🝣\n",
      "128868 = 🝤\n",
      "128869 = 🝥\n",
      "128870 = 🝦\n",
      "128871 = 🝧\n",
      "128872 = 🝨\n",
      "128873 = 🝩\n",
      "128874 = 🝪\n",
      "128875 = 🝫\n",
      "128876 = 🝬\n",
      "128877 = 🝭\n",
      "128878 = 🝮\n",
      "128879 = 🝯\n",
      "128880 = 🝰\n",
      "128881 = 🝱\n",
      "128882 = 🝲\n",
      "128883 = 🝳\n",
      "128884 = 🝴\n",
      "128885 = 🝵\n",
      "128886 = 🝶\n",
      "128887 = 🝷\n",
      "128888 = 🝸\n",
      "128889 = 🝹\n",
      "128890 = 🝺\n",
      "128891 = 🝻\n",
      "128892 = 🝼\n",
      "128893 = 🝽\n",
      "128894 = 🝾\n",
      "128895 = 🝿\n",
      "128896 = 🞀\n",
      "128897 = 🞁\n",
      "128898 = 🞂\n",
      "128899 = 🞃\n",
      "128900 = 🞄\n",
      "128901 = 🞅\n",
      "128902 = 🞆\n",
      "128903 = 🞇\n",
      "128904 = 🞈\n",
      "128905 = 🞉\n",
      "128906 = 🞊\n",
      "128907 = 🞋\n",
      "128908 = 🞌\n",
      "128909 = 🞍\n",
      "128910 = 🞎\n",
      "128911 = 🞏\n",
      "128912 = 🞐\n",
      "128913 = 🞑\n",
      "128914 = 🞒\n",
      "128915 = 🞓\n",
      "128916 = 🞔\n",
      "128917 = 🞕\n",
      "128918 = 🞖\n",
      "128919 = 🞗\n",
      "128920 = 🞘\n",
      "128921 = 🞙\n",
      "128922 = 🞚\n",
      "128923 = 🞛\n",
      "128924 = 🞜\n",
      "128925 = 🞝\n",
      "128926 = 🞞\n",
      "128927 = 🞟\n",
      "128928 = 🞠\n",
      "128929 = 🞡\n",
      "128930 = 🞢\n",
      "128931 = 🞣\n",
      "128932 = 🞤\n",
      "128933 = 🞥\n",
      "128934 = 🞦\n",
      "128935 = 🞧\n",
      "128936 = 🞨\n",
      "128937 = 🞩\n",
      "128938 = 🞪\n",
      "128939 = 🞫\n",
      "128940 = 🞬\n",
      "128941 = 🞭\n",
      "128942 = 🞮\n",
      "128943 = 🞯\n",
      "128944 = 🞰\n",
      "128945 = 🞱\n",
      "128946 = 🞲\n",
      "128947 = 🞳\n",
      "128948 = 🞴\n",
      "128949 = 🞵\n",
      "128950 = 🞶\n",
      "128951 = 🞷\n",
      "128952 = 🞸\n",
      "128953 = 🞹\n",
      "128954 = 🞺\n",
      "128955 = 🞻\n",
      "128956 = 🞼\n",
      "128957 = 🞽\n",
      "128958 = 🞾\n",
      "128959 = 🞿\n",
      "128960 = 🟀\n",
      "128961 = 🟁\n",
      "128962 = 🟂\n",
      "128963 = 🟃\n",
      "128964 = 🟄\n",
      "128965 = 🟅\n",
      "128966 = 🟆\n",
      "128967 = 🟇\n",
      "128968 = 🟈\n",
      "128969 = 🟉\n",
      "128970 = 🟊\n",
      "128971 = 🟋\n",
      "128972 = 🟌\n",
      "128973 = 🟍\n",
      "128974 = 🟎\n",
      "128975 = 🟏\n",
      "128976 = 🟐\n",
      "128977 = 🟑\n",
      "128978 = 🟒\n",
      "128979 = 🟓\n",
      "128980 = 🟔\n",
      "128981 = 🟕\n",
      "128982 = 🟖\n",
      "128983 = 🟗\n",
      "128984 = 🟘\n",
      "128985 = 🟙\n",
      "128986 = 🟚\n",
      "128987 = 🟛\n",
      "128988 = 🟜\n",
      "128989 = 🟝\n",
      "128990 = 🟞\n",
      "128991 = 🟟\n",
      "128992 = 🟠\n",
      "128993 = 🟡\n",
      "128994 = 🟢\n",
      "128995 = 🟣\n",
      "128996 = 🟤\n",
      "128997 = 🟥\n",
      "128998 = 🟦\n",
      "128999 = 🟧\n",
      "129000 = 🟨\n",
      "129001 = 🟩\n",
      "129002 = 🟪\n",
      "129003 = 🟫\n",
      "129004 = 🟬\n",
      "129005 = 🟭\n",
      "129006 = 🟮\n",
      "129007 = 🟯\n",
      "129008 = 🟰\n",
      "129009 = 🟱\n",
      "129010 = 🟲\n",
      "129011 = 🟳\n",
      "129012 = 🟴\n",
      "129013 = 🟵\n",
      "129014 = 🟶\n",
      "129015 = 🟷\n",
      "129016 = 🟸\n",
      "129017 = 🟹\n",
      "129018 = 🟺\n",
      "129019 = 🟻\n",
      "129020 = 🟼\n",
      "129021 = 🟽\n",
      "129022 = 🟾\n",
      "129023 = 🟿\n",
      "129024 = 🠀\n",
      "129025 = 🠁\n",
      "129026 = 🠂\n",
      "129027 = 🠃\n",
      "129028 = 🠄\n",
      "129029 = 🠅\n",
      "129030 = 🠆\n",
      "129031 = 🠇\n",
      "129032 = 🠈\n",
      "129033 = 🠉\n",
      "129034 = 🠊\n",
      "129035 = 🠋\n",
      "129036 = 🠌\n",
      "129037 = 🠍\n",
      "129038 = 🠎\n",
      "129039 = 🠏\n",
      "129040 = 🠐\n",
      "129041 = 🠑\n",
      "129042 = 🠒\n",
      "129043 = 🠓\n",
      "129044 = 🠔\n",
      "129045 = 🠕\n",
      "129046 = 🠖\n",
      "129047 = 🠗\n",
      "129048 = 🠘\n",
      "129049 = 🠙\n",
      "129050 = 🠚\n",
      "129051 = 🠛\n",
      "129052 = 🠜\n",
      "129053 = 🠝\n",
      "129054 = 🠞\n",
      "129055 = 🠟\n",
      "129056 = 🠠\n",
      "129057 = 🠡\n",
      "129058 = 🠢\n",
      "129059 = 🠣\n",
      "129060 = 🠤\n",
      "129061 = 🠥\n",
      "129062 = 🠦\n",
      "129063 = 🠧\n",
      "129064 = 🠨\n",
      "129065 = 🠩\n",
      "129066 = 🠪\n",
      "129067 = 🠫\n",
      "129068 = 🠬\n",
      "129069 = 🠭\n",
      "129070 = 🠮\n",
      "129071 = 🠯\n",
      "129072 = 🠰\n",
      "129073 = 🠱\n",
      "129074 = 🠲\n",
      "129075 = 🠳\n",
      "129076 = 🠴\n",
      "129077 = 🠵\n",
      "129078 = 🠶\n",
      "129079 = 🠷\n",
      "129080 = 🠸\n",
      "129081 = 🠹\n",
      "129082 = 🠺\n",
      "129083 = 🠻\n",
      "129084 = 🠼\n",
      "129085 = 🠽\n",
      "129086 = 🠾\n",
      "129087 = 🠿\n",
      "129088 = 🡀\n",
      "129089 = 🡁\n",
      "129090 = 🡂\n",
      "129091 = 🡃\n",
      "129092 = 🡄\n",
      "129093 = 🡅\n",
      "129094 = 🡆\n",
      "129095 = 🡇\n",
      "129096 = 🡈\n",
      "129097 = 🡉\n",
      "129098 = 🡊\n",
      "129099 = 🡋\n",
      "129100 = 🡌\n",
      "129101 = 🡍\n",
      "129102 = 🡎\n",
      "129103 = 🡏\n",
      "129104 = 🡐\n",
      "129105 = 🡑\n",
      "129106 = 🡒\n",
      "129107 = 🡓\n",
      "129108 = 🡔\n",
      "129109 = 🡕\n",
      "129110 = 🡖\n",
      "129111 = 🡗\n",
      "129112 = 🡘\n",
      "129113 = 🡙\n",
      "129114 = 🡚\n",
      "129115 = 🡛\n",
      "129116 = 🡜\n",
      "129117 = 🡝\n",
      "129118 = 🡞\n",
      "129119 = 🡟\n",
      "129120 = 🡠\n",
      "129121 = 🡡\n",
      "129122 = 🡢\n",
      "129123 = 🡣\n",
      "129124 = 🡤\n",
      "129125 = 🡥\n",
      "129126 = 🡦\n",
      "129127 = 🡧\n",
      "129128 = 🡨\n",
      "129129 = 🡩\n",
      "129130 = 🡪\n",
      "129131 = 🡫\n",
      "129132 = 🡬\n",
      "129133 = 🡭\n",
      "129134 = 🡮\n",
      "129135 = 🡯\n",
      "129136 = 🡰\n",
      "129137 = 🡱\n",
      "129138 = 🡲\n",
      "129139 = 🡳\n",
      "129140 = 🡴\n",
      "129141 = 🡵\n",
      "129142 = 🡶\n",
      "129143 = 🡷\n",
      "129144 = 🡸\n",
      "129145 = 🡹\n",
      "129146 = 🡺\n",
      "129147 = 🡻\n",
      "129148 = 🡼\n",
      "129149 = 🡽\n",
      "129150 = 🡾\n",
      "129151 = 🡿\n",
      "129152 = 🢀\n",
      "129153 = 🢁\n",
      "129154 = 🢂\n",
      "129155 = 🢃\n",
      "129156 = 🢄\n",
      "129157 = 🢅\n",
      "129158 = 🢆\n",
      "129159 = 🢇\n",
      "129160 = 🢈\n",
      "129161 = 🢉\n",
      "129162 = 🢊\n",
      "129163 = 🢋\n",
      "129164 = 🢌\n",
      "129165 = 🢍\n",
      "129166 = 🢎\n",
      "129167 = 🢏\n",
      "129168 = 🢐\n",
      "129169 = 🢑\n",
      "129170 = 🢒\n",
      "129171 = 🢓\n",
      "129172 = 🢔\n",
      "129173 = 🢕\n",
      "129174 = 🢖\n",
      "129175 = 🢗\n",
      "129176 = 🢘\n",
      "129177 = 🢙\n",
      "129178 = 🢚\n",
      "129179 = 🢛\n",
      "129180 = 🢜\n",
      "129181 = 🢝\n",
      "129182 = 🢞\n",
      "129183 = 🢟\n",
      "129184 = 🢠\n",
      "129185 = 🢡\n",
      "129186 = 🢢\n",
      "129187 = 🢣\n",
      "129188 = 🢤\n",
      "129189 = 🢥\n",
      "129190 = 🢦\n",
      "129191 = 🢧\n",
      "129192 = 🢨\n",
      "129193 = 🢩\n",
      "129194 = 🢪\n",
      "129195 = 🢫\n",
      "129196 = 🢬\n",
      "129197 = 🢭\n",
      "129198 = 🢮\n",
      "129199 = 🢯\n",
      "129200 = 🢰\n",
      "129201 = 🢱\n",
      "129202 = 🢲\n",
      "129203 = 🢳\n",
      "129204 = 🢴\n",
      "129205 = 🢵\n",
      "129206 = 🢶\n",
      "129207 = 🢷\n",
      "129208 = 🢸\n",
      "129209 = 🢹\n",
      "129210 = 🢺\n",
      "129211 = 🢻\n",
      "129212 = 🢼\n",
      "129213 = 🢽\n",
      "129214 = 🢾\n",
      "129215 = 🢿\n",
      "129216 = 🣀\n",
      "129217 = 🣁\n",
      "129218 = 🣂\n",
      "129219 = 🣃\n",
      "129220 = 🣄\n",
      "129221 = 🣅\n",
      "129222 = 🣆\n",
      "129223 = 🣇\n",
      "129224 = 🣈\n",
      "129225 = 🣉\n",
      "129226 = 🣊\n",
      "129227 = 🣋\n",
      "129228 = 🣌\n",
      "129229 = 🣍\n",
      "129230 = 🣎\n",
      "129231 = 🣏\n",
      "129232 = 🣐\n",
      "129233 = 🣑\n",
      "129234 = 🣒\n",
      "129235 = 🣓\n",
      "129236 = 🣔\n",
      "129237 = 🣕\n",
      "129238 = 🣖\n",
      "129239 = 🣗\n",
      "129240 = 🣘\n",
      "129241 = 🣙\n",
      "129242 = 🣚\n",
      "129243 = 🣛\n",
      "129244 = 🣜\n",
      "129245 = 🣝\n",
      "129246 = 🣞\n",
      "129247 = 🣟\n",
      "129248 = 🣠\n",
      "129249 = 🣡\n",
      "129250 = 🣢\n",
      "129251 = 🣣\n",
      "129252 = 🣤\n",
      "129253 = 🣥\n",
      "129254 = 🣦\n",
      "129255 = 🣧\n",
      "129256 = 🣨\n",
      "129257 = 🣩\n",
      "129258 = 🣪\n",
      "129259 = 🣫\n",
      "129260 = 🣬\n",
      "129261 = 🣭\n",
      "129262 = 🣮\n",
      "129263 = 🣯\n",
      "129264 = 🣰\n",
      "129265 = 🣱\n",
      "129266 = 🣲\n",
      "129267 = 🣳\n",
      "129268 = 🣴\n",
      "129269 = 🣵\n",
      "129270 = 🣶\n",
      "129271 = 🣷\n",
      "129272 = 🣸\n",
      "129273 = 🣹\n",
      "129274 = 🣺\n",
      "129275 = 🣻\n",
      "129276 = 🣼\n",
      "129277 = 🣽\n",
      "129278 = 🣾\n",
      "129279 = 🣿\n",
      "129280 = 🤀\n",
      "129281 = 🤁\n",
      "129282 = 🤂\n",
      "129283 = 🤃\n",
      "129284 = 🤄\n",
      "129285 = 🤅\n",
      "129286 = 🤆\n",
      "129287 = 🤇\n",
      "129288 = 🤈\n",
      "129289 = 🤉\n",
      "129290 = 🤊\n",
      "129291 = 🤋\n",
      "129292 = 🤌\n",
      "129293 = 🤍\n",
      "129294 = 🤎\n",
      "129295 = 🤏\n",
      "129296 = 🤐\n",
      "129297 = 🤑\n",
      "129298 = 🤒\n",
      "129299 = 🤓\n",
      "129300 = 🤔\n",
      "129301 = 🤕\n",
      "129302 = 🤖\n",
      "129303 = 🤗\n",
      "129304 = 🤘\n",
      "129305 = 🤙\n",
      "129306 = 🤚\n",
      "129307 = 🤛\n",
      "129308 = 🤜\n",
      "129309 = 🤝\n",
      "129310 = 🤞\n",
      "129311 = 🤟\n",
      "129312 = 🤠\n",
      "129313 = 🤡\n",
      "129314 = 🤢\n",
      "129315 = 🤣\n",
      "129316 = 🤤\n",
      "129317 = 🤥\n",
      "129318 = 🤦\n",
      "129319 = 🤧\n",
      "129320 = 🤨\n",
      "129321 = 🤩\n",
      "129322 = 🤪\n",
      "129323 = 🤫\n",
      "129324 = 🤬\n",
      "129325 = 🤭\n",
      "129326 = 🤮\n",
      "129327 = 🤯\n",
      "129328 = 🤰\n",
      "129329 = 🤱\n",
      "129330 = 🤲\n",
      "129331 = 🤳\n",
      "129332 = 🤴\n",
      "129333 = 🤵\n",
      "129334 = 🤶\n",
      "129335 = 🤷\n",
      "129336 = 🤸\n",
      "129337 = 🤹\n",
      "129338 = 🤺\n",
      "129339 = 🤻\n",
      "129340 = 🤼\n",
      "129341 = 🤽\n",
      "129342 = 🤾\n",
      "129343 = 🤿\n",
      "129344 = 🥀\n",
      "129345 = 🥁\n",
      "129346 = 🥂\n",
      "129347 = 🥃\n",
      "129348 = 🥄\n",
      "129349 = 🥅\n",
      "129350 = 🥆\n",
      "129351 = 🥇\n",
      "129352 = 🥈\n",
      "129353 = 🥉\n",
      "129354 = 🥊\n",
      "129355 = 🥋\n",
      "129356 = 🥌\n",
      "129357 = 🥍\n",
      "129358 = 🥎\n",
      "129359 = 🥏\n",
      "129360 = 🥐\n",
      "129361 = 🥑\n",
      "129362 = 🥒\n",
      "129363 = 🥓\n",
      "129364 = 🥔\n",
      "129365 = 🥕\n",
      "129366 = 🥖\n",
      "129367 = 🥗\n",
      "129368 = 🥘\n",
      "129369 = 🥙\n",
      "129370 = 🥚\n"
     ]
    },
    {
     "name": "stdout",
     "output_type": "stream",
     "text": [
      "129371 = 🥛\n",
      "129372 = 🥜\n",
      "129373 = 🥝\n",
      "129374 = 🥞\n",
      "129375 = 🥟\n",
      "129376 = 🥠\n",
      "129377 = 🥡\n",
      "129378 = 🥢\n",
      "129379 = 🥣\n",
      "129380 = 🥤\n",
      "129381 = 🥥\n",
      "129382 = 🥦\n",
      "129383 = 🥧\n",
      "129384 = 🥨\n",
      "129385 = 🥩\n",
      "129386 = 🥪\n",
      "129387 = 🥫\n",
      "129388 = 🥬\n",
      "129389 = 🥭\n",
      "129390 = 🥮\n",
      "129391 = 🥯\n",
      "129392 = 🥰\n",
      "129393 = 🥱\n",
      "129394 = 🥲\n",
      "129395 = 🥳\n",
      "129396 = 🥴\n",
      "129397 = 🥵\n",
      "129398 = 🥶\n",
      "129399 = 🥷\n",
      "129400 = 🥸\n",
      "129401 = 🥹\n",
      "129402 = 🥺\n",
      "129403 = 🥻\n",
      "129404 = 🥼\n",
      "129405 = 🥽\n",
      "129406 = 🥾\n",
      "129407 = 🥿\n",
      "129408 = 🦀\n",
      "129409 = 🦁\n",
      "129410 = 🦂\n",
      "129411 = 🦃\n",
      "129412 = 🦄\n",
      "129413 = 🦅\n",
      "129414 = 🦆\n",
      "129415 = 🦇\n",
      "129416 = 🦈\n",
      "129417 = 🦉\n",
      "129418 = 🦊\n",
      "129419 = 🦋\n",
      "129420 = 🦌\n",
      "129421 = 🦍\n",
      "129422 = 🦎\n",
      "129423 = 🦏\n",
      "129424 = 🦐\n",
      "129425 = 🦑\n",
      "129426 = 🦒\n",
      "129427 = 🦓\n",
      "129428 = 🦔\n",
      "129429 = 🦕\n",
      "129430 = 🦖\n",
      "129431 = 🦗\n",
      "129432 = 🦘\n",
      "129433 = 🦙\n",
      "129434 = 🦚\n",
      "129435 = 🦛\n",
      "129436 = 🦜\n",
      "129437 = 🦝\n",
      "129438 = 🦞\n",
      "129439 = 🦟\n",
      "129440 = 🦠\n",
      "129441 = 🦡\n",
      "129442 = 🦢\n",
      "129443 = 🦣\n",
      "129444 = 🦤\n",
      "129445 = 🦥\n",
      "129446 = 🦦\n",
      "129447 = 🦧\n",
      "129448 = 🦨\n",
      "129449 = 🦩\n",
      "129450 = 🦪\n",
      "129451 = 🦫\n",
      "129452 = 🦬\n",
      "129453 = 🦭\n",
      "129454 = 🦮\n",
      "129455 = 🦯\n",
      "129456 = 🦰\n",
      "129457 = 🦱\n",
      "129458 = 🦲\n",
      "129459 = 🦳\n",
      "129460 = 🦴\n",
      "129461 = 🦵\n",
      "129462 = 🦶\n",
      "129463 = 🦷\n",
      "129464 = 🦸\n",
      "129465 = 🦹\n",
      "129466 = 🦺\n",
      "129467 = 🦻\n",
      "129468 = 🦼\n",
      "129469 = 🦽\n",
      "129470 = 🦾\n",
      "129471 = 🦿\n",
      "129472 = 🧀\n",
      "129473 = 🧁\n",
      "129474 = 🧂\n",
      "129475 = 🧃\n",
      "129476 = 🧄\n",
      "129477 = 🧅\n",
      "129478 = 🧆\n",
      "129479 = 🧇\n",
      "129480 = 🧈\n",
      "129481 = 🧉\n",
      "129482 = 🧊\n",
      "129483 = 🧋\n",
      "129484 = 🧌\n",
      "129485 = 🧍\n",
      "129486 = 🧎\n",
      "129487 = 🧏\n",
      "129488 = 🧐\n",
      "129489 = 🧑\n",
      "129490 = 🧒\n",
      "129491 = 🧓\n",
      "129492 = 🧔\n",
      "129493 = 🧕\n",
      "129494 = 🧖\n",
      "129495 = 🧗\n",
      "129496 = 🧘\n",
      "129497 = 🧙\n",
      "129498 = 🧚\n",
      "129499 = 🧛\n",
      "129500 = 🧜\n",
      "129501 = 🧝\n",
      "129502 = 🧞\n",
      "129503 = 🧟\n",
      "129504 = 🧠\n",
      "129505 = 🧡\n",
      "129506 = 🧢\n",
      "129507 = 🧣\n",
      "129508 = 🧤\n",
      "129509 = 🧥\n",
      "129510 = 🧦\n",
      "129511 = 🧧\n",
      "129512 = 🧨\n",
      "129513 = 🧩\n",
      "129514 = 🧪\n",
      "129515 = 🧫\n",
      "129516 = 🧬\n",
      "129517 = 🧭\n",
      "129518 = 🧮\n",
      "129519 = 🧯\n",
      "129520 = 🧰\n",
      "129521 = 🧱\n",
      "129522 = 🧲\n",
      "129523 = 🧳\n",
      "129524 = 🧴\n",
      "129525 = 🧵\n",
      "129526 = 🧶\n",
      "129527 = 🧷\n",
      "129528 = 🧸\n",
      "129529 = 🧹\n",
      "129530 = 🧺\n",
      "129531 = 🧻\n",
      "129532 = 🧼\n",
      "129533 = 🧽\n",
      "129534 = 🧾\n",
      "129535 = 🧿\n",
      "129536 = 🨀\n",
      "129537 = 🨁\n",
      "129538 = 🨂\n",
      "129539 = 🨃\n",
      "129540 = 🨄\n",
      "129541 = 🨅\n",
      "129542 = 🨆\n",
      "129543 = 🨇\n",
      "129544 = 🨈\n",
      "129545 = 🨉\n",
      "129546 = 🨊\n",
      "129547 = 🨋\n",
      "129548 = 🨌\n",
      "129549 = 🨍\n",
      "129550 = 🨎\n",
      "129551 = 🨏\n",
      "129552 = 🨐\n",
      "129553 = 🨑\n",
      "129554 = 🨒\n",
      "129555 = 🨓\n",
      "129556 = 🨔\n",
      "129557 = 🨕\n",
      "129558 = 🨖\n",
      "129559 = 🨗\n",
      "129560 = 🨘\n",
      "129561 = 🨙\n",
      "129562 = 🨚\n",
      "129563 = 🨛\n",
      "129564 = 🨜\n",
      "129565 = 🨝\n",
      "129566 = 🨞\n",
      "129567 = 🨟\n",
      "129568 = 🨠\n",
      "129569 = 🨡\n",
      "129570 = 🨢\n",
      "129571 = 🨣\n",
      "129572 = 🨤\n",
      "129573 = 🨥\n",
      "129574 = 🨦\n",
      "129575 = 🨧\n",
      "129576 = 🨨\n",
      "129577 = 🨩\n",
      "129578 = 🨪\n",
      "129579 = 🨫\n",
      "129580 = 🨬\n",
      "129581 = 🨭\n",
      "129582 = 🨮\n",
      "129583 = 🨯\n",
      "129584 = 🨰\n",
      "129585 = 🨱\n",
      "129586 = 🨲\n",
      "129587 = 🨳\n",
      "129588 = 🨴\n",
      "129589 = 🨵\n",
      "129590 = 🨶\n",
      "129591 = 🨷\n",
      "129592 = 🨸\n",
      "129593 = 🨹\n",
      "129594 = 🨺\n",
      "129595 = 🨻\n",
      "129596 = 🨼\n",
      "129597 = 🨽\n",
      "129598 = 🨾\n",
      "129599 = 🨿\n",
      "129600 = 🩀\n",
      "129601 = 🩁\n",
      "129602 = 🩂\n",
      "129603 = 🩃\n",
      "129604 = 🩄\n",
      "129605 = 🩅\n",
      "129606 = 🩆\n",
      "129607 = 🩇\n",
      "129608 = 🩈\n",
      "129609 = 🩉\n",
      "129610 = 🩊\n",
      "129611 = 🩋\n",
      "129612 = 🩌\n",
      "129613 = 🩍\n",
      "129614 = 🩎\n",
      "129615 = 🩏\n",
      "129616 = 🩐\n",
      "129617 = 🩑\n",
      "129618 = 🩒\n",
      "129619 = 🩓\n",
      "129620 = 🩔\n",
      "129621 = 🩕\n",
      "129622 = 🩖\n",
      "129623 = 🩗\n",
      "129624 = 🩘\n",
      "129625 = 🩙\n",
      "129626 = 🩚\n",
      "129627 = 🩛\n",
      "129628 = 🩜\n",
      "129629 = 🩝\n",
      "129630 = 🩞\n",
      "129631 = 🩟\n",
      "129632 = 🩠\n",
      "129633 = 🩡\n",
      "129634 = 🩢\n",
      "129635 = 🩣\n",
      "129636 = 🩤\n",
      "129637 = 🩥\n",
      "129638 = 🩦\n",
      "129639 = 🩧\n",
      "129640 = 🩨\n",
      "129641 = 🩩\n",
      "129642 = 🩪\n",
      "129643 = 🩫\n",
      "129644 = 🩬\n",
      "129645 = 🩭\n",
      "129646 = 🩮\n",
      "129647 = 🩯\n",
      "129648 = 🩰\n",
      "129649 = 🩱\n",
      "129650 = 🩲\n",
      "129651 = 🩳\n",
      "129652 = 🩴\n",
      "129653 = 🩵\n",
      "129654 = 🩶\n",
      "129655 = 🩷\n",
      "129656 = 🩸\n",
      "129657 = 🩹\n",
      "129658 = 🩺\n",
      "129659 = 🩻\n",
      "129660 = 🩼\n",
      "129661 = 🩽\n",
      "129662 = 🩾\n",
      "129663 = 🩿\n",
      "129664 = 🪀\n",
      "129665 = 🪁\n",
      "129666 = 🪂\n",
      "129667 = 🪃\n",
      "129668 = 🪄\n",
      "129669 = 🪅\n",
      "129670 = 🪆\n",
      "129671 = 🪇\n",
      "129672 = 🪈\n",
      "129673 = 🪉\n",
      "129674 = 🪊\n",
      "129675 = 🪋\n",
      "129676 = 🪌\n",
      "129677 = 🪍\n",
      "129678 = 🪎\n",
      "129679 = 🪏\n",
      "129680 = 🪐\n",
      "129681 = 🪑\n",
      "129682 = 🪒\n",
      "129683 = 🪓\n",
      "129684 = 🪔\n",
      "129685 = 🪕\n",
      "129686 = 🪖\n",
      "129687 = 🪗\n",
      "129688 = 🪘\n",
      "129689 = 🪙\n",
      "129690 = 🪚\n",
      "129691 = 🪛\n",
      "129692 = 🪜\n",
      "129693 = 🪝\n",
      "129694 = 🪞\n",
      "129695 = 🪟\n",
      "129696 = 🪠\n",
      "129697 = 🪡\n",
      "129698 = 🪢\n",
      "129699 = 🪣\n",
      "129700 = 🪤\n",
      "129701 = 🪥\n",
      "129702 = 🪦\n",
      "129703 = 🪧\n",
      "129704 = 🪨\n",
      "129705 = 🪩\n",
      "129706 = 🪪\n",
      "129707 = 🪫\n",
      "129708 = 🪬\n",
      "129709 = 🪭\n",
      "129710 = 🪮\n",
      "129711 = 🪯\n",
      "129712 = 🪰\n",
      "129713 = 🪱\n",
      "129714 = 🪲\n",
      "129715 = 🪳\n",
      "129716 = 🪴\n",
      "129717 = 🪵\n",
      "129718 = 🪶\n",
      "129719 = 🪷\n",
      "129720 = 🪸\n",
      "129721 = 🪹\n",
      "129722 = 🪺\n",
      "129723 = 🪻\n",
      "129724 = 🪼\n",
      "129725 = 🪽\n",
      "129726 = 🪾\n",
      "129727 = 🪿\n",
      "129728 = 🫀\n",
      "129729 = 🫁\n",
      "129730 = 🫂\n",
      "129731 = 🫃\n",
      "129732 = 🫄\n",
      "129733 = 🫅\n",
      "129734 = 🫆\n",
      "129735 = 🫇\n",
      "129736 = 🫈\n",
      "129737 = 🫉\n",
      "129738 = 🫊\n",
      "129739 = 🫋\n",
      "129740 = 🫌\n",
      "129741 = 🫍\n",
      "129742 = 🫎\n",
      "129743 = 🫏\n",
      "129744 = 🫐\n",
      "129745 = 🫑\n",
      "129746 = 🫒\n",
      "129747 = 🫓\n",
      "129748 = 🫔\n",
      "129749 = 🫕\n",
      "129750 = 🫖\n"
     ]
    }
   ],
   "source": [
    "for i in range(127744, 129751):\n",
    "    print(i, \"=\", chr(i))"
   ]
  },
  {
   "cell_type": "code",
   "execution_count": 159,
   "id": "a52cbbd4",
   "metadata": {
    "ExecuteTime": {
     "end_time": "2021-08-14T18:00:30.326516Z",
     "start_time": "2021-08-14T18:00:03.474Z"
    }
   },
   "outputs": [
    {
     "name": "stdout",
     "output_type": "stream",
     "text": [
      "6\n",
      "     😅     \n",
      "    😅 😅    \n",
      "   😅 😅 😅   \n",
      "  😅 😅 😅 😅  \n",
      " 😅 😅 😅 😅 😅 \n",
      "😅 😅 😅 😅 😅 😅\n"
     ]
    }
   ],
   "source": [
    "# seq 1\n",
    "\n",
    "n = int(input())\n",
    "\n",
    "for i in range((2*n)-1):\n",
    "    if(i <= (((2*n)-1)//2)):\n",
    "        for j in range((2*n)-1):\n",
    "            if j in range((((2*n)-1)//2)-i, (((2*n)-1)//2)+i+1, 2):\n",
    "                print(chr(128517), end='')\n",
    "            else:\n",
    "                print(end=' ')\n",
    "        print()"
   ]
  },
  {
   "cell_type": "markdown",
   "id": "5584d1f1",
   "metadata": {},
   "source": [
    "# sequence 2"
   ]
  },
  {
   "cell_type": "markdown",
   "id": "141881e0",
   "metadata": {},
   "source": [
    "# use nested loops to print:\n",
    "\n",
    "## 1.\n",
    "\n",
    "        A\n",
    "    \n",
    "        A  B\n",
    "        \n",
    "        A  B  C\n",
    "        \n",
    "        A  B  C  D\n",
    "        \n",
    "        A  B  C  D  E\n",
    "        \n",
    "        A  B  C  D  E  F\n",
    "        \n",
    "## 2.\n",
    "\n",
    "        0\n",
    "    \n",
    "        2  2\n",
    "        \n",
    "        4  4  4\n",
    "        \n",
    "        8  8  8  8\n",
    "        \n"
   ]
  },
  {
   "cell_type": "code",
   "execution_count": 160,
   "id": "391ee738",
   "metadata": {
    "ExecuteTime": {
     "end_time": "2021-08-14T18:00:30.329264Z",
     "start_time": "2021-08-14T18:00:03.491Z"
    }
   },
   "outputs": [
    {
     "name": "stdout",
     "output_type": "stream",
     "text": [
      "enter the number of alphabets: 56\n",
      "\n",
      "A \n",
      "A B \n",
      "A B C \n",
      "A B C D \n",
      "A B C D E \n",
      "A B C D E F \n",
      "A B C D E F G \n",
      "A B C D E F G H \n",
      "A B C D E F G H I \n",
      "A B C D E F G H I J \n",
      "A B C D E F G H I J K \n",
      "A B C D E F G H I J K L \n",
      "A B C D E F G H I J K L M \n",
      "A B C D E F G H I J K L M N \n",
      "A B C D E F G H I J K L M N O \n",
      "A B C D E F G H I J K L M N O P \n",
      "A B C D E F G H I J K L M N O P Q \n",
      "A B C D E F G H I J K L M N O P Q R \n",
      "A B C D E F G H I J K L M N O P Q R S \n",
      "A B C D E F G H I J K L M N O P Q R S T \n",
      "A B C D E F G H I J K L M N O P Q R S T U \n",
      "A B C D E F G H I J K L M N O P Q R S T U V \n",
      "A B C D E F G H I J K L M N O P Q R S T U V W \n",
      "A B C D E F G H I J K L M N O P Q R S T U V W X \n",
      "A B C D E F G H I J K L M N O P Q R S T U V W X Y \n",
      "A B C D E F G H I J K L M N O P Q R S T U V W X Y Z \n",
      "A B C D E F G H I J K L M N O P Q R S T U V W X Y Z [ \n",
      "A B C D E F G H I J K L M N O P Q R S T U V W X Y Z [ \\ \n",
      "A B C D E F G H I J K L M N O P Q R S T U V W X Y Z [ \\ ] \n",
      "A B C D E F G H I J K L M N O P Q R S T U V W X Y Z [ \\ ] ^ \n",
      "A B C D E F G H I J K L M N O P Q R S T U V W X Y Z [ \\ ] ^ _ \n",
      "A B C D E F G H I J K L M N O P Q R S T U V W X Y Z [ \\ ] ^ _ ` \n",
      "A B C D E F G H I J K L M N O P Q R S T U V W X Y Z [ \\ ] ^ _ ` a \n",
      "A B C D E F G H I J K L M N O P Q R S T U V W X Y Z [ \\ ] ^ _ ` a b \n",
      "A B C D E F G H I J K L M N O P Q R S T U V W X Y Z [ \\ ] ^ _ ` a b c \n",
      "A B C D E F G H I J K L M N O P Q R S T U V W X Y Z [ \\ ] ^ _ ` a b c d \n",
      "A B C D E F G H I J K L M N O P Q R S T U V W X Y Z [ \\ ] ^ _ ` a b c d e \n",
      "A B C D E F G H I J K L M N O P Q R S T U V W X Y Z [ \\ ] ^ _ ` a b c d e f \n",
      "A B C D E F G H I J K L M N O P Q R S T U V W X Y Z [ \\ ] ^ _ ` a b c d e f g \n",
      "A B C D E F G H I J K L M N O P Q R S T U V W X Y Z [ \\ ] ^ _ ` a b c d e f g h \n",
      "A B C D E F G H I J K L M N O P Q R S T U V W X Y Z [ \\ ] ^ _ ` a b c d e f g h i \n",
      "A B C D E F G H I J K L M N O P Q R S T U V W X Y Z [ \\ ] ^ _ ` a b c d e f g h i j \n",
      "A B C D E F G H I J K L M N O P Q R S T U V W X Y Z [ \\ ] ^ _ ` a b c d e f g h i j k \n",
      "A B C D E F G H I J K L M N O P Q R S T U V W X Y Z [ \\ ] ^ _ ` a b c d e f g h i j k l \n",
      "A B C D E F G H I J K L M N O P Q R S T U V W X Y Z [ \\ ] ^ _ ` a b c d e f g h i j k l m \n",
      "A B C D E F G H I J K L M N O P Q R S T U V W X Y Z [ \\ ] ^ _ ` a b c d e f g h i j k l m n \n",
      "A B C D E F G H I J K L M N O P Q R S T U V W X Y Z [ \\ ] ^ _ ` a b c d e f g h i j k l m n o \n",
      "A B C D E F G H I J K L M N O P Q R S T U V W X Y Z [ \\ ] ^ _ ` a b c d e f g h i j k l m n o p \n",
      "A B C D E F G H I J K L M N O P Q R S T U V W X Y Z [ \\ ] ^ _ ` a b c d e f g h i j k l m n o p q \n",
      "A B C D E F G H I J K L M N O P Q R S T U V W X Y Z [ \\ ] ^ _ ` a b c d e f g h i j k l m n o p q r \n",
      "A B C D E F G H I J K L M N O P Q R S T U V W X Y Z [ \\ ] ^ _ ` a b c d e f g h i j k l m n o p q r s \n",
      "A B C D E F G H I J K L M N O P Q R S T U V W X Y Z [ \\ ] ^ _ ` a b c d e f g h i j k l m n o p q r s t \n",
      "A B C D E F G H I J K L M N O P Q R S T U V W X Y Z [ \\ ] ^ _ ` a b c d e f g h i j k l m n o p q r s t u \n",
      "A B C D E F G H I J K L M N O P Q R S T U V W X Y Z [ \\ ] ^ _ ` a b c d e f g h i j k l m n o p q r s t u v \n",
      "A B C D E F G H I J K L M N O P Q R S T U V W X Y Z [ \\ ] ^ _ ` a b c d e f g h i j k l m n o p q r s t u v w \n",
      "A B C D E F G H I J K L M N O P Q R S T U V W X Y Z [ \\ ] ^ _ ` a b c d e f g h i j k l m n o p q r s t u v w x \n"
     ]
    }
   ],
   "source": [
    "# sequence 1:\n",
    "\n",
    "n = int(input(\"enter the number of alphabets: \"))\n",
    "\n",
    "for i in range(n+1):\n",
    "    for j in range(i):\n",
    "        print(chr(ord('A')+j), end=' ')\n",
    "    print()"
   ]
  },
  {
   "cell_type": "code",
   "execution_count": 161,
   "id": "6ee03ff8",
   "metadata": {
    "ExecuteTime": {
     "end_time": "2021-08-14T18:00:30.332011Z",
     "start_time": "2021-08-14T18:00:03.500Z"
    }
   },
   "outputs": [
    {
     "name": "stdout",
     "output_type": "stream",
     "text": [
      "enter the number of rows: 5\n",
      "0\n",
      "2 2 \n",
      "4 4 4 \n",
      "8 8 8 8 \n",
      "16 16 16 16 16 \n"
     ]
    }
   ],
   "source": [
    "# sequence 2\n",
    "\n",
    "row = int(input(\"enter the number of rows: \"))\n",
    "\n",
    "for i in range(row):\n",
    "    for j in range(i+1):\n",
    "        if(i == 0):\n",
    "            print(\"0\", end='')\n",
    "        else:\n",
    "            print(2**i, end=' ')\n",
    "\n",
    "    print()"
   ]
  },
  {
   "cell_type": "markdown",
   "id": "175b0194",
   "metadata": {},
   "source": [
    "# rectangle with n rows of \"*\" with n columns of \"*\""
   ]
  },
  {
   "cell_type": "code",
   "execution_count": 162,
   "id": "a9234f53",
   "metadata": {
    "ExecuteTime": {
     "end_time": "2021-08-14T18:00:30.334825Z",
     "start_time": "2021-08-14T18:00:03.513Z"
    }
   },
   "outputs": [
    {
     "name": "stdout",
     "output_type": "stream",
     "text": [
      "enter the n umber of rows: 6\n",
      "enter the number of in each row (not to be same as rows): 67\n",
      "* * * * * * * * * * * * * * * * * * * * * * * * * * * * * * * * * * * * * * * * * * * * * * * * * * * * * * * * * * * * * * * * * * * \n",
      "* * * * * * * * * * * * * * * * * * * * * * * * * * * * * * * * * * * * * * * * * * * * * * * * * * * * * * * * * * * * * * * * * * * \n",
      "* * * * * * * * * * * * * * * * * * * * * * * * * * * * * * * * * * * * * * * * * * * * * * * * * * * * * * * * * * * * * * * * * * * \n",
      "* * * * * * * * * * * * * * * * * * * * * * * * * * * * * * * * * * * * * * * * * * * * * * * * * * * * * * * * * * * * * * * * * * * \n",
      "* * * * * * * * * * * * * * * * * * * * * * * * * * * * * * * * * * * * * * * * * * * * * * * * * * * * * * * * * * * * * * * * * * * \n",
      "* * * * * * * * * * * * * * * * * * * * * * * * * * * * * * * * * * * * * * * * * * * * * * * * * * * * * * * * * * * * * * * * * * * \n"
     ]
    }
   ],
   "source": [
    "n = int(input(\"enter the n umber of rows: \"))\n",
    "col = int(input(\"enter the number of in each row (not to be same as rows): \"))\n",
    "if(n == col):\n",
    "    print(\"this cant create rectangle!!!\")\n",
    "else:\n",
    "    for i in range(n):\n",
    "        for i in range(col):\n",
    "            print(\"*\", end=' ')\n",
    "        print()"
   ]
  },
  {
   "cell_type": "markdown",
   "id": "9945a351",
   "metadata": {},
   "source": [
    "# input three number and find the first, second and third hihest number"
   ]
  },
  {
   "cell_type": "code",
   "execution_count": 163,
   "id": "e96e70e9",
   "metadata": {
    "ExecuteTime": {
     "end_time": "2021-08-14T18:00:30.337748Z",
     "start_time": "2021-08-14T18:00:03.526Z"
    }
   },
   "outputs": [
    {
     "name": "stdout",
     "output_type": "stream",
     "text": [
      "enter the number1: 54\n",
      "enter the number2: 5\n",
      "enter the number3: 67\n",
      "smallest number: 5 \n",
      "next higher: 54 \n",
      "highest number: 67\n"
     ]
    }
   ],
   "source": [
    "n1 = int(input(\"enter the number1: \"))\n",
    "n2 = int(input(\"enter the number2: \"))\n",
    "n3 = int(input(\"enter the number3: \"))\n",
    "\n",
    "if(n1 > n2 and n1 > n3):\n",
    "    h = n1\n",
    "    if(n2 > n3):\n",
    "        sh = n2\n",
    "        th = n3\n",
    "    else:\n",
    "        sh = n3\n",
    "        th = n2\n",
    "    print(\"smallest number:\", th, \"\\nnext higher:\", sh, \"\\nhighest number:\", h)\n",
    "elif(n2 > n1 and n2 > n3):\n",
    "    h = n2\n",
    "    if(n1 > n3):\n",
    "        sh = n1\n",
    "        th = n3\n",
    "    else:\n",
    "        sh = n3\n",
    "        th = n1\n",
    "    print(\"smallest number:\", th, \"\\nnext higher:\", sh, \"\\nhighest number:\", h)\n",
    "elif(n3 > n1 and n3 > n2):\n",
    "    h = n3\n",
    "    if(n2 > n1):\n",
    "        sh = n2\n",
    "        th = n1\n",
    "    else:\n",
    "        sh = n1\n",
    "        th = n2\n",
    "    print(\"smallest number:\", th, \"\\nnext higher:\", sh, \"\\nhighest number:\", h)\n",
    "else:\n",
    "    print(\"the numbers aresame\")"
   ]
  },
  {
   "cell_type": "markdown",
   "id": "372f008b",
   "metadata": {},
   "source": [
    "# input temp and convert from celcius to farheniet or fareneit to celcius"
   ]
  },
  {
   "cell_type": "code",
   "execution_count": 164,
   "id": "dc87a401",
   "metadata": {
    "ExecuteTime": {
     "end_time": "2021-08-14T18:00:30.340489Z",
     "start_time": "2021-08-14T18:00:03.539Z"
    }
   },
   "outputs": [
    {
     "name": "stdout",
     "output_type": "stream",
     "text": [
      "enter the temperature:65\n",
      "enter the unit of temerature:\n",
      " 1.For celcius\n",
      "2.For Farheneit\n",
      "3\n",
      "temperature in celcius is: 18.333333333333332\n"
     ]
    }
   ],
   "source": [
    "n = float(input(\"enter the temperature:\"))\n",
    "ch = int(input(\"enter the unit of temerature:\\n 1.For celcius\\n2.For Farheneit\\n\"))\n",
    "if(ch == 1):\n",
    "    print(\"temperature in farheneit is:\", ((9/5)*n)+32)\n",
    "else:\n",
    "    print(\"temperature in celcius is:\", (5*(n-32))/9)"
   ]
  },
  {
   "cell_type": "markdown",
   "id": "26f052da",
   "metadata": {},
   "source": [
    "# ask the user to enter the temp in celcius and print if:\n",
    "\n",
    "## 1. if exact -273.15 then print temp is absolute 0\n",
    "## 2. if between 0 to -273.15 print temperature is below freezing\n",
    "## 3. if 0 print at freezing point\n",
    "## 4. if between 0 to 100 print temnp. at normal range\n",
    "## 5. if 100 print at boiling point\n",
    "## 6. if above 100 print above boiling point\n",
    "## 7. temp is below -273.15 print it invalid temperature as it is below absolute zero"
   ]
  },
  {
   "cell_type": "code",
   "execution_count": 165,
   "id": "2fd3b95a",
   "metadata": {
    "ExecuteTime": {
     "end_time": "2021-08-14T18:00:30.343163Z",
     "start_time": "2021-08-14T18:00:03.552Z"
    }
   },
   "outputs": [
    {
     "name": "stdout",
     "output_type": "stream",
     "text": [
      "enter the temperature in celcius: 45\n",
      "at above boiling temp\n"
     ]
    }
   ],
   "source": [
    "c = float(input(\"enter the temperature in celcius: \"))\n",
    "f = ((9/5)*c)+32\n",
    "if(f == -273.15):\n",
    "    print(\"temp is absolute 0\")\n",
    "elif(f < 0 and f > -273.15):\n",
    "    print(\"temnp is below freezing\")\n",
    "elif(f == 0):\n",
    "    print(\"at freezinmg point\")\n",
    "elif(f > 0 and f < 100):\n",
    "    print(\"at normal tmperature\")\n",
    "elif(f == 100):\n",
    "    print(\"at boiling temp\")\n",
    "elif(f > 100):\n",
    "    print(\"at above boiling temp\")\n",
    "else:\n",
    "    print(\"invali temperature\")"
   ]
  },
  {
   "cell_type": "markdown",
   "id": "911ed50f",
   "metadata": {},
   "source": [
    "# STRING MANIPULATION"
   ]
  },
  {
   "cell_type": "code",
   "execution_count": 166,
   "id": "698dedd6",
   "metadata": {
    "ExecuteTime": {
     "end_time": "2021-08-14T18:00:30.346047Z",
     "start_time": "2021-08-14T18:00:03.566Z"
    }
   },
   "outputs": [
    {
     "name": "stdout",
     "output_type": "stream",
     "text": [
      "hello\n"
     ]
    },
    {
     "ename": "TypeError",
     "evalue": "'str' object does not support item assignment",
     "output_type": "error",
     "traceback": [
      "\u001b[0;31m---------------------------------------------------------------------------\u001b[0m",
      "\u001b[0;31mTypeError\u001b[0m                                 Traceback (most recent call last)",
      "\u001b[0;32m<ipython-input-166-3772e0086627>\u001b[0m in \u001b[0;36m<module>\u001b[0;34m\u001b[0m\n\u001b[1;32m      3\u001b[0m \u001b[0ms\u001b[0m \u001b[0;34m=\u001b[0m \u001b[0;34m\"hello\"\u001b[0m\u001b[0;34m\u001b[0m\u001b[0;34m\u001b[0m\u001b[0m\n\u001b[1;32m      4\u001b[0m \u001b[0mprint\u001b[0m\u001b[0;34m(\u001b[0m\u001b[0ms\u001b[0m\u001b[0;34m)\u001b[0m\u001b[0;34m\u001b[0m\u001b[0;34m\u001b[0m\u001b[0m\n\u001b[0;32m----> 5\u001b[0;31m \u001b[0ms\u001b[0m\u001b[0;34m[\u001b[0m\u001b[0;36m0\u001b[0m\u001b[0;34m]\u001b[0m \u001b[0;34m=\u001b[0m \u001b[0;34m'R'\u001b[0m\u001b[0;34m\u001b[0m\u001b[0;34m\u001b[0m\u001b[0m\n\u001b[0m",
      "\u001b[0;31mTypeError\u001b[0m: 'str' object does not support item assignment"
     ]
    }
   ],
   "source": [
    "# strings are immutabl;e datattpes\n",
    "\n",
    "s = \"hello\"\n",
    "print(s)\n",
    "s[0] = 'R'"
   ]
  },
  {
   "cell_type": "code",
   "execution_count": 167,
   "id": "fc92c274",
   "metadata": {
    "ExecuteTime": {
     "end_time": "2021-08-14T18:00:30.348881Z",
     "start_time": "2021-08-14T18:00:03.576Z"
    }
   },
   "outputs": [
    {
     "data": {
      "text/plain": [
       "0"
      ]
     },
     "execution_count": 167,
     "metadata": {},
     "output_type": "execute_result"
    }
   ],
   "source": [
    "# empyty string length is 0\n",
    "len(\"\")"
   ]
  },
  {
   "cell_type": "code",
   "execution_count": 168,
   "id": "2ebc50c1",
   "metadata": {
    "ExecuteTime": {
     "end_time": "2021-08-14T18:00:30.351841Z",
     "start_time": "2021-08-14T18:00:03.585Z"
    }
   },
   "outputs": [
    {
     "name": "stdout",
     "output_type": "stream",
     "text": [
      "True\n",
      "True\n",
      "True\n",
      "True\n",
      "True\n"
     ]
    }
   ],
   "source": [
    "s = \"rahul\"\n",
    "print(s[0] == s[-5])\n",
    "print(s[1] == s[-4])\n",
    "print(s[2] == s[-3])\n",
    "print(s[3] == s[-2])\n",
    "print(s[4] == s[-1])"
   ]
  },
  {
   "cell_type": "markdown",
   "id": "2f6d0a74",
   "metadata": {},
   "source": [
    "# traversing a string"
   ]
  },
  {
   "cell_type": "code",
   "execution_count": 169,
   "id": "a07133d0",
   "metadata": {
    "ExecuteTime": {
     "end_time": "2021-08-14T18:00:30.354531Z",
     "start_time": "2021-08-14T18:00:03.598Z"
    }
   },
   "outputs": [
    {
     "name": "stdout",
     "output_type": "stream",
     "text": [
      "r\n",
      "a\n",
      "h\n",
      "u\n",
      "l\n",
      " \n",
      "d\n",
      "h\n",
      "a\n",
      "n\n",
      "o\n",
      "l\n",
      "a\n"
     ]
    }
   ],
   "source": [
    "# irt refers to the iterating throuh the string elemnts\n",
    "s = \"rahul dhanola\"\n",
    "\n",
    "for ch in s:\n",
    "    print(ch)"
   ]
  },
  {
   "cell_type": "markdown",
   "id": "07762510",
   "metadata": {},
   "source": [
    "# program to display string in the reverse order"
   ]
  },
  {
   "cell_type": "code",
   "execution_count": 170,
   "id": "30730705",
   "metadata": {
    "ExecuteTime": {
     "end_time": "2021-08-14T18:00:30.357137Z",
     "start_time": "2021-08-14T18:00:03.611Z"
    }
   },
   "outputs": [
    {
     "name": "stdout",
     "output_type": "stream",
     "text": [
      "enter the string: hello there\n",
      "e\n",
      "r\n",
      "e\n",
      "h\n",
      "t\n",
      " \n",
      "o\n",
      "l\n",
      "l\n",
      "e\n",
      "h\n"
     ]
    }
   ],
   "source": [
    "s = input(\"enter the string: \")\n",
    "for i in range(1, len(s)+1):\n",
    "    print(s[-i])"
   ]
  },
  {
   "cell_type": "markdown",
   "id": "efb4a960",
   "metadata": {
    "ExecuteTime": {
     "end_time": "2021-08-08T04:02:10.175656Z",
     "start_time": "2021-08-08T04:02:10.169267Z"
    }
   },
   "source": [
    "# program to input string and display it as:\n",
    "    \n",
    "## first character                last character\n",
    "## second character           second last character\n",
    "##    ...                            ..."
   ]
  },
  {
   "cell_type": "code",
   "execution_count": 171,
   "id": "c06c7a94",
   "metadata": {
    "ExecuteTime": {
     "end_time": "2021-08-14T18:00:30.359908Z",
     "start_time": "2021-08-14T18:00:03.624Z"
    }
   },
   "outputs": [
    {
     "name": "stdout",
     "output_type": "stream",
     "text": [
      "enter the string: hello there\n",
      "h        e\n",
      "e        r\n",
      "l        e\n",
      "l        h\n",
      "o        t\n",
      "          \n",
      "t        o\n",
      "h        l\n",
      "e        l\n",
      "r        e\n",
      "e        h\n"
     ]
    }
   ],
   "source": [
    "s = input(\"enter the string: \")\n",
    "for i in range(len(s)):\n",
    "    print(s[i], \"      \", s[-i-1])"
   ]
  },
  {
   "cell_type": "markdown",
   "id": "30b2a82f",
   "metadata": {},
   "source": [
    "# string ooperators"
   ]
  },
  {
   "cell_type": "code",
   "execution_count": 172,
   "id": "9b27817e",
   "metadata": {
    "ExecuteTime": {
     "end_time": "2021-08-14T18:00:30.362639Z",
     "start_time": "2021-08-14T18:00:03.637Z"
    }
   },
   "outputs": [
    {
     "name": "stdout",
     "output_type": "stream",
     "text": [
      "rahuldhanola\n",
      "rahul dhanola\n"
     ]
    }
   ],
   "source": [
    "# basic operators: string concatenation\n",
    "print(\"rahul\"+\"dhanola\")\n",
    "print(\"rahul \"+\"dhanola\")"
   ]
  },
  {
   "cell_type": "code",
   "execution_count": 173,
   "id": "9a46fc99",
   "metadata": {
    "ExecuteTime": {
     "end_time": "2021-08-14T18:00:30.365480Z",
     "start_time": "2021-08-14T18:00:03.647Z"
    }
   },
   "outputs": [
    {
     "name": "stdout",
     "output_type": "stream",
     "text": [
      "rahul3\n"
     ]
    },
    {
     "ename": "TypeError",
     "evalue": "can only concatenate str (not \"int\") to str",
     "output_type": "error",
     "traceback": [
      "\u001b[0;31m---------------------------------------------------------------------------\u001b[0m",
      "\u001b[0;31mTypeError\u001b[0m                                 Traceback (most recent call last)",
      "\u001b[0;32m<ipython-input-173-122760ea8453>\u001b[0m in \u001b[0;36m<module>\u001b[0;34m\u001b[0m\n\u001b[1;32m      1\u001b[0m \u001b[0;31m# a numbner cant be concatenated with string\u001b[0m\u001b[0;34m\u001b[0m\u001b[0;34m\u001b[0m\u001b[0;34m\u001b[0m\u001b[0m\n\u001b[1;32m      2\u001b[0m \u001b[0mprint\u001b[0m\u001b[0;34m(\u001b[0m\u001b[0;34m\"rahul\"\u001b[0m\u001b[0;34m+\u001b[0m\u001b[0;34m\"3\"\u001b[0m\u001b[0;34m)\u001b[0m  \u001b[0;31m# valid\u001b[0m\u001b[0;34m\u001b[0m\u001b[0;34m\u001b[0m\u001b[0m\n\u001b[0;32m----> 3\u001b[0;31m \u001b[0mprint\u001b[0m\u001b[0;34m(\u001b[0m\u001b[0;34m\"rahul\"\u001b[0m\u001b[0;34m+\u001b[0m\u001b[0;36m3\u001b[0m\u001b[0;34m)\u001b[0m\u001b[0;34m\u001b[0m\u001b[0;34m\u001b[0m\u001b[0m\n\u001b[0m",
      "\u001b[0;31mTypeError\u001b[0m: can only concatenate str (not \"int\") to str"
     ]
    }
   ],
   "source": [
    "# a numbner cant be concatenated with string\n",
    "print(\"rahul\"+\"3\")  # valid\n",
    "print(\"rahul\"+3)"
   ]
  },
  {
   "cell_type": "code",
   "execution_count": 174,
   "id": "0a2235ee",
   "metadata": {
    "ExecuteTime": {
     "end_time": "2021-08-14T18:00:30.368394Z",
     "start_time": "2021-08-14T18:00:03.657Z"
    }
   },
   "outputs": [
    {
     "name": "stdout",
     "output_type": "stream",
     "text": [
      "rahulrahulrahul\n",
      "rahul rahul rahul \n"
     ]
    }
   ],
   "source": [
    "# basic operators: string replication\n",
    "print(\"rahul\"*3)\n",
    "print(\"rahul \"*3)"
   ]
  },
  {
   "cell_type": "code",
   "execution_count": 175,
   "id": "c931f432",
   "metadata": {
    "ExecuteTime": {
     "end_time": "2021-08-14T18:00:30.370995Z",
     "start_time": "2021-08-14T18:00:03.667Z"
    }
   },
   "outputs": [
    {
     "name": "stdout",
     "output_type": "stream",
     "text": [
      "rahulrahulrahul\n"
     ]
    },
    {
     "ename": "TypeError",
     "evalue": "can't multiply sequence by non-int of type 'str'",
     "output_type": "error",
     "traceback": [
      "\u001b[0;31m---------------------------------------------------------------------------\u001b[0m",
      "\u001b[0;31mTypeError\u001b[0m                                 Traceback (most recent call last)",
      "\u001b[0;32m<ipython-input-175-8f3d19f9065f>\u001b[0m in \u001b[0;36m<module>\u001b[0;34m\u001b[0m\n\u001b[1;32m      1\u001b[0m \u001b[0;31m# a string cant be replicated with string\u001b[0m\u001b[0;34m\u001b[0m\u001b[0;34m\u001b[0m\u001b[0;34m\u001b[0m\u001b[0m\n\u001b[1;32m      2\u001b[0m \u001b[0mprint\u001b[0m\u001b[0;34m(\u001b[0m\u001b[0;34m\"rahul\"\u001b[0m\u001b[0;34m*\u001b[0m\u001b[0;36m3\u001b[0m\u001b[0;34m)\u001b[0m  \u001b[0;31m# valid\u001b[0m\u001b[0;34m\u001b[0m\u001b[0;34m\u001b[0m\u001b[0m\n\u001b[0;32m----> 3\u001b[0;31m \u001b[0mprint\u001b[0m\u001b[0;34m(\u001b[0m\u001b[0;34m\"rahul\"\u001b[0m\u001b[0;34m*\u001b[0m\u001b[0;34m\"3\"\u001b[0m\u001b[0;34m)\u001b[0m\u001b[0;34m\u001b[0m\u001b[0;34m\u001b[0m\u001b[0m\n\u001b[0m",
      "\u001b[0;31mTypeError\u001b[0m: can't multiply sequence by non-int of type 'str'"
     ]
    }
   ],
   "source": [
    "# a string cant be replicated with string\n",
    "print(\"rahul\"*3)  # valid\n",
    "print(\"rahul\"*\"3\")"
   ]
  },
  {
   "cell_type": "markdown",
   "id": "50e286ec",
   "metadata": {},
   "source": [
    "# membership operators"
   ]
  },
  {
   "cell_type": "code",
   "execution_count": 2,
   "id": "3422593b",
   "metadata": {
    "ExecuteTime": {
     "end_time": "2021-08-14T18:00:30.373581Z",
     "start_time": "2021-08-14T18:00:03.680Z"
    }
   },
   "outputs": [
    {
     "name": "stdout",
     "output_type": "stream",
     "text": [
      "True\n",
      "False\n"
     ]
    }
   ],
   "source": [
    "# there are two operator in and not in\n",
    "print(\"rahul\" in \"rahul dhanola\")  # True\n",
    "print(\"vidhi\" in \"rahul dhanola\")  # false"
   ]
  },
  {
   "cell_type": "code",
   "execution_count": 3,
   "id": "9795af74",
   "metadata": {
    "ExecuteTime": {
     "end_time": "2021-08-14T18:00:30.376282Z",
     "start_time": "2021-08-14T18:00:03.690Z"
    }
   },
   "outputs": [
    {
     "name": "stdout",
     "output_type": "stream",
     "text": [
      "False\n",
      "True\n"
     ]
    }
   ],
   "source": [
    "print(\"rahul\" not in \"rahul dhanola\")  # false\n",
    "print(\"vidhi\" not in \"rahul dhanola\")  # True\n",
    "# these can only work with sequencxe variables"
   ]
  },
  {
   "cell_type": "markdown",
   "id": "2d453b4e",
   "metadata": {},
   "source": [
    "# compartison operators"
   ]
  },
  {
   "cell_type": "code",
   "execution_count": 4,
   "id": "3e6f17c5",
   "metadata": {
    "ExecuteTime": {
     "end_time": "2021-08-14T18:00:30.379297Z",
     "start_time": "2021-08-14T18:00:03.703Z"
    }
   },
   "outputs": [
    {
     "name": "stdout",
     "output_type": "stream",
     "text": [
      "False\n",
      "True\n",
      "True\n"
     ]
    }
   ],
   "source": [
    "# the  comparison is done based on charcter by character ascii values\n",
    "print(\"rahul\" < \"Rahul\")  # true\n",
    "print(\"rahul\" > \"Rahul\")  # false\n",
    "print(\"rahul\" < \"rahul dhanola\")  # true"
   ]
  },
  {
   "cell_type": "markdown",
   "id": "7d429c82",
   "metadata": {},
   "source": [
    "# charcter sascii values\n",
    "## 1. '0' to '9' => 49 to 57\n",
    "## 2. 'A' to 'Z' => 65 to 90\n",
    "## 3. 'a' to 'z' => 97 to 122"
   ]
  },
  {
   "cell_type": "markdown",
   "id": "3bcbf31f",
   "metadata": {},
   "source": [
    "# ordinal value and ascii value of string"
   ]
  },
  {
   "cell_type": "code",
   "execution_count": 5,
   "id": "0fc4d418",
   "metadata": {
    "ExecuteTime": {
     "end_time": "2021-08-14T18:00:30.382401Z",
     "start_time": "2021-08-14T18:00:03.721Z"
    }
   },
   "outputs": [
    {
     "name": "stdout",
     "output_type": "stream",
     "text": [
      "65\n",
      "57\n"
     ]
    }
   ],
   "source": [
    "# use ord() for the ordinal or convert a charcater to its ascii value\n",
    "print(ord(\"A\"))  # 65\n",
    "print(ord(\"9\"))  # 57"
   ]
  },
  {
   "cell_type": "code",
   "execution_count": 6,
   "id": "4166f20b",
   "metadata": {
    "ExecuteTime": {
     "end_time": "2021-08-14T18:00:30.385204Z",
     "start_time": "2021-08-14T18:00:03.731Z"
    }
   },
   "outputs": [
    {
     "name": "stdout",
     "output_type": "stream",
     "text": [
      "A\n",
      "9\n"
     ]
    }
   ],
   "source": [
    "# use chr() for the charcater or convert a ascii to its charcater value\n",
    "print(chr(65))  # A\n",
    "print(chr(57))  # 9"
   ]
  },
  {
   "cell_type": "markdown",
   "id": "80d00eb5",
   "metadata": {},
   "source": [
    "# string slixcing"
   ]
  },
  {
   "cell_type": "code",
   "execution_count": 7,
   "id": "f2fc422c",
   "metadata": {
    "ExecuteTime": {
     "end_time": "2021-08-14T18:00:30.387967Z",
     "start_time": "2021-08-14T18:00:03.745Z"
    }
   },
   "outputs": [
    {
     "name": "stdout",
     "output_type": "stream",
     "text": [
      "amazing\n",
      "amazing\n",
      "amazing\n",
      "amazing\n",
      "ama\n",
      "azi\n",
      "azin\n"
     ]
    }
   ],
   "source": [
    "# THE SYNATAX TO SLICE A STRING IS S[M:N:STEPS]\n",
    "word = \"amazing\"\n",
    "\n",
    "print(word[0:7])  # amazing\n",
    "print(word[0:])  # amazing\n",
    "print(word[:7])  # amazing\n",
    "print(word[:])  # amazing\n",
    "\n",
    "print(word[0:3])  # ama\n",
    "\n",
    "print(word[2:5])  # azing\n",
    "\n",
    "print(word[-5:-1])  # azin\n",
    "\n",
    "# in slicing the index n is not included of s[m:n:steps]"
   ]
  },
  {
   "cell_type": "code",
   "execution_count": 8,
   "id": "9fe2bcd1",
   "metadata": {
    "ExecuteTime": {
     "end_time": "2021-08-14T18:00:30.390633Z",
     "start_time": "2021-08-14T18:00:03.755Z"
    }
   },
   "outputs": [
    {
     "name": "stdout",
     "output_type": "stream",
     "text": [
      "mzn\n",
      "az\n",
      "giaa\n",
      "gnizama\n"
     ]
    }
   ],
   "source": [
    "print(word[1:6:2])  # mzn\n",
    "print(word[-7:-3:3])  # az\n",
    "print(word[::-2])  # giaa\n",
    "\n",
    "# easy way to reverse a string\n",
    "print(word[::-1])  # gnizama"
   ]
  },
  {
   "cell_type": "code",
   "execution_count": 9,
   "id": "bf8ca780",
   "metadata": {
    "ExecuteTime": {
     "end_time": "2021-08-14T18:00:30.393309Z",
     "start_time": "2021-08-14T18:00:03.765Z"
    }
   },
   "outputs": [
    {
     "data": {
      "text/plain": [
       "''"
      ]
     },
     "execution_count": 9,
     "metadata": {},
     "output_type": "execute_result"
    }
   ],
   "source": [
    "# it not give error if out of bound\n",
    "word[15:20]  # GIVES EMPTY STRING"
   ]
  },
  {
   "cell_type": "markdown",
   "id": "39b8d096",
   "metadata": {},
   "source": [
    "\n",
    "\n",
    "\n",
    "\n",
    "\n",
    "\n",
    "\n",
    "\n",
    "\n",
    "\n",
    "\n",
    "\n",
    "\n",
    "\n",
    "\n",
    "\n",
    "\n",
    "\n",
    "\n",
    "\n",
    "\n",
    "\n",
    "\n",
    "\n",
    "\n",
    "\n",
    "\n",
    "\n",
    "\n",
    "\n",
    "\n",
    "\n",
    "\n",
    "\n",
    "\n",
    "\n",
    "\n",
    "\n",
    "\n",
    "\n",
    "\n",
    "\n",
    "\n",
    "\n",
    "\n",
    "\n",
    "\n",
    "\n",
    "# PRINT BELOW WITHOUT NESTED LOOPS:\n",
    "## #\n",
    "\n",
    "## ##\n",
    "\n",
    "## ###\n",
    "\n",
    "## ####"
   ]
  },
  {
   "cell_type": "code",
   "execution_count": 10,
   "id": "c39842f4",
   "metadata": {
    "ExecuteTime": {
     "end_time": "2021-08-14T18:00:30.396057Z",
     "start_time": "2021-08-14T18:00:03.778Z"
    }
   },
   "outputs": [
    {
     "name": "stdout",
     "output_type": "stream",
     "text": [
      "# \n",
      "# # \n",
      "# # # \n",
      "# # # # \n"
     ]
    }
   ],
   "source": [
    "for i in range(4):\n",
    "    print(\"# \"*(i+1))"
   ]
  },
  {
   "cell_type": "markdown",
   "id": "d414ee99",
   "metadata": {},
   "source": [
    "# string function and methods"
   ]
  },
  {
   "cell_type": "markdown",
   "id": "fa51096b",
   "metadata": {
    "ExecuteTime": {
     "end_time": "2021-08-08T04:40:46.752458Z",
     "start_time": "2021-08-08T04:40:46.748121Z"
    }
   },
   "source": [
    "# THE SYNATAX TO CALL ANY STRING FUNCTION IS:\n",
    "## stringobject.methodname()"
   ]
  },
  {
   "cell_type": "code",
   "execution_count": 11,
   "id": "7c7de8ca",
   "metadata": {
    "ExecuteTime": {
     "end_time": "2021-08-14T18:00:30.398724Z",
     "start_time": "2021-08-14T18:00:03.795Z"
    }
   },
   "outputs": [
    {
     "name": "stdout",
     "output_type": "stream",
     "text": [
      "Rahul dhanola\n"
     ]
    }
   ],
   "source": [
    "# capitalize()\n",
    "s = \"rahul dhanola\"\n",
    "\n",
    "# returs a copy of string with the first capital is scapitalize\n",
    "print(s.capitalize())"
   ]
  },
  {
   "cell_type": "code",
   "execution_count": 12,
   "id": "f22136fb",
   "metadata": {
    "ExecuteTime": {
     "end_time": "2021-08-14T18:00:30.401632Z",
     "start_time": "2021-08-14T18:00:03.805Z"
    }
   },
   "outputs": [
    {
     "name": "stdout",
     "output_type": "stream",
     "text": [
      "6\n",
      "6\n"
     ]
    }
   ],
   "source": [
    "# find(sub,start,end)\n",
    "\n",
    "s = \"rahul dhanola\"\n",
    "\n",
    "# returns the lowest index where the substring found in the gioven range\n",
    "print(s.find(\"dhan\"))\n",
    "\n",
    "sub = \"dhan\"\n",
    "\n",
    "# returns the lowest index where the substring found in the gioven range\n",
    "print(s.find(sub, 0, len(s)))"
   ]
  },
  {
   "cell_type": "code",
   "execution_count": 13,
   "id": "71c1d669",
   "metadata": {
    "ExecuteTime": {
     "end_time": "2021-08-14T18:00:30.404402Z",
     "start_time": "2021-08-14T18:00:03.814Z"
    }
   },
   "outputs": [
    {
     "name": "stdout",
     "output_type": "stream",
     "text": [
      "True\n",
      "False\n"
     ]
    }
   ],
   "source": [
    "# isalnum()\n",
    "s = \"rahuldhanola\"\n",
    "\n",
    "s1 = ' '\n",
    "\n",
    "# returns true if sting conatin alphanumberis and there is atleast one character else false\n",
    "print(s.isalnum())\n",
    "\n",
    "print(s1.isalnum())  # returns true if sting conatin alphanumberis else false"
   ]
  },
  {
   "cell_type": "code",
   "execution_count": 14,
   "id": "37935484",
   "metadata": {
    "ExecuteTime": {
     "end_time": "2021-08-14T18:00:30.407027Z",
     "start_time": "2021-08-14T18:00:03.824Z"
    }
   },
   "outputs": [
    {
     "name": "stdout",
     "output_type": "stream",
     "text": [
      "True\n",
      "False\n",
      "False\n",
      "False\n"
     ]
    }
   ],
   "source": [
    "# isalpha()\n",
    "s = \"rahuldhanola\"\n",
    "\n",
    "s1 = ' '\n",
    "\n",
    "s3 = '1234rahul'\n",
    "\n",
    "s4 = '621578'\n",
    "\n",
    "# returns true if sting conatin alphabet and there is atleast one character else false\n",
    "print(s.isalpha())\n",
    "\n",
    "print(s1.isalpha())  # returns true if sting conatin alphabet else false\n",
    "\n",
    "# returns true if sting conatin alphabet and there is atleast one character else false\n",
    "print(s3.isalpha())\n",
    "\n",
    "# returns true if sting conatin alphabet and there is atleast one character else false\n",
    "print(s4.isalpha())"
   ]
  },
  {
   "cell_type": "code",
   "execution_count": 15,
   "id": "3990e8ac",
   "metadata": {
    "ExecuteTime": {
     "end_time": "2021-08-14T18:00:30.409724Z",
     "start_time": "2021-08-14T18:00:03.834Z"
    }
   },
   "outputs": [
    {
     "name": "stdout",
     "output_type": "stream",
     "text": [
      "False\n",
      "False\n",
      "False\n",
      "True\n"
     ]
    }
   ],
   "source": [
    "# isdigit()\n",
    "s = \"rahuldhanola\"\n",
    "\n",
    "s1 = ' '\n",
    "\n",
    "s3 = '1234rahul'\n",
    "\n",
    "s4 = '621578'\n",
    "\n",
    "# returns true if sting conatin digit and there is atleast one character else false\n",
    "print(s.isdigit())\n",
    "\n",
    "print(s1.isdigit())  # returns true if sting conatin digit else false\n",
    "\n",
    "# returns true if sting conatin digit and there is atleast one character else false\n",
    "print(s3.isdigit())\n",
    "\n",
    "# returns true if sting conatin digit and there is atleast one character else false\n",
    "print(s4.isdigit())"
   ]
  },
  {
   "cell_type": "code",
   "execution_count": 16,
   "id": "5ff35da0",
   "metadata": {
    "ExecuteTime": {
     "end_time": "2021-08-14T18:00:30.412445Z",
     "start_time": "2021-08-14T18:00:03.844Z"
    }
   },
   "outputs": [
    {
     "name": "stdout",
     "output_type": "stream",
     "text": [
      "True\n",
      "False\n",
      "False\n",
      "False\n"
     ]
    }
   ],
   "source": [
    "# islower()\n",
    "s = \"rahuldhanola\"\n",
    "\n",
    "s1 = ' '\n",
    "\n",
    "s3 = '1234RAHUL'\n",
    "\n",
    "s4 = 'RAHUL'\n",
    "\n",
    "# returns true if sting conatin lowercase character and there is atleast one character else false\n",
    "print(s.islower())\n",
    "\n",
    "print(s1.islower())  # returns true if sting conatin lowercase character else false\n",
    "\n",
    "# returns true if sting conatin lowercase character and there is atleast one character else false\n",
    "print(s3.islower())\n",
    "\n",
    "# returns true if sting conatin lowercase character and there is atleast one character else false\n",
    "print(s4.islower())"
   ]
  },
  {
   "cell_type": "code",
   "execution_count": 17,
   "id": "67901ba7",
   "metadata": {
    "ExecuteTime": {
     "end_time": "2021-08-14T18:00:30.415370Z",
     "start_time": "2021-08-14T18:00:03.853Z"
    }
   },
   "outputs": [
    {
     "name": "stdout",
     "output_type": "stream",
     "text": [
      "RAHULDHANOLA\n",
      " \n",
      "1234RAHUL\n",
      "RAHUL\n"
     ]
    }
   ],
   "source": [
    "# upper()\n",
    "s = \"rahuldhanola\"\n",
    "\n",
    "s1 = ' '\n",
    "\n",
    "s3 = '1234RAHUL'\n",
    "\n",
    "s4 = 'RAHUL'\n",
    "\n",
    "# returns true if sting conatin upperacse character and there is atleast one character else false\n",
    "print(s.upper())\n",
    "\n",
    "print(s1.upper())  # returns true if sting conatin upperacse character else false\n",
    "\n",
    "# returns true if sting conatin upperacse character and there is atleast one character else false\n",
    "print(s3.upper())\n",
    "\n",
    "# returns true if sting conatin upperacse character and there is atleast one character else false\n",
    "print(s4.upper())"
   ]
  },
  {
   "cell_type": "code",
   "execution_count": 18,
   "id": "a214f037",
   "metadata": {
    "ExecuteTime": {
     "end_time": "2021-08-14T18:00:30.418185Z",
     "start_time": "2021-08-14T18:00:03.863Z"
    }
   },
   "outputs": [
    {
     "name": "stdout",
     "output_type": "stream",
     "text": [
      "False\n",
      "True\n",
      "False\n",
      "False\n"
     ]
    }
   ],
   "source": [
    "# isspace()\n",
    "s = \"rahuldhanola\"\n",
    "\n",
    "s1 = ' '\n",
    "\n",
    "s3 = '1234RAHUL'\n",
    "\n",
    "s4 = 'RAHUL'\n",
    "\n",
    "# returns true if sting conatin space and there is atleast one character else false\n",
    "print(s.isspace())\n",
    "\n",
    "print(s1.isspace())  # returns true if sting conatin space else false\n",
    "\n",
    "# returns true if sting conatin space and there is atleast one character else false\n",
    "print(s3.isspace())\n",
    "\n",
    "# returns true if sting conatin space and there is atleast one character else false\n",
    "print(s4.isspace())"
   ]
  },
  {
   "cell_type": "code",
   "execution_count": 19,
   "id": "27a098a3",
   "metadata": {
    "ExecuteTime": {
     "end_time": "2021-08-14T18:00:30.420881Z",
     "start_time": "2021-08-14T18:00:03.873Z"
    }
   },
   "outputs": [
    {
     "name": "stdout",
     "output_type": "stream",
     "text": [
      "rahuldhanola\n",
      " \n",
      "1234rahul\n",
      "rahul\n"
     ]
    }
   ],
   "source": [
    "# lower()\n",
    "s = \"rahuldhanola\"\n",
    "\n",
    "s1 = ' '\n",
    "\n",
    "s3 = '1234RAHUL'\n",
    "\n",
    "s4 = 'RAHUL'\n",
    "\n",
    "print(s.lower())  # returns a copy of stingconversted to lowerscase\n",
    "\n",
    "print(s1.lower())  # returns a copy of stingconversted to lowerscase\n",
    "\n",
    "print(s3.lower())  # returns a copy of stingconversted to lowerscase\n",
    "\n",
    "print(s4.lower())  # returns a copy of stingconversted to lowerscase"
   ]
  },
  {
   "cell_type": "code",
   "execution_count": 20,
   "id": "ff495b33",
   "metadata": {
    "ExecuteTime": {
     "end_time": "2021-08-14T18:00:30.423419Z",
     "start_time": "2021-08-14T18:00:03.883Z"
    }
   },
   "outputs": [
    {
     "name": "stdout",
     "output_type": "stream",
     "text": [
      "RAHULDHANOLA\n",
      " \n",
      "1234RAHUL\n",
      "RAHUL\n"
     ]
    }
   ],
   "source": [
    "# upper()\n",
    "s = \"rahuldhanola\"\n",
    "\n",
    "s1 = ' '\n",
    "\n",
    "s3 = '1234RAHUL'\n",
    "\n",
    "s4 = 'RAHUL'\n",
    "\n",
    "print(s.upper())  # returns a copy of stingconversted to uppercase\n",
    "\n",
    "print(s1.upper())  # returns a copy of stingconversted to uppercase\n",
    "\n",
    "print(s3.upper())  # returns a copy of stingconversted to uppercase\n",
    "\n",
    "print(s4.upper())  # returns a copy of stingconversted to uppercase"
   ]
  },
  {
   "cell_type": "code",
   "execution_count": 178,
   "id": "36ba186f",
   "metadata": {
    "ExecuteTime": {
     "end_time": "2021-08-14T18:00:30.426145Z",
     "start_time": "2021-08-14T18:00:03.893Z"
    }
   },
   "outputs": [
    {
     "name": "stdout",
     "output_type": "stream",
     "text": [
      "rahuldhanola\n",
      "\n",
      "\n"
     ]
    }
   ],
   "source": [
    "# lstrip()\n",
    "s = \"rahuldhanola\"\n",
    "\n",
    "s1 = ' '\n",
    "\n",
    "s3 = '1234RAHUL'\n",
    "\n",
    "s4 = 'RAHUL'\n",
    "\n",
    "# returns a copy of with the trailing characters in any regex are removed\n",
    "print(s.lstrip(\"hul\"))\n",
    "\n",
    "# returns a copy of with the trailing characters in any regex are removed\n",
    "print(s1.lstrip())\n",
    "\n",
    "# if no argument pased then remove the whitespacwes\n",
    "\n",
    "# returns a copy of with the trailing characters in any regex are removed\n",
    "print(s1.lstrip())"
   ]
  },
  {
   "cell_type": "code",
   "execution_count": 179,
   "id": "803e35b8",
   "metadata": {
    "ExecuteTime": {
     "end_time": "2021-08-14T18:00:30.428846Z",
     "start_time": "2021-08-14T18:00:03.904Z"
    }
   },
   "outputs": [
    {
     "name": "stdout",
     "output_type": "stream",
     "text": [
      "rahuldhanola\n",
      "\n",
      "\n"
     ]
    }
   ],
   "source": [
    "# rstrip()\n",
    "s = \"rahuldhanola\"\n",
    "\n",
    "s1 = ' '\n",
    "\n",
    "s3 = '1234RAHUL'\n",
    "\n",
    "s4 = 'RAHUL'\n",
    "\n",
    "# returns a copy of with the trailing characters in any regex are removed\n",
    "print(s.rstrip(\"hul\"))\n",
    "\n",
    "# returns a copy of with the trailing characters in any regex are removed\n",
    "print(s1.rstrip())\n",
    "\n",
    "# if no argument pased then remove the whitespacwes\n",
    "\n",
    "# returns a copy of with the trailing characters in any regex are removed\n",
    "print(s1.rstrip())"
   ]
  },
  {
   "cell_type": "code",
   "execution_count": 180,
   "id": "37eecda9",
   "metadata": {
    "ExecuteTime": {
     "end_time": "2021-08-14T18:00:30.431465Z",
     "start_time": "2021-08-14T18:00:03.915Z"
    }
   },
   "outputs": [
    {
     "name": "stdout",
     "output_type": "stream",
     "text": [
      "gamapadhanisa\n",
      "gamapadhanisa\n",
      "saregamapadhani\n",
      "saregamapadhani\n"
     ]
    }
   ],
   "source": [
    "# eg of lstroip() and rstrip()\n",
    "\n",
    "print(\"saregamapadhanisa\".lstrip(\"tears\"))\n",
    "\n",
    "print(\"saregamapadhanisa\".lstrip(\"races\"))\n",
    "\n",
    "print(\"saregamapadhanisa\".rstrip(\"tears\"))\n",
    "\n",
    "print(\"saregamapadhanisa\".rstrip(\"races\"))"
   ]
  },
  {
   "cell_type": "code",
   "execution_count": 181,
   "id": "c869f361",
   "metadata": {
    "ExecuteTime": {
     "end_time": "2021-08-14T18:00:30.434261Z",
     "start_time": "2021-08-14T18:00:03.925Z"
    }
   },
   "outputs": [
    {
     "name": "stdout",
     "output_type": "stream",
     "text": [
      "5\n"
     ]
    }
   ],
   "source": [
    "# len()\n",
    "print(len(\"rahul\"))  # returns the string length"
   ]
  },
  {
   "cell_type": "markdown",
   "id": "9e54560a",
   "metadata": {
    "ExecuteTime": {
     "end_time": "2021-08-08T06:10:40.821715Z",
     "start_time": "2021-08-08T06:10:40.818025Z"
    }
   },
   "source": [
    "# program to input a line ands print sats as:\n",
    "## number of upperase letters\n",
    "## number of lowearcse letters\n",
    "## number of alphabets\n",
    "## number of digits"
   ]
  },
  {
   "cell_type": "code",
   "execution_count": 182,
   "id": "bc1e06b4",
   "metadata": {
    "ExecuteTime": {
     "end_time": "2021-08-14T18:00:30.436917Z",
     "start_time": "2021-08-14T18:00:03.939Z"
    }
   },
   "outputs": [
    {
     "name": "stdout",
     "output_type": "stream",
     "text": [
      "enter the string: hello there\n",
      "the number of upper letters: 0 \n",
      "the number of lower letters: 10 \n",
      " the number of alphabets: 10 \n",
      "the number of digits: 0\n"
     ]
    }
   ],
   "source": [
    "s = input(\"enter the string: \")\n",
    "up = lo = dig = 0\n",
    "for i in s:\n",
    "    if(i.isupper()):\n",
    "        up += 1\n",
    "    elif(i.islower()):\n",
    "        lo += 1\n",
    "    elif(i.isdigit()):\n",
    "        dig += 1\n",
    "    else:\n",
    "        continue\n",
    "print(\"the number of upper letters:\", up, \"\\nthe number of lower letters:\",\n",
    "      lo, \"\\n the number of alphabets:\", lo+up, \"\\nthe number of digits:\", dig)"
   ]
  },
  {
   "cell_type": "markdown",
   "id": "694625c1",
   "metadata": {},
   "source": [
    "# program to take a string and substring and find the number of occurence  of substring int it"
   ]
  },
  {
   "cell_type": "code",
   "execution_count": 183,
   "id": "b0d32c4a",
   "metadata": {
    "ExecuteTime": {
     "end_time": "2021-08-14T18:00:30.439479Z",
     "start_time": "2021-08-14T18:00:03.952Z"
    }
   },
   "outputs": [
    {
     "name": "stdout",
     "output_type": "stream",
     "text": [
      "enter the string: hello there\n",
      "enter the substring: hi\n",
      "the number iof ocuurrences of substring is: 0\n"
     ]
    }
   ],
   "source": [
    "s = input(\"enter the string: \")\n",
    "sub = input(\"enter the substring: \")\n",
    "count = pos = 0\n",
    "while(True):\n",
    "    if(sub in s[pos:]):\n",
    "        count += 1\n",
    "        pos = s.find(sub, pos, len(s))+1\n",
    "    else:\n",
    "        break\n",
    "print(\"the number iof ocuurrences of substring is:\", count)"
   ]
  },
  {
   "cell_type": "markdown",
   "id": "a3e7f357",
   "metadata": {},
   "source": [
    "# take a sentebnce as input and capitalize each word of it and form a new string"
   ]
  },
  {
   "cell_type": "code",
   "execution_count": 184,
   "id": "5ab500d8",
   "metadata": {
    "ExecuteTime": {
     "end_time": "2021-08-14T18:00:30.441936Z",
     "start_time": "2021-08-14T18:00:03.965Z"
    }
   },
   "outputs": [
    {
     "name": "stdout",
     "output_type": "stream",
     "text": [
      "enter the string: hello there\n",
      "the new string is:  Hello There\n"
     ]
    }
   ],
   "source": [
    "s = input(\"enter the string: \")\n",
    "nstr = ''\n",
    "for i in range(len(s)):\n",
    "    if(s[i] == \" \"):\n",
    "        while(s[i] == \" \"):\n",
    "            nstr += s[i]\n",
    "            i += 1\n",
    "    elif(i == 0):\n",
    "        nstr += s[i].capitalize()\n",
    "    elif(s[i-1] == \" \" and s[i+1].isalpha()):\n",
    "        nstr += s[i].capitalize()\n",
    "    else:\n",
    "        nstr += s[i]\n",
    "print(\"the new string is: \", nstr)"
   ]
  },
  {
   "cell_type": "markdown",
   "id": "7685cb64",
   "metadata": {
    "ExecuteTime": {
     "end_time": "2021-08-08T06:52:02.971453Z",
     "start_time": "2021-08-08T06:52:02.963700Z"
    }
   },
   "source": [
    "# check string is palindrome or not"
   ]
  },
  {
   "cell_type": "code",
   "execution_count": 185,
   "id": "cd60480d",
   "metadata": {
    "ExecuteTime": {
     "end_time": "2021-08-14T18:00:30.444201Z",
     "start_time": "2021-08-14T18:00:03.979Z"
    }
   },
   "outputs": [
    {
     "name": "stdout",
     "output_type": "stream",
     "text": [
      "enter tren string: hello there\n",
      "palindrome not@!!!!\n"
     ]
    }
   ],
   "source": [
    "s = input(\"enter tren string: \")\n",
    "for i in range((len(s)//2)+1):\n",
    "    if(s[i] == s[-i-1]):\n",
    "        flag = True\n",
    "    else:\n",
    "        flag = False\n",
    "        break\n",
    "else:\n",
    "    print(\"palindrome is there!!!\")\n",
    "if(flag == False):\n",
    "    print(\"palindrome not@!!!!\")"
   ]
  },
  {
   "cell_type": "markdown",
   "id": "b13e45a3",
   "metadata": {},
   "source": [
    "# program that reads a string and display the longest substring of the string having just the consonants"
   ]
  },
  {
   "cell_type": "code",
   "execution_count": 123,
   "id": "f59bed42",
   "metadata": {},
   "outputs": [
    {
     "name": "stdout",
     "output_type": "stream",
     "text": [
      "enter the string: aeioupqrs\n",
      "the longest substring is:  pqrs\n"
     ]
    }
   ],
   "source": [
    "s=input(\"enter the string: \")\n",
    "for i in range(len(s)):\n",
    "    if(\"e\" in s[i:] or \"E\" in s[i:] or \"a\" in s[i:] or \"A\" in s[i:] or \"i\" in s[i:] or \"I\" in s[i:] or \"o\" in s[i:] or \"O\" in s[i:] or \"u\" in s[i:] or \"U\" in s[i:]):\n",
    "        continue\n",
    "    else:\n",
    "        print(\"the longest substring is: \",s[i:])\n",
    "        break\n",
    "        "
   ]
  },
  {
   "cell_type": "markdown",
   "id": "56a21a47",
   "metadata": {},
   "source": [
    "# write program to take a email id and check it have thes pcified domain. (assume that no invalid characters in mail)"
   ]
  },
  {
   "cell_type": "code",
   "execution_count": 186,
   "id": "8b65b013",
   "metadata": {
    "ExecuteTime": {
     "end_time": "2021-08-14T18:00:30.446408Z",
     "start_time": "2021-08-14T18:00:03.996Z"
    }
   },
   "outputs": [
    {
     "name": "stdout",
     "output_type": "stream",
     "text": [
      "enter the domain: @gmail.com\n",
      "enter the mail: xyz@gmail.com\n",
      "it is valid mail\n"
     ]
    }
   ],
   "source": [
    "domain = input(\"enter the domain: \")\n",
    "mail = input(\"enter the mail: \")\n",
    "if(domain in mail and len(mail) > len(domain)):\n",
    "    print(\"it is valid mail\")\n",
    "else:\n",
    "    print(\"it's not of any domain!!! try again\")"
   ]
  },
  {
   "cell_type": "markdown",
   "id": "19778170",
   "metadata": {},
   "source": [
    "# input a strin g and capitalize each other letter"
   ]
  },
  {
   "cell_type": "code",
   "execution_count": 187,
   "id": "790472fa",
   "metadata": {
    "ExecuteTime": {
     "end_time": "2021-08-14T18:00:30.448785Z",
     "start_time": "2021-08-14T18:00:04.009Z"
    }
   },
   "outputs": [
    {
     "name": "stdout",
     "output_type": "stream",
     "text": [
      "enter the string: hello there\n",
      "the new string is:  hElLo tHeRe\n"
     ]
    }
   ],
   "source": [
    "s = input(\"enter the string: \")\n",
    "nstr = ''\n",
    "if(s[0].isupper()):\n",
    "    for i in range(len(s)):\n",
    "        if(i % 2 == 0):\n",
    "            nstr += s[i].upper()\n",
    "        else:\n",
    "            nstr += s[i]\n",
    "else:\n",
    "    for i in range(len(s)):\n",
    "        if(i % 2 == 1):\n",
    "            nstr += s[i].upper()\n",
    "        else:\n",
    "            nstr += s[i]\n",
    "print(\"the new string is: \", nstr)"
   ]
  },
  {
   "cell_type": "markdown",
   "id": "08fdaa95",
   "metadata": {},
   "source": [
    "# DEBUGGING PROGRAMS"
   ]
  },
  {
   "cell_type": "markdown",
   "id": "e013d877",
   "metadata": {
    "ExecuteTime": {
     "end_time": "2021-08-08T07:21:05.339124Z",
     "start_time": "2021-08-08T07:21:05.332248Z"
    }
   },
   "source": [
    "# the nbug arises in a program by eroor or due to exception\n",
    "## the errosr are urther of three types:"
   ]
  },
  {
   "cell_type": "markdown",
   "id": "4dd271bd",
   "metadata": {},
   "source": [
    "# compile time error: they are of two\n",
    "## syntax and symantics"
   ]
  },
  {
   "cell_type": "code",
   "execution_count": 188,
   "id": "5908028d",
   "metadata": {
    "ExecuteTime": {
     "end_time": "2021-08-14T18:00:30.451423Z",
     "start_time": "2021-08-14T18:00:04.028Z"
    }
   },
   "outputs": [
    {
     "ename": "SyntaxError",
     "evalue": "invalid syntax (<ipython-input-188-6837084061aa>, line 4)",
     "output_type": "error",
     "traceback": [
      "\u001b[0;36m  File \u001b[0;32m\"<ipython-input-188-6837084061aa>\"\u001b[0;36m, line \u001b[0;32m4\u001b[0m\n\u001b[0;31m    if(x=(x*y))\u001b[0m\n\u001b[0m        ^\u001b[0m\n\u001b[0;31mSyntaxError\u001b[0m\u001b[0;31m:\u001b[0m invalid syntax\n"
     ]
    }
   ],
   "source": [
    "# synatx error:\n",
    "x = y = z = 0\n",
    "x < --y*z\n",
    "if(x=(x*y))"
   ]
  },
  {
   "cell_type": "code",
   "execution_count": 189,
   "id": "bac1698f",
   "metadata": {
    "ExecuteTime": {
     "end_time": "2021-08-14T18:00:30.454149Z",
     "start_time": "2021-08-14T18:00:04.038Z"
    }
   },
   "outputs": [
    {
     "ename": "SyntaxError",
     "evalue": "cannot assign to operator (<ipython-input-189-c475c696357d>, line 3)",
     "output_type": "error",
     "traceback": [
      "\u001b[0;36m  File \u001b[0;32m\"<ipython-input-189-c475c696357d>\"\u001b[0;36m, line \u001b[0;32m3\u001b[0m\n\u001b[0;31m    x*y = z\u001b[0m\n\u001b[0m    ^\u001b[0m\n\u001b[0;31mSyntaxError\u001b[0m\u001b[0;31m:\u001b[0m cannot assign to operator\n"
     ]
    }
   ],
   "source": [
    "# semantics erroe\n",
    "\n",
    "x*y = z"
   ]
  },
  {
   "cell_type": "markdown",
   "id": "0f9a3a2c",
   "metadata": {
    "ExecuteTime": {
     "end_time": "2021-08-08T07:25:04.445095Z",
     "start_time": "2021-08-08T07:25:04.234658Z"
    }
   },
   "source": [
    "# runtime error: they occur during run time and may or maynot stop the program execution"
   ]
  },
  {
   "cell_type": "code",
   "execution_count": 42,
   "id": "19e41ec5",
   "metadata": {
    "ExecuteTime": {
     "end_time": "2021-08-14T18:00:30.456801Z",
     "start_time": "2021-08-14T18:00:04.051Z"
    }
   },
   "outputs": [
    {
     "ename": "ZeroDivisionError",
     "evalue": "division by zero",
     "output_type": "error",
     "traceback": [
      "\u001b[0;31m---------------------------------------------------------------------------\u001b[0m",
      "\u001b[0;31mZeroDivisionError\u001b[0m                         Traceback (most recent call last)",
      "\u001b[0;32m<ipython-input-42-fe01563e1bc6>\u001b[0m in \u001b[0;36m<module>\u001b[0;34m\u001b[0m\n\u001b[0;32m----> 1\u001b[0;31m \u001b[0mprint\u001b[0m\u001b[0;34m(\u001b[0m\u001b[0;36m10\u001b[0m\u001b[0;34m/\u001b[0m\u001b[0;36m0\u001b[0m\u001b[0;34m)\u001b[0m\u001b[0;34m\u001b[0m\u001b[0;34m\u001b[0m\u001b[0m\n\u001b[0m",
      "\u001b[0;31mZeroDivisionError\u001b[0m: division by zero"
     ]
    }
   ],
   "source": [
    "print(10/0)"
   ]
  },
  {
   "cell_type": "markdown",
   "id": "66491128",
   "metadata": {},
   "source": [
    "# logical error: arise dur to improp[er logic implement]"
   ]
  },
  {
   "cell_type": "code",
   "execution_count": 43,
   "id": "0e8efc1f",
   "metadata": {
    "ExecuteTime": {
     "end_time": "2021-08-14T18:00:30.459345Z",
     "start_time": "2021-08-14T18:00:04.065Z"
    }
   },
   "outputs": [
    {
     "ename": "NameError",
     "evalue": "name 'alpha' is not defined",
     "output_type": "error",
     "traceback": [
      "\u001b[0;31m---------------------------------------------------------------------------\u001b[0m",
      "\u001b[0;31mNameError\u001b[0m                                 Traceback (most recent call last)",
      "\u001b[0;32m<ipython-input-43-1eafb72ab1da>\u001b[0m in \u001b[0;36m<module>\u001b[0;34m\u001b[0m\n\u001b[0;32m----> 1\u001b[0;31m \u001b[0mprint\u001b[0m\u001b[0;34m(\u001b[0m\u001b[0malpha\u001b[0m\u001b[0;34m)\u001b[0m\u001b[0;34m\u001b[0m\u001b[0;34m\u001b[0m\u001b[0m\n\u001b[0m\u001b[1;32m      2\u001b[0m \u001b[0malpha\u001b[0m \u001b[0;34m=\u001b[0m \u001b[0;36m0\u001b[0m\u001b[0;34m\u001b[0m\u001b[0;34m\u001b[0m\u001b[0m\n",
      "\u001b[0;31mNameError\u001b[0m: name 'alpha' is not defined"
     ]
    }
   ],
   "source": [
    "print(alpha)\n",
    "alpha = 0"
   ]
  },
  {
   "cell_type": "markdown",
   "id": "ad76d1ec",
   "metadata": {},
   "source": [
    "# EXCEPTIONS"
   ]
  },
  {
   "cell_type": "markdown",
   "id": "d80e5089",
   "metadata": {
    "ExecuteTime": {
     "end_time": "2021-08-08T07:29:38.980912Z",
     "start_time": "2021-08-08T07:29:38.977294Z"
    }
   },
   "source": [
    "# it is an irregular unexpected situatiuon occur on which programmwr jhave no control\n",
    "## like memory overflow or no kernrel"
   ]
  },
  {
   "cell_type": "markdown",
   "id": "51edcf08",
   "metadata": {
    "ExecuteTime": {
     "end_time": "2021-08-08T07:30:02.963913Z",
     "start_time": "2021-08-08T07:30:02.956063Z"
    }
   },
   "source": [
    "# EXCEPTION HADLING IN PYTHON"
   ]
  },
  {
   "cell_type": "markdown",
   "id": "5ce3ae53",
   "metadata": {
    "ExecuteTime": {
     "end_time": "2021-08-08T07:30:50.352154Z",
     "start_time": "2021-08-08T07:30:50.345603Z"
    }
   },
   "source": [
    "# IN PYTHON THE EXCEPTION IS HANDLED BY TRY AND EXCEPT BLOCK\n",
    "## try block have statement that can cause an exception\n",
    "## and except have the statemnt to run if exception occur"
   ]
  },
  {
   "cell_type": "code",
   "execution_count": 44,
   "id": "f017ae59",
   "metadata": {
    "ExecuteTime": {
     "end_time": "2021-08-14T18:00:30.461978Z",
     "start_time": "2021-08-14T18:00:04.089Z"
    }
   },
   "outputs": [
    {
     "name": "stdout",
     "output_type": "stream",
     "text": [
      "sorry error occured due to xzero division\n"
     ]
    }
   ],
   "source": [
    "try:\n",
    "    print(10/0)\n",
    "except:\n",
    "    print(\"sorry error occured due to xzero division\")"
   ]
  },
  {
   "cell_type": "markdown",
   "id": "7f7986a6",
   "metadata": {},
   "source": [
    "# LIST MANIPULATION"
   ]
  },
  {
   "cell_type": "code",
   "execution_count": 45,
   "id": "709e82fd",
   "metadata": {
    "ExecuteTime": {
     "end_time": "2021-08-14T18:00:30.464378Z",
     "start_time": "2021-08-14T18:00:04.104Z"
    }
   },
   "outputs": [],
   "source": [
    "# lists in the python are the mutable datatypes and cabn have collection of different datatypes\n",
    "l = list()  # creates an empty list\n",
    "l = []  # creates an empty list\n",
    "l = [1, 2, 3, 4, \"rahul\", \"vidhi\"]"
   ]
  },
  {
   "cell_type": "code",
   "execution_count": 46,
   "id": "c9ce65cc",
   "metadata": {
    "ExecuteTime": {
     "end_time": "2021-08-14T18:00:30.466893Z",
     "start_time": "2021-08-14T18:00:04.114Z"
    }
   },
   "outputs": [
    {
     "name": "stdout",
     "output_type": "stream",
     "text": [
      "[1, 2, 3, 4, 4, 46563, 4634, 4343, 4354, 'rahgul', 5435, 54, 3, 'rahul', 35463, '43543', 4363, 'n']\n",
      "[1, 2, 3, 4, 5, 6, [7, 8, 9, 0], 1, 1, 2, 3, 4, 5, 65]\n"
     ]
    }
   ],
   "source": [
    "# a long list can be wriiten in seperate lines also\n",
    "l = [1, 2, 3, 4, 4, 46563, 4634, 4343, 4354, \"rahgul\",\n",
    "     5435, 54, 3, \"rahul\", 35463, \"43543\", 4363, \"n\"]\n",
    "print(l)\n",
    "l = [1, 2, 3, 4, 5, 6, [7, 8, 9, 0], 1, 1, 2, 3, 4, 5, 65]\n",
    "print(l)"
   ]
  },
  {
   "cell_type": "code",
   "execution_count": 48,
   "id": "0767ea8f",
   "metadata": {
    "ExecuteTime": {
     "end_time": "2021-08-14T18:00:30.469839Z",
     "start_time": "2021-08-14T18:00:04.124Z"
    }
   },
   "outputs": [
    {
     "name": "stdout",
     "output_type": "stream",
     "text": [
      "['r', 'a', 'h', 'u', 'l']\n",
      "enter the list elemnts: (2,3,4,\"rs\")\n",
      "['(', '2', ',', '3', ',', '4', ',', '\"', 'r', 's', '\"', ')']\n"
     ]
    }
   ],
   "source": [
    "# list can create from another sequence\n",
    "l = list(\"rahul\")\n",
    "print(l)\n",
    "l1 = list(input(\"enter the list elemnts: \"))\n",
    "print(l1)"
   ]
  },
  {
   "cell_type": "markdown",
   "id": "182696e4",
   "metadata": {},
   "source": [
    "# eval() function"
   ]
  },
  {
   "cell_type": "code",
   "execution_count": 49,
   "id": "51f5ef3a",
   "metadata": {
    "ExecuteTime": {
     "end_time": "2021-08-14T18:00:30.472422Z",
     "start_time": "2021-08-14T18:00:04.137Z"
    }
   },
   "outputs": [
    {
     "name": "stdout",
     "output_type": "stream",
     "text": [
      "5\n",
      "enbter the expression: 44*5\n",
      "220\n"
     ]
    }
   ],
   "source": [
    "# the eval() function can be used to evaluate the result of a expression in string\n",
    "print(eval(\"2+3\"))\n",
    "print(eval(input(\"enbter the expression: \")))"
   ]
  },
  {
   "cell_type": "code",
   "execution_count": 50,
   "id": "2f2ad8e5",
   "metadata": {
    "ExecuteTime": {
     "end_time": "2021-08-14T18:00:30.475037Z",
     "start_time": "2021-08-14T18:00:04.149Z"
    }
   },
   "outputs": [
    {
     "name": "stdout",
     "output_type": "stream",
     "text": [
      "<class 'int'>\n",
      "enbter the expression: 34.45\n",
      "<class 'float'>\n"
     ]
    }
   ],
   "source": [
    "# the eval() function can automatically store the variable of theytype it is\n",
    "integer = eval(\"2+3\")\n",
    "print(type(integer))\n",
    "floating = eval(input(\"enbter the expression: \"))\n",
    "print(type(floating))"
   ]
  },
  {
   "cell_type": "code",
   "execution_count": 51,
   "id": "46a9fa9b",
   "metadata": {
    "ExecuteTime": {
     "end_time": "2021-08-14T18:00:30.477676Z",
     "start_time": "2021-08-14T18:00:04.159Z"
    }
   },
   "outputs": [
    {
     "name": "stdout",
     "output_type": "stream",
     "text": [
      "enter the sequence: (334,53,2,2,\"hi\")\n",
      "type is:  <class 'tuple'>\n",
      "enter the sequence: [2,3,4,53,4]\n",
      "type is:  <class 'list'>\n"
     ]
    }
   ],
   "source": [
    "# eval() can also be used to enter the sequences or list and convert the storing variable to preffered type\n",
    "l = eval(input(\"enter the sequence: \"))\n",
    "print(\"type is: \", type(l))\n",
    "t = eval(input(\"enter the sequence: \"))\n",
    "print(\"type is: \", type(t))"
   ]
  },
  {
   "cell_type": "markdown",
   "id": "64061944",
   "metadata": {},
   "source": [
    "# similarity of list with strings"
   ]
  },
  {
   "cell_type": "code",
   "execution_count": 191,
   "id": "640f3f32",
   "metadata": {
    "ExecuteTime": {
     "end_time": "2021-08-14T18:00:30.480352Z",
     "start_time": "2021-08-14T18:00:04.173Z"
    }
   },
   "outputs": [
    {
     "name": "stdout",
     "output_type": "stream",
     "text": [
      "True 1\n",
      "True 2\n",
      "True 3\n",
      "True 4\n",
      "True 5\n"
     ]
    }
   ],
   "source": [
    "l = [1, 2, 3, 4, 5]\n",
    "print(l[0] == l[-5], l[0])\n",
    "print(l[1] == l[-4], l[1])\n",
    "print(l[2] == l[-3], l[2])\n",
    "print(l[3] == l[-2], l[3])\n",
    "print(l[4] == l[-1], l[4])"
   ]
  },
  {
   "cell_type": "code",
   "execution_count": 192,
   "id": "b0df38c9",
   "metadata": {
    "ExecuteTime": {
     "end_time": "2021-08-14T18:00:30.482842Z",
     "start_time": "2021-08-14T18:00:04.183Z"
    }
   },
   "outputs": [
    {
     "name": "stdout",
     "output_type": "stream",
     "text": [
      "[3, 4, 5]\n"
     ]
    }
   ],
   "source": [
    "# slicing in list is same as strings\n",
    "print(l[2:])"
   ]
  },
  {
   "cell_type": "markdown",
   "id": "f2d1c79f",
   "metadata": {},
   "source": [
    "# the only difference between list and string is that list is mutable while strings are not mutable"
   ]
  },
  {
   "cell_type": "code",
   "execution_count": 193,
   "id": "4f941c98",
   "metadata": {
    "ExecuteTime": {
     "end_time": "2021-08-14T18:00:30.485503Z",
     "start_time": "2021-08-14T18:00:04.196Z"
    }
   },
   "outputs": [
    {
     "name": "stdout",
     "output_type": "stream",
     "text": [
      "['d', 'a', 'h', 'u', 'l']\n"
     ]
    },
    {
     "ename": "TypeError",
     "evalue": "'str' object does not support item assignment",
     "output_type": "error",
     "traceback": [
      "\u001b[0;31m---------------------------------------------------------------------------\u001b[0m",
      "\u001b[0;31mTypeError\u001b[0m                                 Traceback (most recent call last)",
      "\u001b[0;32m<ipython-input-193-655437331ff9>\u001b[0m in \u001b[0;36m<module>\u001b[0;34m\u001b[0m\n\u001b[1;32m      3\u001b[0m \u001b[0mprint\u001b[0m\u001b[0;34m(\u001b[0m\u001b[0ml1\u001b[0m\u001b[0;34m)\u001b[0m\u001b[0;34m\u001b[0m\u001b[0;34m\u001b[0m\u001b[0m\n\u001b[1;32m      4\u001b[0m \u001b[0ml\u001b[0m \u001b[0;34m=\u001b[0m \u001b[0;34m\"rahul\"\u001b[0m\u001b[0;34m\u001b[0m\u001b[0;34m\u001b[0m\u001b[0m\n\u001b[0;32m----> 5\u001b[0;31m \u001b[0ml\u001b[0m\u001b[0;34m[\u001b[0m\u001b[0;36m0\u001b[0m\u001b[0;34m]\u001b[0m \u001b[0;34m=\u001b[0m \u001b[0;34m\"d\"\u001b[0m\u001b[0;34m\u001b[0m\u001b[0;34m\u001b[0m\u001b[0m\n\u001b[0m\u001b[1;32m      6\u001b[0m \u001b[0mprint\u001b[0m\u001b[0;34m(\u001b[0m\u001b[0ml\u001b[0m\u001b[0;34m)\u001b[0m\u001b[0;34m\u001b[0m\u001b[0;34m\u001b[0m\u001b[0m\n",
      "\u001b[0;31mTypeError\u001b[0m: 'str' object does not support item assignment"
     ]
    }
   ],
   "source": [
    "l1 = list(\"rahul\")\n",
    "l1[0] = \"d\"\n",
    "print(l1)\n",
    "l = \"rahul\"\n",
    "l[0] = \"d\"\n",
    "print(l)"
   ]
  },
  {
   "cell_type": "markdown",
   "id": "99eb0e25",
   "metadata": {},
   "source": [
    "# traversing a list is done similar like traversing a sequence"
   ]
  },
  {
   "cell_type": "code",
   "execution_count": 52,
   "id": "d6d85912",
   "metadata": {
    "ExecuteTime": {
     "end_time": "2021-08-14T18:00:30.488151Z",
     "start_time": "2021-08-14T18:00:04.210Z"
    }
   },
   "outputs": [
    {
     "name": "stdout",
     "output_type": "stream",
     "text": [
      "1\n",
      "2\n",
      "3\n",
      "4\n",
      "5\n",
      "rahul\n",
      "vidhi\n",
      "dhanola\n",
      "235\n",
      "553\n",
      "23535\n",
      "35634\n"
     ]
    }
   ],
   "source": [
    "l = [1, 2, 3, 4, 5, \"rahul\", \"vidhi\", \"dhanola\", \"235\", \"553\", 23535, 35634]\n",
    "for elements in l:\n",
    "    print(elements)"
   ]
  },
  {
   "cell_type": "markdown",
   "id": "58df3420",
   "metadata": {},
   "source": [
    "# program to print list elemnts ['q','w','e','r','t','y'] in seperate line along with here both +ve and -ve indexes"
   ]
  },
  {
   "cell_type": "code",
   "execution_count": 53,
   "id": "c34546da",
   "metadata": {
    "ExecuteTime": {
     "end_time": "2021-08-14T18:00:30.490833Z",
     "start_time": "2021-08-14T18:00:04.223Z"
    }
   },
   "outputs": [
    {
     "name": "stdout",
     "output_type": "stream",
     "text": [
      "q 0 -6\n",
      "w 1 -5\n",
      "e 2 -4\n",
      "r 3 -3\n",
      "t 4 -2\n",
      "y 5 -1\n"
     ]
    }
   ],
   "source": [
    "l = ['q', 'w', 'e', 'r', 't', 'y']\n",
    "for i in range(len(l)):\n",
    "    print(l[i], i, -len(l)+i)"
   ]
  },
  {
   "cell_type": "markdown",
   "id": "7b97cc51",
   "metadata": {},
   "source": [
    "# comparing the list"
   ]
  },
  {
   "cell_type": "code",
   "execution_count": 54,
   "id": "c5c61de8",
   "metadata": {
    "ExecuteTime": {
     "end_time": "2021-08-14T18:00:30.493341Z",
     "start_time": "2021-08-14T18:00:04.236Z"
    }
   },
   "outputs": [
    {
     "name": "stdout",
     "output_type": "stream",
     "text": [
      "True\n",
      "False\n",
      "False\n"
     ]
    },
    {
     "ename": "TypeError",
     "evalue": "'<' not supported between instances of 'int' and 'list'",
     "output_type": "error",
     "traceback": [
      "\u001b[0;31m---------------------------------------------------------------------------\u001b[0m",
      "\u001b[0;31mTypeError\u001b[0m                                 Traceback (most recent call last)",
      "\u001b[0;32m<ipython-input-54-1e02c68f5ae8>\u001b[0m in \u001b[0;36m<module>\u001b[0;34m\u001b[0m\n\u001b[1;32m      6\u001b[0m \u001b[0;34m\u001b[0m\u001b[0m\n\u001b[1;32m      7\u001b[0m \u001b[0;31m# the elemnts must be of comparable typpe\u001b[0m\u001b[0;34m\u001b[0m\u001b[0;34m\u001b[0m\u001b[0;34m\u001b[0m\u001b[0m\n\u001b[0;32m----> 8\u001b[0;31m \u001b[0mprint\u001b[0m\u001b[0;34m(\u001b[0m\u001b[0ml1\u001b[0m \u001b[0;34m<\u001b[0m \u001b[0ml3\u001b[0m\u001b[0;34m)\u001b[0m\u001b[0;34m\u001b[0m\u001b[0;34m\u001b[0m\u001b[0m\n\u001b[0m",
      "\u001b[0;31mTypeError\u001b[0m: '<' not supported between instances of 'int' and 'list'"
     ]
    }
   ],
   "source": [
    "l1, l2 = [1, 2, 3], [1, 2, 3]\n",
    "l3 = [1, [2, 3]]\n",
    "print(l1 == l2)\n",
    "print(l1 == l3)\n",
    "print(l1 < l2)\n",
    "\n",
    "# the elemnts must be of comparable typpe\n",
    "print(l1 < l3)"
   ]
  },
  {
   "cell_type": "markdown",
   "id": "2e36dea4",
   "metadata": {},
   "source": [
    "# list operations"
   ]
  },
  {
   "cell_type": "code",
   "execution_count": 55,
   "id": "23af3274",
   "metadata": {
    "ExecuteTime": {
     "end_time": "2021-08-14T18:00:30.495841Z",
     "start_time": "2021-08-14T18:00:04.250Z"
    }
   },
   "outputs": [
    {
     "name": "stdout",
     "output_type": "stream",
     "text": [
      "[1, 2, 3, 4, 5, 6, 7, 8, 9, 0, 0]\n"
     ]
    }
   ],
   "source": [
    "# JOINING TE LIST\n",
    "l1 = [1, 2, 3, 4, 5, 6]\n",
    "l2 = [7, 8, 9, 0, 0]\n",
    "print(l1+l2)"
   ]
  },
  {
   "cell_type": "code",
   "execution_count": 56,
   "id": "a020acef",
   "metadata": {
    "ExecuteTime": {
     "end_time": "2021-08-14T18:00:30.498248Z",
     "start_time": "2021-08-14T18:00:04.260Z"
    }
   },
   "outputs": [
    {
     "name": "stdout",
     "output_type": "stream",
     "text": [
      "[1, 2, 3, 4, 5, 1, 2, 3, 4, 5, 1, 2, 3, 4, 5, 1, 2, 3, 4, 5, 1, 2, 3, 4, 5]\n"
     ]
    }
   ],
   "source": [
    "# replicating list\n",
    "l1 = [1, 2, 3, 4, 5]\n",
    "print(l1*5)"
   ]
  },
  {
   "cell_type": "code",
   "execution_count": 57,
   "id": "c82fdb0f",
   "metadata": {
    "ExecuteTime": {
     "end_time": "2021-08-14T18:00:30.500867Z",
     "start_time": "2021-08-14T18:00:04.269Z"
    }
   },
   "outputs": [
    {
     "name": "stdout",
     "output_type": "stream",
     "text": [
      "[3, 4, 5, 6]\n",
      "[1, 2, 3, 4, 5, 6]\n",
      "[1, 2, 3, 4, 5, 6]\n",
      "[6, 5, 4, 3, 2, 1]\n"
     ]
    }
   ],
   "source": [
    "# slicing is same as strings\n",
    "l1 = [1, 2, 3, 4, 5, 6]\n",
    "print(l1[2:])\n",
    "print(l1[:9])\n",
    "print(l1[:])\n",
    "print(l1[::-1])"
   ]
  },
  {
   "cell_type": "markdown",
   "id": "6be2ef98",
   "metadata": {},
   "source": [
    "# exract two list slice from same list and print the sum of elembnts of foirst list slice which contain every element of list index between index 5 to 15 and porgram also display te average of elents in secod slice that contain every ourth elent of list "
   ]
  },
  {
   "cell_type": "code",
   "execution_count": 58,
   "id": "dad09380",
   "metadata": {
    "ExecuteTime": {
     "end_time": "2021-08-14T18:00:30.503447Z",
     "start_time": "2021-08-14T18:00:04.282Z"
    }
   },
   "outputs": [
    {
     "name": "stdout",
     "output_type": "stream",
     "text": [
      "sum from slicing 1: 50\n",
      "the average foor second slicing is: 9.0\n"
     ]
    }
   ],
   "source": [
    "l = [1, 2, 3, 4, 5, 6, 7, 8, 9, 10, 11, 12, 13, 14, 15, 16, 17, 18, 19, 20]\n",
    "s1 = l[5:15:2]\n",
    "s2 = l[::4]\n",
    "s = 0\n",
    "for i in s1:\n",
    "    s += i\n",
    "print(\"sum from slicing 1:\", s)\n",
    "s = 0\n",
    "for i in s2:\n",
    "    s += i\n",
    "print(\"the average foor second slicing is:\", s/len(s2))"
   ]
  },
  {
   "cell_type": "markdown",
   "id": "208894eb",
   "metadata": {},
   "source": [
    "# using list slice for list modification"
   ]
  },
  {
   "cell_type": "code",
   "execution_count": 59,
   "id": "a3dc26fb",
   "metadata": {
    "ExecuteTime": {
     "end_time": "2021-08-14T18:00:30.506129Z",
     "start_time": "2021-08-14T18:00:04.295Z"
    }
   },
   "outputs": [
    {
     "name": "stdout",
     "output_type": "stream",
     "text": [
      "[0, 1, 'three']\n",
      "[0, 1, '6', '0', '4']\n"
     ]
    }
   ],
   "source": [
    "l = [\"one\", \"two\", \"three\"]\n",
    "l[0:2] = [0, 1]\n",
    "print(l)\n",
    "l[2:] = \"604\"\n",
    "print(l)"
   ]
  },
  {
   "cell_type": "markdown",
   "id": "0f4f484a",
   "metadata": {},
   "source": [
    "# delete and pop in list"
   ]
  },
  {
   "cell_type": "code",
   "execution_count": 60,
   "id": "f612731b",
   "metadata": {
    "ExecuteTime": {
     "end_time": "2021-08-14T18:00:30.508799Z",
     "start_time": "2021-08-14T18:00:04.308Z"
    }
   },
   "outputs": [
    {
     "name": "stdout",
     "output_type": "stream",
     "text": [
      "[1, 2, 3, 4, 5, 7, 8, 9, 10, 11, 12, 13, 14, 15, 16, 17, 18, 19, 20]\n",
      "[1, 2, 3, 4, 5, 7, 16, 17, 18, 19, 20]\n",
      "[1, 2, 3, 4, 5, 7, 16, 17, 18, 19]\n",
      "[1, 2, 3, 5, 7, 16, 17, 18, 19]\n"
     ]
    }
   ],
   "source": [
    "# the delete only deletes a elemnt or a slice while pop only removes a elemnt and not the slice\n",
    "l = [1, 2, 3, 4, 5, 6, 7, 8, 9, 10, 11, 12, 13, 14, 15, 16, 17, 18, 19, 20]\n",
    "del l[5]\n",
    "print(l)\n",
    "del l[6:14]\n",
    "print(l)\n",
    "l.pop()\n",
    "print(l)\n",
    "l.pop(3)\n",
    "print(l)"
   ]
  },
  {
   "cell_type": "markdown",
   "id": "03923993",
   "metadata": {},
   "source": [
    "# making a copy of list"
   ]
  },
  {
   "cell_type": "code",
   "execution_count": 61,
   "id": "34d28d23",
   "metadata": {
    "ExecuteTime": {
     "end_time": "2021-08-14T18:00:30.511206Z",
     "start_time": "2021-08-14T18:00:04.321Z"
    }
   },
   "outputs": [
    {
     "name": "stdout",
     "output_type": "stream",
     "text": [
      "[1, 2, 'rahul', 45, 5]\n",
      "[1, 2, 3, 45, 5]\n"
     ]
    }
   ],
   "source": [
    "# use the list() method to create a copy of a list\n",
    "l1 = [1, 2, 3, 45, 5]\n",
    "l2 = list(l1)\n",
    "l1[2] = \"rahul\"\n",
    "print(l1)  # elents changed\n",
    "print(l2)  # not reflected in this"
   ]
  },
  {
   "cell_type": "markdown",
   "id": "c2d116a6",
   "metadata": {},
   "source": [
    "# list functions\n",
    "## the list function can be called by the listobjec.method()"
   ]
  },
  {
   "cell_type": "code",
   "execution_count": 62,
   "id": "2c782e39",
   "metadata": {
    "ExecuteTime": {
     "end_time": "2021-08-14T18:00:30.513516Z",
     "start_time": "2021-08-14T18:00:04.334Z"
    }
   },
   "outputs": [
    {
     "name": "stdout",
     "output_type": "stream",
     "text": [
      "15\n"
     ]
    },
    {
     "ename": "ValueError",
     "evalue": "35 is not in list",
     "output_type": "error",
     "traceback": [
      "\u001b[0;31m---------------------------------------------------------------------------\u001b[0m",
      "\u001b[0;31mValueError\u001b[0m                                Traceback (most recent call last)",
      "\u001b[0;32m<ipython-input-62-9884b06ae4bc>\u001b[0m in \u001b[0;36m<module>\u001b[0;34m\u001b[0m\n\u001b[1;32m      2\u001b[0m \u001b[0ml\u001b[0m \u001b[0;34m=\u001b[0m \u001b[0;34m[\u001b[0m\u001b[0;36m1\u001b[0m\u001b[0;34m,\u001b[0m \u001b[0;36m2\u001b[0m\u001b[0;34m,\u001b[0m \u001b[0;36m3\u001b[0m\u001b[0;34m,\u001b[0m \u001b[0;36m4\u001b[0m\u001b[0;34m,\u001b[0m \u001b[0;36m5\u001b[0m\u001b[0;34m,\u001b[0m \u001b[0;36m6\u001b[0m\u001b[0;34m,\u001b[0m \u001b[0;36m7\u001b[0m\u001b[0;34m,\u001b[0m \u001b[0;36m8\u001b[0m\u001b[0;34m,\u001b[0m \u001b[0;36m9\u001b[0m\u001b[0;34m,\u001b[0m \u001b[0;36m10\u001b[0m\u001b[0;34m,\u001b[0m \u001b[0;36m11\u001b[0m\u001b[0;34m,\u001b[0m \u001b[0;36m12\u001b[0m\u001b[0;34m,\u001b[0m \u001b[0;36m13\u001b[0m\u001b[0;34m,\u001b[0m \u001b[0;36m14\u001b[0m\u001b[0;34m,\u001b[0m \u001b[0;36m15\u001b[0m\u001b[0;34m,\u001b[0m \u001b[0;36m16\u001b[0m\u001b[0;34m,\u001b[0m \u001b[0;36m17\u001b[0m\u001b[0;34m,\u001b[0m \u001b[0;36m18\u001b[0m\u001b[0;34m,\u001b[0m \u001b[0;36m19\u001b[0m\u001b[0;34m,\u001b[0m \u001b[0;36m20\u001b[0m\u001b[0;34m]\u001b[0m\u001b[0;34m\u001b[0m\u001b[0;34m\u001b[0m\u001b[0m\n\u001b[1;32m      3\u001b[0m \u001b[0mprint\u001b[0m\u001b[0;34m(\u001b[0m\u001b[0ml\u001b[0m\u001b[0;34m.\u001b[0m\u001b[0mindex\u001b[0m\u001b[0;34m(\u001b[0m\u001b[0;36m16\u001b[0m\u001b[0;34m)\u001b[0m\u001b[0;34m)\u001b[0m  \u001b[0;31m# gives the index of elent in list else error\u001b[0m\u001b[0;34m\u001b[0m\u001b[0;34m\u001b[0m\u001b[0m\n\u001b[0;32m----> 4\u001b[0;31m \u001b[0mprint\u001b[0m\u001b[0;34m(\u001b[0m\u001b[0ml\u001b[0m\u001b[0;34m.\u001b[0m\u001b[0mindex\u001b[0m\u001b[0;34m(\u001b[0m\u001b[0;36m35\u001b[0m\u001b[0;34m)\u001b[0m\u001b[0;34m)\u001b[0m  \u001b[0;31m# gives the index of elent in list else error\u001b[0m\u001b[0;34m\u001b[0m\u001b[0;34m\u001b[0m\u001b[0m\n\u001b[0m",
      "\u001b[0;31mValueError\u001b[0m: 35 is not in list"
     ]
    }
   ],
   "source": [
    "# index()\n",
    "l = [1, 2, 3, 4, 5, 6, 7, 8, 9, 10, 11, 12, 13, 14, 15, 16, 17, 18, 19, 20]\n",
    "print(l.index(16))  # gives the index of elent in list else error\n",
    "print(l.index(35))  # gives the index of elent in list else error"
   ]
  },
  {
   "cell_type": "code",
   "execution_count": 63,
   "id": "ed55ff7f",
   "metadata": {
    "ExecuteTime": {
     "end_time": "2021-08-14T18:00:30.515950Z",
     "start_time": "2021-08-14T18:00:04.344Z"
    }
   },
   "outputs": [
    {
     "name": "stdout",
     "output_type": "stream",
     "text": [
      "[1, 2, 3, 4, 5, 6, 7, 8, 9, 10, 11, 12, 13, 14, 15, 16, 17, 18, 19, 20, 'rahul']\n"
     ]
    }
   ],
   "source": [
    "# append()\n",
    "l = [1, 2, 3, 4, 5, 6, 7, 8, 9, 10, 11, 12, 13, 14, 15, 16, 17, 18, 19, 20]\n",
    "l.append(\"rahul\")  # adds the elent to list\n",
    "print(l)\n",
    "# the append() method only changes the original list and not make copy"
   ]
  },
  {
   "cell_type": "code",
   "execution_count": 64,
   "id": "f7cd775b",
   "metadata": {
    "ExecuteTime": {
     "end_time": "2021-08-14T18:00:30.518534Z",
     "start_time": "2021-08-14T18:00:04.353Z"
    }
   },
   "outputs": [
    {
     "name": "stdout",
     "output_type": "stream",
     "text": [
      "[1, 2, 3, 4, 5, 6, 7, 8, 9, 10, 11, 12, 13, 14, 15, 16, 17, 18, 19, 20, 'r', 'a', 'h', 'u', 'l', 'new', 'list']\n",
      "[1, 2, 3, 4, 5, 6, 7, 8, 9, 10, 11, 12, 13, 14, 15, 16, 17, 18, 19, 20, 'r', 'a', 'h', 'u', 'l', 'new', 'list', 'new1', 'list2', 'new3', 'list3']\n"
     ]
    },
    {
     "ename": "TypeError",
     "evalue": "'int' object is not iterable",
     "output_type": "error",
     "traceback": [
      "\u001b[0;31m---------------------------------------------------------------------------\u001b[0m",
      "\u001b[0;31mTypeError\u001b[0m                                 Traceback (most recent call last)",
      "\u001b[0;32m<ipython-input-64-9cb096a320a3>\u001b[0m in \u001b[0;36m<module>\u001b[0;34m\u001b[0m\n\u001b[1;32m     12\u001b[0m \u001b[0;34m\u001b[0m\u001b[0m\n\u001b[1;32m     13\u001b[0m \u001b[0;31m# exetend() can add single elemnt and needs a sequence\u001b[0m\u001b[0;34m\u001b[0m\u001b[0;34m\u001b[0m\u001b[0;34m\u001b[0m\u001b[0m\n\u001b[0;32m---> 14\u001b[0;31m \u001b[0ml1\u001b[0m\u001b[0;34m.\u001b[0m\u001b[0mextend\u001b[0m\u001b[0;34m(\u001b[0m\u001b[0;36m2424\u001b[0m\u001b[0;34m)\u001b[0m  \u001b[0;31m# error\u001b[0m\u001b[0;34m\u001b[0m\u001b[0;34m\u001b[0m\u001b[0m\n\u001b[0m\u001b[1;32m     15\u001b[0m \u001b[0mprint\u001b[0m\u001b[0;34m(\u001b[0m\u001b[0ml\u001b[0m\u001b[0;34m)\u001b[0m\u001b[0;34m\u001b[0m\u001b[0;34m\u001b[0m\u001b[0m\n",
      "\u001b[0;31mTypeError\u001b[0m: 'int' object is not iterable"
     ]
    }
   ],
   "source": [
    "# extend()\n",
    "l = [1, 2, 3, 4, 5, 6, 7, 8, 9, 10, 11, 12, 13, 14, 15, 16, 17, 18, 19, 20]\n",
    "l.extend(\"rahul\")  # adds the elent of a sequence\n",
    "l.extend([\"new\", \"list\"])\n",
    "print(l)\n",
    "# the extend() method only changes the original list and not make copy\n",
    "\n",
    "# there is a difference between append and extend as\n",
    "l.extend([\"new1\", \"list2\"])  # only adds sequence elements\n",
    "l.extend([\"new3\", \"list3\"])  # adds the sequence as one elemnt\n",
    "print(l)\n",
    "\n",
    "# exetend() can add single elemnt and needs a sequence\n",
    "l1.extend(2424)  # error\n",
    "print(l)"
   ]
  },
  {
   "cell_type": "code",
   "execution_count": 65,
   "id": "0b137f74",
   "metadata": {
    "ExecuteTime": {
     "end_time": "2021-08-14T18:00:30.521211Z",
     "start_time": "2021-08-14T18:00:04.364Z"
    }
   },
   "outputs": [
    {
     "name": "stdout",
     "output_type": "stream",
     "text": [
      "[1, 2, 3, 4, 5, 6, 7, 'rahul', 8, 9, 10, 11, 12, 13, 14, 15, 16, 17, 18, 19, 20]\n",
      "21\n",
      "['vidhi', 1, 2, 3, 4, 5, 6, 7, 'rahul', 8, 9, 10, 11, 12, 13, 14, 15, 16, 17, 18, 19, 20]\n"
     ]
    }
   ],
   "source": [
    "# insert()\n",
    "l = [1, 2, 3, 4, 5, 6, 7, 8, 9, 10, 11, 12, 13, 14, 15, 16, 17, 18, 19, 20]\n",
    "l.insert(7, \"rahul\")  # adds the elent to list at given position\n",
    "print(l)\n",
    "# if index is less than 0 and not equal to any 0ve index of range> len of list then elemnt added at the begging\n",
    "print(len(l))\n",
    "l.insert(-46, \"vidhi\")  # insert at list begin as index out of range\n",
    "print(l)"
   ]
  },
  {
   "cell_type": "code",
   "execution_count": 66,
   "id": "505354f3",
   "metadata": {
    "ExecuteTime": {
     "end_time": "2021-08-14T18:00:30.523928Z",
     "start_time": "2021-08-14T18:00:04.373Z"
    }
   },
   "outputs": [
    {
     "name": "stdout",
     "output_type": "stream",
     "text": [
      "5\n",
      "[1, 2, 3, 4, 6, 7, 8, 9, 10, 11, 12, 13, 14, 15, 16, 17, 18, 19, 20]\n",
      "[1, 2, 3, 4, 6, 7, 8, 9, 10, 11, 12, 13, 14, 15, 16, 17, 18, 19]\n"
     ]
    },
    {
     "ename": "IndexError",
     "evalue": "pop from empty list",
     "output_type": "error",
     "traceback": [
      "\u001b[0;31m---------------------------------------------------------------------------\u001b[0m",
      "\u001b[0;31mIndexError\u001b[0m                                Traceback (most recent call last)",
      "\u001b[0;32m<ipython-input-66-45cc998f226a>\u001b[0m in \u001b[0;36m<module>\u001b[0;34m\u001b[0m\n\u001b[1;32m      7\u001b[0m \u001b[0ml\u001b[0m\u001b[0;34m.\u001b[0m\u001b[0mpop\u001b[0m\u001b[0;34m(\u001b[0m\u001b[0;34m)\u001b[0m\u001b[0;34m\u001b[0m\u001b[0;34m\u001b[0m\u001b[0m\n\u001b[1;32m      8\u001b[0m \u001b[0mprint\u001b[0m\u001b[0;34m(\u001b[0m\u001b[0ml\u001b[0m\u001b[0;34m)\u001b[0m\u001b[0;34m\u001b[0m\u001b[0;34m\u001b[0m\u001b[0m\n\u001b[0;32m----> 9\u001b[0;31m \u001b[0;34m[\u001b[0m\u001b[0;34m]\u001b[0m\u001b[0;34m.\u001b[0m\u001b[0mpop\u001b[0m\u001b[0;34m(\u001b[0m\u001b[0;34m)\u001b[0m\u001b[0;34m\u001b[0m\u001b[0;34m\u001b[0m\u001b[0m\n\u001b[0m",
      "\u001b[0;31mIndexError\u001b[0m: pop from empty list"
     ]
    }
   ],
   "source": [
    "# pop()\n",
    "l = [1, 2, 3, 4, 5, 6, 7, 8, 9, 10, 11, 12, 13, 14, 15, 16, 17, 18, 19, 20]\n",
    "deleted = l.pop(4)  # remove the elent from list and return remove elemnnt\n",
    "print(deleted)\n",
    "print(l)\n",
    "# if no argument passed themn rempvelist last elemnt ang eroor if list is emplty\n",
    "l.pop()\n",
    "print(l)\n",
    "[].pop()"
   ]
  },
  {
   "cell_type": "code",
   "execution_count": 67,
   "id": "f2b65b2e",
   "metadata": {
    "ExecuteTime": {
     "end_time": "2021-08-14T18:00:30.526428Z",
     "start_time": "2021-08-14T18:00:04.383Z"
    }
   },
   "outputs": [
    {
     "name": "stdout",
     "output_type": "stream",
     "text": [
      "[1, 2, 3, 4, 5, 6, 7, 8, 9, 10, 11, 12, 13, 15, 16, 17, 18, 19, 14, 20]\n"
     ]
    },
    {
     "ename": "ValueError",
     "evalue": "list.remove(x): x not in list",
     "output_type": "error",
     "traceback": [
      "\u001b[0;31m---------------------------------------------------------------------------\u001b[0m",
      "\u001b[0;31mValueError\u001b[0m                                Traceback (most recent call last)",
      "\u001b[0;32m<ipython-input-67-fe952defcd1d>\u001b[0m in \u001b[0;36m<module>\u001b[0;34m\u001b[0m\n\u001b[1;32m      4\u001b[0m \u001b[0mprint\u001b[0m\u001b[0;34m(\u001b[0m\u001b[0ml\u001b[0m\u001b[0;34m)\u001b[0m\u001b[0;34m\u001b[0m\u001b[0;34m\u001b[0m\u001b[0m\n\u001b[1;32m      5\u001b[0m \u001b[0;31m# give eroor if elemnt no exist\u001b[0m\u001b[0;34m\u001b[0m\u001b[0;34m\u001b[0m\u001b[0;34m\u001b[0m\u001b[0m\n\u001b[0;32m----> 6\u001b[0;31m \u001b[0ml\u001b[0m\u001b[0;34m.\u001b[0m\u001b[0mremove\u001b[0m\u001b[0;34m(\u001b[0m\u001b[0;36m345\u001b[0m\u001b[0;34m)\u001b[0m\u001b[0;34m\u001b[0m\u001b[0;34m\u001b[0m\u001b[0m\n\u001b[0m\u001b[1;32m      7\u001b[0m \u001b[0mprint\u001b[0m\u001b[0;34m(\u001b[0m\u001b[0ml\u001b[0m\u001b[0;34m)\u001b[0m\u001b[0;34m\u001b[0m\u001b[0;34m\u001b[0m\u001b[0m\n",
      "\u001b[0;31mValueError\u001b[0m: list.remove(x): x not in list"
     ]
    }
   ],
   "source": [
    "# remove()\n",
    "l = [1, 2, 3, 4, 5, 6, 7, 8, 9, 10, 11, 12, 13, 14, 15, 16, 17, 18, 19, 14, 20]\n",
    "l.remove(14)  # remove the elent first occurence from list\n",
    "print(l)\n",
    "# give eroor if elemnt no exist\n",
    "l.remove(345)\n",
    "print(l)"
   ]
  },
  {
   "cell_type": "code",
   "execution_count": 68,
   "id": "16888ec4",
   "metadata": {
    "ExecuteTime": {
     "end_time": "2021-08-14T18:00:30.528773Z",
     "start_time": "2021-08-14T18:00:04.393Z"
    }
   },
   "outputs": [
    {
     "name": "stdout",
     "output_type": "stream",
     "text": [
      "[]\n"
     ]
    }
   ],
   "source": [
    "# clear()\n",
    "l = [1, 2, 3, 4, 5, 6, 7, 8, 9, 10, 11, 12, 13, 14, 15, 16, 17, 18, 19, 14, 20]\n",
    "l.clear()  # clear all the list but not delete the list unlike \"del\" does\n",
    "print(l)"
   ]
  },
  {
   "cell_type": "code",
   "execution_count": 69,
   "id": "43c05416",
   "metadata": {
    "ExecuteTime": {
     "end_time": "2021-08-14T18:00:30.531346Z",
     "start_time": "2021-08-14T18:00:04.402Z"
    }
   },
   "outputs": [
    {
     "name": "stdout",
     "output_type": "stream",
     "text": [
      "3\n",
      "0\n"
     ]
    }
   ],
   "source": [
    "# count()\n",
    "l = [1, 2, 4, 5, 6, 6, 76, 7, 4, 6, 3, 6, 3, 4, 5, 3, 4, 5,\n",
    "     6, 7, 8, 9, 10, 11, 12, 13, 14, 15, 16, 17, 18, 19, 20]\n",
    "print(l.count(3))  # count the elent in list if present else give 0\n",
    "\n",
    "print(l.count(23165))  # count the elent in list if present else give 0"
   ]
  },
  {
   "cell_type": "code",
   "execution_count": 70,
   "id": "34de07b0",
   "metadata": {
    "ExecuteTime": {
     "end_time": "2021-08-14T18:00:30.534120Z",
     "start_time": "2021-08-14T18:00:04.412Z"
    }
   },
   "outputs": [
    {
     "name": "stdout",
     "output_type": "stream",
     "text": [
      "[20, 19, 18, 17, 16, 15, 14, 13, 12, 11, 10, 9, 8, 7, 6, 5, 4, 3, 5, 4, 3, 6, 3, 6, 4, 7, 76, 6, 6, 5, 4, 2, 1]\n"
     ]
    }
   ],
   "source": [
    "# reverse()\n",
    "l = [1, 2, 4, 5, 6, 6, 76, 7, 4, 6, 3, 6, 3, 4, 5, 3, 4, 5,\n",
    "     6, 7, 8, 9, 10, 11, 12, 13, 14, 15, 16, 17, 18, 19, 20]\n",
    "l.reverse()  # reverse the elent in list\n",
    "\n",
    "print(l)"
   ]
  },
  {
   "cell_type": "code",
   "execution_count": 71,
   "id": "2471b69a",
   "metadata": {
    "ExecuteTime": {
     "end_time": "2021-08-14T18:00:30.536851Z",
     "start_time": "2021-08-14T18:00:04.422Z"
    }
   },
   "outputs": [
    {
     "name": "stdout",
     "output_type": "stream",
     "text": [
      "[1, 2, 3, 3, 3, 4, 4, 4, 4, 5, 5, 5, 6, 6, 6, 6, 6, 7, 7, 8, 9, 10, 11, 12, 13, 14, 15, 16, 17, 18, 19, 20, 76]\n",
      "[76, 20, 19, 18, 17, 16, 15, 14, 13, 12, 11, 10, 9, 8, 7, 7, 6, 6, 6, 6, 6, 5, 5, 5, 4, 4, 4, 4, 3, 3, 3, 2, 1]\n"
     ]
    }
   ],
   "source": [
    "# sort()\n",
    "l = [1, 2, 4, 5, 6, 6, 76, 7, 4, 6, 3, 6, 3, 4, 5, 3, 4, 5,\n",
    "     6, 7, 8, 9, 10, 11, 12, 13, 14, 15, 16, 17, 18, 19, 20]\n",
    "l.sort()  # sort the elent in list in increasing order by default\n",
    "print(l)\n",
    "\n",
    "# to sort in reverse use the reverse arg as True\n",
    "l.sort(reverse=True)\n",
    "print(l)\n",
    "\n",
    "# sort cant used for complex datatypes"
   ]
  },
  {
   "cell_type": "markdown",
   "id": "d6e0a5ed",
   "metadata": {},
   "source": [
    "# program to find the minimum elent in the ist with its index"
   ]
  },
  {
   "cell_type": "code",
   "execution_count": 76,
   "id": "c492d861",
   "metadata": {
    "ExecuteTime": {
     "end_time": "2021-08-14T18:00:30.539571Z",
     "start_time": "2021-08-14T18:00:04.435Z"
    }
   },
   "outputs": [
    {
     "name": "stdout",
     "output_type": "stream",
     "text": [
      "enter the number of list elents: 5\n",
      "enter the value: 4551\n",
      "enter the value: 35416\n",
      "enter the value: 64565\n",
      "enter the value: 552\n",
      "enter the value: 323\n",
      "maximum value is: 64565\n"
     ]
    }
   ],
   "source": [
    "n = int(input(\"enter the number of list elents: \"))\n",
    "l = list()\n",
    "for i in range(n):\n",
    "    val = int(input(\"enter the value: \"))\n",
    "    l.append(val)\n",
    "    l.sort()\n",
    "print(\"maximum value is:\", l[len(l)-1])"
   ]
  },
  {
   "cell_type": "markdown",
   "id": "2fd58164",
   "metadata": {},
   "source": [
    "# program to calculate mean of list eelmts"
   ]
  },
  {
   "cell_type": "code",
   "execution_count": 194,
   "id": "406dc5a5",
   "metadata": {
    "ExecuteTime": {
     "end_time": "2021-08-14T18:00:30.542326Z",
     "start_time": "2021-08-14T18:00:04.448Z"
    },
    "scrolled": true
   },
   "outputs": [
    {
     "name": "stdout",
     "output_type": "stream",
     "text": [
      "enter the number of list elents: 5\n",
      "enter the value: 23\n",
      "enter the value: 54\n",
      "enter the value: 56\n",
      "enter the value: 33\n",
      "enter the value: 56\n",
      "mean value is: 44.4\n"
     ]
    }
   ],
   "source": [
    "n = int(input(\"enter the number of list elents: \"))\n",
    "l = list()\n",
    "for i in range(n):\n",
    "    val = int(input(\"enter the value: \"))\n",
    "    l.append(val)\n",
    "\n",
    "s = 0\n",
    "\n",
    "for i in range(n):\n",
    "    s += l[i]\n",
    "\n",
    "print(\"mean value is:\", s/len(l))"
   ]
  },
  {
   "cell_type": "markdown",
   "id": "f4904642",
   "metadata": {},
   "source": [
    "# program to search for a elemnt in a list"
   ]
  },
  {
   "cell_type": "code",
   "execution_count": 196,
   "id": "5cd1e9a9",
   "metadata": {
    "ExecuteTime": {
     "end_time": "2021-08-14T18:00:30.545155Z",
     "start_time": "2021-08-14T18:00:04.462Z"
    }
   },
   "outputs": [
    {
     "name": "stdout",
     "output_type": "stream",
     "text": [
      "enter the number of list elents: 4\n",
      "enter the value: 435\n",
      "enter the value: 22\n",
      "enter the value: 45\n",
      "enter the value: 354\n",
      "enter the elemnnts to serach: 22\n",
      "22 is at index: 1\n"
     ]
    }
   ],
   "source": [
    "n = int(input(\"enter the number of list elents: \"))\n",
    "l = list()\n",
    "for i in range(n):\n",
    "    val = int(input(\"enter the value: \"))\n",
    "    l.append(val)\n",
    "\n",
    "s = int(input(\"enter the elemnnts to serach: \"))\n",
    "\n",
    "print(s, \"is at index:\", l.index(s))"
   ]
  },
  {
   "cell_type": "markdown",
   "id": "bd5098e7",
   "metadata": {},
   "source": [
    "# program to count the frequency of a elemnt in list"
   ]
  },
  {
   "cell_type": "code",
   "execution_count": 197,
   "id": "376a502c",
   "metadata": {
    "ExecuteTime": {
     "end_time": "2021-08-14T18:00:30.547904Z",
     "start_time": "2021-08-14T18:00:04.474Z"
    }
   },
   "outputs": [
    {
     "name": "stdout",
     "output_type": "stream",
     "text": [
      "enter the number of list elents: 3\n",
      "enter the value: 45\n",
      "enter the value: 43\n",
      "enter the value: 66\n",
      "enter the value to count: 45\n",
      "count of value is: 1\n"
     ]
    }
   ],
   "source": [
    "n = int(input(\"enter the number of list elents: \"))\n",
    "l = list()\n",
    "for i in range(n):\n",
    "    val = int(input(\"enter the value: \"))\n",
    "    l.append(val)\n",
    "\n",
    "val = int(input(\"enter the value to count: \"))\n",
    "\n",
    "print(\"count of value is:\", l.count(val))"
   ]
  },
  {
   "cell_type": "markdown",
   "id": "87a0a40f",
   "metadata": {},
   "source": [
    "# program to count frequenccy of each elemnt and find the duplicate elent and the unique ones"
   ]
  },
  {
   "cell_type": "code",
   "execution_count": 198,
   "id": "db308ecc",
   "metadata": {
    "ExecuteTime": {
     "end_time": "2021-08-14T18:00:30.550566Z",
     "start_time": "2021-08-14T18:00:04.487Z"
    }
   },
   "outputs": [
    {
     "name": "stdout",
     "output_type": "stream",
     "text": [
      "enter the number of list elents: 5\n",
      "enter the value: 45\n",
      "enter the value: 67\n",
      "enter the value: 45\n",
      "enter the value: 3\n",
      "enter the value: 65\n",
      "45 is no of time: 2\n",
      "67 is no of time: 1\n",
      "3 is no of time: 1\n",
      "65 is no of time: 1\n",
      "unique elemnts: [67, 3, 65] duplicate elemnts: [45, 45]\n"
     ]
    }
   ],
   "source": [
    "n = int(input(\"enter the number of list elents: \"))\n",
    "l = list()\n",
    "for i in range(n):\n",
    "    val = int(input(\"enter the value: \"))\n",
    "    l.append(val)\n",
    "\n",
    "\n",
    "u = []\n",
    "d = list()\n",
    "\n",
    "for i in l:\n",
    "    if(l.count(i) > 1):\n",
    "        if(i in d):\n",
    "            d.append(i)\n",
    "        else:\n",
    "            print(i, \"is no of time:\", l.count(i))\n",
    "            d.append(i)\n",
    "    else:\n",
    "        u.append(i)\n",
    "        print(i, \"is no of time:\", l.count(i))\n",
    "else:\n",
    "    print(\"unique elemnts:\", u, \"duplicate elemnts:\", d)"
   ]
  },
  {
   "cell_type": "markdown",
   "id": "001576eb",
   "metadata": {},
   "source": [
    "# write two list and check if both have atleast one elemnt common then print overlapped else seperated"
   ]
  },
  {
   "cell_type": "code",
   "execution_count": 199,
   "id": "ba630b50",
   "metadata": {
    "ExecuteTime": {
     "end_time": "2021-08-14T18:00:30.553468Z",
     "start_time": "2021-08-14T18:00:04.505Z"
    }
   },
   "outputs": [
    {
     "name": "stdout",
     "output_type": "stream",
     "text": [
      "enter the list 1:[1,2,3,4,5,6,7]\n",
      "enter the list 2:[2,3,4,5,6,7]\n",
      "overlapped\n"
     ]
    }
   ],
   "source": [
    "l1 = eval(input(\"enter the list 1:\"))\n",
    "l2 = eval(input(\"enter the list 2:\"))\n",
    "for i in l1:\n",
    "    if i in l2:\n",
    "        print(\"overlapped\")\n",
    "        break\n",
    "else:\n",
    "    print(\"seperated\")"
   ]
  },
  {
   "cell_type": "markdown",
   "id": "5ab30f82",
   "metadata": {},
   "source": [
    "## find second largest number from list of number"
   ]
  },
  {
   "cell_type": "code",
   "execution_count": 200,
   "id": "9d2d9972",
   "metadata": {
    "ExecuteTime": {
     "end_time": "2021-08-14T18:00:30.556154Z",
     "start_time": "2021-08-14T18:00:04.518Z"
    }
   },
   "outputs": [
    {
     "name": "stdout",
     "output_type": "stream",
     "text": [
      "enter the number of elemnts: 4\n",
      "enter trhe elemnt: 54\n",
      "enter trhe elemnt: 34\n",
      "enter trhe elemnt: 67\n",
      "enter trhe elemnt: 54\n",
      "second largset is: 54\n"
     ]
    }
   ],
   "source": [
    "n = int(input(\"enter the number of elemnts: \"))\n",
    "l = list()\n",
    "for i in range(n):\n",
    "    l.append(int(input(\"enter trhe elemnt: \")))\n",
    "else:\n",
    "    l.sort()\n",
    "    print(\"second largset is:\", l[-2])"
   ]
  },
  {
   "cell_type": "markdown",
   "id": "3d0e1bb3",
   "metadata": {},
   "source": [
    "# input list of numbers and shift all zero to right and non-zero to "
   ]
  },
  {
   "cell_type": "code",
   "execution_count": 201,
   "id": "1ca77683",
   "metadata": {
    "ExecuteTime": {
     "end_time": "2021-08-14T18:00:30.558884Z",
     "start_time": "2021-08-14T18:00:04.531Z"
    }
   },
   "outputs": [
    {
     "ename": "SyntaxError",
     "evalue": "invalid syntax (<ipython-input-201-56547179abe6>, line 1)",
     "output_type": "error",
     "traceback": [
      "\u001b[0;36m  File \u001b[0;32m\"<ipython-input-201-56547179abe6>\"\u001b[0;36m, line \u001b[0;32m1\u001b[0m\n\u001b[0;31m    .ksdn\u001b[0m\n\u001b[0m    ^\u001b[0m\n\u001b[0;31mSyntaxError\u001b[0m\u001b[0;31m:\u001b[0m invalid syntax\n"
     ]
    }
   ],
   "source": [
    ".ksdn\n",
    "les\n",
    "lf"
   ]
  },
  {
   "cell_type": "markdown",
   "id": "cc4f53ea",
   "metadata": {},
   "source": [
    "# TUPLES IN PYTHON"
   ]
  },
  {
   "cell_type": "code",
   "execution_count": 202,
   "id": "e5e81432",
   "metadata": {
    "ExecuteTime": {
     "end_time": "2021-08-14T18:00:30.561758Z",
     "start_time": "2021-08-14T18:00:04.543Z"
    }
   },
   "outputs": [],
   "source": [
    "# tuples in the python are the immutable datatypes and cabn have collection of different datatypes\n",
    "l = tuple()  # creates an empty tuple\n",
    "l = ()  # creates an empty tuple\n",
    "l = (1, 2, 3, 4, \"rahul\", \"vidhi\")\n",
    "t = (1, 2, 3, 4,)  # valid way"
   ]
  },
  {
   "cell_type": "code",
   "execution_count": 203,
   "id": "37469dbd",
   "metadata": {
    "ExecuteTime": {
     "end_time": "2021-08-14T18:00:30.564637Z",
     "start_time": "2021-08-14T18:00:04.553Z"
    }
   },
   "outputs": [
    {
     "data": {
      "text/plain": [
       "(1, 2, 3, 4, 5, 6, 7, 8, 9, 0, 11, 12, 13, 14, 15, 16, 17, 18, 19, 20)"
      ]
     },
     "execution_count": 203,
     "metadata": {},
     "output_type": "execute_result"
    }
   ],
   "source": [
    "# long tuple can be wriitrrn in dseperate lines\n",
    "t = (1, 2, 3, 4, 5, 6, 7, 8, 9, 0,\n",
    "     11, 12, 13, 14, 15, 16, 17, 18, 19, 20)\n",
    "t"
   ]
  },
  {
   "cell_type": "code",
   "execution_count": 204,
   "id": "45f57a3e",
   "metadata": {
    "ExecuteTime": {
     "end_time": "2021-08-14T18:00:30.567472Z",
     "start_time": "2021-08-14T18:00:04.564Z"
    }
   },
   "outputs": [
    {
     "data": {
      "text/plain": [
       "(1, 2, 3, 4, 5, (6, 7, 8, 9, 0, 1), 2, 3, 4, 5, 6, 7)"
      ]
     },
     "execution_count": 204,
     "metadata": {},
     "output_type": "execute_result"
    }
   ],
   "source": [
    "# nested tuple\n",
    "t = (1, 2, 3, 4, 5, (6, 7, 8, 9, 0, 1), 2, 3, 4, 5, 6, 7)\n",
    "t"
   ]
  },
  {
   "cell_type": "code",
   "execution_count": 205,
   "id": "6b6d8610",
   "metadata": {
    "ExecuteTime": {
     "end_time": "2021-08-14T18:00:30.570347Z",
     "start_time": "2021-08-14T18:00:04.573Z"
    }
   },
   "outputs": [
    {
     "name": "stdout",
     "output_type": "stream",
     "text": [
      "('r', 'a', 'h', 'u', 'l')\n"
     ]
    }
   ],
   "source": [
    "# tuple by existing sequence\n",
    "t = tuple(\"rahul\")\n",
    "print(t)"
   ]
  },
  {
   "cell_type": "markdown",
   "id": "b089795f",
   "metadata": {},
   "source": [
    "# similarity of tuple with strings"
   ]
  },
  {
   "cell_type": "code",
   "execution_count": 206,
   "id": "82a11700",
   "metadata": {
    "ExecuteTime": {
     "end_time": "2021-08-14T18:00:30.573031Z",
     "start_time": "2021-08-14T18:00:04.586Z"
    }
   },
   "outputs": [
    {
     "name": "stdout",
     "output_type": "stream",
     "text": [
      "True 1\n",
      "True 2\n",
      "True 3\n",
      "True 4\n",
      "True 5\n"
     ]
    }
   ],
   "source": [
    "l = (1, 2, 3, 4, 5)\n",
    "print(l[0] == l[-5], l[0])\n",
    "print(l[1] == l[-4], l[1])\n",
    "print(l[2] == l[-3], l[2])\n",
    "print(l[3] == l[-2], l[3])\n",
    "print(l[4] == l[-1], l[4])"
   ]
  },
  {
   "cell_type": "code",
   "execution_count": 207,
   "id": "87d4c2ad",
   "metadata": {
    "ExecuteTime": {
     "end_time": "2021-08-14T18:00:30.575739Z",
     "start_time": "2021-08-14T18:00:04.596Z"
    }
   },
   "outputs": [
    {
     "name": "stdout",
     "output_type": "stream",
     "text": [
      "(3, 4, 5)\n"
     ]
    }
   ],
   "source": [
    "# slicing in tuple is same as strings\n",
    "print(l[2:])"
   ]
  },
  {
   "cell_type": "markdown",
   "id": "a1d5490f",
   "metadata": {},
   "source": [
    "# the only difference between list and tuple is that list is mutable while tuple are not mutable"
   ]
  },
  {
   "cell_type": "code",
   "execution_count": 208,
   "id": "314d5a3b",
   "metadata": {
    "ExecuteTime": {
     "end_time": "2021-08-14T18:00:30.578516Z",
     "start_time": "2021-08-14T18:00:04.610Z"
    }
   },
   "outputs": [
    {
     "name": "stdout",
     "output_type": "stream",
     "text": [
      "['d', 'a', 'h', 'u', 'l']\n"
     ]
    },
    {
     "ename": "TypeError",
     "evalue": "'tuple' object does not support item assignment",
     "output_type": "error",
     "traceback": [
      "\u001b[0;31m---------------------------------------------------------------------------\u001b[0m",
      "\u001b[0;31mTypeError\u001b[0m                                 Traceback (most recent call last)",
      "\u001b[0;32m<ipython-input-208-072388565a96>\u001b[0m in \u001b[0;36m<module>\u001b[0;34m\u001b[0m\n\u001b[1;32m      3\u001b[0m \u001b[0mprint\u001b[0m\u001b[0;34m(\u001b[0m\u001b[0ml1\u001b[0m\u001b[0;34m)\u001b[0m\u001b[0;34m\u001b[0m\u001b[0;34m\u001b[0m\u001b[0m\n\u001b[1;32m      4\u001b[0m \u001b[0ml\u001b[0m \u001b[0;34m=\u001b[0m \u001b[0mtuple\u001b[0m\u001b[0;34m(\u001b[0m\u001b[0;34m\"rahul\"\u001b[0m\u001b[0;34m)\u001b[0m\u001b[0;34m\u001b[0m\u001b[0;34m\u001b[0m\u001b[0m\n\u001b[0;32m----> 5\u001b[0;31m \u001b[0ml\u001b[0m\u001b[0;34m[\u001b[0m\u001b[0;36m0\u001b[0m\u001b[0;34m]\u001b[0m \u001b[0;34m=\u001b[0m \u001b[0;34m\"d\"\u001b[0m\u001b[0;34m\u001b[0m\u001b[0;34m\u001b[0m\u001b[0m\n\u001b[0m\u001b[1;32m      6\u001b[0m \u001b[0mprint\u001b[0m\u001b[0;34m(\u001b[0m\u001b[0ml\u001b[0m\u001b[0;34m)\u001b[0m\u001b[0;34m\u001b[0m\u001b[0;34m\u001b[0m\u001b[0m\n",
      "\u001b[0;31mTypeError\u001b[0m: 'tuple' object does not support item assignment"
     ]
    }
   ],
   "source": [
    "l1 = list(\"rahul\")\n",
    "l1[0] = \"d\"\n",
    "print(l1)\n",
    "l = tuple(\"rahul\")\n",
    "l[0] = \"d\"\n",
    "print(l)"
   ]
  },
  {
   "cell_type": "markdown",
   "id": "afd5545c",
   "metadata": {},
   "source": [
    "# traversing a tuple is done similar like traversing a sequence"
   ]
  },
  {
   "cell_type": "code",
   "execution_count": 77,
   "id": "5f4ff87e",
   "metadata": {
    "ExecuteTime": {
     "end_time": "2021-08-14T18:00:30.581177Z",
     "start_time": "2021-08-14T18:00:04.622Z"
    }
   },
   "outputs": [
    {
     "name": "stdout",
     "output_type": "stream",
     "text": [
      "1\n",
      "2\n",
      "3\n",
      "4\n",
      "5\n",
      "rahul\n",
      "vidhi\n",
      "dhanola\n",
      "235\n",
      "553\n",
      "23535\n",
      "35634\n"
     ]
    }
   ],
   "source": [
    "l = (1, 2, 3, 4, 5, \"rahul\", \"vidhi\", \"dhanola\", \"235\", \"553\", 23535, 35634)\n",
    "for elements in l:\n",
    "    print(elements)"
   ]
  },
  {
   "cell_type": "markdown",
   "id": "7d788e18",
   "metadata": {},
   "source": [
    "# program to print the elenet of a tuple with both +ve ad -ve indexes"
   ]
  },
  {
   "cell_type": "code",
   "execution_count": 78,
   "id": "6a582101",
   "metadata": {
    "ExecuteTime": {
     "end_time": "2021-08-14T18:00:30.583706Z",
     "start_time": "2021-08-14T18:00:04.635Z"
    }
   },
   "outputs": [
    {
     "name": "stdout",
     "output_type": "stream",
     "text": [
      "enter the number of elemnts: 5\n",
      "enter the elemnt23\n",
      "enter the elemnt45\n",
      "enter the elemnt665\n",
      "enter the elemnt234\n",
      "enter the elemnt765\n",
      "0 = -5 => 23\n",
      "1 = -4 => 45\n",
      "2 = -3 => 665\n",
      "3 = -2 => 234\n",
      "4 = -1 => 765\n"
     ]
    }
   ],
   "source": [
    "n = int(input(\"enter the number of elemnts: \"))\n",
    "t = tuple()\n",
    "\n",
    "for i in range(n):\n",
    "    t += (int(input(\"enter the elemnt\")),)\n",
    "\n",
    "for i in range(len(t)):\n",
    "    print(i, \"=\", i-len(t), \"=>\", t[i])"
   ]
  },
  {
   "cell_type": "markdown",
   "id": "294698c9",
   "metadata": {},
   "source": [
    "# tuple operations"
   ]
  },
  {
   "cell_type": "code",
   "execution_count": 79,
   "id": "5034aa9a",
   "metadata": {
    "ExecuteTime": {
     "end_time": "2021-08-14T18:00:30.586273Z",
     "start_time": "2021-08-14T18:00:04.648Z"
    }
   },
   "outputs": [
    {
     "name": "stdout",
     "output_type": "stream",
     "text": [
      "(1, 2, 3, 4, 5, 6, 7, 8, 9, 0, 0)\n"
     ]
    }
   ],
   "source": [
    "# JOINING TE tuple\n",
    "l1 = (1, 2, 3, 4, 5, 6)\n",
    "l2 = (7, 8, 9, 0, 0)\n",
    "print(l1+l2)"
   ]
  },
  {
   "cell_type": "code",
   "execution_count": 80,
   "id": "fdf3f2ed",
   "metadata": {
    "ExecuteTime": {
     "end_time": "2021-08-14T18:00:30.588787Z",
     "start_time": "2021-08-14T18:00:04.658Z"
    }
   },
   "outputs": [
    {
     "ename": "TypeError",
     "evalue": "can only concatenate tuple (not \"int\") to tuple",
     "output_type": "error",
     "traceback": [
      "\u001b[0;31m---------------------------------------------------------------------------\u001b[0m",
      "\u001b[0;31mTypeError\u001b[0m                                 Traceback (most recent call last)",
      "\u001b[0;32m<ipython-input-80-f2ffc5f449c5>\u001b[0m in \u001b[0;36m<module>\u001b[0;34m\u001b[0m\n\u001b[1;32m      1\u001b[0m \u001b[0;31m# you cant join singlkwe elemnt directly with tuple it give error\u001b[0m\u001b[0;34m\u001b[0m\u001b[0;34m\u001b[0m\u001b[0;34m\u001b[0m\u001b[0m\n\u001b[1;32m      2\u001b[0m \u001b[0ml1\u001b[0m\u001b[0;34m+\u001b[0m\u001b[0;34m(\u001b[0m\u001b[0;36m3\u001b[0m\u001b[0;34m,\u001b[0m\u001b[0;34m)\u001b[0m  \u001b[0;31m# valid\u001b[0m\u001b[0;34m\u001b[0m\u001b[0;34m\u001b[0m\u001b[0m\n\u001b[0;32m----> 3\u001b[0;31m \u001b[0ml1\u001b[0m\u001b[0;34m+\u001b[0m\u001b[0;34m(\u001b[0m\u001b[0;36m3\u001b[0m\u001b[0;34m)\u001b[0m  \u001b[0;31m# invalid\u001b[0m\u001b[0;34m\u001b[0m\u001b[0;34m\u001b[0m\u001b[0m\n\u001b[0m",
      "\u001b[0;31mTypeError\u001b[0m: can only concatenate tuple (not \"int\") to tuple"
     ]
    }
   ],
   "source": [
    "# you cant join singlkwe elemnt directly with tuple it give error\n",
    "l1+(3,)  # valid\n",
    "l1+(3)  # invalid"
   ]
  },
  {
   "cell_type": "code",
   "execution_count": 81,
   "id": "9895017c",
   "metadata": {
    "ExecuteTime": {
     "end_time": "2021-08-14T18:00:30.591191Z",
     "start_time": "2021-08-14T18:00:04.667Z"
    }
   },
   "outputs": [
    {
     "name": "stdout",
     "output_type": "stream",
     "text": [
      "(1, 2, 3, 4, 5, 1, 2, 3, 4, 5, 1, 2, 3, 4, 5, 1, 2, 3, 4, 5, 1, 2, 3, 4, 5)\n"
     ]
    }
   ],
   "source": [
    "# replicating tupole\n",
    "l1 = (1, 2, 3, 4, 5)\n",
    "print(l1*5)"
   ]
  },
  {
   "cell_type": "code",
   "execution_count": 82,
   "id": "5fd052d0",
   "metadata": {
    "ExecuteTime": {
     "end_time": "2021-08-14T18:00:30.593861Z",
     "start_time": "2021-08-14T18:00:04.677Z"
    }
   },
   "outputs": [
    {
     "name": "stdout",
     "output_type": "stream",
     "text": [
      "(3, 4, 5, 6)\n",
      "(1, 2, 3, 4, 5, 6)\n",
      "(1, 2, 3, 4, 5, 6)\n",
      "(6, 5, 4, 3, 2, 1)\n"
     ]
    }
   ],
   "source": [
    "# slicing is same as strings\n",
    "l1 = (1, 2, 3, 4, 5, 6)\n",
    "print(l1[2:])\n",
    "print(l1[:9])\n",
    "print(l1[:])\n",
    "print(l1[::-1])"
   ]
  },
  {
   "cell_type": "markdown",
   "id": "c93a2f1a",
   "metadata": {},
   "source": [
    "# comparing the tuples"
   ]
  },
  {
   "cell_type": "code",
   "execution_count": 83,
   "id": "7c3b9055",
   "metadata": {
    "ExecuteTime": {
     "end_time": "2021-08-14T18:00:30.596571Z",
     "start_time": "2021-08-14T18:00:04.690Z"
    }
   },
   "outputs": [
    {
     "name": "stdout",
     "output_type": "stream",
     "text": [
      "True\n",
      "False\n",
      "False\n"
     ]
    },
    {
     "ename": "TypeError",
     "evalue": "'<' not supported between instances of 'int' and 'tuple'",
     "output_type": "error",
     "traceback": [
      "\u001b[0;31m---------------------------------------------------------------------------\u001b[0m",
      "\u001b[0;31mTypeError\u001b[0m                                 Traceback (most recent call last)",
      "\u001b[0;32m<ipython-input-83-7eb6def18f2d>\u001b[0m in \u001b[0;36m<module>\u001b[0;34m\u001b[0m\n\u001b[1;32m      6\u001b[0m \u001b[0;34m\u001b[0m\u001b[0m\n\u001b[1;32m      7\u001b[0m \u001b[0;31m# the elemnts must be of comparable typpe\u001b[0m\u001b[0;34m\u001b[0m\u001b[0;34m\u001b[0m\u001b[0;34m\u001b[0m\u001b[0m\n\u001b[0;32m----> 8\u001b[0;31m \u001b[0mprint\u001b[0m\u001b[0;34m(\u001b[0m\u001b[0ml1\u001b[0m \u001b[0;34m<\u001b[0m \u001b[0ml3\u001b[0m\u001b[0;34m)\u001b[0m\u001b[0;34m\u001b[0m\u001b[0;34m\u001b[0m\u001b[0m\n\u001b[0m",
      "\u001b[0;31mTypeError\u001b[0m: '<' not supported between instances of 'int' and 'tuple'"
     ]
    }
   ],
   "source": [
    "l1, l2 = (1, 2, 3), (1, 2, 3)\n",
    "l3 = (1, (2, 3))\n",
    "print(l1 == l2)\n",
    "print(l1 == l3)\n",
    "print(l1 < l2)\n",
    "\n",
    "# the elemnts must be of comparable typpe\n",
    "print(l1 < l3)"
   ]
  },
  {
   "cell_type": "markdown",
   "id": "849b1ffc",
   "metadata": {},
   "source": [
    "# unpacking the tuple elemnts"
   ]
  },
  {
   "cell_type": "code",
   "execution_count": 84,
   "id": "179ffb1c",
   "metadata": {
    "ExecuteTime": {
     "end_time": "2021-08-14T18:00:30.599098Z",
     "start_time": "2021-08-14T18:00:04.704Z"
    }
   },
   "outputs": [
    {
     "name": "stdout",
     "output_type": "stream",
     "text": [
      "1\n",
      "2\n",
      "3\n"
     ]
    }
   ],
   "source": [
    "t = (1, 2, 3)\n",
    "a, b, c = t\n",
    "print(a, b, c, sep='\\n')"
   ]
  },
  {
   "cell_type": "markdown",
   "id": "e60e5c18",
   "metadata": {},
   "source": [
    "# delete in tuples"
   ]
  },
  {
   "cell_type": "code",
   "execution_count": 85,
   "id": "84ea9ab8",
   "metadata": {
    "ExecuteTime": {
     "end_time": "2021-08-14T18:00:30.601257Z",
     "start_time": "2021-08-14T18:00:04.718Z"
    }
   },
   "outputs": [],
   "source": [
    "# the delete only deletes complete tuple only\n",
    "l = (1, 2, 3, 4, 5, 6, 7, 8, 9, 10, 11, 12, 13, 14, 15, 16, 17, 18, 19, 20)\n",
    "del l"
   ]
  },
  {
   "cell_type": "markdown",
   "id": "055729c3",
   "metadata": {},
   "source": [
    "# tuple functions and methods"
   ]
  },
  {
   "cell_type": "code",
   "execution_count": 86,
   "id": "4ed51b28",
   "metadata": {
    "ExecuteTime": {
     "end_time": "2021-08-14T18:00:30.603647Z",
     "start_time": "2021-08-14T18:00:04.732Z"
    }
   },
   "outputs": [
    {
     "name": "stdout",
     "output_type": "stream",
     "text": [
      "20\n"
     ]
    }
   ],
   "source": [
    "# len()\n",
    "l = (1, 2, 3, 4, 5, 6, 7, 8, 9, 10, 11, 12, 13, 14, 15, 16, 17, 18, 19, 20)\n",
    "print(len(l))  # sequence length"
   ]
  },
  {
   "cell_type": "code",
   "execution_count": 87,
   "id": "be31b040",
   "metadata": {
    "ExecuteTime": {
     "end_time": "2021-08-14T18:00:30.605985Z",
     "start_time": "2021-08-14T18:00:04.742Z"
    }
   },
   "outputs": [
    {
     "name": "stdout",
     "output_type": "stream",
     "text": [
      "20\n"
     ]
    }
   ],
   "source": [
    "# max()\n",
    "l = (1, 2, 3, 4, 5, 6, 7, 8, 9, 10, 11, 12, 13, 14, 15, 16, 17, 18, 19, 20)\n",
    "print(max(l))  # maximum elmnt if values are of same type"
   ]
  },
  {
   "cell_type": "code",
   "execution_count": 88,
   "id": "45ab9076",
   "metadata": {
    "ExecuteTime": {
     "end_time": "2021-08-14T18:00:30.608452Z",
     "start_time": "2021-08-14T18:00:04.753Z"
    }
   },
   "outputs": [
    {
     "name": "stdout",
     "output_type": "stream",
     "text": [
      "1\n"
     ]
    }
   ],
   "source": [
    "# min()\n",
    "l = (1, 2, 3, 4, 5, 6, 7, 8, 9, 10, 11, 12, 13, 14, 15, 16, 17, 18, 19, 20)\n",
    "print(min(l))  # minimum elmnt if values are of same type"
   ]
  },
  {
   "cell_type": "code",
   "execution_count": 89,
   "id": "72758f8b",
   "metadata": {
    "ExecuteTime": {
     "end_time": "2021-08-14T18:00:30.611028Z",
     "start_time": "2021-08-14T18:00:04.762Z"
    }
   },
   "outputs": [
    {
     "name": "stdout",
     "output_type": "stream",
     "text": [
      "15\n"
     ]
    },
    {
     "ename": "ValueError",
     "evalue": "tuple.index(x): x not in tuple",
     "output_type": "error",
     "traceback": [
      "\u001b[0;31m---------------------------------------------------------------------------\u001b[0m",
      "\u001b[0;31mValueError\u001b[0m                                Traceback (most recent call last)",
      "\u001b[0;32m<ipython-input-89-c50aca9c1317>\u001b[0m in \u001b[0;36m<module>\u001b[0;34m\u001b[0m\n\u001b[1;32m      2\u001b[0m \u001b[0ml\u001b[0m \u001b[0;34m=\u001b[0m \u001b[0;34m(\u001b[0m\u001b[0;36m1\u001b[0m\u001b[0;34m,\u001b[0m \u001b[0;36m2\u001b[0m\u001b[0;34m,\u001b[0m \u001b[0;36m3\u001b[0m\u001b[0;34m,\u001b[0m \u001b[0;36m4\u001b[0m\u001b[0;34m,\u001b[0m \u001b[0;36m5\u001b[0m\u001b[0;34m,\u001b[0m \u001b[0;36m6\u001b[0m\u001b[0;34m,\u001b[0m \u001b[0;36m7\u001b[0m\u001b[0;34m,\u001b[0m \u001b[0;36m8\u001b[0m\u001b[0;34m,\u001b[0m \u001b[0;36m9\u001b[0m\u001b[0;34m,\u001b[0m \u001b[0;36m10\u001b[0m\u001b[0;34m,\u001b[0m \u001b[0;36m11\u001b[0m\u001b[0;34m,\u001b[0m \u001b[0;36m12\u001b[0m\u001b[0;34m,\u001b[0m \u001b[0;36m13\u001b[0m\u001b[0;34m,\u001b[0m \u001b[0;36m14\u001b[0m\u001b[0;34m,\u001b[0m \u001b[0;36m15\u001b[0m\u001b[0;34m,\u001b[0m \u001b[0;36m16\u001b[0m\u001b[0;34m,\u001b[0m \u001b[0;36m17\u001b[0m\u001b[0;34m,\u001b[0m \u001b[0;36m18\u001b[0m\u001b[0;34m,\u001b[0m \u001b[0;36m19\u001b[0m\u001b[0;34m,\u001b[0m \u001b[0;36m20\u001b[0m\u001b[0;34m)\u001b[0m\u001b[0;34m\u001b[0m\u001b[0;34m\u001b[0m\u001b[0m\n\u001b[1;32m      3\u001b[0m \u001b[0mprint\u001b[0m\u001b[0;34m(\u001b[0m\u001b[0ml\u001b[0m\u001b[0;34m.\u001b[0m\u001b[0mindex\u001b[0m\u001b[0;34m(\u001b[0m\u001b[0;36m16\u001b[0m\u001b[0;34m)\u001b[0m\u001b[0;34m)\u001b[0m  \u001b[0;31m# gives the index of elent in list else error\u001b[0m\u001b[0;34m\u001b[0m\u001b[0;34m\u001b[0m\u001b[0m\n\u001b[0;32m----> 4\u001b[0;31m \u001b[0mprint\u001b[0m\u001b[0;34m(\u001b[0m\u001b[0ml\u001b[0m\u001b[0;34m.\u001b[0m\u001b[0mindex\u001b[0m\u001b[0;34m(\u001b[0m\u001b[0;36m35\u001b[0m\u001b[0;34m)\u001b[0m\u001b[0;34m)\u001b[0m  \u001b[0;31m# gives the index of elent in list else error\u001b[0m\u001b[0;34m\u001b[0m\u001b[0;34m\u001b[0m\u001b[0m\n\u001b[0m",
      "\u001b[0;31mValueError\u001b[0m: tuple.index(x): x not in tuple"
     ]
    }
   ],
   "source": [
    "# index()\n",
    "l = (1, 2, 3, 4, 5, 6, 7, 8, 9, 10, 11, 12, 13, 14, 15, 16, 17, 18, 19, 20)\n",
    "print(l.index(16))  # gives the index of elent in list else error\n",
    "print(l.index(35))  # gives the index of elent in list else error"
   ]
  },
  {
   "cell_type": "code",
   "execution_count": 90,
   "id": "d086a455",
   "metadata": {
    "ExecuteTime": {
     "end_time": "2021-08-14T18:00:30.613536Z",
     "start_time": "2021-08-14T18:00:04.782Z"
    }
   },
   "outputs": [
    {
     "name": "stdout",
     "output_type": "stream",
     "text": [
      "3\n",
      "0\n"
     ]
    }
   ],
   "source": [
    "# count()\n",
    "l = (1, 2, 4, 5, 6, 6, 76, 7, 4, 6, 3, 6, 3, 4, 5, 3, 4, 5,\n",
    "     6, 7, 8, 9, 10, 11, 12, 13, 14, 15, 16, 17, 18, 19, 20)\n",
    "print(l.count(3))  # count the elent in list if present else give 0\n",
    "\n",
    "print(l.count(23165))  # count the elent in list if present else give 0"
   ]
  },
  {
   "cell_type": "code",
   "execution_count": 91,
   "id": "d3eb4d8a",
   "metadata": {
    "ExecuteTime": {
     "end_time": "2021-08-14T18:00:30.615652Z",
     "start_time": "2021-08-14T18:00:04.792Z"
    }
   },
   "outputs": [
    {
     "name": "stdout",
     "output_type": "stream",
     "text": [
      "<class 'tuple'> (1, 2, 3, 4, 5)\n",
      "<class 'tuple'> ()\n"
     ]
    }
   ],
   "source": [
    "# tuple()\n",
    "t = tuple([1, 2, 3, 4, 5])\n",
    "print(type(t), t)  # creates tuple from given sequence\n",
    "t = tuple()\n",
    "print(type(t), t)  # create empty tuple"
   ]
  },
  {
   "cell_type": "markdown",
   "id": "eaa4075d",
   "metadata": {},
   "source": [
    "# given a tuple T(1,2,\"a\",\"b\"), there is a list with some elemnts replace first four elelmnts of the list with all four elemnts of the tuple in single statement, print the list before and asfetr the list modified "
   ]
  },
  {
   "cell_type": "code",
   "execution_count": 92,
   "id": "bb231a2b",
   "metadata": {
    "ExecuteTime": {
     "end_time": "2021-08-14T18:00:30.617725Z",
     "start_time": "2021-08-14T18:00:04.805Z"
    }
   },
   "outputs": [
    {
     "name": "stdout",
     "output_type": "stream",
     "text": [
      "bfore modified: [1, 2, 3, 4, 5, 6, 7, 87, 9, 3, 4, 5, 3, 4, 5, 4]\n",
      "after modified: [1, 2, 'a', 'b', 5, 6, 7, 87, 9, 3, 4, 5, 3, 4, 5, 4]\n"
     ]
    }
   ],
   "source": [
    "T = (1, 2, \"a\", \"b\")\n",
    "l = [1, 2, 3, 4, 5, 6, 7, 87, 9, 3, 4, 5, 3, 4, 5, 4]\n",
    "\n",
    "print(\"bfore modified:\", l)\n",
    "\n",
    "l[:4] = T\n",
    "\n",
    "print(\"after modified:\", l)"
   ]
  },
  {
   "cell_type": "markdown",
   "id": "bed28b6f",
   "metadata": {},
   "source": [
    "# write a python program to take tuple as input and return the second lsargest elemnt in it"
   ]
  },
  {
   "cell_type": "code",
   "execution_count": 94,
   "id": "88563805",
   "metadata": {
    "ExecuteTime": {
     "end_time": "2021-08-14T18:00:30.620517Z",
     "start_time": "2021-08-14T18:00:04.818Z"
    }
   },
   "outputs": [
    {
     "name": "stdout",
     "output_type": "stream",
     "text": [
      "enter the tuple: (1,223,2342,3221,121)\n",
      "the second largest elent is: 2342\n"
     ]
    }
   ],
   "source": [
    "t = eval(input(\"enter the tuple: \"))\n",
    "\n",
    "fl = max(t)\n",
    "\n",
    "sl = 0\n",
    "\n",
    "for i in range(len(t)):\n",
    "    if(i == t.index(fl)):\n",
    "        continue\n",
    "    else:\n",
    "        if(t[i] > sl):\n",
    "            sl = t[i]\n",
    "else:\n",
    "    print(\"the second largest elent is:\", sl)"
   ]
  },
  {
   "cell_type": "markdown",
   "id": "9cc63258",
   "metadata": {},
   "source": [
    "# a program to input n numbers and returns a tuple having elents x,x^2,x^3,x^4 for each element"
   ]
  },
  {
   "cell_type": "code",
   "execution_count": 95,
   "id": "284d3ae1",
   "metadata": {
    "ExecuteTime": {
     "end_time": "2021-08-14T18:00:30.622793Z",
     "start_time": "2021-08-14T18:00:04.832Z"
    }
   },
   "outputs": [
    {
     "name": "stdout",
     "output_type": "stream",
     "text": [
      "enter the number of integers: 4\n",
      "enter the number: 23\n",
      "the tuple is: (23, 529, 12167, 279841)\n",
      "enter the number: 5\n",
      "the tuple is: (5, 25, 125, 625)\n",
      "enter the number: 53\n",
      "the tuple is: (53, 2809, 148877, 7890481)\n",
      "enter the number: 324\n",
      "the tuple is: (324, 104976, 34012224, 11019960576)\n"
     ]
    }
   ],
   "source": [
    "import math\n",
    "\n",
    "n = int(input(\"enter the number of integers: \"))\n",
    "for i in range(n):\n",
    "    num = int(input(\"enter the number: \"))\n",
    "    print(\"the tuple is:\", (num, num**2, num**3, num**4,))"
   ]
  },
  {
   "cell_type": "markdown",
   "id": "f835f8f3",
   "metadata": {},
   "source": [
    "# DICTIONARIES IN PYTHON"
   ]
  },
  {
   "cell_type": "markdown",
   "id": "18a833fa",
   "metadata": {},
   "source": [
    "## dictionary have a key-value pair where each value have a unique key associated with it"
   ]
  },
  {
   "cell_type": "code",
   "execution_count": 96,
   "id": "330452b2",
   "metadata": {
    "ExecuteTime": {
     "end_time": "2021-08-14T18:00:30.625426Z",
     "start_time": "2021-08-14T18:00:04.848Z"
    }
   },
   "outputs": [
    {
     "name": "stdout",
     "output_type": "stream",
     "text": [
      "{'name': 'rahul', 'class': '3rd year', 'roll no': 'r177236267', 'sap id': '580983'}\n"
     ]
    }
   ],
   "source": [
    "# dictionary are mutable daatype\n",
    "\n",
    "d = {\"name\": \"rahul\", \"class\": \"3rd year\",\n",
    "     \"roll no\": \"r177236267\", \"sap id\": \"580983\"}\n",
    "print(d)"
   ]
  },
  {
   "cell_type": "code",
   "execution_count": 97,
   "id": "bbb27cb3",
   "metadata": {
    "ExecuteTime": {
     "end_time": "2021-08-14T18:00:30.627677Z",
     "start_time": "2021-08-14T18:00:04.858Z"
    }
   },
   "outputs": [
    {
     "data": {
      "text/plain": [
       "{}"
      ]
     },
     "execution_count": 97,
     "metadata": {},
     "output_type": "execute_result"
    }
   ],
   "source": [
    "# the dicitionary can also be created by dict() function\n",
    "d = dict()\n",
    "\n",
    "empty_d = {}  # empty dicitionary\n",
    "\n",
    "empty_d"
   ]
  },
  {
   "cell_type": "code",
   "execution_count": 98,
   "id": "7f0b2766",
   "metadata": {
    "ExecuteTime": {
     "end_time": "2021-08-14T18:00:30.635765Z",
     "start_time": "2021-08-14T18:00:04.868Z"
    }
   },
   "outputs": [
    {
     "ename": "TypeError",
     "evalue": "unhashable type: 'list'",
     "output_type": "error",
     "traceback": [
      "\u001b[0;31m---------------------------------------------------------------------------\u001b[0m",
      "\u001b[0;31mTypeError\u001b[0m                                 Traceback (most recent call last)",
      "\u001b[0;32m<ipython-input-98-51230cbeebc3>\u001b[0m in \u001b[0;36m<module>\u001b[0;34m\u001b[0m\n\u001b[1;32m      2\u001b[0m \u001b[0;31m# have mutable values\u001b[0m\u001b[0;34m\u001b[0m\u001b[0;34m\u001b[0m\u001b[0;34m\u001b[0m\u001b[0m\n\u001b[1;32m      3\u001b[0m \u001b[0;34m\u001b[0m\u001b[0m\n\u001b[0;32m----> 4\u001b[0;31m \u001b[0md\u001b[0m \u001b[0;34m=\u001b[0m \u001b[0;34m{\u001b[0m\u001b[0;34m[\u001b[0m\u001b[0;36m1\u001b[0m\u001b[0;34m,\u001b[0m \u001b[0;36m2\u001b[0m\u001b[0;34m,\u001b[0m \u001b[0;36m3\u001b[0m\u001b[0;34m,\u001b[0m \u001b[0;36m4\u001b[0m\u001b[0;34m]\u001b[0m\u001b[0;34m:\u001b[0m \u001b[0;34m\"rahul\"\u001b[0m\u001b[0;34m,\u001b[0m \u001b[0;36m4\u001b[0m\u001b[0;34m:\u001b[0m \u001b[0;34m[\u001b[0m\u001b[0;36m1\u001b[0m\u001b[0;34m,\u001b[0m \u001b[0;36m2\u001b[0m\u001b[0;34m,\u001b[0m \u001b[0;36m3\u001b[0m\u001b[0;34m,\u001b[0m \u001b[0;36m4\u001b[0m\u001b[0;34m]\u001b[0m\u001b[0;34m}\u001b[0m  \u001b[0;31m# error\u001b[0m\u001b[0;34m\u001b[0m\u001b[0;34m\u001b[0m\u001b[0m\n\u001b[0m\u001b[1;32m      5\u001b[0m \u001b[0;34m\u001b[0m\u001b[0m\n\u001b[1;32m      6\u001b[0m \u001b[0md\u001b[0m\u001b[0;34m\u001b[0m\u001b[0;34m\u001b[0m\u001b[0m\n",
      "\u001b[0;31mTypeError\u001b[0m: unhashable type: 'list'"
     ]
    }
   ],
   "source": [
    "# the dictionary keys must always be immutable and the immutable sequence if provided as key they must dont\n",
    "# have mutable values\n",
    "\n",
    "d = {[1, 2, 3, 4]: \"rahul\", 4: [1, 2, 3, 4]}  # error\n",
    "\n",
    "d"
   ]
  },
  {
   "cell_type": "markdown",
   "id": "b60ebc69",
   "metadata": {},
   "source": [
    "# accessing the dictionary elemts"
   ]
  },
  {
   "cell_type": "code",
   "execution_count": 99,
   "id": "8dd6e166",
   "metadata": {
    "ExecuteTime": {
     "end_time": "2021-08-14T18:00:30.637970Z",
     "start_time": "2021-08-14T18:00:04.881Z"
    }
   },
   "outputs": [
    {
     "data": {
      "text/plain": [
       "'r177236267'"
      ]
     },
     "execution_count": 99,
     "metadata": {},
     "output_type": "execute_result"
    }
   ],
   "source": [
    "# the dictionary are arranged in the form of index internally with the keys\n",
    "d = {\"name\": \"rahul\", \"class\": \"3rd year\",\n",
    "     \"roll no\": \"r177236267\", \"sap id\": \"580983\"}\n",
    "\n",
    "d['roll no']"
   ]
  },
  {
   "cell_type": "code",
   "execution_count": 101,
   "id": "fe100293",
   "metadata": {
    "ExecuteTime": {
     "end_time": "2021-08-14T18:00:30.639992Z",
     "start_time": "2021-08-14T18:00:04.890Z"
    }
   },
   "outputs": [
    {
     "ename": "KeyError",
     "evalue": "'naam'",
     "output_type": "error",
     "traceback": [
      "\u001b[0;31m---------------------------------------------------------------------------\u001b[0m",
      "\u001b[0;31mKeyError\u001b[0m                                  Traceback (most recent call last)",
      "\u001b[0;32m<ipython-input-101-9be7c9ef3877>\u001b[0m in \u001b[0;36m<module>\u001b[0;34m\u001b[0m\n\u001b[1;32m      1\u001b[0m \u001b[0;31m# attempt to undefined key give error\u001b[0m\u001b[0;34m\u001b[0m\u001b[0;34m\u001b[0m\u001b[0;34m\u001b[0m\u001b[0m\n\u001b[1;32m      2\u001b[0m \u001b[0;34m\u001b[0m\u001b[0m\n\u001b[0;32m----> 3\u001b[0;31m \u001b[0md\u001b[0m\u001b[0;34m[\u001b[0m\u001b[0;34m'naam'\u001b[0m\u001b[0;34m]\u001b[0m\u001b[0;34m\u001b[0m\u001b[0;34m\u001b[0m\u001b[0m\n\u001b[0m",
      "\u001b[0;31mKeyError\u001b[0m: 'naam'"
     ]
    }
   ],
   "source": [
    "# attempt to undefined key give error\n",
    "\n",
    "d['naam']"
   ]
  },
  {
   "cell_type": "markdown",
   "id": "e420ff65",
   "metadata": {},
   "source": [
    "# traversing a dictionary"
   ]
  },
  {
   "cell_type": "code",
   "execution_count": 102,
   "id": "25a73a77",
   "metadata": {
    "ExecuteTime": {
     "end_time": "2021-08-14T18:00:30.642454Z",
     "start_time": "2021-08-14T18:00:04.903Z"
    }
   },
   "outputs": [
    {
     "name": "stdout",
     "output_type": "stream",
     "text": [
      "rahul\n",
      "3rd year\n",
      "r177236267\n",
      "580983\n"
     ]
    }
   ],
   "source": [
    "# we can use for loops to traverse using the keys\n",
    "\n",
    "for keys in d:\n",
    "    print(d[keys])"
   ]
  },
  {
   "cell_type": "markdown",
   "id": "9f742c77",
   "metadata": {},
   "source": [
    "# program to craete a phone dictionary and print it"
   ]
  },
  {
   "cell_type": "code",
   "execution_count": 103,
   "id": "408b17f8",
   "metadata": {
    "ExecuteTime": {
     "end_time": "2021-08-14T18:00:30.644880Z",
     "start_time": "2021-08-14T18:00:04.916Z"
    }
   },
   "outputs": [
    {
     "name": "stdout",
     "output_type": "stream",
     "text": [
      "rahul = 4574586985\n",
      "vidhi = 6547845125\n",
      "dhanola = 7845125469\n",
      "police = 100\n",
      "ememrgency = 112\n"
     ]
    }
   ],
   "source": [
    "d = {\"rahul\": 4574586985, \"vidhi\": 6547845125,\n",
    "     \"dhanola\": 7845125469, \"police\": 100, \"ememrgency\": 112}\n",
    "for names in d:\n",
    "    print(names, \"=\", d[names])\n",
    "\n",
    "\n",
    "# printed orfer of elemnts is not same as you store in dicitiobnary"
   ]
  },
  {
   "cell_type": "markdown",
   "id": "b80c49ce",
   "metadata": {},
   "source": [
    "# accessing the keys and values simuntaneosl"
   ]
  },
  {
   "cell_type": "code",
   "execution_count": 104,
   "id": "149738cb",
   "metadata": {
    "ExecuteTime": {
     "end_time": "2021-08-14T18:00:30.646883Z",
     "start_time": "2021-08-14T18:00:04.929Z"
    }
   },
   "outputs": [
    {
     "name": "stdout",
     "output_type": "stream",
     "text": [
      "dict_keys(['name', 'class', 'roll no', 'sap id'])\n",
      "dict_values(['rahul', '3rd year', 'r177236267', '580983'])\n"
     ]
    }
   ],
   "source": [
    "# use the keys() to get dictionary keys and values() for value\n",
    "\n",
    "d = {\"name\": \"rahul\", \"class\": \"3rd year\",\n",
    "     \"roll no\": \"r177236267\", \"sap id\": \"580983\"}\n",
    "\n",
    "print(d.keys())\n",
    "\n",
    "print(d.values())\n",
    "\n",
    "# the returned sequence can be converted to any sequnce i.e. list, tuple"
   ]
  },
  {
   "cell_type": "markdown",
   "id": "c93c169b",
   "metadata": {},
   "source": [
    "# dicitionary are mutable as"
   ]
  },
  {
   "cell_type": "code",
   "execution_count": 105,
   "id": "80913866",
   "metadata": {
    "ExecuteTime": {
     "end_time": "2021-08-14T18:00:30.649006Z",
     "start_time": "2021-08-14T18:00:04.942Z"
    }
   },
   "outputs": [
    {
     "data": {
      "text/plain": [
       "{'name': 'rahul',\n",
       " 'class': '3rd year',\n",
       " 'roll no': 327853278,\n",
       " 'sap id': '580983'}"
      ]
     },
     "execution_count": 105,
     "metadata": {},
     "output_type": "execute_result"
    }
   ],
   "source": [
    "d = {\"name\": \"rahul\", \"class\": \"3rd year\",\n",
    "     \"roll no\": \"r177236267\", \"sap id\": \"580983\"}\n",
    "\n",
    "d['roll no'] = 327853278\n",
    "\n",
    "d"
   ]
  },
  {
   "cell_type": "code",
   "execution_count": 106,
   "id": "9f683c7f",
   "metadata": {
    "ExecuteTime": {
     "end_time": "2021-08-14T18:00:30.655357Z",
     "start_time": "2021-08-14T18:00:04.952Z"
    }
   },
   "outputs": [
    {
     "data": {
      "text/plain": [
       "{'name': 'rahul',\n",
       " 'class': '3rd year',\n",
       " 'roll no': 327853278,\n",
       " 'sap id': '580983',\n",
       " 'subject': 'study material'}"
      ]
     },
     "execution_count": 106,
     "metadata": {},
     "output_type": "execute_result"
    }
   ],
   "source": [
    "# also we can add the ew key value pair\n",
    "\n",
    "d[\"subject\"] = \"study material\"\n",
    "\n",
    "d"
   ]
  },
  {
   "cell_type": "code",
   "execution_count": 107,
   "id": "518077cb",
   "metadata": {
    "ExecuteTime": {
     "end_time": "2021-08-14T18:00:30.657954Z",
     "start_time": "2021-08-14T18:00:04.962Z"
    }
   },
   "outputs": [
    {
     "data": {
      "text/plain": [
       "{'name': 'rahul', 'school': 'my school'}"
      ]
     },
     "execution_count": 107,
     "metadata": {},
     "output_type": "execute_result"
    }
   ],
   "source": [
    "# they can also be created as\n",
    "d = dict(name=\"rahul\", school=\"my school\")\n",
    "\n",
    "d"
   ]
  },
  {
   "cell_type": "code",
   "execution_count": 108,
   "id": "4c6c01e3",
   "metadata": {
    "ExecuteTime": {
     "end_time": "2021-08-14T18:00:30.660682Z",
     "start_time": "2021-08-14T18:00:04.973Z"
    }
   },
   "outputs": [
    {
     "data": {
      "text/plain": [
       "{'name': 'rahul', 'roll no': '2787582', 'class': 'my class'}"
      ]
     },
     "execution_count": 108,
     "metadata": {},
     "output_type": "execute_result"
    }
   ],
   "source": [
    "# another method is store keys and values in different parenthesis and then uing the zip() to form dict\n",
    "\n",
    "d = dict(zip((\"name\", \"roll no\", \"class\"), (\"rahul\", \"2787582\", \"my class\")))\n",
    "\n",
    "d"
   ]
  },
  {
   "cell_type": "code",
   "execution_count": 109,
   "id": "10c3fda5",
   "metadata": {
    "ExecuteTime": {
     "end_time": "2021-08-14T18:00:30.663260Z",
     "start_time": "2021-08-14T18:00:04.983Z"
    }
   },
   "outputs": [
    {
     "data": {
      "text/plain": [
       "{'name': 'rahul', 'age': 18, 'roll no': 'r32478'}"
      ]
     },
     "execution_count": 109,
     "metadata": {},
     "output_type": "execute_result"
    }
   ],
   "source": [
    "# another method\n",
    "\n",
    "d = dict([['name', \"rahul\"], [\"age\", 18], [\"roll no\", \"r32478\"]])\n",
    "\n",
    "d"
   ]
  },
  {
   "cell_type": "code",
   "execution_count": 110,
   "id": "076837f3",
   "metadata": {
    "ExecuteTime": {
     "end_time": "2021-08-14T18:00:30.665756Z",
     "start_time": "2021-08-14T18:00:04.993Z"
    }
   },
   "outputs": [
    {
     "data": {
      "text/plain": [
       "{'name': 'rahul', 'age': 18, 'roll no': 'r32478'}"
      ]
     },
     "execution_count": 110,
     "metadata": {},
     "output_type": "execute_result"
    }
   ],
   "source": [
    "# another method\n",
    "\n",
    "d = dict((('name', \"rahul\"), (\"age\", 18), (\"roll no\", \"r32478\")))\n",
    "\n",
    "d\n",
    "\n",
    "# usinfg dict() is slower than {}"
   ]
  },
  {
   "cell_type": "markdown",
   "id": "2bfef5d7",
   "metadata": {},
   "source": [
    "# program to craete dictionary of dctionary for employees"
   ]
  },
  {
   "cell_type": "code",
   "execution_count": 111,
   "id": "b2598aaf",
   "metadata": {
    "ExecuteTime": {
     "end_time": "2021-08-14T18:00:30.668238Z",
     "start_time": "2021-08-14T18:00:05.006Z"
    }
   },
   "outputs": [
    {
     "name": "stdout",
     "output_type": "stream",
     "text": [
      "employee: rahul \n",
      "age: 18\n",
      "employee: vidhi \n",
      "age: 43\n"
     ]
    }
   ],
   "source": [
    "d = {\"rahul\": {\"age\": 18, \"dob\": \"dec\"}, \"vidhi\": {\"age\": 43, \"dob\": \"feb\"}}\n",
    "\n",
    "for employee in d:\n",
    "    print(\"employee:\", employee, \"\\nage:\", d[employee]['age'])"
   ]
  },
  {
   "cell_type": "markdown",
   "id": "579fd0fe",
   "metadata": {},
   "source": [
    "# program to store the names of the compettitior with there no f wins"
   ]
  },
  {
   "cell_type": "code",
   "execution_count": 113,
   "id": "a9e34b50",
   "metadata": {
    "ExecuteTime": {
     "end_time": "2021-08-14T18:00:30.670457Z",
     "start_time": "2021-08-14T18:00:05.019Z"
    }
   },
   "outputs": [
    {
     "name": "stdout",
     "output_type": "stream",
     "text": [
      "enter the number of name: 4\n",
      "enter the name: rahul\n",
      "enter the number of wins: 324\n",
      "enter the name: rohan\n",
      "enter the number of wins: 234\n",
      "enter the name: shohaib\n",
      "enter the number of wins: 234\n",
      "enter the name: vikram\n",
      "enter the number of wins: 123\n",
      "the dictionary is: {'rahul': 324, 'rohan': 234, 'shohaib': 234, 'vikram': 123}\n"
     ]
    }
   ],
   "source": [
    "n = int(input(\"enter the number of name: \"))\n",
    "d = {}\n",
    "for i in range(n):\n",
    "    name = input(\"enter the name: \")\n",
    "    win = int(input(\"enter the number of wins: \"))\n",
    "    d[name] = win\n",
    "else:\n",
    "    print(\"the dictionary is:\", d)"
   ]
  },
  {
   "cell_type": "markdown",
   "id": "4e03ef22",
   "metadata": {},
   "source": [
    "# deleting elemnts from dictionary"
   ]
  },
  {
   "cell_type": "code",
   "execution_count": 114,
   "id": "2fb554ad",
   "metadata": {
    "ExecuteTime": {
     "end_time": "2021-08-14T18:00:30.672952Z",
     "start_time": "2021-08-14T18:00:05.033Z"
    }
   },
   "outputs": [
    {
     "data": {
      "text/plain": [
       "{'class': '3rd year', 'roll no': 'r177236267', 'sap id': '580983'}"
      ]
     },
     "execution_count": 114,
     "metadata": {},
     "output_type": "execute_result"
    }
   ],
   "source": [
    "# use the del keyword for this\n",
    "\n",
    "d = {\"name\": \"rahul\", \"class\": \"3rd year\",\n",
    "     \"roll no\": \"r177236267\", \"sap id\": \"580983\"}\n",
    "\n",
    "del d['name']\n",
    "\n",
    "d"
   ]
  },
  {
   "cell_type": "code",
   "execution_count": 115,
   "id": "db340f81",
   "metadata": {
    "ExecuteTime": {
     "end_time": "2021-08-14T18:00:30.674981Z",
     "start_time": "2021-08-14T18:00:05.042Z"
    }
   },
   "outputs": [
    {
     "data": {
      "text/plain": [
       "{'class': '3rd year', 'roll no': 'r177236267', 'sap id': '580983'}"
      ]
     },
     "execution_count": 115,
     "metadata": {},
     "output_type": "execute_result"
    }
   ],
   "source": [
    "# other method is pop\n",
    "\n",
    "d = {\"name\": \"rahul\", \"class\": \"3rd year\",\n",
    "     \"roll no\": \"r177236267\", \"sap id\": \"580983\"}\n",
    "\n",
    "d.pop('name')\n",
    "\n",
    "d"
   ]
  },
  {
   "cell_type": "markdown",
   "id": "8395c95e",
   "metadata": {},
   "source": [
    "# checking a key in dictionary"
   ]
  },
  {
   "cell_type": "code",
   "execution_count": 116,
   "id": "ea0cfac3",
   "metadata": {
    "ExecuteTime": {
     "end_time": "2021-08-14T18:00:30.677414Z",
     "start_time": "2021-08-14T18:00:05.055Z"
    }
   },
   "outputs": [
    {
     "name": "stdout",
     "output_type": "stream",
     "text": [
      "True\n",
      "False\n",
      "False\n",
      "True\n"
     ]
    }
   ],
   "source": [
    "# you can use in and not in for this\n",
    "\n",
    "d = {\"name\": \"rahul\", \"class\": \"3rd year\",\n",
    "     \"roll no\": \"r177236267\", \"sap id\": \"580983\"}\n",
    "\n",
    "print(\"name\" in d)\n",
    "\n",
    "print(\"address\" in d)\n",
    "\n",
    "print(\"name\" not in d)\n",
    "\n",
    "print(\"address\" not in d)\n",
    "\n",
    "# these only look in keys and not values"
   ]
  },
  {
   "cell_type": "code",
   "execution_count": 117,
   "id": "ed3d9302",
   "metadata": {
    "ExecuteTime": {
     "end_time": "2021-08-14T18:00:30.679565Z",
     "start_time": "2021-08-14T18:00:05.065Z"
    }
   },
   "outputs": [
    {
     "name": "stdout",
     "output_type": "stream",
     "text": [
      "True\n",
      "False\n",
      "False\n",
      "True\n"
     ]
    }
   ],
   "source": [
    "# but for abe last line use values()\n",
    "\n",
    "d = {\"name\": \"rahul\", \"class\": \"3rd year\",\n",
    "     \"roll no\": \"r177236267\", \"sap id\": \"580983\"}\n",
    "\n",
    "print(\"rahul\" in d.values())\n",
    "print(\"hey\" in d.values())\n",
    "print(\"rahul\" not in d.values())\n",
    "print(\"hey\" not in d.values())"
   ]
  },
  {
   "cell_type": "markdown",
   "id": "6f7a779f",
   "metadata": {},
   "source": [
    "# pretty printing dictionary"
   ]
  },
  {
   "cell_type": "code",
   "execution_count": 118,
   "id": "de46237b",
   "metadata": {
    "ExecuteTime": {
     "end_time": "2021-08-14T18:00:30.681632Z",
     "start_time": "2021-08-14T18:00:05.078Z"
    }
   },
   "outputs": [
    {
     "name": "stdout",
     "output_type": "stream",
     "text": [
      "{'name': 'rahul', 'class': '3rd year', 'roll no': 'r177236267', 'sap id': '580983'}\n",
      "{\n",
      "  \"name\": \"rahul\",\n",
      "  \"class\": \"3rd year\",\n",
      "  \"roll no\": \"r177236267\",\n",
      "  \"sap id\": \"580983\"\n",
      "}\n"
     ]
    }
   ],
   "source": [
    "# if you want to print large dictionary in readable and organized way use dumps() of json module\n",
    "# synatax:  json.dumps(<dict name>,indent=<n>)\n",
    "import json\n",
    "\n",
    "d = {\"name\": \"rahul\", \"class\": \"3rd year\",\n",
    "     \"roll no\": \"r177236267\", \"sap id\": \"580983\"}\n",
    "\n",
    "print(d)\n",
    "\n",
    "print(json.dumps(d, indent=2))"
   ]
  },
  {
   "cell_type": "markdown",
   "id": "e90fe920",
   "metadata": {},
   "source": [
    "# split() for strings"
   ]
  },
  {
   "cell_type": "code",
   "execution_count": 119,
   "id": "d7998601",
   "metadata": {
    "ExecuteTime": {
     "end_time": "2021-08-14T18:00:30.684113Z",
     "start_time": "2021-08-14T18:00:05.091Z"
    }
   },
   "outputs": [
    {
     "name": "stdout",
     "output_type": "stream",
     "text": [
      "['rahul', 'is', 'boy']\n",
      "['rahul', 'is', 'boy']\n"
     ]
    }
   ],
   "source": [
    "# it splits a string into list\n",
    "\n",
    "print(\"rahul is boy\".split())\n",
    "\n",
    "print(\"rahul,is,boy\".split(\",\"))"
   ]
  },
  {
   "cell_type": "markdown",
   "id": "5cbe641b",
   "metadata": {},
   "source": [
    "# program to count the frequency of a list elemnnt using dictionary"
   ]
  },
  {
   "cell_type": "code",
   "execution_count": 210,
   "id": "fbdfdf2e",
   "metadata": {
    "ExecuteTime": {
     "end_time": "2021-08-14T18:00:30.686150Z",
     "start_time": "2021-08-14T18:00:05.104Z"
    }
   },
   "outputs": [
    {
     "name": "stdout",
     "output_type": "stream",
     "text": [
      "{\n",
      "  \"984\": 1,\n",
      "  \"98\": 1,\n",
      "  \"9459\": 3,\n",
      "  \"94\": 1,\n",
      "  \"949\": 3,\n",
      "  \"959\": 1,\n",
      "  \"4949\": 1,\n",
      "  \"95\": 1,\n",
      "  \"59659\": 1,\n",
      "  \"5116966\": 1,\n",
      "  \"63700\": 1,\n",
      "  \"3421728\": 1,\n",
      "  \"2916\": 1,\n",
      "  \"432\": 1\n",
      "}\n"
     ]
    }
   ],
   "source": [
    "import json\n",
    "\n",
    "l = [984, 98, 9459, 9459, 94, 949, 9459, 959, 949, 4949, 949,\n",
    "     95, 59659, 89*89*646, 65*980, 654*8*654, 54**2, 8*54]\n",
    "\n",
    "d = {}\n",
    "\n",
    "for element in l:\n",
    "    if(element in d):\n",
    "        d[element] += 1\n",
    "    else:\n",
    "        d[element] = 1\n",
    "else:\n",
    "    print(json.dumps(d, indent=2))"
   ]
  },
  {
   "cell_type": "markdown",
   "id": "6a9b74f9",
   "metadata": {},
   "source": [
    "# dictionary functions"
   ]
  },
  {
   "cell_type": "code",
   "execution_count": 211,
   "id": "04411b07",
   "metadata": {
    "ExecuteTime": {
     "end_time": "2021-08-14T18:00:30.688089Z",
     "start_time": "2021-08-14T18:00:05.118Z"
    }
   },
   "outputs": [
    {
     "name": "stdout",
     "output_type": "stream",
     "text": [
      "4\n"
     ]
    }
   ],
   "source": [
    "# len()\n",
    "\n",
    "d = {\"name\": \"rahul\", \"class\": \"3rd year\",\n",
    "     \"roll no\": \"r177236267\", \"sap id\": \"580983\"}\n",
    "\n",
    "print(len(d))  # length of dictionary"
   ]
  },
  {
   "cell_type": "code",
   "execution_count": 212,
   "id": "3fd44477",
   "metadata": {
    "ExecuteTime": {
     "end_time": "2021-08-14T18:00:30.693982Z",
     "start_time": "2021-08-14T18:00:05.127Z"
    }
   },
   "outputs": [
    {
     "name": "stdout",
     "output_type": "stream",
     "text": [
      "{}\n"
     ]
    }
   ],
   "source": [
    "# clear()\n",
    "\n",
    "d = {\"name\": \"rahul\", \"class\": \"3rd year\",\n",
    "     \"roll no\": \"r177236267\", \"sap id\": \"580983\"}\n",
    "\n",
    "d.clear()  # clear al elemnts\n",
    "\n",
    "print(d)"
   ]
  },
  {
   "cell_type": "code",
   "execution_count": 213,
   "id": "6647731e",
   "metadata": {
    "ExecuteTime": {
     "end_time": "2021-08-14T18:00:30.699230Z",
     "start_time": "2021-08-14T18:00:05.137Z"
    }
   },
   "outputs": [
    {
     "name": "stdout",
     "output_type": "stream",
     "text": [
      "3rd year\n",
      "not available\n"
     ]
    }
   ],
   "source": [
    "# get()\n",
    "\n",
    "d = {\"name\": \"rahul\", \"class\": \"3rd year\",\n",
    "     \"roll no\": \"r177236267\", \"sap id\": \"580983\"}\n",
    "\n",
    "print(d.get(\"class\"))  # value at givemn key\n",
    "\n",
    "# if not resent yopu can give ypour own value\n",
    "\n",
    "print(d.get(\"hi\", \"not available\"))  # value at givemn key"
   ]
  },
  {
   "cell_type": "code",
   "execution_count": 214,
   "id": "3641dc5c",
   "metadata": {
    "ExecuteTime": {
     "end_time": "2021-08-14T18:00:30.701698Z",
     "start_time": "2021-08-14T18:00:05.146Z"
    }
   },
   "outputs": [
    {
     "name": "stdout",
     "output_type": "stream",
     "text": [
      "dict_items([('name', 'rahul'), ('class', '3rd year'), ('roll no', 'r177236267'), ('sap id', '580983')])\n",
      "name rahul\n",
      "class 3rd year\n",
      "roll no r177236267\n",
      "sap id 580983\n"
     ]
    }
   ],
   "source": [
    "# items()\n",
    "\n",
    "d = {\"name\": \"rahul\", \"class\": \"3rd year\",\n",
    "     \"roll no\": \"r177236267\", \"sap id\": \"580983\"}\n",
    "\n",
    "print(d.items())  # print key-value pair as tuple\n",
    "\n",
    "for ky, val in d.items():\n",
    "    print(ky, val)"
   ]
  },
  {
   "cell_type": "code",
   "execution_count": 215,
   "id": "bf480050",
   "metadata": {
    "ExecuteTime": {
     "end_time": "2021-08-14T18:00:30.704337Z",
     "start_time": "2021-08-14T18:00:05.156Z"
    }
   },
   "outputs": [
    {
     "name": "stdout",
     "output_type": "stream",
     "text": [
      "dict_keys(['name', 'class', 'roll no', 'sap id'])\n"
     ]
    }
   ],
   "source": [
    "# keys()\n",
    "\n",
    "d = {\"name\": \"rahul\", \"class\": \"3rd year\",\n",
    "     \"roll no\": \"r177236267\", \"sap id\": \"580983\"}\n",
    "\n",
    "print(d.keys())  # print all keys"
   ]
  },
  {
   "cell_type": "code",
   "execution_count": 216,
   "id": "214a58d1",
   "metadata": {
    "ExecuteTime": {
     "end_time": "2021-08-14T18:00:30.706403Z",
     "start_time": "2021-08-14T18:00:05.166Z"
    }
   },
   "outputs": [
    {
     "name": "stdout",
     "output_type": "stream",
     "text": [
      "dict_values(['rahul', '3rd year', 'r177236267', '580983'])\n"
     ]
    }
   ],
   "source": [
    "# values()\n",
    "\n",
    "d = {\"name\": \"rahul\", \"class\": \"3rd year\",\n",
    "     \"roll no\": \"r177236267\", \"sap id\": \"580983\"}\n",
    "\n",
    "print(d.values())  # print all values"
   ]
  },
  {
   "cell_type": "code",
   "execution_count": 217,
   "id": "ffa94dd2",
   "metadata": {
    "ExecuteTime": {
     "end_time": "2021-08-14T18:00:30.708784Z",
     "start_time": "2021-08-14T18:00:05.177Z"
    }
   },
   "outputs": [
    {
     "name": "stdout",
     "output_type": "stream",
     "text": [
      "{'name': 'vidhi', 'class': '3rd year', 'roll no': 'r177236267', 'sap id': '580983', 'hi': 'hjkdfs'}\n"
     ]
    }
   ],
   "source": [
    "# update()\n",
    "\n",
    "d = {\"name\": \"rahul\", \"class\": \"3rd year\",\n",
    "     \"roll no\": \"r177236267\", \"sap id\": \"580983\"}\n",
    "\n",
    "d2 = {\"hi\": \"hjkdfs\", \"name\": \"vidhi\"}\n",
    "\n",
    "d.update(d2)  # update or add the keys in dict\n",
    "\n",
    "print(d)"
   ]
  },
  {
   "cell_type": "markdown",
   "id": "6f418381",
   "metadata": {},
   "source": [
    "# write a program to check if a value exist in dictionbary then print its key"
   ]
  },
  {
   "cell_type": "code",
   "execution_count": 218,
   "id": "a2dc9a06",
   "metadata": {
    "ExecuteTime": {
     "end_time": "2021-08-14T18:00:30.876682Z",
     "start_time": "2021-08-14T18:00:05.190Z"
    }
   },
   "outputs": [
    {
     "name": "stdout",
     "output_type": "stream",
     "text": [
      "enter the value: 34\n",
      "value not exist in dictionary\n"
     ]
    }
   ],
   "source": [
    "d = {\"name\": \"rahul\", \"class\": \"3rd year\",\n",
    "     \"roll no\": \"r177236267\", \"sap id\": \"580983\"}\n",
    "\n",
    "value = input(\"enter the value: \")\n",
    "for key in d:\n",
    "    if(value == d[key]):\n",
    "        print(\"value in the key: \", key)\n",
    "        break\n",
    "else:\n",
    "    print(\"value not exist in dictionary\")"
   ]
  },
  {
   "cell_type": "markdown",
   "id": "b7f2e7f4",
   "metadata": {},
   "source": [
    "# marks of student \"A\", \"B\", \"C\" are stored in d print there name with marks in each sub using nested dict\n",
    "\n",
    "## d1={1:40,2:40,3:70}\n",
    "## d2={1:40,2:50,3:60}\n",
    "## d3={1:70,2:80,3:90}"
   ]
  },
  {
   "cell_type": "code",
   "execution_count": 220,
   "id": "f223fca0",
   "metadata": {
    "ExecuteTime": {
     "end_time": "2021-08-14T18:00:30.879724Z",
     "start_time": "2021-08-14T18:00:05.203Z"
    }
   },
   "outputs": [
    {
     "name": "stdout",
     "output_type": "stream",
     "text": [
      "{\n",
      "  \"A\": {\n",
      "    \"1\": 40,\n",
      "    \"2\": 40,\n",
      "    \"3\": 70\n",
      "  },\n",
      "  \"B\": {\n",
      "    \"1\": 40,\n",
      "    \"2\": 50,\n",
      "    \"3\": 60\n",
      "  },\n",
      "  \"C\": {\n",
      "    \"1\": 70,\n",
      "    \"2\": 80,\n",
      "    \"3\": 90\n",
      "  }\n",
      "}\n",
      "A \n",
      " marks in sunject 1 = 40\n",
      "A \n",
      " marks in sunject 2 = 40\n",
      "A \n",
      " marks in sunject 3 = 70\n",
      "B \n",
      " marks in sunject 1 = 40\n",
      "B \n",
      " marks in sunject 2 = 50\n",
      "B \n",
      " marks in sunject 3 = 60\n",
      "C \n",
      " marks in sunject 1 = 70\n",
      "C \n",
      " marks in sunject 2 = 80\n",
      "C \n",
      " marks in sunject 3 = 90\n"
     ]
    }
   ],
   "source": [
    "import json\n",
    "\n",
    "d1 = {1: 40, 2: 40, 3: 70}\n",
    "d2 = {1: 40, 2: 50, 3: 60}\n",
    "d3 = {1: 70, 2: 80, 3: 90}\n",
    "\n",
    "d = {\"A\": d1, \"B\": d2, \"C\": d3}\n",
    "\n",
    "print(json.dumps(d, indent=2))\n",
    "\n",
    "for name in d:\n",
    "    for sub in d[name]:\n",
    "        print(name, \"\\n marks in sunject\", sub, \"=\", d[name][sub])"
   ]
  },
  {
   "cell_type": "markdown",
   "id": "bf090dac",
   "metadata": {},
   "source": [
    "# consider a dictionary my_points={'a':(4,3),'b':(1,2),'c':(5,1)}. write code to print the maximum of the 0th index of tuple from all keys"
   ]
  },
  {
   "cell_type": "code",
   "execution_count": 1,
   "id": "f8163101",
   "metadata": {},
   "outputs": [
    {
     "name": "stdout",
     "output_type": "stream",
     "text": [
      "the maximum value from alll the index is: \n",
      "0th index: 5 \n",
      "1st index: 2\n"
     ]
    }
   ],
   "source": [
    "my_points={'a':(4,3),'b':(1,2),'c':(5,1)}\n",
    "print(\"the maximum value from alll the index is: \")\n",
    "x=y=0\n",
    "for key in my_points:\n",
    "    if(my_points[key][0]>x):\n",
    "        x=my_points[key][0]\n",
    "    elif(my_points[key][1]>y):\n",
    "        y=my_points[key][1]\n",
    "    else:\n",
    "        continue\n",
    "\n",
    "print(\"0th index:\",x,\"\\n1st index:\",y)"
   ]
  },
  {
   "cell_type": "markdown",
   "id": "f8a0c926",
   "metadata": {},
   "source": [
    "# "
   ]
  },
  {
   "cell_type": "markdown",
   "id": "69bb0a9d",
   "metadata": {},
   "source": [
    "# "
   ]
  },
  {
   "cell_type": "markdown",
   "id": "b01dd779",
   "metadata": {},
   "source": [
    "#  ~ ~ ~ ~ ~ ~ ~ ~ ~ ~ ~ ~ ~ ~ ~ ~ ~ ~ ~ ~ ~ ~ ~ ~ ~ ~ ~  ~ ~ "
   ]
  },
  {
   "cell_type": "markdown",
   "id": "39863e1d",
   "metadata": {},
   "source": [
    "# * * * *  END OF PYTHON BASIC NOTEBOOK - I * * * * * *"
   ]
  },
  {
   "cell_type": "markdown",
   "id": "4dc37e5d",
   "metadata": {},
   "source": [
    "#  ~ ~ ~ ~ ~ ~ ~ ~ ~ ~ ~ ~ ~ ~ ~ ~ ~ ~ ~ ~ ~ ~ ~ ~ ~ ~ ~  ~ ~ "
   ]
  },
  {
   "cell_type": "markdown",
   "id": "e4a45f79",
   "metadata": {},
   "source": [
    "# "
   ]
  },
  {
   "cell_type": "markdown",
   "id": "41198b43",
   "metadata": {},
   "source": [
    "#### "
   ]
  }
 ],
 "metadata": {
  "kernelspec": {
   "display_name": "Python 3",
   "language": "python",
   "name": "python3"
  },
  "language_info": {
   "codemirror_mode": {
    "name": "ipython",
    "version": 3
   },
   "file_extension": ".py",
   "mimetype": "text/x-python",
   "name": "python",
   "nbconvert_exporter": "python",
   "pygments_lexer": "ipython3",
   "version": "3.8.8"
  },
  "varInspector": {
   "cols": {
    "lenName": 16,
    "lenType": 16,
    "lenVar": 40
   },
   "kernels_config": {
    "python": {
     "delete_cmd_postfix": "",
     "delete_cmd_prefix": "del ",
     "library": "var_list.py",
     "varRefreshCmd": "print(var_dic_list())"
    },
    "r": {
     "delete_cmd_postfix": ") ",
     "delete_cmd_prefix": "rm(",
     "library": "var_list.r",
     "varRefreshCmd": "cat(var_dic_list()) "
    }
   },
   "types_to_exclude": [
    "module",
    "function",
    "builtin_function_or_method",
    "instance",
    "_Feature"
   ],
   "window_display": false
  }
 },
 "nbformat": 4,
 "nbformat_minor": 5
}
